{
 "cells": [
  {
   "cell_type": "code",
   "execution_count": 1,
   "metadata": {},
   "outputs": [],
   "source": [
    "from pruning_def import * # imports exh package together with all functions in pruning_def\n",
    "options.ii_on=True\n",
    "\n",
    "from exh.model import options\n",
    "options.dom_quant=3\n",
    "\n",
    "from IPython.core.display import display, HTML"
   ]
  },
  {
   "cell_type": "code",
   "execution_count": 2,
   "metadata": {},
   "outputs": [],
   "source": [
    "P=Pred(name=\"P\")\n",
    "P.depends(1)\n",
    "Q=Pred(name=\"Q\")\n",
    "Q.depends(1)\n",
    "R=Pred(name=\"R\")\n",
    "R.depends(1)"
   ]
  },
  {
   "cell_type": "markdown",
   "metadata": {},
   "source": [
    "# Relevance"
   ]
  },
  {
   "cell_type": "markdown",
   "metadata": {},
   "source": [
    "We'd like to know given any set of relevant propositions what all the propositions it obligatorily renders relevant are.\n",
    "\n",
    "Background assumption: Relevance is closed under Boolean operations (conjunction and negation).\n",
    "\n",
    "The function Cells finds all the cells in the partition induced by a set of relevant alternatives. The function Rel finds all the unions of cells in this partition (i.e., all the propositions made obligatorily relevant). "
   ]
  },
  {
   "cell_type": "code",
   "execution_count": 3,
   "metadata": {},
   "outputs": [
    {
     "data": {
      "text/html": [
       "Set of alternatives of $a \\lor b$:  [$a \\lor b$, $a$, $b$, $a \\land b$]"
      ],
      "text/plain": [
       "<IPython.core.display.HTML object>"
      ]
     },
     "metadata": {},
     "output_type": "display_data"
    },
    {
     "data": {
      "text/html": [
       "Cells in partition induced by this set of alternatives:  [$\\neg[a \\lor b]$, $a \\land \\neg[b]$, $b \\land \\neg[a]$, $a \\land b$]"
      ],
      "text/plain": [
       "<IPython.core.display.HTML object>"
      ]
     },
     "metadata": {},
     "output_type": "display_data"
    },
    {
     "data": {
      "text/html": [
       "Unions of cells in partition induced by this set of alternatives (relevant propositions):  [$\\neg[a \\lor b]$, $a \\land \\neg[b]$, $b \\land \\neg[a]$, $a \\land b$, $\\neg[a \\lor b] \\lor (a \\land \\neg[b])$, $\\neg[a \\lor b] \\lor (b \\land \\neg[a])$, $\\neg[a \\lor b] \\lor (a \\land b)$, $(a \\land \\neg[b]) \\lor (b \\land \\neg[a])$, $(a \\land \\neg[b]) \\lor (a \\land b)$, $(b \\land \\neg[a]) \\lor (a \\land b)$, $\\neg[a \\lor b] \\lor (a \\land \\neg[b]) \\lor (b \\land \\neg[a])$, $\\neg[a \\lor b] \\lor (a \\land \\neg[b]) \\lor (a \\land b)$, $\\neg[a \\lor b] \\lor (b \\land \\neg[a]) \\lor (a \\land b)$, $(a \\land \\neg[b]) \\lor (b \\land \\neg[a]) \\lor (a \\land b)$, $\\neg[a \\lor b] \\lor (a \\land \\neg[b]) \\lor (b \\land \\neg[a]) \\lor (a \\land b)$]"
      ],
      "text/plain": [
       "<IPython.core.display.HTML object>"
      ]
     },
     "metadata": {},
     "output_type": "display_data"
    }
   ],
   "source": [
    "Alt=[a|b,a,b,a&b]\n",
    "univ=Universe(fs=Alt)\n",
    "relevant=Alt.copy()\n",
    "jprint(\"Set of alternatives of {0}: \".format(a|b),Alt)\n",
    "jprint(\"Cells in partition induced by this set of alternatives: \",Cells(Alt))\n",
    "jprint(\"Unions of cells in partition induced by this set of alternatives (relevant propositions): \",Rel(Alt))"
   ]
  },
  {
   "cell_type": "markdown",
   "metadata": {},
   "source": [
    "Of course with more alternatives the set of relevant alternatives becomes bigger.\n",
    "Case in point: disjunction in the scope of a universal quantifier."
   ]
  },
  {
   "cell_type": "code",
   "execution_count": 4,
   "metadata": {},
   "outputs": [
    {
     "data": {
      "text/html": [
       "Set of alternatives of $\\forall x, P(x) \\lor Q(x)$:  [$\\forall x, P(x) \\lor Q(x)$, $\\forall x, P(x) \\land Q(x)$, $\\forall x, P(x)$, $\\forall x, Q(x)$, $\\exists x, P(x) \\lor Q(x)$, $\\exists x, P(x) \\land Q(x)$, $\\exists x, P(x)$, $\\exists x, Q(x)$]"
      ],
      "text/plain": [
       "<IPython.core.display.HTML object>"
      ]
     },
     "metadata": {},
     "output_type": "display_data"
    },
    {
     "data": {
      "text/html": [
       "Cells in partition induced by this set of alternatives:  [$\\neg[\\exists x, P(x) \\lor Q(x)]$, $(\\exists x, P(x)) \\land \\neg[\\forall x, P(x) \\lor Q(x)] \\land \\neg[\\exists x, Q(x)]$, $(\\forall x, P(x)) \\land \\neg[\\exists x, Q(x)]$, $(\\exists x, Q(x)) \\land \\neg[\\forall x, P(x) \\lor Q(x)] \\land \\neg[\\exists x, P(x)]$, $(\\exists x, P(x) \\land Q(x)) \\land \\neg[\\forall x, P(x) \\lor Q(x)]$, $(\\exists x, P(x)) \\land (\\exists x, Q(x)) \\land \\neg[\\forall x, P(x) \\lor Q(x)] \\land \\neg[\\exists x, P(x) \\land Q(x)]$, $(\\forall x, P(x) \\lor Q(x)) \\land (\\exists x, P(x)) \\land (\\exists x, Q(x)) \\land \\neg[\\forall x, P(x)] \\land \\neg[\\forall x, Q(x)] \\land \\neg[\\exists x, P(x) \\land Q(x)]$, $(\\forall x, P(x)) \\land (\\exists x, P(x) \\land Q(x)) \\land \\neg[\\forall x, Q(x)]$, $(\\forall x, P(x) \\lor Q(x)) \\land (\\exists x, P(x) \\land Q(x)) \\land \\neg[\\forall x, P(x)] \\land \\neg[\\forall x, Q(x)]$, $(\\forall x, Q(x)) \\land \\neg[\\exists x, P(x)]$, $(\\forall x, Q(x)) \\land (\\exists x, P(x) \\land Q(x)) \\land \\neg[\\forall x, P(x)]$, $\\forall x, P(x) \\land Q(x)$]"
      ],
      "text/plain": [
       "<IPython.core.display.HTML object>"
      ]
     },
     "metadata": {},
     "output_type": "display_data"
    },
    {
     "data": {
      "text/html": [
       "Number of unions of cells in partition induced by this set of alternatives (relevant propositions):  4095"
      ],
      "text/plain": [
       "<IPython.core.display.HTML object>"
      ]
     },
     "metadata": {},
     "output_type": "display_data"
    }
   ],
   "source": [
    "prej_universal=Ax>P|Q\n",
    "exh_universal=Exh(prej_universal,ii=True)\n",
    "jprint(\"Set of alternatives of {0}: \".format(prej_universal),exh_universal.alts)\n",
    "jprint(\"Cells in partition induced by this set of alternatives: \",Cells(exh_universal.alts))\n",
    "rel_exh_universal=Rel(exh_universal.alts)\n",
    "jprint(\"Number of unions of cells in partition induced by this set of alternatives (relevant propositions): \",len(rel_exh_universal))"
   ]
  },
  {
   "cell_type": "markdown",
   "metadata": {},
   "source": [
    "# Pruning"
   ]
  },
  {
   "cell_type": "markdown",
   "metadata": {},
   "source": [
    "Fox and Katzir 2011: Constraining pruning by relevance allows for undesired pruning choices.\n",
    "\n",
    "*Pruning by Relevance*: \n",
    "For any $C \\subseteq ALT$: Exh(p,C) is only licensed if every member of $ALT \\setminus C$ isn't made obligatorily relevant by $C$."
   ]
  },
  {
   "cell_type": "code",
   "execution_count": 5,
   "metadata": {},
   "outputs": [
    {
     "data": {
      "text/html": [
       "Is subset [$a \\lor b$, $a$, $b$] a licit choice of pruning from [$a \\lor b$, $a$, $b$, $a \\land b$] given Pruning by Relevance? False"
      ],
      "text/plain": [
       "<IPython.core.display.HTML object>"
      ]
     },
     "metadata": {},
     "output_type": "display_data"
    },
    {
     "data": {
      "text/html": [
       "Is subset [$a \\lor b$, $a$] a licit choice of pruning from [$a \\lor b$, $a$, $b$, $a \\land b$] given Pruning by Relevance? True"
      ],
      "text/plain": [
       "<IPython.core.display.HTML object>"
      ]
     },
     "metadata": {},
     "output_type": "display_data"
    },
    {
     "data": {
      "text/html": [
       "Is subset [$a \\lor b$] a licit choice of pruning from [$a \\lor b$, $a$, $b$, $a \\land b$] given Pruning by Relevance? True"
      ],
      "text/plain": [
       "<IPython.core.display.HTML object>"
      ]
     },
     "metadata": {},
     "output_type": "display_data"
    }
   ],
   "source": [
    "jprint(\"Is subset {0} a licit choice of pruning from {1} given Pruning by Relevance?\".format([a|b,a,b],Alt),PrunRelevance(a|b,Alt,[a|b,a,b]))\n",
    "jprint(\"Is subset {0} a licit choice of pruning from {1} given Pruning by Relevance?\".format([a|b,a],Alt),PrunRelevance(a|b,Alt,[a|b,a]))\n",
    "jprint(\"Is subset {0} a licit choice of pruning from {1} given Pruning by Relevance?\".format([a|b],Alt),PrunRelevance(a|b,Alt,[a|b]))"
   ]
  },
  {
   "cell_type": "markdown",
   "metadata": {},
   "source": [
    "We'd like to block the second pruning choice above where $b$ is pruned but $a$ is not, because allowing it would predict \"a or b\" to be able to mean \"b and not a\".\n",
    "Fox and Katzir suggest the constraint of Exhaustive Relevance.\n",
    "\n",
    "*Pruning by Exhaustive Relevance*: \n",
    "\n",
    "For any $C \\subseteq ALT$: Exh(p,C) is only licensed if for every $A \\in ALT \\setminus C$: Exh(A,C) isn't made obligatorily relevant by $C$."
   ]
  },
  {
   "cell_type": "code",
   "execution_count": 6,
   "metadata": {},
   "outputs": [
    {
     "data": {
      "text/html": [
       "Is subset [$a \\lor b$, $a$, $b$] a licit choice of pruning from [$a \\lor b$, $a$, $b$, $a \\land b$] given Pruning by Exhaustive Relevance? False"
      ],
      "text/plain": [
       "<IPython.core.display.HTML object>"
      ]
     },
     "metadata": {},
     "output_type": "display_data"
    },
    {
     "data": {
      "text/html": [
       "Is subset [$a \\lor b$, $a$] a licit choice of pruning from [$a \\lor b$, $a$, $b$, $a \\land b$] given Pruning by Exhaustive Relevance? False"
      ],
      "text/plain": [
       "<IPython.core.display.HTML object>"
      ]
     },
     "metadata": {},
     "output_type": "display_data"
    },
    {
     "data": {
      "text/html": [
       "Is subset [$a \\lor b$] a licit choice of pruning from [$a \\lor b$, $a$, $b$, $a \\land b$] given Pruning by Exhaustive Relevance? True"
      ],
      "text/plain": [
       "<IPython.core.display.HTML object>"
      ]
     },
     "metadata": {},
     "output_type": "display_data"
    }
   ],
   "source": [
    "jprint(\"Is subset {0} a licit choice of pruning from {1} given Pruning by Exhaustive Relevance?\".format([a|b,a,b],Alt),PrunExhaustiveRelevance(a|b,Alt,[a|b,a,b]))\n",
    "jprint(\"Is subset {0} a licit choice of pruning from {1} given Pruning by Exhaustive Relevance?\".format([a|b,a],Alt),PrunExhaustiveRelevance(a|b,Alt,[a|b,a]))\n",
    "jprint(\"Is subset {0} a licit choice of pruning from {1} given Pruning by Exhaustive Relevance?\".format([a|b],Alt),PrunExhaustiveRelevance(a|b,Alt,[a|b]))"
   ]
  },
  {
   "cell_type": "markdown",
   "metadata": {},
   "source": [
    "One may consider other constraints on pruning which would give the same results in this case. We suggest the following:\n",
    "    \n",
    "*Pruning by Non-Settling* (or: don't judge anyone in their absence): \n",
    "\n",
    "For any $C \\subseteq ALT$: $Exh(p,C)$ is only licensed if for every $A \\in ALT \\setminus C$: $Exh(p,C) \\not\\Rightarrow A$ and $Exh(p,C) \\not\\Rightarrow \\neg A$."
   ]
  },
  {
   "cell_type": "code",
   "execution_count": 7,
   "metadata": {},
   "outputs": [
    {
     "data": {
      "text/html": [
       "Is subset [$a \\lor b$, $a$, $b$] a licit choice of pruning from [$a \\lor b$, $a$, $b$, $a \\land b$] given Pruning by Non-Settling? False"
      ],
      "text/plain": [
       "<IPython.core.display.HTML object>"
      ]
     },
     "metadata": {},
     "output_type": "display_data"
    },
    {
     "data": {
      "text/html": [
       "Is subset [$a \\lor b$, $a$] a licit choice of pruning from [$a \\lor b$, $a$, $b$, $a \\land b$] given Pruning by Non-Settling? False"
      ],
      "text/plain": [
       "<IPython.core.display.HTML object>"
      ]
     },
     "metadata": {},
     "output_type": "display_data"
    },
    {
     "data": {
      "text/html": [
       "Is subset [$a \\lor b$] a licit choice of pruning from [$a \\lor b$, $a$, $b$, $a \\land b$] given Pruning by Non-Settling? True"
      ],
      "text/plain": [
       "<IPython.core.display.HTML object>"
      ]
     },
     "metadata": {},
     "output_type": "display_data"
    }
   ],
   "source": [
    "jprint(\"Is subset {0} a licit choice of pruning from {1} given Pruning by Non-Settling?\".format([a|b,a,b],Alt),PrunSettling(a|b,Alt,[a|b,a,b]))\n",
    "jprint(\"Is subset {0} a licit choice of pruning from {1} given Pruning by Non-Settling?\".format([a|b,a],Alt),PrunSettling(a|b,Alt,[a|b,a]))\n",
    "jprint(\"Is subset {0} a licit choice of pruning from {1} given Pruning by Non-Settling?\".format([a|b],Alt),PrunSettling(a|b,Alt,[a|b]))"
   ]
  },
  {
   "cell_type": "markdown",
   "metadata": {},
   "source": [
    "More generally, it would be helpful to know, for any prejacent and set of alternatives, what choices of pruning are possible (and as a result what meanings a sentence can have) given a theory of pruning. The function PossiblePrunings takes a proposition $p$, a set of alternatives $C$, and a constraint on pruning $con$, and returns all the pruning choices $C' \\subseteq C$ such that $Exh(p,C')$ is licensed by $con$. "
   ]
  },
  {
   "cell_type": "code",
   "execution_count": 8,
   "metadata": {},
   "outputs": [
    {
     "data": {
      "text/html": [
       "Possible prunings and exhaustified meanings for $a \\lor b$ given Pruning by Relevance: "
      ],
      "text/plain": [
       "<IPython.core.display.HTML object>"
      ]
     },
     "metadata": {},
     "output_type": "display_data"
    },
    {
     "data": {
      "text/html": [
       "Pruning:  [$a \\lor b$] Meaning:  $a \\lor b$"
      ],
      "text/plain": [
       "<IPython.core.display.HTML object>"
      ]
     },
     "metadata": {},
     "output_type": "display_data"
    },
    {
     "data": {
      "text/html": [
       "Pruning:  [$a \\lor b$, $a$] Meaning:  $(a \\lor b) \\land \\neg[a]$"
      ],
      "text/plain": [
       "<IPython.core.display.HTML object>"
      ]
     },
     "metadata": {},
     "output_type": "display_data"
    },
    {
     "data": {
      "text/html": [
       "Pruning:  [$a \\lor b$, $b$] Meaning:  $(a \\lor b) \\land \\neg[b]$"
      ],
      "text/plain": [
       "<IPython.core.display.HTML object>"
      ]
     },
     "metadata": {},
     "output_type": "display_data"
    },
    {
     "data": {
      "text/html": [
       "Pruning:  [$a \\lor b$, $a \\land b$] Meaning:  $(a \\lor b) \\land \\neg[a \\land b]$"
      ],
      "text/plain": [
       "<IPython.core.display.HTML object>"
      ]
     },
     "metadata": {},
     "output_type": "display_data"
    },
    {
     "data": {
      "text/html": [
       "Pruning:  [$a \\lor b$, $a$, $b$, $a \\land b$] Meaning:  $(a \\lor b) \\land \\neg[a \\land b]$"
      ],
      "text/plain": [
       "<IPython.core.display.HTML object>"
      ]
     },
     "metadata": {},
     "output_type": "display_data"
    },
    {
     "data": {
      "text/plain": [
       "[None, None, None, None, None]"
      ]
     },
     "execution_count": 8,
     "metadata": {},
     "output_type": "execute_result"
    }
   ],
   "source": [
    "jprint(\"Possible prunings and exhaustified meanings for $a \\lor b$ given Pruning by Relevance: \")\n",
    "[jprint(\"Pruning: \",i,\"Meaning: \",exhf(Exh(a|b,i)))for i in PossiblePrunings(a|b,Alt,PrunRelevance)]"
   ]
  },
  {
   "cell_type": "code",
   "execution_count": 9,
   "metadata": {},
   "outputs": [
    {
     "data": {
      "text/html": [
       "Possible prunings for $a \\lor b$ given Pruning by Exhaustive Relevance: "
      ],
      "text/plain": [
       "<IPython.core.display.HTML object>"
      ]
     },
     "metadata": {},
     "output_type": "display_data"
    },
    {
     "data": {
      "text/html": [
       "Pruning:  [$a \\lor b$] Meaning:  $a \\lor b$"
      ],
      "text/plain": [
       "<IPython.core.display.HTML object>"
      ]
     },
     "metadata": {},
     "output_type": "display_data"
    },
    {
     "data": {
      "text/html": [
       "Pruning:  [$a \\lor b$, $a \\land b$] Meaning:  $(a \\lor b) \\land \\neg[a \\land b]$"
      ],
      "text/plain": [
       "<IPython.core.display.HTML object>"
      ]
     },
     "metadata": {},
     "output_type": "display_data"
    },
    {
     "data": {
      "text/html": [
       "Pruning:  [$a \\lor b$, $a$, $b$, $a \\land b$] Meaning:  $(a \\lor b) \\land \\neg[a \\land b]$"
      ],
      "text/plain": [
       "<IPython.core.display.HTML object>"
      ]
     },
     "metadata": {},
     "output_type": "display_data"
    },
    {
     "data": {
      "text/plain": [
       "[None, None, None]"
      ]
     },
     "execution_count": 9,
     "metadata": {},
     "output_type": "execute_result"
    }
   ],
   "source": [
    "jprint(\"Possible prunings for $a \\lor b$ given Pruning by Exhaustive Relevance: \")\n",
    "[jprint(\"Pruning: \",i,\"Meaning: \",exhf(Exh(a|b,i))) for i in PossiblePrunings(a|b,Alt,PrunExhaustiveRelevance)]"
   ]
  },
  {
   "cell_type": "code",
   "execution_count": 10,
   "metadata": {},
   "outputs": [
    {
     "data": {
      "text/html": [
       "Possible prunings for $a \\lor b$ given Pruning by Non-Settling: "
      ],
      "text/plain": [
       "<IPython.core.display.HTML object>"
      ]
     },
     "metadata": {},
     "output_type": "display_data"
    },
    {
     "data": {
      "text/html": [
       "Pruning:  [$a \\lor b$] Meaning:  $a \\lor b$"
      ],
      "text/plain": [
       "<IPython.core.display.HTML object>"
      ]
     },
     "metadata": {},
     "output_type": "display_data"
    },
    {
     "data": {
      "text/html": [
       "Pruning:  [$a \\lor b$, $a \\land b$] Meaning:  $(a \\lor b) \\land \\neg[a \\land b]$"
      ],
      "text/plain": [
       "<IPython.core.display.HTML object>"
      ]
     },
     "metadata": {},
     "output_type": "display_data"
    },
    {
     "data": {
      "text/html": [
       "Pruning:  [$a \\lor b$, $a$, $b$, $a \\land b$] Meaning:  $(a \\lor b) \\land \\neg[a \\land b]$"
      ],
      "text/plain": [
       "<IPython.core.display.HTML object>"
      ]
     },
     "metadata": {},
     "output_type": "display_data"
    },
    {
     "data": {
      "text/plain": [
       "[None, None, None]"
      ]
     },
     "execution_count": 10,
     "metadata": {},
     "output_type": "execute_result"
    }
   ],
   "source": [
    "jprint(\"Possible prunings for $a \\lor b$ given Pruning by Non-Settling: \")\n",
    "[jprint(\"Pruning: \",i,\"Meaning: \",exhf(Exh(a|b,i))) for i in PossiblePrunings(a|b,Alt,PrunSettling)]"
   ]
  },
  {
   "cell_type": "markdown",
   "metadata": {},
   "source": [
    "We can see that in this case Exhaustive Relevance and Non-settling have the same (correct) predictions. With disjunction in the scope of a universal quantifier things change, and their predictions differ.\n",
    "\n",
    "One can see in the following table (which lists all choices that are licit by at least one of these two constraints) that they are logically independent.\n",
    "\n",
    "[Warning: takes a long time to compile (because of exhaustive relevance).]"
   ]
  },
  {
   "cell_type": "code",
   "execution_count": 11,
   "metadata": {},
   "outputs": [
    {
     "name": "stdout",
     "output_type": "stream",
     "text": [
      "+---------------------------+---------------------------+----------------------------------+--------------------------+\n",
      "|       Pruning choice      |          Meaning          | Allowed by Exhaustive Relevance? | Allowed by Non-Settling? |\n",
      "+---------------------------+---------------------------+----------------------------------+--------------------------+\n",
      "|   [$\\forall x, P(x) \\lor  |   $\\forall x, P(x) \\lor   |               True               |          False           |\n",
      "|           Q(x)$]          |           Q(x)$           |                                  |                          |\n",
      "|   [$\\forall x, P(x) \\lor  |   $(\\forall x, P(x) \\lor  |               True               |          False           |\n",
      "|  Q(x)$, $\\forall x, P(x)  |  Q(x)) \\land \\neg[\\forall |                                  |                          |\n",
      "|        \\land Q(x)$]       |    x, P(x) \\land Q(x)]$   |                                  |                          |\n",
      "|   [$\\forall x, P(x) \\lor  |   $(\\forall x, P(x) \\lor  |               True               |          False           |\n",
      "| Q(x)$, $\\forall x, P(x)$] |  Q(x)) \\land \\neg[\\forall |                                  |                          |\n",
      "|                           |         x, P(x)]$         |                                  |                          |\n",
      "|   [$\\forall x, P(x) \\lor  |   $(\\forall x, P(x) \\lor  |               True               |          False           |\n",
      "| Q(x)$, $\\forall x, Q(x)$] |  Q(x)) \\land \\neg[\\forall |                                  |                          |\n",
      "|                           |         x, Q(x)]$         |                                  |                          |\n",
      "|   [$\\forall x, P(x) \\lor  |   $\\forall x, P(x) \\lor   |               True               |           True           |\n",
      "|  Q(x)$, $\\exists x, P(x)  |           Q(x)$           |                                  |                          |\n",
      "|        \\lor Q(x)$]        |                           |                                  |                          |\n",
      "|   [$\\forall x, P(x) \\lor  |   $(\\forall x, P(x) \\lor  |               True               |          False           |\n",
      "|  Q(x)$, $\\exists x, P(x)  |  Q(x)) \\land \\neg[\\exists |                                  |                          |\n",
      "|        \\land Q(x)$]       |    x, P(x) \\land Q(x)]$   |                                  |                          |\n",
      "|   [$\\forall x, P(x) \\lor  |   $(\\forall x, P(x) \\lor  |               True               |          False           |\n",
      "|  Q(x)$, $\\forall x, P(x)  |  Q(x)) \\land \\neg[\\forall |                                  |                          |\n",
      "|  \\land Q(x)$, $\\forall x, |         x, P(x)]$         |                                  |                          |\n",
      "|           P(x)$]          |                           |                                  |                          |\n",
      "|   [$\\forall x, P(x) \\lor  |   $(\\forall x, P(x) \\lor  |               True               |          False           |\n",
      "|  Q(x)$, $\\forall x, P(x)  |  Q(x)) \\land \\neg[\\forall |                                  |                          |\n",
      "|  \\land Q(x)$, $\\forall x, |         x, Q(x)]$         |                                  |                          |\n",
      "|           Q(x)$]          |                           |                                  |                          |\n",
      "|   [$\\forall x, P(x) \\lor  |   $(\\forall x, P(x) \\lor  |               True               |           True           |\n",
      "|  Q(x)$, $\\forall x, P(x)  |  Q(x)) \\land \\neg[\\forall |                                  |                          |\n",
      "|  \\land Q(x)$, $\\exists x, |    x, P(x) \\land Q(x)]$   |                                  |                          |\n",
      "|      P(x) \\lor Q(x)$]     |                           |                                  |                          |\n",
      "|   [$\\forall x, P(x) \\lor  |   $(\\forall x, P(x) \\lor  |               True               |          False           |\n",
      "|  Q(x)$, $\\forall x, P(x)  |  Q(x)) \\land \\neg[\\exists |                                  |                          |\n",
      "|  \\land Q(x)$, $\\exists x, |    x, P(x) \\land Q(x)]$   |                                  |                          |\n",
      "|     P(x) \\land Q(x)$]     |                           |                                  |                          |\n",
      "|   [$\\forall x, P(x) \\lor  |   $(\\forall x, P(x) \\lor  |               True               |          False           |\n",
      "| Q(x)$, $\\forall x, P(x)$, |  Q(x)) \\land \\neg[\\forall |                                  |                          |\n",
      "|   $\\exists x, P(x) \\lor   |         x, P(x)]$         |                                  |                          |\n",
      "|           Q(x)$]          |                           |                                  |                          |\n",
      "|   [$\\forall x, P(x) \\lor  |   $(\\forall x, P(x) \\lor  |               True               |          False           |\n",
      "| Q(x)$, $\\forall x, P(x)$, |  Q(x)) \\land \\neg[\\forall |                                  |                          |\n",
      "|   $\\exists x, P(x) \\land  |       x, P(x)] \\land      |                                  |                          |\n",
      "|           Q(x)$]          |    \\neg[\\exists x, P(x)   |                                  |                          |\n",
      "|                           |        \\land Q(x)]$       |                                  |                          |\n",
      "|   [$\\forall x, P(x) \\lor  |  $(\\forall x, P(x)) \\land |               True               |          False           |\n",
      "| Q(x)$, $\\forall x, P(x)$, |     (\\exists x, Q(x))$    |                                  |                          |\n",
      "|     $\\exists x, Q(x)$]    |                           |                                  |                          |\n",
      "|   [$\\forall x, P(x) \\lor  |   $(\\forall x, P(x) \\lor  |               True               |          False           |\n",
      "| Q(x)$, $\\forall x, Q(x)$, |  Q(x)) \\land \\neg[\\forall |                                  |                          |\n",
      "|   $\\exists x, P(x) \\lor   |         x, Q(x)]$         |                                  |                          |\n",
      "|           Q(x)$]          |                           |                                  |                          |\n",
      "|   [$\\forall x, P(x) \\lor  |   $(\\forall x, P(x) \\lor  |               True               |          False           |\n",
      "| Q(x)$, $\\forall x, Q(x)$, |  Q(x)) \\land \\neg[\\forall |                                  |                          |\n",
      "|   $\\exists x, P(x) \\land  |       x, Q(x)] \\land      |                                  |                          |\n",
      "|           Q(x)$]          |    \\neg[\\exists x, P(x)   |                                  |                          |\n",
      "|                           |        \\land Q(x)]$       |                                  |                          |\n",
      "|   [$\\forall x, P(x) \\lor  |  $(\\forall x, Q(x)) \\land |               True               |          False           |\n",
      "| Q(x)$, $\\forall x, Q(x)$, |     (\\exists x, P(x))$    |                                  |                          |\n",
      "|     $\\exists x, P(x)$]    |                           |                                  |                          |\n",
      "|   [$\\forall x, P(x) \\lor  |   $(\\forall x, P(x) \\lor  |               True               |          False           |\n",
      "|  Q(x)$, $\\exists x, P(x)  |  Q(x)) \\land \\neg[\\exists |                                  |                          |\n",
      "|  \\lor Q(x)$, $\\exists x,  |    x, P(x) \\land Q(x)]$   |                                  |                          |\n",
      "|     P(x) \\land Q(x)$]     |                           |                                  |                          |\n",
      "|   [$\\forall x, P(x) \\lor  |   $(\\forall x, P(x) \\lor  |               True               |          False           |\n",
      "|  Q(x)$, $\\forall x, P(x)  |  Q(x)) \\land \\neg[\\forall |                                  |                          |\n",
      "|  \\land Q(x)$, $\\forall x, |       x, P(x)] \\land      |                                  |                          |\n",
      "| P(x)$, $\\forall x, Q(x)$] |   \\neg[\\forall x, Q(x)]$  |                                  |                          |\n",
      "|   [$\\forall x, P(x) \\lor  |   $(\\forall x, P(x) \\lor  |               True               |          False           |\n",
      "|  Q(x)$, $\\forall x, P(x)  |  Q(x)) \\land \\neg[\\forall |                                  |                          |\n",
      "|  \\land Q(x)$, $\\forall x, |         x, P(x)]$         |                                  |                          |\n",
      "|  P(x)$, $\\exists x, P(x)  |                           |                                  |                          |\n",
      "|        \\lor Q(x)$]        |                           |                                  |                          |\n",
      "|   [$\\forall x, P(x) \\lor  |   $(\\forall x, P(x) \\lor  |               True               |          False           |\n",
      "|  Q(x)$, $\\forall x, P(x)  |  Q(x)) \\land \\neg[\\forall |                                  |                          |\n",
      "|  \\land Q(x)$, $\\forall x, |       x, P(x)] \\land      |                                  |                          |\n",
      "|  P(x)$, $\\exists x, P(x)  |    \\neg[\\exists x, P(x)   |                                  |                          |\n",
      "|        \\land Q(x)$]       |        \\land Q(x)]$       |                                  |                          |\n",
      "|   [$\\forall x, P(x) \\lor  |  $(\\forall x, P(x)) \\land |               True               |          False           |\n",
      "|  Q(x)$, $\\forall x, P(x)  |  (\\exists x, Q(x)) \\land  |                                  |                          |\n",
      "|  \\land Q(x)$, $\\forall x, |    \\neg[\\forall x, P(x)   |                                  |                          |\n",
      "| P(x)$, $\\exists x, Q(x)$] |        \\land Q(x)]$       |                                  |                          |\n",
      "|   [$\\forall x, P(x) \\lor  |   $(\\forall x, P(x) \\lor  |               True               |          False           |\n",
      "|  Q(x)$, $\\forall x, P(x)  |  Q(x)) \\land \\neg[\\forall |                                  |                          |\n",
      "|  \\land Q(x)$, $\\forall x, |         x, Q(x)]$         |                                  |                          |\n",
      "|  Q(x)$, $\\exists x, P(x)  |                           |                                  |                          |\n",
      "|        \\lor Q(x)$]        |                           |                                  |                          |\n",
      "|   [$\\forall x, P(x) \\lor  |   $(\\forall x, P(x) \\lor  |               True               |          False           |\n",
      "|  Q(x)$, $\\forall x, P(x)  |  Q(x)) \\land \\neg[\\forall |                                  |                          |\n",
      "|  \\land Q(x)$, $\\forall x, |       x, Q(x)] \\land      |                                  |                          |\n",
      "|  Q(x)$, $\\exists x, P(x)  |    \\neg[\\exists x, P(x)   |                                  |                          |\n",
      "|        \\land Q(x)$]       |        \\land Q(x)]$       |                                  |                          |\n",
      "|   [$\\forall x, P(x) \\lor  |  $(\\forall x, Q(x)) \\land |               True               |          False           |\n",
      "|  Q(x)$, $\\forall x, P(x)  |  (\\exists x, P(x)) \\land  |                                  |                          |\n",
      "|  \\land Q(x)$, $\\forall x, |    \\neg[\\forall x, P(x)   |                                  |                          |\n",
      "| Q(x)$, $\\exists x, P(x)$] |        \\land Q(x)]$       |                                  |                          |\n",
      "|   [$\\forall x, P(x) \\lor  |   $(\\forall x, P(x) \\lor  |               True               |           True           |\n",
      "|  Q(x)$, $\\forall x, P(x)  |  Q(x)) \\land \\neg[\\exists |                                  |                          |\n",
      "|  \\land Q(x)$, $\\exists x, |    x, P(x) \\land Q(x)]$   |                                  |                          |\n",
      "| P(x) \\lor Q(x)$, $\\exists |                           |                                  |                          |\n",
      "|    x, P(x) \\land Q(x)$]   |                           |                                  |                          |\n",
      "|   [$\\forall x, P(x) \\lor  |   $(\\forall x, P(x) \\lor  |               True               |          False           |\n",
      "| Q(x)$, $\\forall x, P(x)$, |  Q(x)) \\land \\neg[\\forall |                                  |                          |\n",
      "|   $\\exists x, P(x) \\lor   |       x, P(x)] \\land      |                                  |                          |\n",
      "|  Q(x)$, $\\exists x, P(x)  |    \\neg[\\exists x, P(x)   |                                  |                          |\n",
      "|        \\land Q(x)$]       |        \\land Q(x)]$       |                                  |                          |\n",
      "|   [$\\forall x, P(x) \\lor  |   $(\\forall x, P(x) \\lor  |               True               |          False           |\n",
      "| Q(x)$, $\\forall x, P(x)$, |  Q(x)) \\land \\neg[\\exists |                                  |                          |\n",
      "|   $\\exists x, P(x) \\land  |    x, P(x) \\land Q(x)]$   |                                  |                          |\n",
      "| Q(x)$, $\\exists x, Q(x)$] |                           |                                  |                          |\n",
      "|   [$\\forall x, P(x) \\lor  |   $(\\forall x, P(x) \\lor  |               True               |          False           |\n",
      "| Q(x)$, $\\forall x, Q(x)$, |  Q(x)) \\land \\neg[\\forall |                                  |                          |\n",
      "|   $\\exists x, P(x) \\lor   |       x, Q(x)] \\land      |                                  |                          |\n",
      "|  Q(x)$, $\\exists x, P(x)  |    \\neg[\\exists x, P(x)   |                                  |                          |\n",
      "|        \\land Q(x)$]       |        \\land Q(x)]$       |                                  |                          |\n",
      "|   [$\\forall x, P(x) \\lor  |   $(\\forall x, P(x) \\lor  |               True               |          False           |\n",
      "| Q(x)$, $\\forall x, Q(x)$, |  Q(x)) \\land \\neg[\\exists |                                  |                          |\n",
      "|   $\\exists x, P(x) \\land  |    x, P(x) \\land Q(x)]$   |                                  |                          |\n",
      "| Q(x)$, $\\exists x, P(x)$] |                           |                                  |                          |\n",
      "|   [$\\forall x, P(x) \\lor  |   $(\\forall x, P(x) \\lor  |              False               |           True           |\n",
      "|  Q(x)$, $\\exists x, P(x)  |  Q(x)) \\land (\\exists x,  |                                  |                          |\n",
      "|  \\lor Q(x)$, $\\exists x,  |  P(x)) \\land (\\exists x,  |                                  |                          |\n",
      "| P(x)$, $\\exists x, Q(x)$] |           Q(x))$          |                                  |                          |\n",
      "|   [$\\forall x, P(x) \\lor  |   $(\\forall x, P(x) \\lor  |               True               |          False           |\n",
      "|  Q(x)$, $\\forall x, P(x)  |  Q(x)) \\land \\neg[\\forall |                                  |                          |\n",
      "|  \\land Q(x)$, $\\forall x, |       x, P(x)] \\land      |                                  |                          |\n",
      "| P(x)$, $\\forall x, Q(x)$, |   \\neg[\\forall x, Q(x)]$  |                                  |                          |\n",
      "|   $\\exists x, P(x) \\lor   |                           |                                  |                          |\n",
      "|           Q(x)$]          |                           |                                  |                          |\n",
      "|   [$\\forall x, P(x) \\lor  |   $(\\forall x, P(x) \\lor  |               True               |          False           |\n",
      "|  Q(x)$, $\\forall x, P(x)  |  Q(x)) \\land \\neg[\\forall |                                  |                          |\n",
      "|  \\land Q(x)$, $\\forall x, |       x, P(x)] \\land      |                                  |                          |\n",
      "| P(x)$, $\\forall x, Q(x)$, |   \\neg[\\forall x, Q(x)]   |                                  |                          |\n",
      "|   $\\exists x, P(x) \\land  |   \\land \\neg[\\exists x,   |                                  |                          |\n",
      "|           Q(x)$]          |     P(x) \\land Q(x)]$     |                                  |                          |\n",
      "|   [$\\forall x, P(x) \\lor  |  $(\\forall x, Q(x)) \\land |               True               |          False           |\n",
      "|  Q(x)$, $\\forall x, P(x)  |  (\\exists x, P(x)) \\land  |                                  |                          |\n",
      "|  \\land Q(x)$, $\\forall x, |   \\neg[\\forall x, P(x)]$  |                                  |                          |\n",
      "| P(x)$, $\\forall x, Q(x)$, |                           |                                  |                          |\n",
      "|     $\\exists x, P(x)$]    |                           |                                  |                          |\n",
      "|   [$\\forall x, P(x) \\lor  |  $(\\forall x, P(x)) \\land |               True               |          False           |\n",
      "|  Q(x)$, $\\forall x, P(x)  |  (\\exists x, Q(x)) \\land  |                                  |                          |\n",
      "|  \\land Q(x)$, $\\forall x, |   \\neg[\\forall x, Q(x)]$  |                                  |                          |\n",
      "| P(x)$, $\\forall x, Q(x)$, |                           |                                  |                          |\n",
      "|     $\\exists x, Q(x)$]    |                           |                                  |                          |\n",
      "|   [$\\forall x, P(x) \\lor  |   $(\\forall x, P(x) \\lor  |               True               |          False           |\n",
      "|  Q(x)$, $\\forall x, P(x)  |  Q(x)) \\land \\neg[\\forall |                                  |                          |\n",
      "|  \\land Q(x)$, $\\forall x, |       x, P(x)] \\land      |                                  |                          |\n",
      "|  P(x)$, $\\exists x, P(x)  |    \\neg[\\exists x, P(x)   |                                  |                          |\n",
      "|  \\lor Q(x)$, $\\exists x,  |        \\land Q(x)]$       |                                  |                          |\n",
      "|     P(x) \\land Q(x)$]     |                           |                                  |                          |\n",
      "|   [$\\forall x, P(x) \\lor  |   $(\\forall x, P(x) \\lor  |               True               |          False           |\n",
      "|  Q(x)$, $\\forall x, P(x)  |  Q(x)) \\land \\neg[\\exists |                                  |                          |\n",
      "|  \\land Q(x)$, $\\forall x, |    x, P(x) \\land Q(x)]$   |                                  |                          |\n",
      "|  P(x)$, $\\exists x, P(x)  |                           |                                  |                          |\n",
      "|  \\land Q(x)$, $\\exists x, |                           |                                  |                          |\n",
      "|           Q(x)$]          |                           |                                  |                          |\n",
      "|   [$\\forall x, P(x) \\lor  |   $(\\forall x, P(x) \\lor  |               True               |          False           |\n",
      "|  Q(x)$, $\\forall x, P(x)  |  Q(x)) \\land \\neg[\\forall |                                  |                          |\n",
      "|  \\land Q(x)$, $\\forall x, |       x, Q(x)] \\land      |                                  |                          |\n",
      "|  Q(x)$, $\\exists x, P(x)  |    \\neg[\\exists x, P(x)   |                                  |                          |\n",
      "|  \\lor Q(x)$, $\\exists x,  |        \\land Q(x)]$       |                                  |                          |\n",
      "|     P(x) \\land Q(x)$]     |                           |                                  |                          |\n",
      "|   [$\\forall x, P(x) \\lor  |   $(\\forall x, P(x) \\lor  |               True               |          False           |\n",
      "|  Q(x)$, $\\forall x, P(x)  |  Q(x)) \\land \\neg[\\exists |                                  |                          |\n",
      "|  \\land Q(x)$, $\\forall x, |    x, P(x) \\land Q(x)]$   |                                  |                          |\n",
      "|  Q(x)$, $\\exists x, P(x)  |                           |                                  |                          |\n",
      "|  \\land Q(x)$, $\\exists x, |                           |                                  |                          |\n",
      "|           P(x)$]          |                           |                                  |                          |\n",
      "|   [$\\forall x, P(x) \\lor  |   $(\\forall x, P(x) \\lor  |              False               |           True           |\n",
      "|  Q(x)$, $\\forall x, P(x)  |  Q(x)) \\land (\\exists x,  |                                  |                          |\n",
      "|  \\land Q(x)$, $\\exists x, |  P(x)) \\land (\\exists x,  |                                  |                          |\n",
      "| P(x) \\lor Q(x)$, $\\exists |  Q(x)) \\land \\neg[\\forall |                                  |                          |\n",
      "|   x, P(x)$, $\\exists x,   |    x, P(x) \\land Q(x)]$   |                                  |                          |\n",
      "|           Q(x)$]          |                           |                                  |                          |\n",
      "|   [$\\forall x, P(x) \\lor  |   $(\\forall x, P(x) \\lor  |               True               |          False           |\n",
      "|  Q(x)$, $\\forall x, P(x)  |  Q(x)) \\land \\neg[\\forall |                                  |                          |\n",
      "|  \\land Q(x)$, $\\forall x, |       x, P(x)] \\land      |                                  |                          |\n",
      "| P(x)$, $\\forall x, Q(x)$, |   \\neg[\\forall x, Q(x)]   |                                  |                          |\n",
      "|   $\\exists x, P(x) \\lor   |   \\land \\neg[\\exists x,   |                                  |                          |\n",
      "|  Q(x)$, $\\exists x, P(x)  |     P(x) \\land Q(x)]$     |                                  |                          |\n",
      "|        \\land Q(x)$]       |                           |                                  |                          |\n",
      "|   [$\\forall x, P(x) \\lor  |   $(\\forall x, P(x) \\lor  |               True               |          False           |\n",
      "|  Q(x)$, $\\forall x, P(x)  |  Q(x)) \\land \\neg[\\forall |                                  |                          |\n",
      "|  \\land Q(x)$, $\\forall x, |       x, P(x)] \\land      |                                  |                          |\n",
      "| P(x)$, $\\forall x, Q(x)$, |    \\neg[\\exists x, P(x)   |                                  |                          |\n",
      "|   $\\exists x, P(x) \\land  |        \\land Q(x)]$       |                                  |                          |\n",
      "| Q(x)$, $\\exists x, P(x)$] |                           |                                  |                          |\n",
      "|   [$\\forall x, P(x) \\lor  |   $(\\forall x, P(x) \\lor  |               True               |          False           |\n",
      "|  Q(x)$, $\\forall x, P(x)  |  Q(x)) \\land \\neg[\\forall |                                  |                          |\n",
      "|  \\land Q(x)$, $\\forall x, |       x, Q(x)] \\land      |                                  |                          |\n",
      "| P(x)$, $\\forall x, Q(x)$, |    \\neg[\\exists x, P(x)   |                                  |                          |\n",
      "|   $\\exists x, P(x) \\land  |        \\land Q(x)]$       |                                  |                          |\n",
      "| Q(x)$, $\\exists x, Q(x)$] |                           |                                  |                          |\n",
      "|   [$\\forall x, P(x) \\lor  |   $(\\forall x, P(x) \\lor  |              False               |           True           |\n",
      "|  Q(x)$, $\\forall x, P(x)  |  Q(x)) \\land \\neg[\\exists |                                  |                          |\n",
      "|  \\land Q(x)$, $\\forall x, |    x, P(x) \\land Q(x)]$   |                                  |                          |\n",
      "|  P(x)$, $\\exists x, P(x)  |                           |                                  |                          |\n",
      "|  \\lor Q(x)$, $\\exists x,  |                           |                                  |                          |\n",
      "|     P(x) \\land Q(x)$,     |                           |                                  |                          |\n",
      "|     $\\exists x, Q(x)$]    |                           |                                  |                          |\n",
      "|   [$\\forall x, P(x) \\lor  |   $(\\forall x, P(x) \\lor  |              False               |           True           |\n",
      "|  Q(x)$, $\\forall x, P(x)  |  Q(x)) \\land \\neg[\\exists |                                  |                          |\n",
      "|  \\land Q(x)$, $\\forall x, |    x, P(x) \\land Q(x)]$   |                                  |                          |\n",
      "|  Q(x)$, $\\exists x, P(x)  |                           |                                  |                          |\n",
      "|  \\lor Q(x)$, $\\exists x,  |                           |                                  |                          |\n",
      "|     P(x) \\land Q(x)$,     |                           |                                  |                          |\n",
      "|     $\\exists x, P(x)$]    |                           |                                  |                          |\n",
      "|   [$\\forall x, P(x) \\lor  |   $(\\forall x, P(x) \\lor  |               True               |           True           |\n",
      "|  Q(x)$, $\\forall x, P(x)  |  Q(x)) \\land (\\exists x,  |                                  |                          |\n",
      "|  \\land Q(x)$, $\\forall x, |  P(x)) \\land (\\exists x,  |                                  |                          |\n",
      "| P(x)$, $\\forall x, Q(x)$, |  Q(x)) \\land \\neg[\\forall |                                  |                          |\n",
      "|   $\\exists x, P(x) \\lor   |    x, P(x) \\land Q(x)]$   |                                  |                          |\n",
      "| Q(x)$, $\\exists x, P(x)$, |                           |                                  |                          |\n",
      "|     $\\exists x, Q(x)$]    |                           |                                  |                          |\n",
      "|   [$\\forall x, P(x) \\lor  |   $(\\forall x, P(x) \\lor  |               True               |           True           |\n",
      "|  Q(x)$, $\\forall x, P(x)  |  Q(x)) \\land \\neg[\\exists |                                  |                          |\n",
      "|  \\land Q(x)$, $\\forall x, |    x, P(x) \\land Q(x)]$   |                                  |                          |\n",
      "| P(x)$, $\\forall x, Q(x)$, |                           |                                  |                          |\n",
      "|   $\\exists x, P(x) \\lor   |                           |                                  |                          |\n",
      "|  Q(x)$, $\\exists x, P(x)  |                           |                                  |                          |\n",
      "|  \\land Q(x)$, $\\exists x, |                           |                                  |                          |\n",
      "| P(x)$, $\\exists x, Q(x)$] |                           |                                  |                          |\n",
      "+---------------------------+---------------------------+----------------------------------+--------------------------+\n"
     ]
    }
   ],
   "source": [
    "# pos_prun_rel=PossiblePrunings(prej_universal,exh_universal.alts,PrunRelevance)\n",
    "pos_prun_exhrel=PossiblePrunings(prej_universal,exh_universal.alts,PrunExhaustiveRelevance)\n",
    "pos_prun_nonset=PossiblePrunings(prej_universal,exh_universal.alts,PrunSettling)\n",
    "\n",
    "any_prun_universal=[i for i in ps(exh_universal.alts) if i in pos_prun_exhrel or i in pos_prun_nonset]\n",
    "any_prun_universal_meaning=[exhf(Exh(prej_universal,i)) for i in any_prun_universal]\n",
    "\n",
    "val_prun_exhrel=[i in pos_prun_exhrel for i in any_prun_universal]\n",
    "val_prun_nonset=[i in pos_prun_nonset for i in any_prun_universal]\n",
    "\n",
    "from prettytable import PrettyTable\n",
    "t = PrettyTable()\n",
    "t.add_column('Pruning choice',any_prun_universal)\n",
    "t.add_column('Meaning',any_prun_universal_meaning)\n",
    "t.add_column('Allowed by Exhaustive Relevance?',val_prun_exhrel)\n",
    "t.add_column('Allowed by Non-Settling?',val_prun_nonset)\n",
    "t._max_width = {\"Pruning choice\" : 25,\"Meaning\" : 25}\n",
    "print(t)"
   ]
  },
  {
   "cell_type": "markdown",
   "metadata": {},
   "source": [
    "Exhaustive Relevance makes some obviously bad predictions. For instance, $[\\forall x (Px \\lor Qx), \\forall x Px]$ is allowed. \n",
    "\n",
    "What about non-settling? It makes no obviously wrong predictions (some licit pruing choices look suspicious but are in fact harmless):"
   ]
  },
  {
   "cell_type": "code",
   "execution_count": 12,
   "metadata": {},
   "outputs": [
    {
     "data": {
      "text/html": [
       "Possible prunings for $\f",
       "orall x (Px \\lor Qx)$ given Pruning by Non-Settling: "
      ],
      "text/plain": [
       "<IPython.core.display.HTML object>"
      ]
     },
     "metadata": {},
     "output_type": "display_data"
    },
    {
     "data": {
      "text/html": [
       "Pruning:  [$\\forall x, P(x) \\lor Q(x)$, $\\exists x, P(x) \\lor Q(x)$] Meaning:  $\\forall x, P(x) \\lor Q(x)$"
      ],
      "text/plain": [
       "<IPython.core.display.HTML object>"
      ]
     },
     "metadata": {},
     "output_type": "display_data"
    },
    {
     "data": {
      "text/html": [
       "Pruning:  [$\\forall x, P(x) \\lor Q(x)$, $\\forall x, P(x) \\land Q(x)$, $\\exists x, P(x) \\lor Q(x)$] Meaning:  $(\\forall x, P(x) \\lor Q(x)) \\land \\neg[\\forall x, P(x) \\land Q(x)]$"
      ],
      "text/plain": [
       "<IPython.core.display.HTML object>"
      ]
     },
     "metadata": {},
     "output_type": "display_data"
    },
    {
     "data": {
      "text/html": [
       "Pruning:  [$\\forall x, P(x) \\lor Q(x)$, $\\forall x, P(x) \\land Q(x)$, $\\exists x, P(x) \\lor Q(x)$, $\\exists x, P(x) \\land Q(x)$] Meaning:  $(\\forall x, P(x) \\lor Q(x)) \\land \\neg[\\exists x, P(x) \\land Q(x)]$"
      ],
      "text/plain": [
       "<IPython.core.display.HTML object>"
      ]
     },
     "metadata": {},
     "output_type": "display_data"
    },
    {
     "data": {
      "text/html": [
       "Pruning:  [$\\forall x, P(x) \\lor Q(x)$, $\\exists x, P(x) \\lor Q(x)$, $\\exists x, P(x)$, $\\exists x, Q(x)$] Meaning:  $(\\forall x, P(x) \\lor Q(x)) \\land (\\exists x, P(x)) \\land (\\exists x, Q(x))$"
      ],
      "text/plain": [
       "<IPython.core.display.HTML object>"
      ]
     },
     "metadata": {},
     "output_type": "display_data"
    },
    {
     "data": {
      "text/html": [
       "Pruning:  [$\\forall x, P(x) \\lor Q(x)$, $\\forall x, P(x) \\land Q(x)$, $\\exists x, P(x) \\lor Q(x)$, $\\exists x, P(x)$, $\\exists x, Q(x)$] Meaning:  $(\\forall x, P(x) \\lor Q(x)) \\land (\\exists x, P(x)) \\land (\\exists x, Q(x)) \\land \\neg[\\forall x, P(x) \\land Q(x)]$"
      ],
      "text/plain": [
       "<IPython.core.display.HTML object>"
      ]
     },
     "metadata": {},
     "output_type": "display_data"
    },
    {
     "data": {
      "text/html": [
       "Pruning:  [$\\forall x, P(x) \\lor Q(x)$, $\\forall x, P(x) \\land Q(x)$, $\\forall x, P(x)$, $\\exists x, P(x) \\lor Q(x)$, $\\exists x, P(x) \\land Q(x)$, $\\exists x, Q(x)$] Meaning:  $(\\forall x, P(x) \\lor Q(x)) \\land \\neg[\\exists x, P(x) \\land Q(x)]$"
      ],
      "text/plain": [
       "<IPython.core.display.HTML object>"
      ]
     },
     "metadata": {},
     "output_type": "display_data"
    },
    {
     "data": {
      "text/html": [
       "Pruning:  [$\\forall x, P(x) \\lor Q(x)$, $\\forall x, P(x) \\land Q(x)$, $\\forall x, Q(x)$, $\\exists x, P(x) \\lor Q(x)$, $\\exists x, P(x) \\land Q(x)$, $\\exists x, P(x)$] Meaning:  $(\\forall x, P(x) \\lor Q(x)) \\land \\neg[\\exists x, P(x) \\land Q(x)]$"
      ],
      "text/plain": [
       "<IPython.core.display.HTML object>"
      ]
     },
     "metadata": {},
     "output_type": "display_data"
    },
    {
     "data": {
      "text/html": [
       "Pruning:  [$\\forall x, P(x) \\lor Q(x)$, $\\forall x, P(x) \\land Q(x)$, $\\forall x, P(x)$, $\\forall x, Q(x)$, $\\exists x, P(x) \\lor Q(x)$, $\\exists x, P(x)$, $\\exists x, Q(x)$] Meaning:  $(\\forall x, P(x) \\lor Q(x)) \\land (\\exists x, P(x)) \\land (\\exists x, Q(x)) \\land \\neg[\\forall x, P(x) \\land Q(x)]$"
      ],
      "text/plain": [
       "<IPython.core.display.HTML object>"
      ]
     },
     "metadata": {},
     "output_type": "display_data"
    },
    {
     "data": {
      "text/html": [
       "Pruning:  [$\\forall x, P(x) \\lor Q(x)$, $\\forall x, P(x) \\land Q(x)$, $\\forall x, P(x)$, $\\forall x, Q(x)$, $\\exists x, P(x) \\lor Q(x)$, $\\exists x, P(x) \\land Q(x)$, $\\exists x, P(x)$, $\\exists x, Q(x)$] Meaning:  $(\\forall x, P(x) \\lor Q(x)) \\land \\neg[\\exists x, P(x) \\land Q(x)]$"
      ],
      "text/plain": [
       "<IPython.core.display.HTML object>"
      ]
     },
     "metadata": {},
     "output_type": "display_data"
    },
    {
     "data": {
      "text/plain": [
       "[None, None, None, None, None, None, None, None, None]"
      ]
     },
     "execution_count": 12,
     "metadata": {},
     "output_type": "execute_result"
    }
   ],
   "source": [
    "jprint(\"Possible prunings for $\\forall x (Px \\lor Qx)$ given Pruning by Non-Settling: \")\n",
    "[jprint(\"Pruning: \",i,\"Meaning: \",exhf(Exh(prej_universal,i))) for i in pos_prun_nonset]"
   ]
  },
  {
   "cell_type": "markdown",
   "metadata": {},
   "source": [
    "We argue though that it is helpful to assume both Non-settling and Exhaustive Relevance. Assuming both, this is the set of licit prunings:"
   ]
  },
  {
   "cell_type": "code",
   "execution_count": 13,
   "metadata": {},
   "outputs": [
    {
     "data": {
      "text/html": [
       "Possible prunings for $[\f",
       "orall x (Px \\lor Qx)]$ given both Pruning by Exhaustive relevance and Pruning by Non-Settling: "
      ],
      "text/plain": [
       "<IPython.core.display.HTML object>"
      ]
     },
     "metadata": {},
     "output_type": "display_data"
    },
    {
     "data": {
      "text/html": [
       "Pruning:  [$\\forall x, P(x) \\lor Q(x)$, $\\exists x, P(x) \\lor Q(x)$] Meaning:  $\\forall x, P(x) \\lor Q(x)$"
      ],
      "text/plain": [
       "<IPython.core.display.HTML object>"
      ]
     },
     "metadata": {},
     "output_type": "display_data"
    },
    {
     "data": {
      "text/html": [
       "Pruning:  [$\\forall x, P(x) \\lor Q(x)$, $\\forall x, P(x) \\land Q(x)$, $\\exists x, P(x) \\lor Q(x)$] Meaning:  $(\\forall x, P(x) \\lor Q(x)) \\land \\neg[\\forall x, P(x) \\land Q(x)]$"
      ],
      "text/plain": [
       "<IPython.core.display.HTML object>"
      ]
     },
     "metadata": {},
     "output_type": "display_data"
    },
    {
     "data": {
      "text/html": [
       "Pruning:  [$\\forall x, P(x) \\lor Q(x)$, $\\forall x, P(x) \\land Q(x)$, $\\exists x, P(x) \\lor Q(x)$, $\\exists x, P(x) \\land Q(x)$] Meaning:  $(\\forall x, P(x) \\lor Q(x)) \\land \\neg[\\exists x, P(x) \\land Q(x)]$"
      ],
      "text/plain": [
       "<IPython.core.display.HTML object>"
      ]
     },
     "metadata": {},
     "output_type": "display_data"
    },
    {
     "data": {
      "text/html": [
       "Pruning:  [$\\forall x, P(x) \\lor Q(x)$, $\\forall x, P(x) \\land Q(x)$, $\\forall x, P(x)$, $\\forall x, Q(x)$, $\\exists x, P(x) \\lor Q(x)$, $\\exists x, P(x)$, $\\exists x, Q(x)$] Meaning:  $(\\forall x, P(x) \\lor Q(x)) \\land (\\exists x, P(x)) \\land (\\exists x, Q(x)) \\land \\neg[\\forall x, P(x) \\land Q(x)]$"
      ],
      "text/plain": [
       "<IPython.core.display.HTML object>"
      ]
     },
     "metadata": {},
     "output_type": "display_data"
    },
    {
     "data": {
      "text/html": [
       "Pruning:  [$\\forall x, P(x) \\lor Q(x)$, $\\forall x, P(x) \\land Q(x)$, $\\forall x, P(x)$, $\\forall x, Q(x)$, $\\exists x, P(x) \\lor Q(x)$, $\\exists x, P(x) \\land Q(x)$, $\\exists x, P(x)$, $\\exists x, Q(x)$] Meaning:  $(\\forall x, P(x) \\lor Q(x)) \\land \\neg[\\exists x, P(x) \\land Q(x)]$"
      ],
      "text/plain": [
       "<IPython.core.display.HTML object>"
      ]
     },
     "metadata": {},
     "output_type": "display_data"
    },
    {
     "data": {
      "text/plain": [
       "[None, None, None, None, None]"
      ]
     },
     "execution_count": 13,
     "metadata": {},
     "output_type": "execute_result"
    }
   ],
   "source": [
    "jprint(\"Possible prunings for $[\\forall x (Px \\lor Qx)]$ given both Pruning by Exhaustive relevance and Pruning by Non-Settling: \")\n",
    "[jprint(\"Pruning: \",i,\"Meaning: \",exhf(Exh(prej_universal,i))) for i in ps(exh_universal.alts) if i in pos_prun_nonset and i in pos_prun_exhrel]"
   ]
  },
  {
   "cell_type": "markdown",
   "metadata": {},
   "source": [
    "The reason why we think it is helpful to have both constraints is that it will allow us to capture an otherwise intriguing data due to Denic (2020), showing that distributive inferences are impossible when the number of individuals in the domain of quantification equals the number of disjuncts. \n",
    "\n",
    "This is what we predict if we assume both constraints when the domain of quantification is 2:"
   ]
  },
  {
   "cell_type": "code",
   "execution_count": 14,
   "metadata": {
    "scrolled": true
   },
   "outputs": [
    {
     "data": {
      "text/html": [
       "Possible prunings for $[\f",
       "orall x (Px \\lor Qx)]$ given both Pruning by Exhaustive relevance and Pruning by Non-Settling when the domain of quantification contains two individuals: "
      ],
      "text/plain": [
       "<IPython.core.display.HTML object>"
      ]
     },
     "metadata": {},
     "output_type": "display_data"
    },
    {
     "data": {
      "text/html": [
       "Pruning:  [$\\forall x, P(x) \\lor Q(x)$, $\\exists x, P(x) \\lor Q(x)$] Meaning:  $\\forall x, P(x) \\lor Q(x)$"
      ],
      "text/plain": [
       "<IPython.core.display.HTML object>"
      ]
     },
     "metadata": {},
     "output_type": "display_data"
    },
    {
     "data": {
      "text/html": [
       "Pruning:  [$\\forall x, P(x) \\lor Q(x)$, $\\forall x, P(x) \\land Q(x)$, $\\exists x, P(x) \\lor Q(x)$] Meaning:  $(\\forall x, P(x) \\lor Q(x)) \\land \\neg[\\forall x, P(x) \\land Q(x)]$"
      ],
      "text/plain": [
       "<IPython.core.display.HTML object>"
      ]
     },
     "metadata": {},
     "output_type": "display_data"
    },
    {
     "data": {
      "text/html": [
       "Pruning:  [$\\forall x, P(x) \\lor Q(x)$, $\\forall x, P(x) \\land Q(x)$, $\\exists x, P(x) \\lor Q(x)$, $\\exists x, P(x) \\land Q(x)$] Meaning:  $(\\forall x, P(x) \\lor Q(x)) \\land \\neg[\\exists x, P(x) \\land Q(x)]$"
      ],
      "text/plain": [
       "<IPython.core.display.HTML object>"
      ]
     },
     "metadata": {},
     "output_type": "display_data"
    },
    {
     "data": {
      "text/html": [
       "Pruning:  [$\\forall x, P(x) \\lor Q(x)$, $\\forall x, P(x) \\land Q(x)$, $\\forall x, P(x)$, $\\forall x, Q(x)$, $\\exists x, P(x) \\lor Q(x)$, $\\exists x, P(x) \\land Q(x)$, $\\exists x, P(x)$, $\\exists x, Q(x)$] Meaning:  $(\\forall x, P(x) \\lor Q(x)) \\land \\neg[\\exists x, P(x) \\land Q(x)]$"
      ],
      "text/plain": [
       "<IPython.core.display.HTML object>"
      ]
     },
     "metadata": {},
     "output_type": "display_data"
    },
    {
     "data": {
      "text/plain": [
       "[None, None, None, None]"
      ]
     },
     "execution_count": 14,
     "metadata": {},
     "output_type": "execute_result"
    }
   ],
   "source": [
    "from exh.model import options\n",
    "options.dom_quant=2\n",
    "\n",
    "prej_universal=Ax>P|Q\n",
    "exh_universal=Exh(prej_universal)\n",
    "# univ=Universe(fs=exh_universal.alts)\n",
    "\n",
    "pos_prun_nonset_dom2=PossiblePrunings(prej_universal,exh_universal.alts,PrunSettling)\n",
    "pos_prun_exhrel_nonset_dom2=[i for i in pos_prun_nonset_dom2 if PrunExhaustiveRelevance(prej_universal,exh_universal.alts,i)]\n",
    "\n",
    "jprint(\"Possible prunings for $[\\forall x (Px \\lor Qx)]$ given both Pruning by Exhaustive relevance and Pruning by Non-Settling when the domain of quantification contains two individuals: \")\n",
    "[jprint(\"Pruning: \",i,\"Meaning: \",exhf(Exh(prej_universal,i))) for i in pos_prun_exhrel_nonset_dom2]"
   ]
  },
  {
   "cell_type": "markdown",
   "metadata": {},
   "source": [
    "Note that now there is simply no way to get distributive inferences. Underlying reason: Once $\\forall x Px$ is in the set of alternatives (which is ensured by Exhaustive Relevance whenever $\\exists x Qx$ is in the set of alternatives),  then by (even simple) relevance $\\exists x [Px \\land Qx]$ can't be left out, because $\\exists x (Px \\land Qx)$ is equivalent to $(\\forall x Px \\land \\exists x Qx) \\lor (\\forall x Qx \\land \\exists x Px) \\lor (\\exists x Px \\land \\exists x Qx \\land \\neg \\forall x (Px \\lor Qx))$, and the latter ends up in the union of cells."
   ]
  },
  {
   "cell_type": "code",
   "execution_count": 15,
   "metadata": {},
   "outputs": [
    {
     "data": {
      "text/html": [
       "Pruning choice that disappears when the domain of quantification contains 2 individuals: "
      ],
      "text/plain": [
       "<IPython.core.display.HTML object>"
      ]
     },
     "metadata": {},
     "output_type": "display_data"
    },
    {
     "data": {
      "text/html": [
       "Pruning:  [$\\forall x, P(x) \\lor Q(x)$, $\\forall x, P(x) \\land Q(x)$, $\\forall x, P(x)$, $\\forall x, Q(x)$, $\\exists x, P(x) \\lor Q(x)$, $\\exists x, P(x)$, $\\exists x, Q(x)$] Meaning:  $(\\forall x, P(x) \\lor Q(x)) \\land (\\exists x, P(x)) \\land (\\exists x, Q(x)) \\land \\neg[\\forall x, P(x) \\land Q(x)]$"
      ],
      "text/plain": [
       "<IPython.core.display.HTML object>"
      ]
     },
     "metadata": {},
     "output_type": "display_data"
    },
    {
     "data": {
      "text/plain": [
       "[None]"
      ]
     },
     "execution_count": 15,
     "metadata": {},
     "output_type": "execute_result"
    }
   ],
   "source": [
    "diff=[i for i in pos_prun_nonset if i in pos_prun_exhrel if i not in pos_prun_exhrel_nonset_dom2]\n",
    "jprint(\"Pruning choice that disappears when the domain of quantification contains 2 individuals: \")\n",
    "[jprint(\"Pruning: \",i,\"Meaning: \",exhf(Exh(prej_universal,i))) for i in diff]"
   ]
  }
 ],
 "metadata": {
  "kernelspec": {
   "display_name": "Python 3",
   "language": "python",
   "name": "python3"
  },
  "language_info": {
   "codemirror_mode": {
    "name": "ipython",
    "version": 3
   },
   "file_extension": ".py",
   "mimetype": "text/x-python",
   "name": "python",
   "nbconvert_exporter": "python",
   "pygments_lexer": "ipython3",
   "version": "3.7.4"
  }
 },
 "nbformat": 4,
 "nbformat_minor": 4
}

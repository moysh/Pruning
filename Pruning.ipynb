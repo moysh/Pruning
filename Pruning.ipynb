{
  "nbformat": 4,
  "nbformat_minor": 0,
  "metadata": {
    "kernelspec": {
      "display_name": "Python 3",
      "language": "python",
      "name": "python3"
    },
    "language_info": {
      "codemirror_mode": {
        "name": "ipython",
        "version": 3
      },
      "file_extension": ".py",
      "mimetype": "text/x-python",
      "name": "python",
      "nbconvert_exporter": "python",
      "pygments_lexer": "ipython3",
      "version": "3.7.4"
    },
    "colab": {
      "name": "Pruning.ipynb",
      "provenance": []
    }
  },
  "cells": [
    {
      "cell_type": "markdown",
      "metadata": {
        "id": "3JmtcTueMt70"
      },
      "source": [
        "[![Open In Colab](https://colab.research.google.com/assets/colab-badge.svg)](https://colab.research.google.com/github/moysh/Pruning/blob/main/Pruning.ipynb)"
      ]
    },
    {
      "cell_type": "code",
      "metadata": {
        "id": "-Glm6QaUNoYb",
        "outputId": "edd552d2-d196-4c15-c20a-a18d51f8c9cd",
        "colab": {
          "base_uri": "https://localhost:8080/"
        }
      },
      "source": [
        "# loading pruning_def module\r\n",
        "\r\n",
        "!pip install requests\r\n",
        "\r\n",
        "import requests\r\n",
        "url = 'https://raw.githubusercontent.com/moysh/Pruning/main/pruning_def.py'\r\n",
        "r = requests.get(url)\r\n",
        "\r\n",
        "with open('pruning_def.py', 'w') as f:\r\n",
        "    f.write(r.text)\r\n",
        "\r\n",
        "# now we can import\r\n",
        "from pruning_def import *"
      ],
      "execution_count": 10,
      "outputs": [
        {
          "output_type": "stream",
          "text": [
            "Requirement already satisfied: requests in /usr/local/lib/python3.6/dist-packages (2.23.0)\n",
            "Requirement already satisfied: urllib3!=1.25.0,!=1.25.1,<1.26,>=1.21.1 in /usr/local/lib/python3.6/dist-packages (from requests) (1.24.3)\n",
            "Requirement already satisfied: chardet<4,>=3.0.2 in /usr/local/lib/python3.6/dist-packages (from requests) (3.0.4)\n",
            "Requirement already satisfied: idna<3,>=2.5 in /usr/local/lib/python3.6/dist-packages (from requests) (2.10)\n",
            "Requirement already satisfied: certifi>=2017.4.17 in /usr/local/lib/python3.6/dist-packages (from requests) (2020.12.5)\n"
          ],
          "name": "stdout"
        }
      ]
    },
    {
      "cell_type": "code",
      "metadata": {
        "id": "v0KQvpcULmua",
        "outputId": "a4cdb2ec-4750-494b-cde7-3929281dd548",
        "colab": {
          "base_uri": "https://localhost:8080/"
        }
      },
      "source": [
        "!pip install exh\n",
        "options.ii_on=True\n",
        "from exh.model import options\n",
        "options.dom_quant=3\n",
        "\n",
        "from IPython.core.display import display, HTML\n",
        "from exh.utils import jprint # for fancy displays in Jupyter Notebook"
      ],
      "execution_count": 14,
      "outputs": [
        {
          "output_type": "stream",
          "text": [
            "Requirement already satisfied: exh in /usr/local/lib/python3.6/dist-packages (1.0)\n",
            "Requirement already satisfied: numpy in /usr/local/lib/python3.6/dist-packages (from exh) (1.19.5)\n",
            "Requirement already satisfied: IPython in /usr/local/lib/python3.6/dist-packages (from exh) (5.5.0)\n",
            "Requirement already satisfied: prompt-toolkit<2.0.0,>=1.0.4 in /usr/local/lib/python3.6/dist-packages (from IPython->exh) (1.0.18)\n",
            "Requirement already satisfied: pygments in /usr/local/lib/python3.6/dist-packages (from IPython->exh) (2.6.1)\n",
            "Requirement already satisfied: pexpect; sys_platform != \"win32\" in /usr/local/lib/python3.6/dist-packages (from IPython->exh) (4.8.0)\n",
            "Requirement already satisfied: pickleshare in /usr/local/lib/python3.6/dist-packages (from IPython->exh) (0.7.5)\n",
            "Requirement already satisfied: setuptools>=18.5 in /usr/local/lib/python3.6/dist-packages (from IPython->exh) (51.1.2)\n",
            "Requirement already satisfied: simplegeneric>0.8 in /usr/local/lib/python3.6/dist-packages (from IPython->exh) (0.8.1)\n",
            "Requirement already satisfied: traitlets>=4.2 in /usr/local/lib/python3.6/dist-packages (from IPython->exh) (4.3.3)\n",
            "Requirement already satisfied: decorator in /usr/local/lib/python3.6/dist-packages (from IPython->exh) (4.4.2)\n",
            "Requirement already satisfied: six>=1.9.0 in /usr/local/lib/python3.6/dist-packages (from prompt-toolkit<2.0.0,>=1.0.4->IPython->exh) (1.15.0)\n",
            "Requirement already satisfied: wcwidth in /usr/local/lib/python3.6/dist-packages (from prompt-toolkit<2.0.0,>=1.0.4->IPython->exh) (0.2.5)\n",
            "Requirement already satisfied: ptyprocess>=0.5 in /usr/local/lib/python3.6/dist-packages (from pexpect; sys_platform != \"win32\"->IPython->exh) (0.7.0)\n",
            "Requirement already satisfied: ipython-genutils in /usr/local/lib/python3.6/dist-packages (from traitlets>=4.2->IPython->exh) (0.2.0)\n"
          ],
          "name": "stdout"
        }
      ]
    },
    {
      "cell_type": "code",
      "metadata": {
        "id": "6d9bBtn9Lmul"
      },
      "source": [
        "P=Pred(name=\"P\")\n",
        "P.depends(1)\n",
        "Q=Pred(name=\"Q\")\n",
        "Q.depends(1)\n",
        "R=Pred(name=\"R\")\n",
        "R.depends(1)"
      ],
      "execution_count": 15,
      "outputs": []
    },
    {
      "cell_type": "markdown",
      "metadata": {
        "id": "7aq0epFtLmup"
      },
      "source": [
        "# Relevance"
      ]
    },
    {
      "cell_type": "markdown",
      "metadata": {
        "id": "e44jtCL4Lmus"
      },
      "source": [
        "We'd like to know given any set of relevant propositions what all the propositions it obligatorily renders relevant are.\n",
        "\n",
        "Background assumption: Relevance is closed under Boolean operations (conjunction and negation).\n",
        "\n",
        "The function Cells finds all the cells in the partition induced by a set of relevant alternatives. The function Rel finds all the unions of cells in this partition (i.e., all the propositions made obligatorily relevant). "
      ]
    },
    {
      "cell_type": "code",
      "metadata": {
        "id": "rl1cFTwdLmuw",
        "outputId": "543d9694-ea20-49ab-d15a-a990bc551c2a",
        "colab": {
          "base_uri": "https://localhost:8080/",
          "height": 121
        }
      },
      "source": [
        "Alt=[a|b,a,b,a&b]\n",
        "univ=Universe(fs=Alt)\n",
        "relevant=Alt.copy()\n",
        "jprint(\"Set of alternatives of {0}: \".format(a|b),Alt)\n",
        "jprint(\"Cells in partition induced by this set of alternatives: \",Cells(Alt))\n",
        "jprint(\"Unions of cells in partition induced by this set of alternatives (relevant propositions): \",Rel(Alt))"
      ],
      "execution_count": 16,
      "outputs": [
        {
          "output_type": "display_data",
          "data": {
            "text/html": [
              "Set of alternatives of $a \\lor b$:  [$a \\lor b$, $a$, $b$, $a \\land b$]"
            ],
            "text/plain": [
              "<IPython.core.display.HTML object>"
            ]
          },
          "metadata": {
            "tags": []
          }
        },
        {
          "output_type": "display_data",
          "data": {
            "text/html": [
              "Cells in partition induced by this set of alternatives:  [$\\neg[a \\lor b]$, $a \\land \\neg[b]$, $b \\land \\neg[a]$, $a \\land b$]"
            ],
            "text/plain": [
              "<IPython.core.display.HTML object>"
            ]
          },
          "metadata": {
            "tags": []
          }
        },
        {
          "output_type": "display_data",
          "data": {
            "text/html": [
              "Unions of cells in partition induced by this set of alternatives (relevant propositions):  [$\\neg[a \\lor b]$, $a \\land \\neg[b]$, $b \\land \\neg[a]$, $a \\land b$, $\\neg[a \\lor b] \\lor (a \\land \\neg[b])$, $\\neg[a \\lor b] \\lor (b \\land \\neg[a])$, $\\neg[a \\lor b] \\lor (a \\land b)$, $(a \\land \\neg[b]) \\lor (b \\land \\neg[a])$, $(a \\land \\neg[b]) \\lor (a \\land b)$, $(b \\land \\neg[a]) \\lor (a \\land b)$, $\\neg[a \\lor b] \\lor (a \\land \\neg[b]) \\lor (b \\land \\neg[a])$, $\\neg[a \\lor b] \\lor (a \\land \\neg[b]) \\lor (a \\land b)$, $\\neg[a \\lor b] \\lor (b \\land \\neg[a]) \\lor (a \\land b)$, $(a \\land \\neg[b]) \\lor (b \\land \\neg[a]) \\lor (a \\land b)$, $\\neg[a \\lor b] \\lor (a \\land \\neg[b]) \\lor (b \\land \\neg[a]) \\lor (a \\land b)$]"
            ],
            "text/plain": [
              "<IPython.core.display.HTML object>"
            ]
          },
          "metadata": {
            "tags": []
          }
        }
      ]
    },
    {
      "cell_type": "markdown",
      "metadata": {
        "id": "qS7fXZ50Lmu6"
      },
      "source": [
        "Of course with more alternatives the set of relevant alternatives becomes bigger.\n",
        "Case in point: disjunction in the scope of a universal quantifier."
      ]
    },
    {
      "cell_type": "code",
      "metadata": {
        "id": "a4V-ixFDLmu9",
        "outputId": "15db7ceb-0a32-46ee-ae95-7640c7607105",
        "colab": {
          "base_uri": "https://localhost:8080/",
          "height": 156
        }
      },
      "source": [
        "prej_universal=Ax>P|Q\n",
        "exh_universal=Exh(prej_universal,ii=True)\n",
        "jprint(\"Set of alternatives of {0}: \".format(prej_universal),exh_universal.alts)\n",
        "jprint(\"Cells in partition induced by this set of alternatives: \",Cells(exh_universal.alts))\n",
        "rel_exh_universal=Rel(exh_universal.alts)\n",
        "jprint(\"Number of unions of cells in partition induced by this set of alternatives (relevant propositions): \",len(rel_exh_universal))"
      ],
      "execution_count": 17,
      "outputs": [
        {
          "output_type": "display_data",
          "data": {
            "text/html": [
              "Set of alternatives of $\\forall x, P(x) \\lor Q(x)$:  [$\\forall x, P(x) \\lor Q(x)$, $\\forall x, P(x) \\land Q(x)$, $\\forall x, P(x)$, $\\forall x, Q(x)$, $\\exists x, P(x) \\lor Q(x)$, $\\exists x, P(x) \\land Q(x)$, $\\exists x, P(x)$, $\\exists x, Q(x)$]"
            ],
            "text/plain": [
              "<IPython.core.display.HTML object>"
            ]
          },
          "metadata": {
            "tags": []
          }
        },
        {
          "output_type": "display_data",
          "data": {
            "text/html": [
              "Cells in partition induced by this set of alternatives:  [$\\neg[\\exists x, P(x) \\lor Q(x)]$, $(\\exists x, P(x)) \\land \\neg[\\forall x, P(x) \\lor Q(x)] \\land \\neg[\\exists x, Q(x)]$, $(\\forall x, P(x)) \\land \\neg[\\exists x, Q(x)]$, $(\\exists x, Q(x)) \\land \\neg[\\forall x, P(x) \\lor Q(x)] \\land \\neg[\\exists x, P(x)]$, $(\\exists x, P(x) \\land Q(x)) \\land \\neg[\\forall x, P(x) \\lor Q(x)]$, $(\\exists x, P(x)) \\land (\\exists x, Q(x)) \\land \\neg[\\forall x, P(x) \\lor Q(x)] \\land \\neg[\\exists x, P(x) \\land Q(x)]$, $(\\forall x, P(x) \\lor Q(x)) \\land (\\exists x, P(x)) \\land (\\exists x, Q(x)) \\land \\neg[\\forall x, P(x)] \\land \\neg[\\forall x, Q(x)] \\land \\neg[\\exists x, P(x) \\land Q(x)]$, $(\\forall x, P(x)) \\land (\\exists x, P(x) \\land Q(x)) \\land \\neg[\\forall x, Q(x)]$, $(\\forall x, P(x) \\lor Q(x)) \\land (\\exists x, P(x) \\land Q(x)) \\land \\neg[\\forall x, P(x)] \\land \\neg[\\forall x, Q(x)]$, $(\\forall x, Q(x)) \\land \\neg[\\exists x, P(x)]$, $(\\forall x, Q(x)) \\land (\\exists x, P(x) \\land Q(x)) \\land \\neg[\\forall x, P(x)]$, $\\forall x, P(x) \\land Q(x)$]"
            ],
            "text/plain": [
              "<IPython.core.display.HTML object>"
            ]
          },
          "metadata": {
            "tags": []
          }
        },
        {
          "output_type": "display_data",
          "data": {
            "text/html": [
              "Number of unions of cells in partition induced by this set of alternatives (relevant propositions):  4095"
            ],
            "text/plain": [
              "<IPython.core.display.HTML object>"
            ]
          },
          "metadata": {
            "tags": []
          }
        }
      ]
    },
    {
      "cell_type": "markdown",
      "metadata": {
        "id": "ptw6t02ELmvD"
      },
      "source": [
        "# Pruning"
      ]
    },
    {
      "cell_type": "markdown",
      "metadata": {
        "id": "eNcAmxhfLmvF"
      },
      "source": [
        "Fox and Katzir 2011: Constraining pruning by relevance allows for undesired pruning choices.\n",
        "\n",
        "*Pruning by Relevance*: \n",
        "For any $C \\subseteq ALT$: Exh(p,C) is only licensed if every member of $ALT \\setminus C$ isn't made obligatorily relevant by $C$."
      ]
    },
    {
      "cell_type": "code",
      "metadata": {
        "id": "k3wnn6f3LmvH",
        "outputId": "43c8aed0-f6cf-4be6-aee1-2f7c41580f32",
        "colab": {
          "base_uri": "https://localhost:8080/",
          "height": 69
        }
      },
      "source": [
        "jprint(\"Is subset {0} a licit choice of pruning from {1} given Pruning by Relevance?\".format([a|b,a,b],Alt),PrunRelevance(a|b,Alt,[a|b,a,b]))\n",
        "jprint(\"Is subset {0} a licit choice of pruning from {1} given Pruning by Relevance?\".format([a|b,a],Alt),PrunRelevance(a|b,Alt,[a|b,a]))\n",
        "jprint(\"Is subset {0} a licit choice of pruning from {1} given Pruning by Relevance?\".format([a|b],Alt),PrunRelevance(a|b,Alt,[a|b]))"
      ],
      "execution_count": 18,
      "outputs": [
        {
          "output_type": "display_data",
          "data": {
            "text/html": [
              "Is subset [$a \\lor b$, $a$, $b$] a licit choice of pruning from [$a \\lor b$, $a$, $b$, $a \\land b$] given Pruning by Relevance? False"
            ],
            "text/plain": [
              "<IPython.core.display.HTML object>"
            ]
          },
          "metadata": {
            "tags": []
          }
        },
        {
          "output_type": "display_data",
          "data": {
            "text/html": [
              "Is subset [$a \\lor b$, $a$] a licit choice of pruning from [$a \\lor b$, $a$, $b$, $a \\land b$] given Pruning by Relevance? True"
            ],
            "text/plain": [
              "<IPython.core.display.HTML object>"
            ]
          },
          "metadata": {
            "tags": []
          }
        },
        {
          "output_type": "display_data",
          "data": {
            "text/html": [
              "Is subset [$a \\lor b$] a licit choice of pruning from [$a \\lor b$, $a$, $b$, $a \\land b$] given Pruning by Relevance? True"
            ],
            "text/plain": [
              "<IPython.core.display.HTML object>"
            ]
          },
          "metadata": {
            "tags": []
          }
        }
      ]
    },
    {
      "cell_type": "markdown",
      "metadata": {
        "id": "od58tEY9LmvJ"
      },
      "source": [
        "We'd like to block the second pruning choice above where $b$ is pruned but $a$ is not, because allowing it would predict \"a or b\" to be able to mean \"b and not a\".\n",
        "Fox and Katzir suggest the constraint of Exhaustive Relevance.\n",
        "\n",
        "*Pruning by Exhaustive Relevance*: \n",
        "\n",
        "For any $C \\subseteq ALT$: Exh(p,C) is only licensed if for every $A \\in ALT \\setminus C$: Exh(A,C) isn't made obligatorily relevant by $C$."
      ]
    },
    {
      "cell_type": "code",
      "metadata": {
        "id": "4LOTolzLLmvO",
        "outputId": "94f83a07-b35b-4928-d71d-ff1c69313b8c",
        "colab": {
          "base_uri": "https://localhost:8080/",
          "height": 69
        }
      },
      "source": [
        "jprint(\"Is subset {0} a licit choice of pruning from {1} given Pruning by Exhaustive Relevance?\".format([a|b,a,b],Alt),PrunExhaustiveRelevance(a|b,Alt,[a|b,a,b]))\n",
        "jprint(\"Is subset {0} a licit choice of pruning from {1} given Pruning by Exhaustive Relevance?\".format([a|b,a],Alt),PrunExhaustiveRelevance(a|b,Alt,[a|b,a]))\n",
        "jprint(\"Is subset {0} a licit choice of pruning from {1} given Pruning by Exhaustive Relevance?\".format([a|b],Alt),PrunExhaustiveRelevance(a|b,Alt,[a|b]))"
      ],
      "execution_count": 19,
      "outputs": [
        {
          "output_type": "display_data",
          "data": {
            "text/html": [
              "Is subset [$a \\lor b$, $a$, $b$] a licit choice of pruning from [$a \\lor b$, $a$, $b$, $a \\land b$] given Pruning by Exhaustive Relevance? False"
            ],
            "text/plain": [
              "<IPython.core.display.HTML object>"
            ]
          },
          "metadata": {
            "tags": []
          }
        },
        {
          "output_type": "display_data",
          "data": {
            "text/html": [
              "Is subset [$a \\lor b$, $a$] a licit choice of pruning from [$a \\lor b$, $a$, $b$, $a \\land b$] given Pruning by Exhaustive Relevance? False"
            ],
            "text/plain": [
              "<IPython.core.display.HTML object>"
            ]
          },
          "metadata": {
            "tags": []
          }
        },
        {
          "output_type": "display_data",
          "data": {
            "text/html": [
              "Is subset [$a \\lor b$] a licit choice of pruning from [$a \\lor b$, $a$, $b$, $a \\land b$] given Pruning by Exhaustive Relevance? True"
            ],
            "text/plain": [
              "<IPython.core.display.HTML object>"
            ]
          },
          "metadata": {
            "tags": []
          }
        }
      ]
    },
    {
      "cell_type": "markdown",
      "metadata": {
        "id": "HGiZGVESLmvS"
      },
      "source": [
        "One may consider other constraints on pruning which would give the same results in this case. We suggest the following:\n",
        "    \n",
        "*Pruning by Non-Settling* (or: don't judge anyone in their absence): \n",
        "\n",
        "For any $C \\subseteq ALT$: $Exh(p,C)$ is only licensed if for every $A \\in ALT \\setminus C$: $Exh(p,C) \\not\\Rightarrow A$ and $Exh(p,C) \\not\\Rightarrow \\neg A$."
      ]
    },
    {
      "cell_type": "code",
      "metadata": {
        "id": "g4EiG_oDLmvU",
        "outputId": "662d9754-c8ed-44c2-9f6b-68b259528c86",
        "colab": {
          "base_uri": "https://localhost:8080/",
          "height": 69
        }
      },
      "source": [
        "jprint(\"Is subset {0} a licit choice of pruning from {1} given Pruning by Non-Settling?\".format([a|b,a,b],Alt),PrunSettling(a|b,Alt,[a|b,a,b]))\n",
        "jprint(\"Is subset {0} a licit choice of pruning from {1} given Pruning by Non-Settling?\".format([a|b,a],Alt),PrunSettling(a|b,Alt,[a|b,a]))\n",
        "jprint(\"Is subset {0} a licit choice of pruning from {1} given Pruning by Non-Settling?\".format([a|b],Alt),PrunSettling(a|b,Alt,[a|b]))"
      ],
      "execution_count": 20,
      "outputs": [
        {
          "output_type": "display_data",
          "data": {
            "text/html": [
              "Is subset [$a \\lor b$, $a$, $b$] a licit choice of pruning from [$a \\lor b$, $a$, $b$, $a \\land b$] given Pruning by Non-Settling? False"
            ],
            "text/plain": [
              "<IPython.core.display.HTML object>"
            ]
          },
          "metadata": {
            "tags": []
          }
        },
        {
          "output_type": "display_data",
          "data": {
            "text/html": [
              "Is subset [$a \\lor b$, $a$] a licit choice of pruning from [$a \\lor b$, $a$, $b$, $a \\land b$] given Pruning by Non-Settling? False"
            ],
            "text/plain": [
              "<IPython.core.display.HTML object>"
            ]
          },
          "metadata": {
            "tags": []
          }
        },
        {
          "output_type": "display_data",
          "data": {
            "text/html": [
              "Is subset [$a \\lor b$] a licit choice of pruning from [$a \\lor b$, $a$, $b$, $a \\land b$] given Pruning by Non-Settling? True"
            ],
            "text/plain": [
              "<IPython.core.display.HTML object>"
            ]
          },
          "metadata": {
            "tags": []
          }
        }
      ]
    },
    {
      "cell_type": "markdown",
      "metadata": {
        "id": "MZjOCIQOLmvW"
      },
      "source": [
        "More generally, it would be helpful to know, for any prejacent and set of alternatives, what choices of pruning are possible (and as a result what meanings a sentence can have) given a theory of pruning. The function PossiblePrunings takes a proposition $p$, a set of alternatives $C$, and a constraint on pruning $con$, and returns all the pruning choices $C' \\subseteq C$ such that $Exh(p,C')$ is licensed by $con$. "
      ]
    },
    {
      "cell_type": "code",
      "metadata": {
        "id": "sEKeKj_MLmvY",
        "outputId": "8b37deec-16e9-4d62-977e-cd771b4be496",
        "colab": {
          "base_uri": "https://localhost:8080/",
          "height": 141
        }
      },
      "source": [
        "jprint(\"Possible prunings and exhaustified meanings for $a \\lor b$ given Pruning by Relevance: \")\n",
        "[jprint(\"Pruning: \",i,\"Meaning: \",exhf(Exh(a|b,i)))for i in PossiblePrunings(a|b,Alt,PrunRelevance)]"
      ],
      "execution_count": 21,
      "outputs": [
        {
          "output_type": "display_data",
          "data": {
            "text/html": [
              "Possible prunings and exhaustified meanings for $a \\lor b$ given Pruning by Relevance: "
            ],
            "text/plain": [
              "<IPython.core.display.HTML object>"
            ]
          },
          "metadata": {
            "tags": []
          }
        },
        {
          "output_type": "display_data",
          "data": {
            "text/html": [
              "Pruning:  [$a \\lor b$] Meaning:  $a \\lor b$"
            ],
            "text/plain": [
              "<IPython.core.display.HTML object>"
            ]
          },
          "metadata": {
            "tags": []
          }
        },
        {
          "output_type": "display_data",
          "data": {
            "text/html": [
              "Pruning:  [$a \\lor b$, $a$] Meaning:  $(a \\lor b) \\land \\neg[a]$"
            ],
            "text/plain": [
              "<IPython.core.display.HTML object>"
            ]
          },
          "metadata": {
            "tags": []
          }
        },
        {
          "output_type": "display_data",
          "data": {
            "text/html": [
              "Pruning:  [$a \\lor b$, $b$] Meaning:  $(a \\lor b) \\land \\neg[b]$"
            ],
            "text/plain": [
              "<IPython.core.display.HTML object>"
            ]
          },
          "metadata": {
            "tags": []
          }
        },
        {
          "output_type": "display_data",
          "data": {
            "text/html": [
              "Pruning:  [$a \\lor b$, $a \\land b$] Meaning:  $(a \\lor b) \\land \\neg[a \\land b]$"
            ],
            "text/plain": [
              "<IPython.core.display.HTML object>"
            ]
          },
          "metadata": {
            "tags": []
          }
        },
        {
          "output_type": "display_data",
          "data": {
            "text/html": [
              "Pruning:  [$a \\lor b$, $a$, $b$, $a \\land b$] Meaning:  $(a \\lor b) \\land \\neg[a \\land b]$"
            ],
            "text/plain": [
              "<IPython.core.display.HTML object>"
            ]
          },
          "metadata": {
            "tags": []
          }
        },
        {
          "output_type": "execute_result",
          "data": {
            "text/plain": [
              "[None, None, None, None, None]"
            ]
          },
          "metadata": {
            "tags": []
          },
          "execution_count": 21
        }
      ]
    },
    {
      "cell_type": "code",
      "metadata": {
        "id": "--LUrEzXLmvc",
        "outputId": "dc06592a-a9cd-4172-ddf4-411f7f9caf65",
        "colab": {
          "base_uri": "https://localhost:8080/",
          "height": 106
        }
      },
      "source": [
        "jprint(\"Possible prunings for $a \\lor b$ given Pruning by Exhaustive Relevance: \")\n",
        "[jprint(\"Pruning: \",i,\"Meaning: \",exhf(Exh(a|b,i))) for i in PossiblePrunings(a|b,Alt,PrunExhaustiveRelevance)]"
      ],
      "execution_count": 22,
      "outputs": [
        {
          "output_type": "display_data",
          "data": {
            "text/html": [
              "Possible prunings for $a \\lor b$ given Pruning by Exhaustive Relevance: "
            ],
            "text/plain": [
              "<IPython.core.display.HTML object>"
            ]
          },
          "metadata": {
            "tags": []
          }
        },
        {
          "output_type": "display_data",
          "data": {
            "text/html": [
              "Pruning:  [$a \\lor b$] Meaning:  $a \\lor b$"
            ],
            "text/plain": [
              "<IPython.core.display.HTML object>"
            ]
          },
          "metadata": {
            "tags": []
          }
        },
        {
          "output_type": "display_data",
          "data": {
            "text/html": [
              "Pruning:  [$a \\lor b$, $a \\land b$] Meaning:  $(a \\lor b) \\land \\neg[a \\land b]$"
            ],
            "text/plain": [
              "<IPython.core.display.HTML object>"
            ]
          },
          "metadata": {
            "tags": []
          }
        },
        {
          "output_type": "display_data",
          "data": {
            "text/html": [
              "Pruning:  [$a \\lor b$, $a$, $b$, $a \\land b$] Meaning:  $(a \\lor b) \\land \\neg[a \\land b]$"
            ],
            "text/plain": [
              "<IPython.core.display.HTML object>"
            ]
          },
          "metadata": {
            "tags": []
          }
        },
        {
          "output_type": "execute_result",
          "data": {
            "text/plain": [
              "[None, None, None]"
            ]
          },
          "metadata": {
            "tags": []
          },
          "execution_count": 22
        }
      ]
    },
    {
      "cell_type": "code",
      "metadata": {
        "id": "b28gNEcALmvd",
        "outputId": "93a74eea-d584-4fac-cc48-cd137b6b64ac",
        "colab": {
          "base_uri": "https://localhost:8080/",
          "height": 106
        }
      },
      "source": [
        "jprint(\"Possible prunings for $a \\lor b$ given Pruning by Non-Settling: \")\n",
        "[jprint(\"Pruning: \",i,\"Meaning: \",exhf(Exh(a|b,i))) for i in PossiblePrunings(a|b,Alt,PrunSettling)]"
      ],
      "execution_count": 23,
      "outputs": [
        {
          "output_type": "display_data",
          "data": {
            "text/html": [
              "Possible prunings for $a \\lor b$ given Pruning by Non-Settling: "
            ],
            "text/plain": [
              "<IPython.core.display.HTML object>"
            ]
          },
          "metadata": {
            "tags": []
          }
        },
        {
          "output_type": "display_data",
          "data": {
            "text/html": [
              "Pruning:  [$a \\lor b$] Meaning:  $a \\lor b$"
            ],
            "text/plain": [
              "<IPython.core.display.HTML object>"
            ]
          },
          "metadata": {
            "tags": []
          }
        },
        {
          "output_type": "display_data",
          "data": {
            "text/html": [
              "Pruning:  [$a \\lor b$, $a \\land b$] Meaning:  $(a \\lor b) \\land \\neg[a \\land b]$"
            ],
            "text/plain": [
              "<IPython.core.display.HTML object>"
            ]
          },
          "metadata": {
            "tags": []
          }
        },
        {
          "output_type": "display_data",
          "data": {
            "text/html": [
              "Pruning:  [$a \\lor b$, $a$, $b$, $a \\land b$] Meaning:  $(a \\lor b) \\land \\neg[a \\land b]$"
            ],
            "text/plain": [
              "<IPython.core.display.HTML object>"
            ]
          },
          "metadata": {
            "tags": []
          }
        },
        {
          "output_type": "execute_result",
          "data": {
            "text/plain": [
              "[None, None, None]"
            ]
          },
          "metadata": {
            "tags": []
          },
          "execution_count": 23
        }
      ]
    },
    {
      "cell_type": "markdown",
      "metadata": {
        "id": "26nYRI5iLmvf"
      },
      "source": [
        "We can see that in this case Exhaustive Relevance and Non-settling have the same (correct) predictions. With disjunction in the scope of a universal quantifier things change, and their predictions differ.\n",
        "\n",
        "One can see in the following table (which lists all choices that are licit by at least one of these two constraints) that they are logically independent.\n",
        "\n",
        "[Warning: takes a long time to compile (because of exhaustive relevance).]"
      ]
    },
    {
      "cell_type": "code",
      "metadata": {
        "id": "fhHYtRNBLmvi",
        "outputId": "1817714b-720a-44b1-eff7-cd53d6f2b11a",
        "colab": {
          "base_uri": "https://localhost:8080/"
        }
      },
      "source": [
        "# pos_prun_rel=PossiblePrunings(prej_universal,exh_universal.alts,PrunRelevance)\n",
        "pos_prun_exhrel=PossiblePrunings(prej_universal,exh_universal.alts,PrunExhaustiveRelevance)\n",
        "pos_prun_nonset=PossiblePrunings(prej_universal,exh_universal.alts,PrunSettling)\n",
        "\n",
        "any_prun_universal=[i for i in ps(exh_universal.alts) if i in pos_prun_exhrel or i in pos_prun_nonset]\n",
        "any_prun_universal_meaning=[exhf(Exh(prej_universal,i)) for i in any_prun_universal]\n",
        "\n",
        "val_prun_exhrel=[i in pos_prun_exhrel for i in any_prun_universal]\n",
        "val_prun_nonset=[i in pos_prun_nonset for i in any_prun_universal]\n",
        "\n",
        "from prettytable import PrettyTable\n",
        "t = PrettyTable()\n",
        "t.add_column('Pruning choice',any_prun_universal)\n",
        "t.add_column('Meaning',any_prun_universal_meaning)\n",
        "t.add_column('Allowed by Exhaustive Relevance?',val_prun_exhrel)\n",
        "t.add_column('Allowed by Non-Settling?',val_prun_nonset)\n",
        "t._max_width = {\"Pruning choice\" : 25,\"Meaning\" : 25}\n",
        "print(t)"
      ],
      "execution_count": 24,
      "outputs": [
        {
          "output_type": "stream",
          "text": [
            "+---------------------------+---------------------------+----------------------------------+--------------------------+\n",
            "|       Pruning choice      |          Meaning          | Allowed by Exhaustive Relevance? | Allowed by Non-Settling? |\n",
            "+---------------------------+---------------------------+----------------------------------+--------------------------+\n",
            "|   [$\\forall x, P(x) \\lor  |   $\\forall x, P(x) \\lor   |               True               |          False           |\n",
            "|           Q(x)$]          |           Q(x)$           |                                  |                          |\n",
            "|   [$\\forall x, P(x) \\lor  |   $(\\forall x, P(x) \\lor  |               True               |          False           |\n",
            "|  Q(x)$, $\\forall x, P(x)  |  Q(x)) \\land \\neg[\\forall |                                  |                          |\n",
            "|        \\land Q(x)$]       |    x, P(x) \\land Q(x)]$   |                                  |                          |\n",
            "|   [$\\forall x, P(x) \\lor  |   $(\\forall x, P(x) \\lor  |               True               |          False           |\n",
            "| Q(x)$, $\\forall x, P(x)$] |  Q(x)) \\land \\neg[\\forall |                                  |                          |\n",
            "|                           |         x, P(x)]$         |                                  |                          |\n",
            "|   [$\\forall x, P(x) \\lor  |   $(\\forall x, P(x) \\lor  |               True               |          False           |\n",
            "| Q(x)$, $\\forall x, Q(x)$] |  Q(x)) \\land \\neg[\\forall |                                  |                          |\n",
            "|                           |         x, Q(x)]$         |                                  |                          |\n",
            "|   [$\\forall x, P(x) \\lor  |   $\\forall x, P(x) \\lor   |               True               |           True           |\n",
            "|  Q(x)$, $\\exists x, P(x)  |           Q(x)$           |                                  |                          |\n",
            "|        \\lor Q(x)$]        |                           |                                  |                          |\n",
            "|   [$\\forall x, P(x) \\lor  |   $(\\forall x, P(x) \\lor  |               True               |          False           |\n",
            "|  Q(x)$, $\\exists x, P(x)  |  Q(x)) \\land \\neg[\\exists |                                  |                          |\n",
            "|        \\land Q(x)$]       |    x, P(x) \\land Q(x)]$   |                                  |                          |\n",
            "|   [$\\forall x, P(x) \\lor  |   $(\\forall x, P(x) \\lor  |               True               |          False           |\n",
            "|  Q(x)$, $\\forall x, P(x)  |  Q(x)) \\land \\neg[\\forall |                                  |                          |\n",
            "|  \\land Q(x)$, $\\forall x, |         x, P(x)]$         |                                  |                          |\n",
            "|           P(x)$]          |                           |                                  |                          |\n",
            "|   [$\\forall x, P(x) \\lor  |   $(\\forall x, P(x) \\lor  |               True               |          False           |\n",
            "|  Q(x)$, $\\forall x, P(x)  |  Q(x)) \\land \\neg[\\forall |                                  |                          |\n",
            "|  \\land Q(x)$, $\\forall x, |         x, Q(x)]$         |                                  |                          |\n",
            "|           Q(x)$]          |                           |                                  |                          |\n",
            "|   [$\\forall x, P(x) \\lor  |   $(\\forall x, P(x) \\lor  |               True               |           True           |\n",
            "|  Q(x)$, $\\forall x, P(x)  |  Q(x)) \\land \\neg[\\forall |                                  |                          |\n",
            "|  \\land Q(x)$, $\\exists x, |    x, P(x) \\land Q(x)]$   |                                  |                          |\n",
            "|      P(x) \\lor Q(x)$]     |                           |                                  |                          |\n",
            "|   [$\\forall x, P(x) \\lor  |   $(\\forall x, P(x) \\lor  |               True               |          False           |\n",
            "|  Q(x)$, $\\forall x, P(x)  |  Q(x)) \\land \\neg[\\exists |                                  |                          |\n",
            "|  \\land Q(x)$, $\\exists x, |    x, P(x) \\land Q(x)]$   |                                  |                          |\n",
            "|     P(x) \\land Q(x)$]     |                           |                                  |                          |\n",
            "|   [$\\forall x, P(x) \\lor  |   $(\\forall x, P(x) \\lor  |               True               |          False           |\n",
            "| Q(x)$, $\\forall x, P(x)$, |  Q(x)) \\land \\neg[\\forall |                                  |                          |\n",
            "|   $\\exists x, P(x) \\lor   |         x, P(x)]$         |                                  |                          |\n",
            "|           Q(x)$]          |                           |                                  |                          |\n",
            "|   [$\\forall x, P(x) \\lor  |   $(\\forall x, P(x) \\lor  |               True               |          False           |\n",
            "| Q(x)$, $\\forall x, P(x)$, |  Q(x)) \\land \\neg[\\forall |                                  |                          |\n",
            "|   $\\exists x, P(x) \\land  |       x, P(x)] \\land      |                                  |                          |\n",
            "|           Q(x)$]          |    \\neg[\\exists x, P(x)   |                                  |                          |\n",
            "|                           |        \\land Q(x)]$       |                                  |                          |\n",
            "|   [$\\forall x, P(x) \\lor  |  $(\\forall x, P(x)) \\land |               True               |          False           |\n",
            "| Q(x)$, $\\forall x, P(x)$, |     (\\exists x, Q(x))$    |                                  |                          |\n",
            "|     $\\exists x, Q(x)$]    |                           |                                  |                          |\n",
            "|   [$\\forall x, P(x) \\lor  |   $(\\forall x, P(x) \\lor  |               True               |          False           |\n",
            "| Q(x)$, $\\forall x, Q(x)$, |  Q(x)) \\land \\neg[\\forall |                                  |                          |\n",
            "|   $\\exists x, P(x) \\lor   |         x, Q(x)]$         |                                  |                          |\n",
            "|           Q(x)$]          |                           |                                  |                          |\n",
            "|   [$\\forall x, P(x) \\lor  |   $(\\forall x, P(x) \\lor  |               True               |          False           |\n",
            "| Q(x)$, $\\forall x, Q(x)$, |  Q(x)) \\land \\neg[\\forall |                                  |                          |\n",
            "|   $\\exists x, P(x) \\land  |       x, Q(x)] \\land      |                                  |                          |\n",
            "|           Q(x)$]          |    \\neg[\\exists x, P(x)   |                                  |                          |\n",
            "|                           |        \\land Q(x)]$       |                                  |                          |\n",
            "|   [$\\forall x, P(x) \\lor  |  $(\\forall x, Q(x)) \\land |               True               |          False           |\n",
            "| Q(x)$, $\\forall x, Q(x)$, |     (\\exists x, P(x))$    |                                  |                          |\n",
            "|     $\\exists x, P(x)$]    |                           |                                  |                          |\n",
            "|   [$\\forall x, P(x) \\lor  |   $(\\forall x, P(x) \\lor  |               True               |          False           |\n",
            "|  Q(x)$, $\\exists x, P(x)  |  Q(x)) \\land \\neg[\\exists |                                  |                          |\n",
            "|  \\lor Q(x)$, $\\exists x,  |    x, P(x) \\land Q(x)]$   |                                  |                          |\n",
            "|     P(x) \\land Q(x)$]     |                           |                                  |                          |\n",
            "|   [$\\forall x, P(x) \\lor  |   $(\\forall x, P(x) \\lor  |               True               |          False           |\n",
            "|  Q(x)$, $\\forall x, P(x)  |  Q(x)) \\land \\neg[\\forall |                                  |                          |\n",
            "|  \\land Q(x)$, $\\forall x, |       x, P(x)] \\land      |                                  |                          |\n",
            "| P(x)$, $\\forall x, Q(x)$] |   \\neg[\\forall x, Q(x)]$  |                                  |                          |\n",
            "|   [$\\forall x, P(x) \\lor  |   $(\\forall x, P(x) \\lor  |               True               |          False           |\n",
            "|  Q(x)$, $\\forall x, P(x)  |  Q(x)) \\land \\neg[\\forall |                                  |                          |\n",
            "|  \\land Q(x)$, $\\forall x, |         x, P(x)]$         |                                  |                          |\n",
            "|  P(x)$, $\\exists x, P(x)  |                           |                                  |                          |\n",
            "|        \\lor Q(x)$]        |                           |                                  |                          |\n",
            "|   [$\\forall x, P(x) \\lor  |   $(\\forall x, P(x) \\lor  |               True               |          False           |\n",
            "|  Q(x)$, $\\forall x, P(x)  |  Q(x)) \\land \\neg[\\forall |                                  |                          |\n",
            "|  \\land Q(x)$, $\\forall x, |       x, P(x)] \\land      |                                  |                          |\n",
            "|  P(x)$, $\\exists x, P(x)  |    \\neg[\\exists x, P(x)   |                                  |                          |\n",
            "|        \\land Q(x)$]       |        \\land Q(x)]$       |                                  |                          |\n",
            "|   [$\\forall x, P(x) \\lor  |  $(\\forall x, P(x)) \\land |               True               |          False           |\n",
            "|  Q(x)$, $\\forall x, P(x)  |  (\\exists x, Q(x)) \\land  |                                  |                          |\n",
            "|  \\land Q(x)$, $\\forall x, |    \\neg[\\forall x, P(x)   |                                  |                          |\n",
            "| P(x)$, $\\exists x, Q(x)$] |        \\land Q(x)]$       |                                  |                          |\n",
            "|   [$\\forall x, P(x) \\lor  |   $(\\forall x, P(x) \\lor  |               True               |          False           |\n",
            "|  Q(x)$, $\\forall x, P(x)  |  Q(x)) \\land \\neg[\\forall |                                  |                          |\n",
            "|  \\land Q(x)$, $\\forall x, |         x, Q(x)]$         |                                  |                          |\n",
            "|  Q(x)$, $\\exists x, P(x)  |                           |                                  |                          |\n",
            "|        \\lor Q(x)$]        |                           |                                  |                          |\n",
            "|   [$\\forall x, P(x) \\lor  |   $(\\forall x, P(x) \\lor  |               True               |          False           |\n",
            "|  Q(x)$, $\\forall x, P(x)  |  Q(x)) \\land \\neg[\\forall |                                  |                          |\n",
            "|  \\land Q(x)$, $\\forall x, |       x, Q(x)] \\land      |                                  |                          |\n",
            "|  Q(x)$, $\\exists x, P(x)  |    \\neg[\\exists x, P(x)   |                                  |                          |\n",
            "|        \\land Q(x)$]       |        \\land Q(x)]$       |                                  |                          |\n",
            "|   [$\\forall x, P(x) \\lor  |  $(\\forall x, Q(x)) \\land |               True               |          False           |\n",
            "|  Q(x)$, $\\forall x, P(x)  |  (\\exists x, P(x)) \\land  |                                  |                          |\n",
            "|  \\land Q(x)$, $\\forall x, |    \\neg[\\forall x, P(x)   |                                  |                          |\n",
            "| Q(x)$, $\\exists x, P(x)$] |        \\land Q(x)]$       |                                  |                          |\n",
            "|   [$\\forall x, P(x) \\lor  |   $(\\forall x, P(x) \\lor  |               True               |           True           |\n",
            "|  Q(x)$, $\\forall x, P(x)  |  Q(x)) \\land \\neg[\\exists |                                  |                          |\n",
            "|  \\land Q(x)$, $\\exists x, |    x, P(x) \\land Q(x)]$   |                                  |                          |\n",
            "| P(x) \\lor Q(x)$, $\\exists |                           |                                  |                          |\n",
            "|    x, P(x) \\land Q(x)$]   |                           |                                  |                          |\n",
            "|   [$\\forall x, P(x) \\lor  |   $(\\forall x, P(x) \\lor  |               True               |          False           |\n",
            "| Q(x)$, $\\forall x, P(x)$, |  Q(x)) \\land \\neg[\\forall |                                  |                          |\n",
            "|   $\\exists x, P(x) \\lor   |       x, P(x)] \\land      |                                  |                          |\n",
            "|  Q(x)$, $\\exists x, P(x)  |    \\neg[\\exists x, P(x)   |                                  |                          |\n",
            "|        \\land Q(x)$]       |        \\land Q(x)]$       |                                  |                          |\n",
            "|   [$\\forall x, P(x) \\lor  |   $(\\forall x, P(x) \\lor  |               True               |          False           |\n",
            "| Q(x)$, $\\forall x, P(x)$, |  Q(x)) \\land \\neg[\\exists |                                  |                          |\n",
            "|   $\\exists x, P(x) \\land  |    x, P(x) \\land Q(x)]$   |                                  |                          |\n",
            "| Q(x)$, $\\exists x, Q(x)$] |                           |                                  |                          |\n",
            "|   [$\\forall x, P(x) \\lor  |   $(\\forall x, P(x) \\lor  |               True               |          False           |\n",
            "| Q(x)$, $\\forall x, Q(x)$, |  Q(x)) \\land \\neg[\\forall |                                  |                          |\n",
            "|   $\\exists x, P(x) \\lor   |       x, Q(x)] \\land      |                                  |                          |\n",
            "|  Q(x)$, $\\exists x, P(x)  |    \\neg[\\exists x, P(x)   |                                  |                          |\n",
            "|        \\land Q(x)$]       |        \\land Q(x)]$       |                                  |                          |\n",
            "|   [$\\forall x, P(x) \\lor  |   $(\\forall x, P(x) \\lor  |               True               |          False           |\n",
            "| Q(x)$, $\\forall x, Q(x)$, |  Q(x)) \\land \\neg[\\exists |                                  |                          |\n",
            "|   $\\exists x, P(x) \\land  |    x, P(x) \\land Q(x)]$   |                                  |                          |\n",
            "| Q(x)$, $\\exists x, P(x)$] |                           |                                  |                          |\n",
            "|   [$\\forall x, P(x) \\lor  |   $(\\forall x, P(x) \\lor  |              False               |           True           |\n",
            "|  Q(x)$, $\\exists x, P(x)  |  Q(x)) \\land (\\exists x,  |                                  |                          |\n",
            "|  \\lor Q(x)$, $\\exists x,  |  P(x)) \\land (\\exists x,  |                                  |                          |\n",
            "| P(x)$, $\\exists x, Q(x)$] |           Q(x))$          |                                  |                          |\n",
            "|   [$\\forall x, P(x) \\lor  |   $(\\forall x, P(x) \\lor  |               True               |          False           |\n",
            "|  Q(x)$, $\\forall x, P(x)  |  Q(x)) \\land \\neg[\\forall |                                  |                          |\n",
            "|  \\land Q(x)$, $\\forall x, |       x, P(x)] \\land      |                                  |                          |\n",
            "| P(x)$, $\\forall x, Q(x)$, |   \\neg[\\forall x, Q(x)]$  |                                  |                          |\n",
            "|   $\\exists x, P(x) \\lor   |                           |                                  |                          |\n",
            "|           Q(x)$]          |                           |                                  |                          |\n",
            "|   [$\\forall x, P(x) \\lor  |   $(\\forall x, P(x) \\lor  |               True               |          False           |\n",
            "|  Q(x)$, $\\forall x, P(x)  |  Q(x)) \\land \\neg[\\forall |                                  |                          |\n",
            "|  \\land Q(x)$, $\\forall x, |       x, P(x)] \\land      |                                  |                          |\n",
            "| P(x)$, $\\forall x, Q(x)$, |   \\neg[\\forall x, Q(x)]   |                                  |                          |\n",
            "|   $\\exists x, P(x) \\land  |   \\land \\neg[\\exists x,   |                                  |                          |\n",
            "|           Q(x)$]          |     P(x) \\land Q(x)]$     |                                  |                          |\n",
            "|   [$\\forall x, P(x) \\lor  |  $(\\forall x, Q(x)) \\land |               True               |          False           |\n",
            "|  Q(x)$, $\\forall x, P(x)  |  (\\exists x, P(x)) \\land  |                                  |                          |\n",
            "|  \\land Q(x)$, $\\forall x, |   \\neg[\\forall x, P(x)]$  |                                  |                          |\n",
            "| P(x)$, $\\forall x, Q(x)$, |                           |                                  |                          |\n",
            "|     $\\exists x, P(x)$]    |                           |                                  |                          |\n",
            "|   [$\\forall x, P(x) \\lor  |  $(\\forall x, P(x)) \\land |               True               |          False           |\n",
            "|  Q(x)$, $\\forall x, P(x)  |  (\\exists x, Q(x)) \\land  |                                  |                          |\n",
            "|  \\land Q(x)$, $\\forall x, |   \\neg[\\forall x, Q(x)]$  |                                  |                          |\n",
            "| P(x)$, $\\forall x, Q(x)$, |                           |                                  |                          |\n",
            "|     $\\exists x, Q(x)$]    |                           |                                  |                          |\n",
            "|   [$\\forall x, P(x) \\lor  |   $(\\forall x, P(x) \\lor  |               True               |          False           |\n",
            "|  Q(x)$, $\\forall x, P(x)  |  Q(x)) \\land \\neg[\\forall |                                  |                          |\n",
            "|  \\land Q(x)$, $\\forall x, |       x, P(x)] \\land      |                                  |                          |\n",
            "|  P(x)$, $\\exists x, P(x)  |    \\neg[\\exists x, P(x)   |                                  |                          |\n",
            "|  \\lor Q(x)$, $\\exists x,  |        \\land Q(x)]$       |                                  |                          |\n",
            "|     P(x) \\land Q(x)$]     |                           |                                  |                          |\n",
            "|   [$\\forall x, P(x) \\lor  |   $(\\forall x, P(x) \\lor  |               True               |          False           |\n",
            "|  Q(x)$, $\\forall x, P(x)  |  Q(x)) \\land \\neg[\\exists |                                  |                          |\n",
            "|  \\land Q(x)$, $\\forall x, |    x, P(x) \\land Q(x)]$   |                                  |                          |\n",
            "|  P(x)$, $\\exists x, P(x)  |                           |                                  |                          |\n",
            "|  \\land Q(x)$, $\\exists x, |                           |                                  |                          |\n",
            "|           Q(x)$]          |                           |                                  |                          |\n",
            "|   [$\\forall x, P(x) \\lor  |   $(\\forall x, P(x) \\lor  |               True               |          False           |\n",
            "|  Q(x)$, $\\forall x, P(x)  |  Q(x)) \\land \\neg[\\forall |                                  |                          |\n",
            "|  \\land Q(x)$, $\\forall x, |       x, Q(x)] \\land      |                                  |                          |\n",
            "|  Q(x)$, $\\exists x, P(x)  |    \\neg[\\exists x, P(x)   |                                  |                          |\n",
            "|  \\lor Q(x)$, $\\exists x,  |        \\land Q(x)]$       |                                  |                          |\n",
            "|     P(x) \\land Q(x)$]     |                           |                                  |                          |\n",
            "|   [$\\forall x, P(x) \\lor  |   $(\\forall x, P(x) \\lor  |               True               |          False           |\n",
            "|  Q(x)$, $\\forall x, P(x)  |  Q(x)) \\land \\neg[\\exists |                                  |                          |\n",
            "|  \\land Q(x)$, $\\forall x, |    x, P(x) \\land Q(x)]$   |                                  |                          |\n",
            "|  Q(x)$, $\\exists x, P(x)  |                           |                                  |                          |\n",
            "|  \\land Q(x)$, $\\exists x, |                           |                                  |                          |\n",
            "|           P(x)$]          |                           |                                  |                          |\n",
            "|   [$\\forall x, P(x) \\lor  |   $(\\forall x, P(x) \\lor  |              False               |           True           |\n",
            "|  Q(x)$, $\\forall x, P(x)  |  Q(x)) \\land (\\exists x,  |                                  |                          |\n",
            "|  \\land Q(x)$, $\\exists x, |  P(x)) \\land (\\exists x,  |                                  |                          |\n",
            "| P(x) \\lor Q(x)$, $\\exists |  Q(x)) \\land \\neg[\\forall |                                  |                          |\n",
            "|   x, P(x)$, $\\exists x,   |    x, P(x) \\land Q(x)]$   |                                  |                          |\n",
            "|           Q(x)$]          |                           |                                  |                          |\n",
            "|   [$\\forall x, P(x) \\lor  |   $(\\forall x, P(x) \\lor  |               True               |          False           |\n",
            "|  Q(x)$, $\\forall x, P(x)  |  Q(x)) \\land \\neg[\\forall |                                  |                          |\n",
            "|  \\land Q(x)$, $\\forall x, |       x, P(x)] \\land      |                                  |                          |\n",
            "| P(x)$, $\\forall x, Q(x)$, |   \\neg[\\forall x, Q(x)]   |                                  |                          |\n",
            "|   $\\exists x, P(x) \\lor   |   \\land \\neg[\\exists x,   |                                  |                          |\n",
            "|  Q(x)$, $\\exists x, P(x)  |     P(x) \\land Q(x)]$     |                                  |                          |\n",
            "|        \\land Q(x)$]       |                           |                                  |                          |\n",
            "|   [$\\forall x, P(x) \\lor  |   $(\\forall x, P(x) \\lor  |               True               |          False           |\n",
            "|  Q(x)$, $\\forall x, P(x)  |  Q(x)) \\land \\neg[\\forall |                                  |                          |\n",
            "|  \\land Q(x)$, $\\forall x, |       x, P(x)] \\land      |                                  |                          |\n",
            "| P(x)$, $\\forall x, Q(x)$, |    \\neg[\\exists x, P(x)   |                                  |                          |\n",
            "|   $\\exists x, P(x) \\land  |        \\land Q(x)]$       |                                  |                          |\n",
            "| Q(x)$, $\\exists x, P(x)$] |                           |                                  |                          |\n",
            "|   [$\\forall x, P(x) \\lor  |   $(\\forall x, P(x) \\lor  |               True               |          False           |\n",
            "|  Q(x)$, $\\forall x, P(x)  |  Q(x)) \\land \\neg[\\forall |                                  |                          |\n",
            "|  \\land Q(x)$, $\\forall x, |       x, Q(x)] \\land      |                                  |                          |\n",
            "| P(x)$, $\\forall x, Q(x)$, |    \\neg[\\exists x, P(x)   |                                  |                          |\n",
            "|   $\\exists x, P(x) \\land  |        \\land Q(x)]$       |                                  |                          |\n",
            "| Q(x)$, $\\exists x, Q(x)$] |                           |                                  |                          |\n",
            "|   [$\\forall x, P(x) \\lor  |   $(\\forall x, P(x) \\lor  |              False               |           True           |\n",
            "|  Q(x)$, $\\forall x, P(x)  |  Q(x)) \\land \\neg[\\exists |                                  |                          |\n",
            "|  \\land Q(x)$, $\\forall x, |    x, P(x) \\land Q(x)]$   |                                  |                          |\n",
            "|  P(x)$, $\\exists x, P(x)  |                           |                                  |                          |\n",
            "|  \\lor Q(x)$, $\\exists x,  |                           |                                  |                          |\n",
            "|     P(x) \\land Q(x)$,     |                           |                                  |                          |\n",
            "|     $\\exists x, Q(x)$]    |                           |                                  |                          |\n",
            "|   [$\\forall x, P(x) \\lor  |   $(\\forall x, P(x) \\lor  |              False               |           True           |\n",
            "|  Q(x)$, $\\forall x, P(x)  |  Q(x)) \\land \\neg[\\exists |                                  |                          |\n",
            "|  \\land Q(x)$, $\\forall x, |    x, P(x) \\land Q(x)]$   |                                  |                          |\n",
            "|  Q(x)$, $\\exists x, P(x)  |                           |                                  |                          |\n",
            "|  \\lor Q(x)$, $\\exists x,  |                           |                                  |                          |\n",
            "|     P(x) \\land Q(x)$,     |                           |                                  |                          |\n",
            "|     $\\exists x, P(x)$]    |                           |                                  |                          |\n",
            "|   [$\\forall x, P(x) \\lor  |   $(\\forall x, P(x) \\lor  |               True               |           True           |\n",
            "|  Q(x)$, $\\forall x, P(x)  |  Q(x)) \\land (\\exists x,  |                                  |                          |\n",
            "|  \\land Q(x)$, $\\forall x, |  P(x)) \\land (\\exists x,  |                                  |                          |\n",
            "| P(x)$, $\\forall x, Q(x)$, |  Q(x)) \\land \\neg[\\forall |                                  |                          |\n",
            "|   $\\exists x, P(x) \\lor   |    x, P(x) \\land Q(x)]$   |                                  |                          |\n",
            "| Q(x)$, $\\exists x, P(x)$, |                           |                                  |                          |\n",
            "|     $\\exists x, Q(x)$]    |                           |                                  |                          |\n",
            "|   [$\\forall x, P(x) \\lor  |   $(\\forall x, P(x) \\lor  |               True               |           True           |\n",
            "|  Q(x)$, $\\forall x, P(x)  |  Q(x)) \\land \\neg[\\exists |                                  |                          |\n",
            "|  \\land Q(x)$, $\\forall x, |    x, P(x) \\land Q(x)]$   |                                  |                          |\n",
            "| P(x)$, $\\forall x, Q(x)$, |                           |                                  |                          |\n",
            "|   $\\exists x, P(x) \\lor   |                           |                                  |                          |\n",
            "|  Q(x)$, $\\exists x, P(x)  |                           |                                  |                          |\n",
            "|  \\land Q(x)$, $\\exists x, |                           |                                  |                          |\n",
            "| P(x)$, $\\exists x, Q(x)$] |                           |                                  |                          |\n",
            "+---------------------------+---------------------------+----------------------------------+--------------------------+\n"
          ],
          "name": "stdout"
        }
      ]
    },
    {
      "cell_type": "markdown",
      "metadata": {
        "id": "iAvK1o1VLmvl"
      },
      "source": [
        "Exhaustive Relevance makes some obviously bad predictions. For instance, $[\\forall x (Px \\lor Qx), \\forall x Px]$ is allowed. \n",
        "\n",
        "What about non-settling? It makes no obviously wrong predictions (some licit pruing choices look suspicious but are in fact harmless):"
      ]
    },
    {
      "cell_type": "code",
      "metadata": {
        "id": "EEPtiCdJLmvm",
        "outputId": "385f7cd3-8512-43cb-b1fe-703cbdec2bf1",
        "colab": {
          "base_uri": "https://localhost:8080/",
          "height": 297
        }
      },
      "source": [
        "jprint(\"Possible prunings for $\\forall x (Px \\lor Qx)$ given Pruning by Non-Settling: \")\n",
        "[jprint(\"Pruning: \",i,\"Meaning: \",exhf(Exh(prej_universal,i))) for i in pos_prun_nonset]"
      ],
      "execution_count": 25,
      "outputs": [
        {
          "output_type": "display_data",
          "data": {
            "text/html": [
              "Possible prunings for $\forall x (Px \\lor Qx)$ given Pruning by Non-Settling: "
            ],
            "text/plain": [
              "<IPython.core.display.HTML object>"
            ]
          },
          "metadata": {
            "tags": []
          }
        },
        {
          "output_type": "display_data",
          "data": {
            "text/html": [
              "Pruning:  [$\\forall x, P(x) \\lor Q(x)$, $\\exists x, P(x) \\lor Q(x)$] Meaning:  $\\forall x, P(x) \\lor Q(x)$"
            ],
            "text/plain": [
              "<IPython.core.display.HTML object>"
            ]
          },
          "metadata": {
            "tags": []
          }
        },
        {
          "output_type": "display_data",
          "data": {
            "text/html": [
              "Pruning:  [$\\forall x, P(x) \\lor Q(x)$, $\\forall x, P(x) \\land Q(x)$, $\\exists x, P(x) \\lor Q(x)$] Meaning:  $(\\forall x, P(x) \\lor Q(x)) \\land \\neg[\\forall x, P(x) \\land Q(x)]$"
            ],
            "text/plain": [
              "<IPython.core.display.HTML object>"
            ]
          },
          "metadata": {
            "tags": []
          }
        },
        {
          "output_type": "display_data",
          "data": {
            "text/html": [
              "Pruning:  [$\\forall x, P(x) \\lor Q(x)$, $\\forall x, P(x) \\land Q(x)$, $\\exists x, P(x) \\lor Q(x)$, $\\exists x, P(x) \\land Q(x)$] Meaning:  $(\\forall x, P(x) \\lor Q(x)) \\land \\neg[\\exists x, P(x) \\land Q(x)]$"
            ],
            "text/plain": [
              "<IPython.core.display.HTML object>"
            ]
          },
          "metadata": {
            "tags": []
          }
        },
        {
          "output_type": "display_data",
          "data": {
            "text/html": [
              "Pruning:  [$\\forall x, P(x) \\lor Q(x)$, $\\exists x, P(x) \\lor Q(x)$, $\\exists x, P(x)$, $\\exists x, Q(x)$] Meaning:  $(\\forall x, P(x) \\lor Q(x)) \\land (\\exists x, P(x)) \\land (\\exists x, Q(x))$"
            ],
            "text/plain": [
              "<IPython.core.display.HTML object>"
            ]
          },
          "metadata": {
            "tags": []
          }
        },
        {
          "output_type": "display_data",
          "data": {
            "text/html": [
              "Pruning:  [$\\forall x, P(x) \\lor Q(x)$, $\\forall x, P(x) \\land Q(x)$, $\\exists x, P(x) \\lor Q(x)$, $\\exists x, P(x)$, $\\exists x, Q(x)$] Meaning:  $(\\forall x, P(x) \\lor Q(x)) \\land (\\exists x, P(x)) \\land (\\exists x, Q(x)) \\land \\neg[\\forall x, P(x) \\land Q(x)]$"
            ],
            "text/plain": [
              "<IPython.core.display.HTML object>"
            ]
          },
          "metadata": {
            "tags": []
          }
        },
        {
          "output_type": "display_data",
          "data": {
            "text/html": [
              "Pruning:  [$\\forall x, P(x) \\lor Q(x)$, $\\forall x, P(x) \\land Q(x)$, $\\forall x, P(x)$, $\\exists x, P(x) \\lor Q(x)$, $\\exists x, P(x) \\land Q(x)$, $\\exists x, Q(x)$] Meaning:  $(\\forall x, P(x) \\lor Q(x)) \\land \\neg[\\exists x, P(x) \\land Q(x)]$"
            ],
            "text/plain": [
              "<IPython.core.display.HTML object>"
            ]
          },
          "metadata": {
            "tags": []
          }
        },
        {
          "output_type": "display_data",
          "data": {
            "text/html": [
              "Pruning:  [$\\forall x, P(x) \\lor Q(x)$, $\\forall x, P(x) \\land Q(x)$, $\\forall x, Q(x)$, $\\exists x, P(x) \\lor Q(x)$, $\\exists x, P(x) \\land Q(x)$, $\\exists x, P(x)$] Meaning:  $(\\forall x, P(x) \\lor Q(x)) \\land \\neg[\\exists x, P(x) \\land Q(x)]$"
            ],
            "text/plain": [
              "<IPython.core.display.HTML object>"
            ]
          },
          "metadata": {
            "tags": []
          }
        },
        {
          "output_type": "display_data",
          "data": {
            "text/html": [
              "Pruning:  [$\\forall x, P(x) \\lor Q(x)$, $\\forall x, P(x) \\land Q(x)$, $\\forall x, P(x)$, $\\forall x, Q(x)$, $\\exists x, P(x) \\lor Q(x)$, $\\exists x, P(x)$, $\\exists x, Q(x)$] Meaning:  $(\\forall x, P(x) \\lor Q(x)) \\land (\\exists x, P(x)) \\land (\\exists x, Q(x)) \\land \\neg[\\forall x, P(x) \\land Q(x)]$"
            ],
            "text/plain": [
              "<IPython.core.display.HTML object>"
            ]
          },
          "metadata": {
            "tags": []
          }
        },
        {
          "output_type": "display_data",
          "data": {
            "text/html": [
              "Pruning:  [$\\forall x, P(x) \\lor Q(x)$, $\\forall x, P(x) \\land Q(x)$, $\\forall x, P(x)$, $\\forall x, Q(x)$, $\\exists x, P(x) \\lor Q(x)$, $\\exists x, P(x) \\land Q(x)$, $\\exists x, P(x)$, $\\exists x, Q(x)$] Meaning:  $(\\forall x, P(x) \\lor Q(x)) \\land \\neg[\\exists x, P(x) \\land Q(x)]$"
            ],
            "text/plain": [
              "<IPython.core.display.HTML object>"
            ]
          },
          "metadata": {
            "tags": []
          }
        },
        {
          "output_type": "execute_result",
          "data": {
            "text/plain": [
              "[None, None, None, None, None, None, None, None, None]"
            ]
          },
          "metadata": {
            "tags": []
          },
          "execution_count": 25
        }
      ]
    },
    {
      "cell_type": "markdown",
      "metadata": {
        "id": "eQs2gx8GLmvm"
      },
      "source": [
        "We argue though that it is helpful to assume both Non-settling and Exhaustive Relevance. Assuming both, this is the set of licit prunings:"
      ]
    },
    {
      "cell_type": "code",
      "metadata": {
        "id": "4EbL4zUsLmvn",
        "outputId": "89875461-7f40-4b67-b548-7dba336a8872",
        "colab": {
          "base_uri": "https://localhost:8080/",
          "height": 175
        }
      },
      "source": [
        "jprint(\"Possible prunings for $[\\forall x (Px \\lor Qx)]$ given both Pruning by Exhaustive relevance and Pruning by Non-Settling: \")\n",
        "[jprint(\"Pruning: \",i,\"Meaning: \",exhf(Exh(prej_universal,i))) for i in ps(exh_universal.alts) if i in pos_prun_nonset and i in pos_prun_exhrel]"
      ],
      "execution_count": 26,
      "outputs": [
        {
          "output_type": "display_data",
          "data": {
            "text/html": [
              "Possible prunings for $[\forall x (Px \\lor Qx)]$ given both Pruning by Exhaustive relevance and Pruning by Non-Settling: "
            ],
            "text/plain": [
              "<IPython.core.display.HTML object>"
            ]
          },
          "metadata": {
            "tags": []
          }
        },
        {
          "output_type": "display_data",
          "data": {
            "text/html": [
              "Pruning:  [$\\forall x, P(x) \\lor Q(x)$, $\\exists x, P(x) \\lor Q(x)$] Meaning:  $\\forall x, P(x) \\lor Q(x)$"
            ],
            "text/plain": [
              "<IPython.core.display.HTML object>"
            ]
          },
          "metadata": {
            "tags": []
          }
        },
        {
          "output_type": "display_data",
          "data": {
            "text/html": [
              "Pruning:  [$\\forall x, P(x) \\lor Q(x)$, $\\forall x, P(x) \\land Q(x)$, $\\exists x, P(x) \\lor Q(x)$] Meaning:  $(\\forall x, P(x) \\lor Q(x)) \\land \\neg[\\forall x, P(x) \\land Q(x)]$"
            ],
            "text/plain": [
              "<IPython.core.display.HTML object>"
            ]
          },
          "metadata": {
            "tags": []
          }
        },
        {
          "output_type": "display_data",
          "data": {
            "text/html": [
              "Pruning:  [$\\forall x, P(x) \\lor Q(x)$, $\\forall x, P(x) \\land Q(x)$, $\\exists x, P(x) \\lor Q(x)$, $\\exists x, P(x) \\land Q(x)$] Meaning:  $(\\forall x, P(x) \\lor Q(x)) \\land \\neg[\\exists x, P(x) \\land Q(x)]$"
            ],
            "text/plain": [
              "<IPython.core.display.HTML object>"
            ]
          },
          "metadata": {
            "tags": []
          }
        },
        {
          "output_type": "display_data",
          "data": {
            "text/html": [
              "Pruning:  [$\\forall x, P(x) \\lor Q(x)$, $\\forall x, P(x) \\land Q(x)$, $\\forall x, P(x)$, $\\forall x, Q(x)$, $\\exists x, P(x) \\lor Q(x)$, $\\exists x, P(x)$, $\\exists x, Q(x)$] Meaning:  $(\\forall x, P(x) \\lor Q(x)) \\land (\\exists x, P(x)) \\land (\\exists x, Q(x)) \\land \\neg[\\forall x, P(x) \\land Q(x)]$"
            ],
            "text/plain": [
              "<IPython.core.display.HTML object>"
            ]
          },
          "metadata": {
            "tags": []
          }
        },
        {
          "output_type": "display_data",
          "data": {
            "text/html": [
              "Pruning:  [$\\forall x, P(x) \\lor Q(x)$, $\\forall x, P(x) \\land Q(x)$, $\\forall x, P(x)$, $\\forall x, Q(x)$, $\\exists x, P(x) \\lor Q(x)$, $\\exists x, P(x) \\land Q(x)$, $\\exists x, P(x)$, $\\exists x, Q(x)$] Meaning:  $(\\forall x, P(x) \\lor Q(x)) \\land \\neg[\\exists x, P(x) \\land Q(x)]$"
            ],
            "text/plain": [
              "<IPython.core.display.HTML object>"
            ]
          },
          "metadata": {
            "tags": []
          }
        },
        {
          "output_type": "execute_result",
          "data": {
            "text/plain": [
              "[None, None, None, None, None]"
            ]
          },
          "metadata": {
            "tags": []
          },
          "execution_count": 26
        }
      ]
    },
    {
      "cell_type": "markdown",
      "metadata": {
        "id": "VR6Cf042Lmvp"
      },
      "source": [
        "The reason why we think it is helpful to have both constraints is that it will allow us to capture an otherwise intriguing data due to Denic (2020), showing that distributive inferences are impossible when the number of individuals in the domain of quantification equals the number of disjuncts. \n",
        "\n",
        "This is what we predict if we assume both constraints when the domain of quantification is 2:"
      ]
    },
    {
      "cell_type": "code",
      "metadata": {
        "scrolled": true,
        "id": "V5mkIHBGLmvr",
        "outputId": "33138c1a-bcdd-49ae-97d4-06a3137e2241",
        "colab": {
          "base_uri": "https://localhost:8080/",
          "height": 141
        }
      },
      "source": [
        "from exh.model import options\n",
        "options.dom_quant=2\n",
        "\n",
        "prej_universal=Ax>P|Q\n",
        "exh_universal=Exh(prej_universal)\n",
        "# univ=Universe(fs=exh_universal.alts)\n",
        "\n",
        "pos_prun_nonset_dom2=PossiblePrunings(prej_universal,exh_universal.alts,PrunSettling)\n",
        "pos_prun_exhrel_nonset_dom2=[i for i in pos_prun_nonset_dom2 if PrunExhaustiveRelevance(prej_universal,exh_universal.alts,i)]\n",
        "\n",
        "jprint(\"Possible prunings for $[\\forall x (Px \\lor Qx)]$ given both Pruning by Exhaustive relevance and Pruning by Non-Settling when the domain of quantification contains two individuals: \")\n",
        "[jprint(\"Pruning: \",i,\"Meaning: \",exhf(Exh(prej_universal,i))) for i in pos_prun_exhrel_nonset_dom2]"
      ],
      "execution_count": 27,
      "outputs": [
        {
          "output_type": "display_data",
          "data": {
            "text/html": [
              "Possible prunings for $[\forall x (Px \\lor Qx)]$ given both Pruning by Exhaustive relevance and Pruning by Non-Settling when the domain of quantification contains two individuals: "
            ],
            "text/plain": [
              "<IPython.core.display.HTML object>"
            ]
          },
          "metadata": {
            "tags": []
          }
        },
        {
          "output_type": "display_data",
          "data": {
            "text/html": [
              "Pruning:  [$\\forall x, P(x) \\lor Q(x)$, $\\exists x, P(x) \\lor Q(x)$] Meaning:  $\\forall x, P(x) \\lor Q(x)$"
            ],
            "text/plain": [
              "<IPython.core.display.HTML object>"
            ]
          },
          "metadata": {
            "tags": []
          }
        },
        {
          "output_type": "display_data",
          "data": {
            "text/html": [
              "Pruning:  [$\\forall x, P(x) \\lor Q(x)$, $\\forall x, P(x) \\land Q(x)$, $\\exists x, P(x) \\lor Q(x)$] Meaning:  $(\\forall x, P(x) \\lor Q(x)) \\land \\neg[\\forall x, P(x) \\land Q(x)]$"
            ],
            "text/plain": [
              "<IPython.core.display.HTML object>"
            ]
          },
          "metadata": {
            "tags": []
          }
        },
        {
          "output_type": "display_data",
          "data": {
            "text/html": [
              "Pruning:  [$\\forall x, P(x) \\lor Q(x)$, $\\forall x, P(x) \\land Q(x)$, $\\exists x, P(x) \\lor Q(x)$, $\\exists x, P(x) \\land Q(x)$] Meaning:  $(\\forall x, P(x) \\lor Q(x)) \\land \\neg[\\exists x, P(x) \\land Q(x)]$"
            ],
            "text/plain": [
              "<IPython.core.display.HTML object>"
            ]
          },
          "metadata": {
            "tags": []
          }
        },
        {
          "output_type": "display_data",
          "data": {
            "text/html": [
              "Pruning:  [$\\forall x, P(x) \\lor Q(x)$, $\\forall x, P(x) \\land Q(x)$, $\\forall x, P(x)$, $\\forall x, Q(x)$, $\\exists x, P(x) \\lor Q(x)$, $\\exists x, P(x) \\land Q(x)$, $\\exists x, P(x)$, $\\exists x, Q(x)$] Meaning:  $(\\forall x, P(x) \\lor Q(x)) \\land \\neg[\\exists x, P(x) \\land Q(x)]$"
            ],
            "text/plain": [
              "<IPython.core.display.HTML object>"
            ]
          },
          "metadata": {
            "tags": []
          }
        },
        {
          "output_type": "execute_result",
          "data": {
            "text/plain": [
              "[None, None, None, None]"
            ]
          },
          "metadata": {
            "tags": []
          },
          "execution_count": 27
        }
      ]
    },
    {
      "cell_type": "code",
      "metadata": {
        "id": "jJshtwGeLmvs"
      },
      "source": [
        ""
      ],
      "execution_count": 27,
      "outputs": []
    },
    {
      "cell_type": "markdown",
      "metadata": {
        "id": "OGaJlpptLmvt"
      },
      "source": [
        "Note that now there is simply no way to get distributive inferences. Underlying reason: Once $\\forall x Px$ is in the set of alternatives (which is ensured by Exhaustive Relevance whenever $\\exists x Qx$ is in the set of alternatives),  then by (even simple) relevance $\\exists x [Px \\land Qx]$ can't be left out, because $\\exists x (Px \\land Qx)$ is equivalent to $(\\forall x Px \\land \\exists x Qx) \\lor (\\forall x Qx \\land \\exists x Px) \\lor (\\exists x Px \\land \\exists x Qx \\land \\neg \\forall x (Px \\lor Qx))$, and the latter ends up in the union of cells."
      ]
    },
    {
      "cell_type": "code",
      "metadata": {
        "id": "Ie3BvYH3Lmvt",
        "outputId": "8210a9c7-bc85-4e8f-9d36-9597d344d5aa",
        "colab": {
          "base_uri": "https://localhost:8080/",
          "height": 88
        }
      },
      "source": [
        "diff=[i for i in pos_prun_nonset if i in pos_prun_exhrel if i not in pos_prun_exhrel_nonset_dom2]\n",
        "jprint(\"Pruning choice that disappears when the domain of quantification contains 2 individuals: \")\n",
        "[jprint(\"Pruning: \",i,\"Meaning: \",exhf(Exh(prej_universal,i))) for i in diff]"
      ],
      "execution_count": 28,
      "outputs": [
        {
          "output_type": "display_data",
          "data": {
            "text/html": [
              "Pruning choice that disappears when the domain of quantification contains 2 individuals: "
            ],
            "text/plain": [
              "<IPython.core.display.HTML object>"
            ]
          },
          "metadata": {
            "tags": []
          }
        },
        {
          "output_type": "display_data",
          "data": {
            "text/html": [
              "Pruning:  [$\\forall x, P(x) \\lor Q(x)$, $\\forall x, P(x) \\land Q(x)$, $\\forall x, P(x)$, $\\forall x, Q(x)$, $\\exists x, P(x) \\lor Q(x)$, $\\exists x, P(x)$, $\\exists x, Q(x)$] Meaning:  $(\\forall x, P(x) \\lor Q(x)) \\land (\\exists x, P(x)) \\land (\\exists x, Q(x)) \\land \\neg[\\forall x, P(x) \\land Q(x)]$"
            ],
            "text/plain": [
              "<IPython.core.display.HTML object>"
            ]
          },
          "metadata": {
            "tags": []
          }
        },
        {
          "output_type": "execute_result",
          "data": {
            "text/plain": [
              "[None]"
            ]
          },
          "metadata": {
            "tags": []
          },
          "execution_count": 28
        }
      ]
    },
    {
      "cell_type": "markdown",
      "metadata": {
        "id": "8LFIS7_LLmvy"
      },
      "source": [
        "What happens when the domain of quantification contains 3 individuals and there are three disjuncts?\n",
        "\n",
        "Conjecture: $\\exists x (Px \\land Qx \\land Rx)$ is unprunable, because equivalent to...:\n"
      ]
    },
    {
      "cell_type": "code",
      "metadata": {
        "id": "0MkWSCNILmvz"
      },
      "source": [
        "# from exh.model import options\n",
        "# options.dom_quant=3\n",
        "\n",
        "# prej_universal3=Ax>P|Q|R\n",
        "# exh_universal3=Exh(prej_universal3)\n",
        "\n",
        "# univ=Universe(fs=exh_universal3.alts)\n",
        "disjconj=(Ex>P&Q)|(Ex>P&R)|(Ex>Q&R)\n",
        "# posrel=((Ax>P)&((Ex>Q)|(Ex>R)))|((Ax>Q)&((Ex>P)|(Ex>R)))|((Ax>R)&((Ex>P)|(Ex>Q)))|((Ex>~(P|Q|R))&(Ex>P)&(Ex>Q)&(Ex>R))\n",
        "# jprint(posrel)\n",
        "# univ.equivalent(disjconj,posrel)"
      ],
      "execution_count": 29,
      "outputs": []
    },
    {
      "cell_type": "code",
      "metadata": {
        "id": "nwEJOfbqLmv3",
        "outputId": "62c722d8-4336-4541-c931-e9c2b3c5eb37",
        "colab": {
          "base_uri": "https://localhost:8080/",
          "height": 1000
        }
      },
      "source": [
        "from exh.model import options\n",
        "options.dom_quant=3\n",
        "\n",
        "prej_universal3=Ax>P|Q|R\n",
        "universal3_alts=[prej_universal3,Ax>P&Q,Ax>P&R,Ax>Q&R,Ax>P,Ax>Q,Ax>R,\n",
        "                Ex>P&Q,Ex>P&R,Ex>Q&R,Ex>P,Ex>Q,Ex>R,]\n",
        "# universal3_alts_pruned=[prej_universal3,Ax>P&Q,Ax>P&R,Ax>Q&R,Ax>P,Ax>Q,Ax>R,\n",
        "#                         Ex>P,Ex>Q,Ex>R,]\n",
        "\n",
        "# PrunSettling(prej_universal3,universal3_alts,universal3_alts_pruned)\n",
        "# PrunExhaustiveRelevance(prej_universal3,universal3_alts,universal3_alts_pruned)\n",
        "\n",
        "\n",
        "# cells3=Cells(universal3_alts_pruned)\n",
        "# len(cells3)\n",
        "# jprint(exhf(exh_universal3))\n",
        "pos_prun_nonset3=PossiblePrunings(prej_universal3,universal3_alts,PrunSettling)\n",
        "# pos_prun_exhrel_nonset3=[i for i in pos_prun_nonset3 if PrunExhaustiveRelevance(prej_universal3,exh_universal3.alts,i)]\n",
        "\n",
        "\n",
        "jprint(\"Possible prunings for $[\\forall x (Px \\lor Qx \\lor Rx)]$ given both Pruning by Pruning by Non-Settling when the domain of quantification contains three individuals: \")\n",
        "[jprint(\"Pruning: \",i,\"Meaning: \",exhf(Exh(prej_universal3,i))) for i in pos_prun_nonset3]"
      ],
      "execution_count": 30,
      "outputs": [
        {
          "output_type": "display_data",
          "data": {
            "text/html": [
              "Possible prunings for $[\forall x (Px \\lor Qx \\lor Rx)]$ given both Pruning by Pruning by Non-Settling when the domain of quantification contains three individuals: "
            ],
            "text/plain": [
              "<IPython.core.display.HTML object>"
            ]
          },
          "metadata": {
            "tags": []
          }
        },
        {
          "output_type": "display_data",
          "data": {
            "text/html": [
              "Pruning:  [$\\forall x, P(x) \\lor Q(x) \\lor R(x)$] Meaning:  $\\forall x, P(x) \\lor Q(x) \\lor R(x)$"
            ],
            "text/plain": [
              "<IPython.core.display.HTML object>"
            ]
          },
          "metadata": {
            "tags": []
          }
        },
        {
          "output_type": "display_data",
          "data": {
            "text/html": [
              "Pruning:  [$\\forall x, P(x) \\lor Q(x) \\lor R(x)$, $\\forall x, P(x) \\land Q(x)$] Meaning:  $(\\forall x, P(x) \\lor Q(x) \\lor R(x)) \\land \\neg[\\forall x, P(x) \\land Q(x)]$"
            ],
            "text/plain": [
              "<IPython.core.display.HTML object>"
            ]
          },
          "metadata": {
            "tags": []
          }
        },
        {
          "output_type": "display_data",
          "data": {
            "text/html": [
              "Pruning:  [$\\forall x, P(x) \\lor Q(x) \\lor R(x)$, $\\forall x, P(x) \\land R(x)$] Meaning:  $(\\forall x, P(x) \\lor Q(x) \\lor R(x)) \\land \\neg[\\forall x, P(x) \\land R(x)]$"
            ],
            "text/plain": [
              "<IPython.core.display.HTML object>"
            ]
          },
          "metadata": {
            "tags": []
          }
        },
        {
          "output_type": "display_data",
          "data": {
            "text/html": [
              "Pruning:  [$\\forall x, P(x) \\lor Q(x) \\lor R(x)$, $\\forall x, Q(x) \\land R(x)$] Meaning:  $(\\forall x, P(x) \\lor Q(x) \\lor R(x)) \\land \\neg[\\forall x, Q(x) \\land R(x)]$"
            ],
            "text/plain": [
              "<IPython.core.display.HTML object>"
            ]
          },
          "metadata": {
            "tags": []
          }
        },
        {
          "output_type": "display_data",
          "data": {
            "text/html": [
              "Pruning:  [$\\forall x, P(x) \\lor Q(x) \\lor R(x)$, $\\forall x, P(x) \\land Q(x)$, $\\forall x, P(x) \\land R(x)$] Meaning:  $(\\forall x, P(x) \\lor Q(x) \\lor R(x)) \\land \\neg[\\forall x, P(x) \\land Q(x)] \\land \\neg[\\forall x, P(x) \\land R(x)]$"
            ],
            "text/plain": [
              "<IPython.core.display.HTML object>"
            ]
          },
          "metadata": {
            "tags": []
          }
        },
        {
          "output_type": "display_data",
          "data": {
            "text/html": [
              "Pruning:  [$\\forall x, P(x) \\lor Q(x) \\lor R(x)$, $\\forall x, P(x) \\land Q(x)$, $\\forall x, Q(x) \\land R(x)$] Meaning:  $(\\forall x, P(x) \\lor Q(x) \\lor R(x)) \\land \\neg[\\forall x, P(x) \\land Q(x)] \\land \\neg[\\forall x, Q(x) \\land R(x)]$"
            ],
            "text/plain": [
              "<IPython.core.display.HTML object>"
            ]
          },
          "metadata": {
            "tags": []
          }
        },
        {
          "output_type": "display_data",
          "data": {
            "text/html": [
              "Pruning:  [$\\forall x, P(x) \\lor Q(x) \\lor R(x)$, $\\forall x, P(x) \\land Q(x)$, $\\exists x, P(x) \\land Q(x)$] Meaning:  $(\\forall x, P(x) \\lor Q(x) \\lor R(x)) \\land \\neg[\\exists x, P(x) \\land Q(x)]$"
            ],
            "text/plain": [
              "<IPython.core.display.HTML object>"
            ]
          },
          "metadata": {
            "tags": []
          }
        },
        {
          "output_type": "display_data",
          "data": {
            "text/html": [
              "Pruning:  [$\\forall x, P(x) \\lor Q(x) \\lor R(x)$, $\\forall x, P(x) \\land R(x)$, $\\forall x, Q(x) \\land R(x)$] Meaning:  $(\\forall x, P(x) \\lor Q(x) \\lor R(x)) \\land \\neg[\\forall x, P(x) \\land R(x)] \\land \\neg[\\forall x, Q(x) \\land R(x)]$"
            ],
            "text/plain": [
              "<IPython.core.display.HTML object>"
            ]
          },
          "metadata": {
            "tags": []
          }
        },
        {
          "output_type": "display_data",
          "data": {
            "text/html": [
              "Pruning:  [$\\forall x, P(x) \\lor Q(x) \\lor R(x)$, $\\forall x, P(x) \\land R(x)$, $\\exists x, P(x) \\land R(x)$] Meaning:  $(\\forall x, P(x) \\lor Q(x) \\lor R(x)) \\land \\neg[\\exists x, P(x) \\land R(x)]$"
            ],
            "text/plain": [
              "<IPython.core.display.HTML object>"
            ]
          },
          "metadata": {
            "tags": []
          }
        },
        {
          "output_type": "display_data",
          "data": {
            "text/html": [
              "Pruning:  [$\\forall x, P(x) \\lor Q(x) \\lor R(x)$, $\\forall x, Q(x) \\land R(x)$, $\\exists x, Q(x) \\land R(x)$] Meaning:  $(\\forall x, P(x) \\lor Q(x) \\lor R(x)) \\land \\neg[\\exists x, Q(x) \\land R(x)]$"
            ],
            "text/plain": [
              "<IPython.core.display.HTML object>"
            ]
          },
          "metadata": {
            "tags": []
          }
        },
        {
          "output_type": "display_data",
          "data": {
            "text/html": [
              "Pruning:  [$\\forall x, P(x) \\lor Q(x) \\lor R(x)$, $\\forall x, P(x) \\land Q(x)$, $\\forall x, P(x) \\land R(x)$, $\\forall x, Q(x) \\land R(x)$] Meaning:  $(\\forall x, P(x) \\lor Q(x) \\lor R(x)) \\land \\neg[\\forall x, P(x) \\land Q(x)] \\land \\neg[\\forall x, P(x) \\land R(x)] \\land \\neg[\\forall x, Q(x) \\land R(x)]$"
            ],
            "text/plain": [
              "<IPython.core.display.HTML object>"
            ]
          },
          "metadata": {
            "tags": []
          }
        },
        {
          "output_type": "display_data",
          "data": {
            "text/html": [
              "Pruning:  [$\\forall x, P(x) \\lor Q(x) \\lor R(x)$, $\\forall x, P(x) \\land Q(x)$, $\\forall x, P(x) \\land R(x)$, $\\forall x, P(x)$] Meaning:  $(\\forall x, P(x) \\lor Q(x) \\lor R(x)) \\land \\neg[\\forall x, P(x)]$"
            ],
            "text/plain": [
              "<IPython.core.display.HTML object>"
            ]
          },
          "metadata": {
            "tags": []
          }
        },
        {
          "output_type": "display_data",
          "data": {
            "text/html": [
              "Pruning:  [$\\forall x, P(x) \\lor Q(x) \\lor R(x)$, $\\forall x, P(x) \\land Q(x)$, $\\forall x, P(x) \\land R(x)$, $\\exists x, P(x) \\land Q(x)$] Meaning:  $(\\forall x, P(x) \\lor Q(x) \\lor R(x)) \\land \\neg[\\forall x, P(x) \\land R(x)] \\land \\neg[\\exists x, P(x) \\land Q(x)]$"
            ],
            "text/plain": [
              "<IPython.core.display.HTML object>"
            ]
          },
          "metadata": {
            "tags": []
          }
        },
        {
          "output_type": "display_data",
          "data": {
            "text/html": [
              "Pruning:  [$\\forall x, P(x) \\lor Q(x) \\lor R(x)$, $\\forall x, P(x) \\land Q(x)$, $\\forall x, P(x) \\land R(x)$, $\\exists x, P(x) \\land R(x)$] Meaning:  $(\\forall x, P(x) \\lor Q(x) \\lor R(x)) \\land \\neg[\\forall x, P(x) \\land Q(x)] \\land \\neg[\\exists x, P(x) \\land R(x)]$"
            ],
            "text/plain": [
              "<IPython.core.display.HTML object>"
            ]
          },
          "metadata": {
            "tags": []
          }
        },
        {
          "output_type": "display_data",
          "data": {
            "text/html": [
              "Pruning:  [$\\forall x, P(x) \\lor Q(x) \\lor R(x)$, $\\forall x, P(x) \\land Q(x)$, $\\forall x, Q(x) \\land R(x)$, $\\forall x, Q(x)$] Meaning:  $(\\forall x, P(x) \\lor Q(x) \\lor R(x)) \\land \\neg[\\forall x, Q(x)]$"
            ],
            "text/plain": [
              "<IPython.core.display.HTML object>"
            ]
          },
          "metadata": {
            "tags": []
          }
        },
        {
          "output_type": "display_data",
          "data": {
            "text/html": [
              "Pruning:  [$\\forall x, P(x) \\lor Q(x) \\lor R(x)$, $\\forall x, P(x) \\land Q(x)$, $\\forall x, Q(x) \\land R(x)$, $\\exists x, P(x) \\land Q(x)$] Meaning:  $(\\forall x, P(x) \\lor Q(x) \\lor R(x)) \\land \\neg[\\forall x, Q(x) \\land R(x)] \\land \\neg[\\exists x, P(x) \\land Q(x)]$"
            ],
            "text/plain": [
              "<IPython.core.display.HTML object>"
            ]
          },
          "metadata": {
            "tags": []
          }
        },
        {
          "output_type": "display_data",
          "data": {
            "text/html": [
              "Pruning:  [$\\forall x, P(x) \\lor Q(x) \\lor R(x)$, $\\forall x, P(x) \\land Q(x)$, $\\forall x, Q(x) \\land R(x)$, $\\exists x, Q(x) \\land R(x)$] Meaning:  $(\\forall x, P(x) \\lor Q(x) \\lor R(x)) \\land \\neg[\\forall x, P(x) \\land Q(x)] \\land \\neg[\\exists x, Q(x) \\land R(x)]$"
            ],
            "text/plain": [
              "<IPython.core.display.HTML object>"
            ]
          },
          "metadata": {
            "tags": []
          }
        },
        {
          "output_type": "display_data",
          "data": {
            "text/html": [
              "Pruning:  [$\\forall x, P(x) \\lor Q(x) \\lor R(x)$, $\\forall x, P(x) \\land R(x)$, $\\forall x, Q(x) \\land R(x)$, $\\forall x, R(x)$] Meaning:  $(\\forall x, P(x) \\lor Q(x) \\lor R(x)) \\land \\neg[\\forall x, R(x)]$"
            ],
            "text/plain": [
              "<IPython.core.display.HTML object>"
            ]
          },
          "metadata": {
            "tags": []
          }
        },
        {
          "output_type": "display_data",
          "data": {
            "text/html": [
              "Pruning:  [$\\forall x, P(x) \\lor Q(x) \\lor R(x)$, $\\forall x, P(x) \\land R(x)$, $\\forall x, Q(x) \\land R(x)$, $\\exists x, P(x) \\land R(x)$] Meaning:  $(\\forall x, P(x) \\lor Q(x) \\lor R(x)) \\land \\neg[\\forall x, Q(x) \\land R(x)] \\land \\neg[\\exists x, P(x) \\land R(x)]$"
            ],
            "text/plain": [
              "<IPython.core.display.HTML object>"
            ]
          },
          "metadata": {
            "tags": []
          }
        },
        {
          "output_type": "display_data",
          "data": {
            "text/html": [
              "Pruning:  [$\\forall x, P(x) \\lor Q(x) \\lor R(x)$, $\\forall x, P(x) \\land R(x)$, $\\forall x, Q(x) \\land R(x)$, $\\exists x, Q(x) \\land R(x)$] Meaning:  $(\\forall x, P(x) \\lor Q(x) \\lor R(x)) \\land \\neg[\\forall x, P(x) \\land R(x)] \\land \\neg[\\exists x, Q(x) \\land R(x)]$"
            ],
            "text/plain": [
              "<IPython.core.display.HTML object>"
            ]
          },
          "metadata": {
            "tags": []
          }
        },
        {
          "output_type": "display_data",
          "data": {
            "text/html": [
              "Pruning:  [$\\forall x, P(x) \\lor Q(x) \\lor R(x)$, $\\exists x, P(x)$, $\\exists x, Q(x)$, $\\exists x, R(x)$] Meaning:  $(\\forall x, P(x) \\lor Q(x) \\lor R(x)) \\land (\\exists x, P(x)) \\land (\\exists x, Q(x)) \\land (\\exists x, R(x))$"
            ],
            "text/plain": [
              "<IPython.core.display.HTML object>"
            ]
          },
          "metadata": {
            "tags": []
          }
        },
        {
          "output_type": "display_data",
          "data": {
            "text/html": [
              "Pruning:  [$\\forall x, P(x) \\lor Q(x) \\lor R(x)$, $\\forall x, P(x) \\land Q(x)$, $\\forall x, P(x) \\land R(x)$, $\\forall x, Q(x) \\land R(x)$, $\\forall x, P(x)$] Meaning:  $(\\forall x, P(x) \\lor Q(x) \\lor R(x)) \\land \\neg[\\forall x, Q(x) \\land R(x)] \\land \\neg[\\forall x, P(x)]$"
            ],
            "text/plain": [
              "<IPython.core.display.HTML object>"
            ]
          },
          "metadata": {
            "tags": []
          }
        },
        {
          "output_type": "display_data",
          "data": {
            "text/html": [
              "Pruning:  [$\\forall x, P(x) \\lor Q(x) \\lor R(x)$, $\\forall x, P(x) \\land Q(x)$, $\\forall x, P(x) \\land R(x)$, $\\forall x, Q(x) \\land R(x)$, $\\forall x, Q(x)$] Meaning:  $(\\forall x, P(x) \\lor Q(x) \\lor R(x)) \\land \\neg[\\forall x, P(x) \\land R(x)] \\land \\neg[\\forall x, Q(x)]$"
            ],
            "text/plain": [
              "<IPython.core.display.HTML object>"
            ]
          },
          "metadata": {
            "tags": []
          }
        },
        {
          "output_type": "display_data",
          "data": {
            "text/html": [
              "Pruning:  [$\\forall x, P(x) \\lor Q(x) \\lor R(x)$, $\\forall x, P(x) \\land Q(x)$, $\\forall x, P(x) \\land R(x)$, $\\forall x, Q(x) \\land R(x)$, $\\forall x, R(x)$] Meaning:  $(\\forall x, P(x) \\lor Q(x) \\lor R(x)) \\land \\neg[\\forall x, P(x) \\land Q(x)] \\land \\neg[\\forall x, R(x)]$"
            ],
            "text/plain": [
              "<IPython.core.display.HTML object>"
            ]
          },
          "metadata": {
            "tags": []
          }
        },
        {
          "output_type": "display_data",
          "data": {
            "text/html": [
              "Pruning:  [$\\forall x, P(x) \\lor Q(x) \\lor R(x)$, $\\forall x, P(x) \\land Q(x)$, $\\forall x, P(x) \\land R(x)$, $\\forall x, Q(x) \\land R(x)$, $\\exists x, P(x) \\land Q(x)$] Meaning:  $(\\forall x, P(x) \\lor Q(x) \\lor R(x)) \\land \\neg[\\forall x, P(x) \\land R(x)] \\land \\neg[\\forall x, Q(x) \\land R(x)] \\land \\neg[\\exists x, P(x) \\land Q(x)]$"
            ],
            "text/plain": [
              "<IPython.core.display.HTML object>"
            ]
          },
          "metadata": {
            "tags": []
          }
        },
        {
          "output_type": "display_data",
          "data": {
            "text/html": [
              "Pruning:  [$\\forall x, P(x) \\lor Q(x) \\lor R(x)$, $\\forall x, P(x) \\land Q(x)$, $\\forall x, P(x) \\land R(x)$, $\\forall x, Q(x) \\land R(x)$, $\\exists x, P(x) \\land R(x)$] Meaning:  $(\\forall x, P(x) \\lor Q(x) \\lor R(x)) \\land \\neg[\\forall x, P(x) \\land Q(x)] \\land \\neg[\\forall x, Q(x) \\land R(x)] \\land \\neg[\\exists x, P(x) \\land R(x)]$"
            ],
            "text/plain": [
              "<IPython.core.display.HTML object>"
            ]
          },
          "metadata": {
            "tags": []
          }
        },
        {
          "output_type": "display_data",
          "data": {
            "text/html": [
              "Pruning:  [$\\forall x, P(x) \\lor Q(x) \\lor R(x)$, $\\forall x, P(x) \\land Q(x)$, $\\forall x, P(x) \\land R(x)$, $\\forall x, Q(x) \\land R(x)$, $\\exists x, Q(x) \\land R(x)$] Meaning:  $(\\forall x, P(x) \\lor Q(x) \\lor R(x)) \\land \\neg[\\forall x, P(x) \\land Q(x)] \\land \\neg[\\forall x, P(x) \\land R(x)] \\land \\neg[\\exists x, Q(x) \\land R(x)]$"
            ],
            "text/plain": [
              "<IPython.core.display.HTML object>"
            ]
          },
          "metadata": {
            "tags": []
          }
        },
        {
          "output_type": "display_data",
          "data": {
            "text/html": [
              "Pruning:  [$\\forall x, P(x) \\lor Q(x) \\lor R(x)$, $\\forall x, P(x) \\land Q(x)$, $\\forall x, P(x) \\land R(x)$, $\\forall x, P(x)$, $\\exists x, P(x) \\land Q(x)$] Meaning:  $(\\forall x, P(x) \\lor Q(x) \\lor R(x)) \\land \\neg[\\forall x, P(x)] \\land \\neg[\\exists x, P(x) \\land Q(x)]$"
            ],
            "text/plain": [
              "<IPython.core.display.HTML object>"
            ]
          },
          "metadata": {
            "tags": []
          }
        },
        {
          "output_type": "display_data",
          "data": {
            "text/html": [
              "Pruning:  [$\\forall x, P(x) \\lor Q(x) \\lor R(x)$, $\\forall x, P(x) \\land Q(x)$, $\\forall x, P(x) \\land R(x)$, $\\forall x, P(x)$, $\\exists x, P(x) \\land R(x)$] Meaning:  $(\\forall x, P(x) \\lor Q(x) \\lor R(x)) \\land \\neg[\\forall x, P(x)] \\land \\neg[\\exists x, P(x) \\land R(x)]$"
            ],
            "text/plain": [
              "<IPython.core.display.HTML object>"
            ]
          },
          "metadata": {
            "tags": []
          }
        },
        {
          "output_type": "display_data",
          "data": {
            "text/html": [
              "Pruning:  [$\\forall x, P(x) \\lor Q(x) \\lor R(x)$, $\\forall x, P(x) \\land Q(x)$, $\\forall x, P(x) \\land R(x)$, $\\exists x, P(x) \\land Q(x)$, $\\exists x, P(x) \\land R(x)$] Meaning:  $(\\forall x, P(x) \\lor Q(x) \\lor R(x)) \\land \\neg[\\exists x, P(x) \\land Q(x)] \\land \\neg[\\exists x, P(x) \\land R(x)]$"
            ],
            "text/plain": [
              "<IPython.core.display.HTML object>"
            ]
          },
          "metadata": {
            "tags": []
          }
        },
        {
          "output_type": "display_data",
          "data": {
            "text/html": [
              "Pruning:  [$\\forall x, P(x) \\lor Q(x) \\lor R(x)$, $\\forall x, P(x) \\land Q(x)$, $\\forall x, Q(x) \\land R(x)$, $\\forall x, Q(x)$, $\\exists x, P(x) \\land Q(x)$] Meaning:  $(\\forall x, P(x) \\lor Q(x) \\lor R(x)) \\land \\neg[\\forall x, Q(x)] \\land \\neg[\\exists x, P(x) \\land Q(x)]$"
            ],
            "text/plain": [
              "<IPython.core.display.HTML object>"
            ]
          },
          "metadata": {
            "tags": []
          }
        },
        {
          "output_type": "display_data",
          "data": {
            "text/html": [
              "Pruning:  [$\\forall x, P(x) \\lor Q(x) \\lor R(x)$, $\\forall x, P(x) \\land Q(x)$, $\\forall x, Q(x) \\land R(x)$, $\\forall x, Q(x)$, $\\exists x, Q(x) \\land R(x)$] Meaning:  $(\\forall x, P(x) \\lor Q(x) \\lor R(x)) \\land \\neg[\\forall x, Q(x)] \\land \\neg[\\exists x, Q(x) \\land R(x)]$"
            ],
            "text/plain": [
              "<IPython.core.display.HTML object>"
            ]
          },
          "metadata": {
            "tags": []
          }
        },
        {
          "output_type": "display_data",
          "data": {
            "text/html": [
              "Pruning:  [$\\forall x, P(x) \\lor Q(x) \\lor R(x)$, $\\forall x, P(x) \\land Q(x)$, $\\forall x, Q(x) \\land R(x)$, $\\exists x, P(x) \\land Q(x)$, $\\exists x, Q(x) \\land R(x)$] Meaning:  $(\\forall x, P(x) \\lor Q(x) \\lor R(x)) \\land \\neg[\\exists x, P(x) \\land Q(x)] \\land \\neg[\\exists x, Q(x) \\land R(x)]$"
            ],
            "text/plain": [
              "<IPython.core.display.HTML object>"
            ]
          },
          "metadata": {
            "tags": []
          }
        },
        {
          "output_type": "display_data",
          "data": {
            "text/html": [
              "Pruning:  [$\\forall x, P(x) \\lor Q(x) \\lor R(x)$, $\\forall x, P(x) \\land Q(x)$, $\\exists x, P(x)$, $\\exists x, Q(x)$, $\\exists x, R(x)$] Meaning:  $(\\forall x, P(x) \\lor Q(x) \\lor R(x)) \\land (\\exists x, P(x)) \\land (\\exists x, Q(x)) \\land (\\exists x, R(x)) \\land \\neg[\\forall x, P(x) \\land Q(x)]$"
            ],
            "text/plain": [
              "<IPython.core.display.HTML object>"
            ]
          },
          "metadata": {
            "tags": []
          }
        },
        {
          "output_type": "display_data",
          "data": {
            "text/html": [
              "Pruning:  [$\\forall x, P(x) \\lor Q(x) \\lor R(x)$, $\\forall x, P(x) \\land R(x)$, $\\forall x, Q(x) \\land R(x)$, $\\forall x, R(x)$, $\\exists x, P(x) \\land R(x)$] Meaning:  $(\\forall x, P(x) \\lor Q(x) \\lor R(x)) \\land \\neg[\\forall x, R(x)] \\land \\neg[\\exists x, P(x) \\land R(x)]$"
            ],
            "text/plain": [
              "<IPython.core.display.HTML object>"
            ]
          },
          "metadata": {
            "tags": []
          }
        },
        {
          "output_type": "display_data",
          "data": {
            "text/html": [
              "Pruning:  [$\\forall x, P(x) \\lor Q(x) \\lor R(x)$, $\\forall x, P(x) \\land R(x)$, $\\forall x, Q(x) \\land R(x)$, $\\forall x, R(x)$, $\\exists x, Q(x) \\land R(x)$] Meaning:  $(\\forall x, P(x) \\lor Q(x) \\lor R(x)) \\land \\neg[\\forall x, R(x)] \\land \\neg[\\exists x, Q(x) \\land R(x)]$"
            ],
            "text/plain": [
              "<IPython.core.display.HTML object>"
            ]
          },
          "metadata": {
            "tags": []
          }
        },
        {
          "output_type": "display_data",
          "data": {
            "text/html": [
              "Pruning:  [$\\forall x, P(x) \\lor Q(x) \\lor R(x)$, $\\forall x, P(x) \\land R(x)$, $\\forall x, Q(x) \\land R(x)$, $\\exists x, P(x) \\land R(x)$, $\\exists x, Q(x) \\land R(x)$] Meaning:  $(\\forall x, P(x) \\lor Q(x) \\lor R(x)) \\land \\neg[\\exists x, P(x) \\land R(x)] \\land \\neg[\\exists x, Q(x) \\land R(x)]$"
            ],
            "text/plain": [
              "<IPython.core.display.HTML object>"
            ]
          },
          "metadata": {
            "tags": []
          }
        },
        {
          "output_type": "display_data",
          "data": {
            "text/html": [
              "Pruning:  [$\\forall x, P(x) \\lor Q(x) \\lor R(x)$, $\\forall x, P(x) \\land R(x)$, $\\exists x, P(x)$, $\\exists x, Q(x)$, $\\exists x, R(x)$] Meaning:  $(\\forall x, P(x) \\lor Q(x) \\lor R(x)) \\land (\\exists x, P(x)) \\land (\\exists x, Q(x)) \\land (\\exists x, R(x)) \\land \\neg[\\forall x, P(x) \\land R(x)]$"
            ],
            "text/plain": [
              "<IPython.core.display.HTML object>"
            ]
          },
          "metadata": {
            "tags": []
          }
        },
        {
          "output_type": "display_data",
          "data": {
            "text/html": [
              "Pruning:  [$\\forall x, P(x) \\lor Q(x) \\lor R(x)$, $\\forall x, Q(x) \\land R(x)$, $\\exists x, P(x)$, $\\exists x, Q(x)$, $\\exists x, R(x)$] Meaning:  $(\\forall x, P(x) \\lor Q(x) \\lor R(x)) \\land (\\exists x, P(x)) \\land (\\exists x, Q(x)) \\land (\\exists x, R(x)) \\land \\neg[\\forall x, Q(x) \\land R(x)]$"
            ],
            "text/plain": [
              "<IPython.core.display.HTML object>"
            ]
          },
          "metadata": {
            "tags": []
          }
        },
        {
          "output_type": "display_data",
          "data": {
            "text/html": [
              "Pruning:  [$\\forall x, P(x) \\lor Q(x) \\lor R(x)$, $\\forall x, P(x) \\land Q(x)$, $\\forall x, P(x) \\land R(x)$, $\\forall x, Q(x) \\land R(x)$, $\\forall x, P(x)$, $\\forall x, Q(x)$] Meaning:  $(\\forall x, P(x) \\lor Q(x) \\lor R(x)) \\land \\neg[\\forall x, P(x)] \\land \\neg[\\forall x, Q(x)]$"
            ],
            "text/plain": [
              "<IPython.core.display.HTML object>"
            ]
          },
          "metadata": {
            "tags": []
          }
        },
        {
          "output_type": "display_data",
          "data": {
            "text/html": [
              "Pruning:  [$\\forall x, P(x) \\lor Q(x) \\lor R(x)$, $\\forall x, P(x) \\land Q(x)$, $\\forall x, P(x) \\land R(x)$, $\\forall x, Q(x) \\land R(x)$, $\\forall x, P(x)$, $\\forall x, R(x)$] Meaning:  $(\\forall x, P(x) \\lor Q(x) \\lor R(x)) \\land \\neg[\\forall x, P(x)] \\land \\neg[\\forall x, R(x)]$"
            ],
            "text/plain": [
              "<IPython.core.display.HTML object>"
            ]
          },
          "metadata": {
            "tags": []
          }
        },
        {
          "output_type": "display_data",
          "data": {
            "text/html": [
              "Pruning:  [$\\forall x, P(x) \\lor Q(x) \\lor R(x)$, $\\forall x, P(x) \\land Q(x)$, $\\forall x, P(x) \\land R(x)$, $\\forall x, Q(x) \\land R(x)$, $\\forall x, P(x)$, $\\exists x, P(x) \\land Q(x)$] Meaning:  $(\\forall x, P(x) \\lor Q(x) \\lor R(x)) \\land \\neg[\\forall x, Q(x) \\land R(x)] \\land \\neg[\\forall x, P(x)] \\land \\neg[\\exists x, P(x) \\land Q(x)]$"
            ],
            "text/plain": [
              "<IPython.core.display.HTML object>"
            ]
          },
          "metadata": {
            "tags": []
          }
        },
        {
          "output_type": "display_data",
          "data": {
            "text/html": [
              "Pruning:  [$\\forall x, P(x) \\lor Q(x) \\lor R(x)$, $\\forall x, P(x) \\land Q(x)$, $\\forall x, P(x) \\land R(x)$, $\\forall x, Q(x) \\land R(x)$, $\\forall x, P(x)$, $\\exists x, P(x) \\land R(x)$] Meaning:  $(\\forall x, P(x) \\lor Q(x) \\lor R(x)) \\land \\neg[\\forall x, Q(x) \\land R(x)] \\land \\neg[\\forall x, P(x)] \\land \\neg[\\exists x, P(x) \\land R(x)]$"
            ],
            "text/plain": [
              "<IPython.core.display.HTML object>"
            ]
          },
          "metadata": {
            "tags": []
          }
        },
        {
          "output_type": "display_data",
          "data": {
            "text/html": [
              "Pruning:  [$\\forall x, P(x) \\lor Q(x) \\lor R(x)$, $\\forall x, P(x) \\land Q(x)$, $\\forall x, P(x) \\land R(x)$, $\\forall x, Q(x) \\land R(x)$, $\\forall x, P(x)$, $\\exists x, Q(x) \\land R(x)$] Meaning:  $(\\forall x, P(x) \\lor Q(x) \\lor R(x)) \\land \\neg[\\forall x, P(x)] \\land \\neg[\\exists x, Q(x) \\land R(x)]$"
            ],
            "text/plain": [
              "<IPython.core.display.HTML object>"
            ]
          },
          "metadata": {
            "tags": []
          }
        },
        {
          "output_type": "display_data",
          "data": {
            "text/html": [
              "Pruning:  [$\\forall x, P(x) \\lor Q(x) \\lor R(x)$, $\\forall x, P(x) \\land Q(x)$, $\\forall x, P(x) \\land R(x)$, $\\forall x, Q(x) \\land R(x)$, $\\forall x, Q(x)$, $\\forall x, R(x)$] Meaning:  $(\\forall x, P(x) \\lor Q(x) \\lor R(x)) \\land \\neg[\\forall x, Q(x)] \\land \\neg[\\forall x, R(x)]$"
            ],
            "text/plain": [
              "<IPython.core.display.HTML object>"
            ]
          },
          "metadata": {
            "tags": []
          }
        },
        {
          "output_type": "display_data",
          "data": {
            "text/html": [
              "Pruning:  [$\\forall x, P(x) \\lor Q(x) \\lor R(x)$, $\\forall x, P(x) \\land Q(x)$, $\\forall x, P(x) \\land R(x)$, $\\forall x, Q(x) \\land R(x)$, $\\forall x, Q(x)$, $\\exists x, P(x) \\land Q(x)$] Meaning:  $(\\forall x, P(x) \\lor Q(x) \\lor R(x)) \\land \\neg[\\forall x, P(x) \\land R(x)] \\land \\neg[\\forall x, Q(x)] \\land \\neg[\\exists x, P(x) \\land Q(x)]$"
            ],
            "text/plain": [
              "<IPython.core.display.HTML object>"
            ]
          },
          "metadata": {
            "tags": []
          }
        },
        {
          "output_type": "display_data",
          "data": {
            "text/html": [
              "Pruning:  [$\\forall x, P(x) \\lor Q(x) \\lor R(x)$, $\\forall x, P(x) \\land Q(x)$, $\\forall x, P(x) \\land R(x)$, $\\forall x, Q(x) \\land R(x)$, $\\forall x, Q(x)$, $\\exists x, P(x) \\land R(x)$] Meaning:  $(\\forall x, P(x) \\lor Q(x) \\lor R(x)) \\land \\neg[\\forall x, Q(x)] \\land \\neg[\\exists x, P(x) \\land R(x)]$"
            ],
            "text/plain": [
              "<IPython.core.display.HTML object>"
            ]
          },
          "metadata": {
            "tags": []
          }
        },
        {
          "output_type": "display_data",
          "data": {
            "text/html": [
              "Pruning:  [$\\forall x, P(x) \\lor Q(x) \\lor R(x)$, $\\forall x, P(x) \\land Q(x)$, $\\forall x, P(x) \\land R(x)$, $\\forall x, Q(x) \\land R(x)$, $\\forall x, Q(x)$, $\\exists x, Q(x) \\land R(x)$] Meaning:  $(\\forall x, P(x) \\lor Q(x) \\lor R(x)) \\land \\neg[\\forall x, P(x) \\land R(x)] \\land \\neg[\\forall x, Q(x)] \\land \\neg[\\exists x, Q(x) \\land R(x)]$"
            ],
            "text/plain": [
              "<IPython.core.display.HTML object>"
            ]
          },
          "metadata": {
            "tags": []
          }
        },
        {
          "output_type": "display_data",
          "data": {
            "text/html": [
              "Pruning:  [$\\forall x, P(x) \\lor Q(x) \\lor R(x)$, $\\forall x, P(x) \\land Q(x)$, $\\forall x, P(x) \\land R(x)$, $\\forall x, Q(x) \\land R(x)$, $\\forall x, R(x)$, $\\exists x, P(x) \\land Q(x)$] Meaning:  $(\\forall x, P(x) \\lor Q(x) \\lor R(x)) \\land \\neg[\\forall x, R(x)] \\land \\neg[\\exists x, P(x) \\land Q(x)]$"
            ],
            "text/plain": [
              "<IPython.core.display.HTML object>"
            ]
          },
          "metadata": {
            "tags": []
          }
        },
        {
          "output_type": "display_data",
          "data": {
            "text/html": [
              "Pruning:  [$\\forall x, P(x) \\lor Q(x) \\lor R(x)$, $\\forall x, P(x) \\land Q(x)$, $\\forall x, P(x) \\land R(x)$, $\\forall x, Q(x) \\land R(x)$, $\\forall x, R(x)$, $\\exists x, P(x) \\land R(x)$] Meaning:  $(\\forall x, P(x) \\lor Q(x) \\lor R(x)) \\land \\neg[\\forall x, P(x) \\land Q(x)] \\land \\neg[\\forall x, R(x)] \\land \\neg[\\exists x, P(x) \\land R(x)]$"
            ],
            "text/plain": [
              "<IPython.core.display.HTML object>"
            ]
          },
          "metadata": {
            "tags": []
          }
        },
        {
          "output_type": "display_data",
          "data": {
            "text/html": [
              "Pruning:  [$\\forall x, P(x) \\lor Q(x) \\lor R(x)$, $\\forall x, P(x) \\land Q(x)$, $\\forall x, P(x) \\land R(x)$, $\\forall x, Q(x) \\land R(x)$, $\\forall x, R(x)$, $\\exists x, Q(x) \\land R(x)$] Meaning:  $(\\forall x, P(x) \\lor Q(x) \\lor R(x)) \\land \\neg[\\forall x, P(x) \\land Q(x)] \\land \\neg[\\forall x, R(x)] \\land \\neg[\\exists x, Q(x) \\land R(x)]$"
            ],
            "text/plain": [
              "<IPython.core.display.HTML object>"
            ]
          },
          "metadata": {
            "tags": []
          }
        },
        {
          "output_type": "display_data",
          "data": {
            "text/html": [
              "Pruning:  [$\\forall x, P(x) \\lor Q(x) \\lor R(x)$, $\\forall x, P(x) \\land Q(x)$, $\\forall x, P(x) \\land R(x)$, $\\forall x, Q(x) \\land R(x)$, $\\exists x, P(x) \\land Q(x)$, $\\exists x, P(x) \\land R(x)$] Meaning:  $(\\forall x, P(x) \\lor Q(x) \\lor R(x)) \\land \\neg[\\forall x, Q(x) \\land R(x)] \\land \\neg[\\exists x, P(x) \\land Q(x)] \\land \\neg[\\exists x, P(x) \\land R(x)]$"
            ],
            "text/plain": [
              "<IPython.core.display.HTML object>"
            ]
          },
          "metadata": {
            "tags": []
          }
        },
        {
          "output_type": "display_data",
          "data": {
            "text/html": [
              "Pruning:  [$\\forall x, P(x) \\lor Q(x) \\lor R(x)$, $\\forall x, P(x) \\land Q(x)$, $\\forall x, P(x) \\land R(x)$, $\\forall x, Q(x) \\land R(x)$, $\\exists x, P(x) \\land Q(x)$, $\\exists x, Q(x) \\land R(x)$] Meaning:  $(\\forall x, P(x) \\lor Q(x) \\lor R(x)) \\land \\neg[\\forall x, P(x) \\land R(x)] \\land \\neg[\\exists x, P(x) \\land Q(x)] \\land \\neg[\\exists x, Q(x) \\land R(x)]$"
            ],
            "text/plain": [
              "<IPython.core.display.HTML object>"
            ]
          },
          "metadata": {
            "tags": []
          }
        },
        {
          "output_type": "display_data",
          "data": {
            "text/html": [
              "Pruning:  [$\\forall x, P(x) \\lor Q(x) \\lor R(x)$, $\\forall x, P(x) \\land Q(x)$, $\\forall x, P(x) \\land R(x)$, $\\forall x, Q(x) \\land R(x)$, $\\exists x, P(x) \\land R(x)$, $\\exists x, Q(x) \\land R(x)$] Meaning:  $(\\forall x, P(x) \\lor Q(x) \\lor R(x)) \\land \\neg[\\forall x, P(x) \\land Q(x)] \\land \\neg[\\exists x, P(x) \\land R(x)] \\land \\neg[\\exists x, Q(x) \\land R(x)]$"
            ],
            "text/plain": [
              "<IPython.core.display.HTML object>"
            ]
          },
          "metadata": {
            "tags": []
          }
        },
        {
          "output_type": "display_data",
          "data": {
            "text/html": [
              "Pruning:  [$\\forall x, P(x) \\lor Q(x) \\lor R(x)$, $\\forall x, P(x) \\land Q(x)$, $\\forall x, P(x) \\land R(x)$, $\\forall x, P(x)$, $\\exists x, P(x) \\land Q(x)$, $\\exists x, P(x) \\land R(x)$] Meaning:  $(\\forall x, P(x) \\lor Q(x) \\lor R(x)) \\land \\neg[\\forall x, P(x)] \\land \\neg[\\exists x, P(x) \\land Q(x)] \\land \\neg[\\exists x, P(x) \\land R(x)]$"
            ],
            "text/plain": [
              "<IPython.core.display.HTML object>"
            ]
          },
          "metadata": {
            "tags": []
          }
        },
        {
          "output_type": "display_data",
          "data": {
            "text/html": [
              "Pruning:  [$\\forall x, P(x) \\lor Q(x) \\lor R(x)$, $\\forall x, P(x) \\land Q(x)$, $\\forall x, P(x) \\land R(x)$, $\\exists x, P(x)$, $\\exists x, Q(x)$, $\\exists x, R(x)$] Meaning:  $(\\forall x, P(x) \\lor Q(x) \\lor R(x)) \\land (\\exists x, P(x)) \\land (\\exists x, Q(x)) \\land (\\exists x, R(x)) \\land \\neg[\\forall x, P(x) \\land Q(x)] \\land \\neg[\\forall x, P(x) \\land R(x)]$"
            ],
            "text/plain": [
              "<IPython.core.display.HTML object>"
            ]
          },
          "metadata": {
            "tags": []
          }
        },
        {
          "output_type": "display_data",
          "data": {
            "text/html": [
              "Pruning:  [$\\forall x, P(x) \\lor Q(x) \\lor R(x)$, $\\forall x, P(x) \\land Q(x)$, $\\forall x, Q(x) \\land R(x)$, $\\forall x, Q(x)$, $\\exists x, P(x) \\land Q(x)$, $\\exists x, Q(x) \\land R(x)$] Meaning:  $(\\forall x, P(x) \\lor Q(x) \\lor R(x)) \\land \\neg[\\forall x, Q(x)] \\land \\neg[\\exists x, P(x) \\land Q(x)] \\land \\neg[\\exists x, Q(x) \\land R(x)]$"
            ],
            "text/plain": [
              "<IPython.core.display.HTML object>"
            ]
          },
          "metadata": {
            "tags": []
          }
        },
        {
          "output_type": "display_data",
          "data": {
            "text/html": [
              "Pruning:  [$\\forall x, P(x) \\lor Q(x) \\lor R(x)$, $\\forall x, P(x) \\land Q(x)$, $\\forall x, Q(x) \\land R(x)$, $\\exists x, P(x)$, $\\exists x, Q(x)$, $\\exists x, R(x)$] Meaning:  $(\\forall x, P(x) \\lor Q(x) \\lor R(x)) \\land (\\exists x, P(x)) \\land (\\exists x, Q(x)) \\land (\\exists x, R(x)) \\land \\neg[\\forall x, P(x) \\land Q(x)] \\land \\neg[\\forall x, Q(x) \\land R(x)]$"
            ],
            "text/plain": [
              "<IPython.core.display.HTML object>"
            ]
          },
          "metadata": {
            "tags": []
          }
        },
        {
          "output_type": "display_data",
          "data": {
            "text/html": [
              "Pruning:  [$\\forall x, P(x) \\lor Q(x) \\lor R(x)$, $\\forall x, P(x) \\land Q(x)$, $\\forall x, P(x)$, $\\exists x, P(x) \\land Q(x)$, $\\exists x, Q(x)$, $\\exists x, R(x)$] Meaning:  $(\\forall x, P(x) \\lor Q(x) \\lor R(x)) \\land (\\exists x, R(x)) \\land \\neg[\\exists x, P(x) \\land Q(x)]$"
            ],
            "text/plain": [
              "<IPython.core.display.HTML object>"
            ]
          },
          "metadata": {
            "tags": []
          }
        },
        {
          "output_type": "display_data",
          "data": {
            "text/html": [
              "Pruning:  [$\\forall x, P(x) \\lor Q(x) \\lor R(x)$, $\\forall x, P(x) \\land Q(x)$, $\\forall x, Q(x)$, $\\exists x, P(x) \\land Q(x)$, $\\exists x, P(x)$, $\\exists x, R(x)$] Meaning:  $(\\forall x, P(x) \\lor Q(x) \\lor R(x)) \\land (\\exists x, R(x)) \\land \\neg[\\exists x, P(x) \\land Q(x)]$"
            ],
            "text/plain": [
              "<IPython.core.display.HTML object>"
            ]
          },
          "metadata": {
            "tags": []
          }
        },
        {
          "output_type": "display_data",
          "data": {
            "text/html": [
              "Pruning:  [$\\forall x, P(x) \\lor Q(x) \\lor R(x)$, $\\forall x, P(x) \\land R(x)$, $\\forall x, Q(x) \\land R(x)$, $\\forall x, R(x)$, $\\exists x, P(x) \\land R(x)$, $\\exists x, Q(x) \\land R(x)$] Meaning:  $(\\forall x, P(x) \\lor Q(x) \\lor R(x)) \\land \\neg[\\forall x, R(x)] \\land \\neg[\\exists x, P(x) \\land R(x)] \\land \\neg[\\exists x, Q(x) \\land R(x)]$"
            ],
            "text/plain": [
              "<IPython.core.display.HTML object>"
            ]
          },
          "metadata": {
            "tags": []
          }
        },
        {
          "output_type": "display_data",
          "data": {
            "text/html": [
              "Pruning:  [$\\forall x, P(x) \\lor Q(x) \\lor R(x)$, $\\forall x, P(x) \\land R(x)$, $\\forall x, Q(x) \\land R(x)$, $\\exists x, P(x)$, $\\exists x, Q(x)$, $\\exists x, R(x)$] Meaning:  $(\\forall x, P(x) \\lor Q(x) \\lor R(x)) \\land (\\exists x, P(x)) \\land (\\exists x, Q(x)) \\land (\\exists x, R(x)) \\land \\neg[\\forall x, P(x) \\land R(x)] \\land \\neg[\\forall x, Q(x) \\land R(x)]$"
            ],
            "text/plain": [
              "<IPython.core.display.HTML object>"
            ]
          },
          "metadata": {
            "tags": []
          }
        },
        {
          "output_type": "display_data",
          "data": {
            "text/html": [
              "Pruning:  [$\\forall x, P(x) \\lor Q(x) \\lor R(x)$, $\\forall x, P(x) \\land R(x)$, $\\forall x, P(x)$, $\\exists x, P(x) \\land R(x)$, $\\exists x, Q(x)$, $\\exists x, R(x)$] Meaning:  $(\\forall x, P(x) \\lor Q(x) \\lor R(x)) \\land (\\exists x, Q(x)) \\land \\neg[\\exists x, P(x) \\land R(x)]$"
            ],
            "text/plain": [
              "<IPython.core.display.HTML object>"
            ]
          },
          "metadata": {
            "tags": []
          }
        },
        {
          "output_type": "display_data",
          "data": {
            "text/html": [
              "Pruning:  [$\\forall x, P(x) \\lor Q(x) \\lor R(x)$, $\\forall x, P(x) \\land R(x)$, $\\forall x, R(x)$, $\\exists x, P(x) \\land R(x)$, $\\exists x, P(x)$, $\\exists x, Q(x)$] Meaning:  $(\\forall x, P(x) \\lor Q(x) \\lor R(x)) \\land (\\exists x, Q(x)) \\land \\neg[\\exists x, P(x) \\land R(x)]$"
            ],
            "text/plain": [
              "<IPython.core.display.HTML object>"
            ]
          },
          "metadata": {
            "tags": []
          }
        },
        {
          "output_type": "display_data",
          "data": {
            "text/html": [
              "Pruning:  [$\\forall x, P(x) \\lor Q(x) \\lor R(x)$, $\\forall x, Q(x) \\land R(x)$, $\\forall x, Q(x)$, $\\exists x, Q(x) \\land R(x)$, $\\exists x, P(x)$, $\\exists x, R(x)$] Meaning:  $(\\forall x, P(x) \\lor Q(x) \\lor R(x)) \\land (\\exists x, P(x)) \\land \\neg[\\exists x, Q(x) \\land R(x)]$"
            ],
            "text/plain": [
              "<IPython.core.display.HTML object>"
            ]
          },
          "metadata": {
            "tags": []
          }
        },
        {
          "output_type": "display_data",
          "data": {
            "text/html": [
              "Pruning:  [$\\forall x, P(x) \\lor Q(x) \\lor R(x)$, $\\forall x, Q(x) \\land R(x)$, $\\forall x, R(x)$, $\\exists x, Q(x) \\land R(x)$, $\\exists x, P(x)$, $\\exists x, Q(x)$] Meaning:  $(\\forall x, P(x) \\lor Q(x) \\lor R(x)) \\land (\\exists x, P(x)) \\land \\neg[\\exists x, Q(x) \\land R(x)]$"
            ],
            "text/plain": [
              "<IPython.core.display.HTML object>"
            ]
          },
          "metadata": {
            "tags": []
          }
        },
        {
          "output_type": "display_data",
          "data": {
            "text/html": [
              "Pruning:  [$\\forall x, P(x) \\lor Q(x) \\lor R(x)$, $\\forall x, P(x) \\land Q(x)$, $\\forall x, P(x) \\land R(x)$, $\\forall x, Q(x) \\land R(x)$, $\\forall x, P(x)$, $\\forall x, Q(x)$, $\\forall x, R(x)$] Meaning:  $(\\forall x, P(x) \\lor Q(x) \\lor R(x)) \\land \\neg[\\forall x, P(x)] \\land \\neg[\\forall x, Q(x)] \\land \\neg[\\forall x, R(x)]$"
            ],
            "text/plain": [
              "<IPython.core.display.HTML object>"
            ]
          },
          "metadata": {
            "tags": []
          }
        },
        {
          "output_type": "display_data",
          "data": {
            "text/html": [
              "Pruning:  [$\\forall x, P(x) \\lor Q(x) \\lor R(x)$, $\\forall x, P(x) \\land Q(x)$, $\\forall x, P(x) \\land R(x)$, $\\forall x, Q(x) \\land R(x)$, $\\forall x, P(x)$, $\\forall x, Q(x)$, $\\exists x, P(x) \\land Q(x)$] Meaning:  $(\\forall x, P(x) \\lor Q(x) \\lor R(x)) \\land \\neg[\\forall x, P(x)] \\land \\neg[\\forall x, Q(x)] \\land \\neg[\\exists x, P(x) \\land Q(x)]$"
            ],
            "text/plain": [
              "<IPython.core.display.HTML object>"
            ]
          },
          "metadata": {
            "tags": []
          }
        },
        {
          "output_type": "display_data",
          "data": {
            "text/html": [
              "Pruning:  [$\\forall x, P(x) \\lor Q(x) \\lor R(x)$, $\\forall x, P(x) \\land Q(x)$, $\\forall x, P(x) \\land R(x)$, $\\forall x, Q(x) \\land R(x)$, $\\forall x, P(x)$, $\\forall x, Q(x)$, $\\exists x, P(x) \\land R(x)$] Meaning:  $(\\forall x, P(x) \\lor Q(x) \\lor R(x)) \\land \\neg[\\forall x, P(x)] \\land \\neg[\\forall x, Q(x)] \\land \\neg[\\exists x, P(x) \\land R(x)]$"
            ],
            "text/plain": [
              "<IPython.core.display.HTML object>"
            ]
          },
          "metadata": {
            "tags": []
          }
        },
        {
          "output_type": "display_data",
          "data": {
            "text/html": [
              "Pruning:  [$\\forall x, P(x) \\lor Q(x) \\lor R(x)$, $\\forall x, P(x) \\land Q(x)$, $\\forall x, P(x) \\land R(x)$, $\\forall x, Q(x) \\land R(x)$, $\\forall x, P(x)$, $\\forall x, Q(x)$, $\\exists x, Q(x) \\land R(x)$] Meaning:  $(\\forall x, P(x) \\lor Q(x) \\lor R(x)) \\land \\neg[\\forall x, P(x)] \\land \\neg[\\forall x, Q(x)] \\land \\neg[\\exists x, Q(x) \\land R(x)]$"
            ],
            "text/plain": [
              "<IPython.core.display.HTML object>"
            ]
          },
          "metadata": {
            "tags": []
          }
        },
        {
          "output_type": "display_data",
          "data": {
            "text/html": [
              "Pruning:  [$\\forall x, P(x) \\lor Q(x) \\lor R(x)$, $\\forall x, P(x) \\land Q(x)$, $\\forall x, P(x) \\land R(x)$, $\\forall x, Q(x) \\land R(x)$, $\\forall x, P(x)$, $\\forall x, R(x)$, $\\exists x, P(x) \\land Q(x)$] Meaning:  $(\\forall x, P(x) \\lor Q(x) \\lor R(x)) \\land \\neg[\\forall x, P(x)] \\land \\neg[\\forall x, R(x)] \\land \\neg[\\exists x, P(x) \\land Q(x)]$"
            ],
            "text/plain": [
              "<IPython.core.display.HTML object>"
            ]
          },
          "metadata": {
            "tags": []
          }
        },
        {
          "output_type": "display_data",
          "data": {
            "text/html": [
              "Pruning:  [$\\forall x, P(x) \\lor Q(x) \\lor R(x)$, $\\forall x, P(x) \\land Q(x)$, $\\forall x, P(x) \\land R(x)$, $\\forall x, Q(x) \\land R(x)$, $\\forall x, P(x)$, $\\forall x, R(x)$, $\\exists x, P(x) \\land R(x)$] Meaning:  $(\\forall x, P(x) \\lor Q(x) \\lor R(x)) \\land \\neg[\\forall x, P(x)] \\land \\neg[\\forall x, R(x)] \\land \\neg[\\exists x, P(x) \\land R(x)]$"
            ],
            "text/plain": [
              "<IPython.core.display.HTML object>"
            ]
          },
          "metadata": {
            "tags": []
          }
        },
        {
          "output_type": "display_data",
          "data": {
            "text/html": [
              "Pruning:  [$\\forall x, P(x) \\lor Q(x) \\lor R(x)$, $\\forall x, P(x) \\land Q(x)$, $\\forall x, P(x) \\land R(x)$, $\\forall x, Q(x) \\land R(x)$, $\\forall x, P(x)$, $\\forall x, R(x)$, $\\exists x, Q(x) \\land R(x)$] Meaning:  $(\\forall x, P(x) \\lor Q(x) \\lor R(x)) \\land \\neg[\\forall x, P(x)] \\land \\neg[\\forall x, R(x)] \\land \\neg[\\exists x, Q(x) \\land R(x)]$"
            ],
            "text/plain": [
              "<IPython.core.display.HTML object>"
            ]
          },
          "metadata": {
            "tags": []
          }
        },
        {
          "output_type": "display_data",
          "data": {
            "text/html": [
              "Pruning:  [$\\forall x, P(x) \\lor Q(x) \\lor R(x)$, $\\forall x, P(x) \\land Q(x)$, $\\forall x, P(x) \\land R(x)$, $\\forall x, Q(x) \\land R(x)$, $\\forall x, P(x)$, $\\exists x, P(x) \\land Q(x)$, $\\exists x, P(x) \\land R(x)$] Meaning:  $(\\forall x, P(x) \\lor Q(x) \\lor R(x)) \\land \\neg[\\forall x, Q(x) \\land R(x)] \\land \\neg[\\forall x, P(x)] \\land \\neg[\\exists x, P(x) \\land Q(x)] \\land \\neg[\\exists x, P(x) \\land R(x)]$"
            ],
            "text/plain": [
              "<IPython.core.display.HTML object>"
            ]
          },
          "metadata": {
            "tags": []
          }
        },
        {
          "output_type": "display_data",
          "data": {
            "text/html": [
              "Pruning:  [$\\forall x, P(x) \\lor Q(x) \\lor R(x)$, $\\forall x, P(x) \\land Q(x)$, $\\forall x, P(x) \\land R(x)$, $\\forall x, Q(x) \\land R(x)$, $\\forall x, P(x)$, $\\exists x, P(x) \\land Q(x)$, $\\exists x, Q(x) \\land R(x)$] Meaning:  $(\\forall x, P(x) \\lor Q(x) \\lor R(x)) \\land \\neg[\\forall x, P(x)] \\land \\neg[\\exists x, P(x) \\land Q(x)] \\land \\neg[\\exists x, Q(x) \\land R(x)]$"
            ],
            "text/plain": [
              "<IPython.core.display.HTML object>"
            ]
          },
          "metadata": {
            "tags": []
          }
        },
        {
          "output_type": "display_data",
          "data": {
            "text/html": [
              "Pruning:  [$\\forall x, P(x) \\lor Q(x) \\lor R(x)$, $\\forall x, P(x) \\land Q(x)$, $\\forall x, P(x) \\land R(x)$, $\\forall x, Q(x) \\land R(x)$, $\\forall x, P(x)$, $\\exists x, P(x) \\land R(x)$, $\\exists x, Q(x) \\land R(x)$] Meaning:  $(\\forall x, P(x) \\lor Q(x) \\lor R(x)) \\land \\neg[\\forall x, P(x)] \\land \\neg[\\exists x, P(x) \\land R(x)] \\land \\neg[\\exists x, Q(x) \\land R(x)]$"
            ],
            "text/plain": [
              "<IPython.core.display.HTML object>"
            ]
          },
          "metadata": {
            "tags": []
          }
        },
        {
          "output_type": "display_data",
          "data": {
            "text/html": [
              "Pruning:  [$\\forall x, P(x) \\lor Q(x) \\lor R(x)$, $\\forall x, P(x) \\land Q(x)$, $\\forall x, P(x) \\land R(x)$, $\\forall x, Q(x) \\land R(x)$, $\\forall x, Q(x)$, $\\forall x, R(x)$, $\\exists x, P(x) \\land Q(x)$] Meaning:  $(\\forall x, P(x) \\lor Q(x) \\lor R(x)) \\land \\neg[\\forall x, Q(x)] \\land \\neg[\\forall x, R(x)] \\land \\neg[\\exists x, P(x) \\land Q(x)]$"
            ],
            "text/plain": [
              "<IPython.core.display.HTML object>"
            ]
          },
          "metadata": {
            "tags": []
          }
        },
        {
          "output_type": "display_data",
          "data": {
            "text/html": [
              "Pruning:  [$\\forall x, P(x) \\lor Q(x) \\lor R(x)$, $\\forall x, P(x) \\land Q(x)$, $\\forall x, P(x) \\land R(x)$, $\\forall x, Q(x) \\land R(x)$, $\\forall x, Q(x)$, $\\forall x, R(x)$, $\\exists x, P(x) \\land R(x)$] Meaning:  $(\\forall x, P(x) \\lor Q(x) \\lor R(x)) \\land \\neg[\\forall x, Q(x)] \\land \\neg[\\forall x, R(x)] \\land \\neg[\\exists x, P(x) \\land R(x)]$"
            ],
            "text/plain": [
              "<IPython.core.display.HTML object>"
            ]
          },
          "metadata": {
            "tags": []
          }
        },
        {
          "output_type": "display_data",
          "data": {
            "text/html": [
              "Pruning:  [$\\forall x, P(x) \\lor Q(x) \\lor R(x)$, $\\forall x, P(x) \\land Q(x)$, $\\forall x, P(x) \\land R(x)$, $\\forall x, Q(x) \\land R(x)$, $\\forall x, Q(x)$, $\\forall x, R(x)$, $\\exists x, Q(x) \\land R(x)$] Meaning:  $(\\forall x, P(x) \\lor Q(x) \\lor R(x)) \\land \\neg[\\forall x, Q(x)] \\land \\neg[\\forall x, R(x)] \\land \\neg[\\exists x, Q(x) \\land R(x)]$"
            ],
            "text/plain": [
              "<IPython.core.display.HTML object>"
            ]
          },
          "metadata": {
            "tags": []
          }
        },
        {
          "output_type": "display_data",
          "data": {
            "text/html": [
              "Pruning:  [$\\forall x, P(x) \\lor Q(x) \\lor R(x)$, $\\forall x, P(x) \\land Q(x)$, $\\forall x, P(x) \\land R(x)$, $\\forall x, Q(x) \\land R(x)$, $\\forall x, Q(x)$, $\\exists x, P(x) \\land Q(x)$, $\\exists x, P(x) \\land R(x)$] Meaning:  $(\\forall x, P(x) \\lor Q(x) \\lor R(x)) \\land \\neg[\\forall x, Q(x)] \\land \\neg[\\exists x, P(x) \\land Q(x)] \\land \\neg[\\exists x, P(x) \\land R(x)]$"
            ],
            "text/plain": [
              "<IPython.core.display.HTML object>"
            ]
          },
          "metadata": {
            "tags": []
          }
        },
        {
          "output_type": "display_data",
          "data": {
            "text/html": [
              "Pruning:  [$\\forall x, P(x) \\lor Q(x) \\lor R(x)$, $\\forall x, P(x) \\land Q(x)$, $\\forall x, P(x) \\land R(x)$, $\\forall x, Q(x) \\land R(x)$, $\\forall x, Q(x)$, $\\exists x, P(x) \\land Q(x)$, $\\exists x, Q(x) \\land R(x)$] Meaning:  $(\\forall x, P(x) \\lor Q(x) \\lor R(x)) \\land \\neg[\\forall x, P(x) \\land R(x)] \\land \\neg[\\forall x, Q(x)] \\land \\neg[\\exists x, P(x) \\land Q(x)] \\land \\neg[\\exists x, Q(x) \\land R(x)]$"
            ],
            "text/plain": [
              "<IPython.core.display.HTML object>"
            ]
          },
          "metadata": {
            "tags": []
          }
        },
        {
          "output_type": "display_data",
          "data": {
            "text/html": [
              "Pruning:  [$\\forall x, P(x) \\lor Q(x) \\lor R(x)$, $\\forall x, P(x) \\land Q(x)$, $\\forall x, P(x) \\land R(x)$, $\\forall x, Q(x) \\land R(x)$, $\\forall x, Q(x)$, $\\exists x, P(x) \\land R(x)$, $\\exists x, Q(x) \\land R(x)$] Meaning:  $(\\forall x, P(x) \\lor Q(x) \\lor R(x)) \\land \\neg[\\forall x, Q(x)] \\land \\neg[\\exists x, P(x) \\land R(x)] \\land \\neg[\\exists x, Q(x) \\land R(x)]$"
            ],
            "text/plain": [
              "<IPython.core.display.HTML object>"
            ]
          },
          "metadata": {
            "tags": []
          }
        },
        {
          "output_type": "display_data",
          "data": {
            "text/html": [
              "Pruning:  [$\\forall x, P(x) \\lor Q(x) \\lor R(x)$, $\\forall x, P(x) \\land Q(x)$, $\\forall x, P(x) \\land R(x)$, $\\forall x, Q(x) \\land R(x)$, $\\forall x, R(x)$, $\\exists x, P(x) \\land Q(x)$, $\\exists x, P(x) \\land R(x)$] Meaning:  $(\\forall x, P(x) \\lor Q(x) \\lor R(x)) \\land \\neg[\\forall x, R(x)] \\land \\neg[\\exists x, P(x) \\land Q(x)] \\land \\neg[\\exists x, P(x) \\land R(x)]$"
            ],
            "text/plain": [
              "<IPython.core.display.HTML object>"
            ]
          },
          "metadata": {
            "tags": []
          }
        },
        {
          "output_type": "display_data",
          "data": {
            "text/html": [
              "Pruning:  [$\\forall x, P(x) \\lor Q(x) \\lor R(x)$, $\\forall x, P(x) \\land Q(x)$, $\\forall x, P(x) \\land R(x)$, $\\forall x, Q(x) \\land R(x)$, $\\forall x, R(x)$, $\\exists x, P(x) \\land Q(x)$, $\\exists x, Q(x) \\land R(x)$] Meaning:  $(\\forall x, P(x) \\lor Q(x) \\lor R(x)) \\land \\neg[\\forall x, R(x)] \\land \\neg[\\exists x, P(x) \\land Q(x)] \\land \\neg[\\exists x, Q(x) \\land R(x)]$"
            ],
            "text/plain": [
              "<IPython.core.display.HTML object>"
            ]
          },
          "metadata": {
            "tags": []
          }
        },
        {
          "output_type": "display_data",
          "data": {
            "text/html": [
              "Pruning:  [$\\forall x, P(x) \\lor Q(x) \\lor R(x)$, $\\forall x, P(x) \\land Q(x)$, $\\forall x, P(x) \\land R(x)$, $\\forall x, Q(x) \\land R(x)$, $\\forall x, R(x)$, $\\exists x, P(x) \\land R(x)$, $\\exists x, Q(x) \\land R(x)$] Meaning:  $(\\forall x, P(x) \\lor Q(x) \\lor R(x)) \\land \\neg[\\forall x, P(x) \\land Q(x)] \\land \\neg[\\forall x, R(x)] \\land \\neg[\\exists x, P(x) \\land R(x)] \\land \\neg[\\exists x, Q(x) \\land R(x)]$"
            ],
            "text/plain": [
              "<IPython.core.display.HTML object>"
            ]
          },
          "metadata": {
            "tags": []
          }
        },
        {
          "output_type": "display_data",
          "data": {
            "text/html": [
              "Pruning:  [$\\forall x, P(x) \\lor Q(x) \\lor R(x)$, $\\forall x, P(x) \\land Q(x)$, $\\forall x, P(x) \\land R(x)$, $\\forall x, Q(x) \\land R(x)$, $\\exists x, P(x) \\land Q(x)$, $\\exists x, P(x) \\land R(x)$, $\\exists x, Q(x) \\land R(x)$] Meaning:  $(\\forall x, P(x) \\lor Q(x) \\lor R(x)) \\land \\neg[\\exists x, P(x) \\land Q(x)] \\land \\neg[\\exists x, P(x) \\land R(x)] \\land \\neg[\\exists x, Q(x) \\land R(x)]$"
            ],
            "text/plain": [
              "<IPython.core.display.HTML object>"
            ]
          },
          "metadata": {
            "tags": []
          }
        },
        {
          "output_type": "display_data",
          "data": {
            "text/html": [
              "Pruning:  [$\\forall x, P(x) \\lor Q(x) \\lor R(x)$, $\\forall x, P(x) \\land Q(x)$, $\\forall x, P(x) \\land R(x)$, $\\forall x, Q(x) \\land R(x)$, $\\exists x, P(x)$, $\\exists x, Q(x)$, $\\exists x, R(x)$] Meaning:  $(\\forall x, P(x) \\lor Q(x) \\lor R(x)) \\land (\\exists x, P(x)) \\land (\\exists x, Q(x)) \\land (\\exists x, R(x)) \\land \\neg[\\forall x, P(x) \\land Q(x)] \\land \\neg[\\forall x, P(x) \\land R(x)] \\land \\neg[\\forall x, Q(x) \\land R(x)]$"
            ],
            "text/plain": [
              "<IPython.core.display.HTML object>"
            ]
          },
          "metadata": {
            "tags": []
          }
        },
        {
          "output_type": "display_data",
          "data": {
            "text/html": [
              "Pruning:  [$\\forall x, P(x) \\lor Q(x) \\lor R(x)$, $\\forall x, P(x) \\land Q(x)$, $\\forall x, P(x) \\land R(x)$, $\\forall x, P(x)$, $\\exists x, P(x) \\land Q(x)$, $\\exists x, P(x) \\land R(x)$, $\\exists x, P(x)$] Meaning:  $(\\forall x, P(x) \\lor Q(x) \\lor R(x)) \\land \\neg[\\exists x, P(x)]$"
            ],
            "text/plain": [
              "<IPython.core.display.HTML object>"
            ]
          },
          "metadata": {
            "tags": []
          }
        },
        {
          "output_type": "display_data",
          "data": {
            "text/html": [
              "Pruning:  [$\\forall x, P(x) \\lor Q(x) \\lor R(x)$, $\\forall x, P(x) \\land Q(x)$, $\\forall x, P(x) \\land R(x)$, $\\forall x, P(x)$, $\\exists x, P(x) \\land Q(x)$, $\\exists x, Q(x)$, $\\exists x, R(x)$] Meaning:  $(\\forall x, P(x) \\lor Q(x) \\lor R(x)) \\land (\\exists x, R(x)) \\land \\neg[\\forall x, P(x) \\land R(x)] \\land \\neg[\\exists x, P(x) \\land Q(x)]$"
            ],
            "text/plain": [
              "<IPython.core.display.HTML object>"
            ]
          },
          "metadata": {
            "tags": []
          }
        },
        {
          "output_type": "display_data",
          "data": {
            "text/html": [
              "Pruning:  [$\\forall x, P(x) \\lor Q(x) \\lor R(x)$, $\\forall x, P(x) \\land Q(x)$, $\\forall x, P(x) \\land R(x)$, $\\forall x, P(x)$, $\\exists x, P(x) \\land R(x)$, $\\exists x, Q(x)$, $\\exists x, R(x)$] Meaning:  $(\\forall x, P(x) \\lor Q(x) \\lor R(x)) \\land (\\exists x, Q(x)) \\land \\neg[\\forall x, P(x) \\land Q(x)] \\land \\neg[\\exists x, P(x) \\land R(x)]$"
            ],
            "text/plain": [
              "<IPython.core.display.HTML object>"
            ]
          },
          "metadata": {
            "tags": []
          }
        },
        {
          "output_type": "display_data",
          "data": {
            "text/html": [
              "Pruning:  [$\\forall x, P(x) \\lor Q(x) \\lor R(x)$, $\\forall x, P(x) \\land Q(x)$, $\\forall x, P(x) \\land R(x)$, $\\forall x, Q(x)$, $\\exists x, P(x) \\land Q(x)$, $\\exists x, P(x)$, $\\exists x, R(x)$] Meaning:  $(\\forall x, P(x) \\lor Q(x) \\lor R(x)) \\land (\\exists x, R(x)) \\land \\neg[\\forall x, P(x) \\land R(x)] \\land \\neg[\\exists x, P(x) \\land Q(x)]$"
            ],
            "text/plain": [
              "<IPython.core.display.HTML object>"
            ]
          },
          "metadata": {
            "tags": []
          }
        },
        {
          "output_type": "display_data",
          "data": {
            "text/html": [
              "Pruning:  [$\\forall x, P(x) \\lor Q(x) \\lor R(x)$, $\\forall x, P(x) \\land Q(x)$, $\\forall x, P(x) \\land R(x)$, $\\forall x, R(x)$, $\\exists x, P(x) \\land R(x)$, $\\exists x, P(x)$, $\\exists x, Q(x)$] Meaning:  $(\\forall x, P(x) \\lor Q(x) \\lor R(x)) \\land (\\exists x, Q(x)) \\land \\neg[\\forall x, P(x) \\land Q(x)] \\land \\neg[\\exists x, P(x) \\land R(x)]$"
            ],
            "text/plain": [
              "<IPython.core.display.HTML object>"
            ]
          },
          "metadata": {
            "tags": []
          }
        },
        {
          "output_type": "display_data",
          "data": {
            "text/html": [
              "Pruning:  [$\\forall x, P(x) \\lor Q(x) \\lor R(x)$, $\\forall x, P(x) \\land Q(x)$, $\\forall x, Q(x) \\land R(x)$, $\\forall x, P(x)$, $\\exists x, P(x) \\land Q(x)$, $\\exists x, Q(x)$, $\\exists x, R(x)$] Meaning:  $(\\forall x, P(x) \\lor Q(x) \\lor R(x)) \\land (\\exists x, R(x)) \\land \\neg[\\forall x, Q(x) \\land R(x)] \\land \\neg[\\exists x, P(x) \\land Q(x)]$"
            ],
            "text/plain": [
              "<IPython.core.display.HTML object>"
            ]
          },
          "metadata": {
            "tags": []
          }
        },
        {
          "output_type": "display_data",
          "data": {
            "text/html": [
              "Pruning:  [$\\forall x, P(x) \\lor Q(x) \\lor R(x)$, $\\forall x, P(x) \\land Q(x)$, $\\forall x, Q(x) \\land R(x)$, $\\forall x, Q(x)$, $\\exists x, P(x) \\land Q(x)$, $\\exists x, Q(x) \\land R(x)$, $\\exists x, Q(x)$] Meaning:  $(\\forall x, P(x) \\lor Q(x) \\lor R(x)) \\land \\neg[\\exists x, Q(x)]$"
            ],
            "text/plain": [
              "<IPython.core.display.HTML object>"
            ]
          },
          "metadata": {
            "tags": []
          }
        },
        {
          "output_type": "display_data",
          "data": {
            "text/html": [
              "Pruning:  [$\\forall x, P(x) \\lor Q(x) \\lor R(x)$, $\\forall x, P(x) \\land Q(x)$, $\\forall x, Q(x) \\land R(x)$, $\\forall x, Q(x)$, $\\exists x, P(x) \\land Q(x)$, $\\exists x, P(x)$, $\\exists x, R(x)$] Meaning:  $(\\forall x, P(x) \\lor Q(x) \\lor R(x)) \\land (\\exists x, R(x)) \\land \\neg[\\forall x, Q(x) \\land R(x)] \\land \\neg[\\exists x, P(x) \\land Q(x)]$"
            ],
            "text/plain": [
              "<IPython.core.display.HTML object>"
            ]
          },
          "metadata": {
            "tags": []
          }
        },
        {
          "output_type": "display_data",
          "data": {
            "text/html": [
              "Pruning:  [$\\forall x, P(x) \\lor Q(x) \\lor R(x)$, $\\forall x, P(x) \\land Q(x)$, $\\forall x, Q(x) \\land R(x)$, $\\forall x, Q(x)$, $\\exists x, Q(x) \\land R(x)$, $\\exists x, P(x)$, $\\exists x, R(x)$] Meaning:  $(\\forall x, P(x) \\lor Q(x) \\lor R(x)) \\land (\\exists x, P(x)) \\land \\neg[\\forall x, P(x) \\land Q(x)] \\land \\neg[\\exists x, Q(x) \\land R(x)]$"
            ],
            "text/plain": [
              "<IPython.core.display.HTML object>"
            ]
          },
          "metadata": {
            "tags": []
          }
        },
        {
          "output_type": "display_data",
          "data": {
            "text/html": [
              "Pruning:  [$\\forall x, P(x) \\lor Q(x) \\lor R(x)$, $\\forall x, P(x) \\land Q(x)$, $\\forall x, Q(x) \\land R(x)$, $\\forall x, R(x)$, $\\exists x, Q(x) \\land R(x)$, $\\exists x, P(x)$, $\\exists x, Q(x)$] Meaning:  $(\\forall x, P(x) \\lor Q(x) \\lor R(x)) \\land (\\exists x, P(x)) \\land \\neg[\\forall x, P(x) \\land Q(x)] \\land \\neg[\\exists x, Q(x) \\land R(x)]$"
            ],
            "text/plain": [
              "<IPython.core.display.HTML object>"
            ]
          },
          "metadata": {
            "tags": []
          }
        },
        {
          "output_type": "display_data",
          "data": {
            "text/html": [
              "Pruning:  [$\\forall x, P(x) \\lor Q(x) \\lor R(x)$, $\\forall x, P(x) \\land Q(x)$, $\\forall x, P(x)$, $\\forall x, Q(x)$, $\\exists x, P(x)$, $\\exists x, Q(x)$, $\\exists x, R(x)$] Meaning:  $(\\forall x, P(x) \\lor Q(x) \\lor R(x)) \\land (\\exists x, P(x)) \\land (\\exists x, Q(x)) \\land (\\exists x, R(x)) \\land \\neg[\\forall x, P(x) \\land Q(x)]$"
            ],
            "text/plain": [
              "<IPython.core.display.HTML object>"
            ]
          },
          "metadata": {
            "tags": []
          }
        },
        {
          "output_type": "display_data",
          "data": {
            "text/html": [
              "Pruning:  [$\\forall x, P(x) \\lor Q(x) \\lor R(x)$, $\\forall x, P(x) \\land R(x)$, $\\forall x, Q(x) \\land R(x)$, $\\forall x, P(x)$, $\\exists x, P(x) \\land R(x)$, $\\exists x, Q(x)$, $\\exists x, R(x)$] Meaning:  $(\\forall x, P(x) \\lor Q(x) \\lor R(x)) \\land (\\exists x, Q(x)) \\land \\neg[\\forall x, Q(x) \\land R(x)] \\land \\neg[\\exists x, P(x) \\land R(x)]$"
            ],
            "text/plain": [
              "<IPython.core.display.HTML object>"
            ]
          },
          "metadata": {
            "tags": []
          }
        },
        {
          "output_type": "display_data",
          "data": {
            "text/html": [
              "Pruning:  [$\\forall x, P(x) \\lor Q(x) \\lor R(x)$, $\\forall x, P(x) \\land R(x)$, $\\forall x, Q(x) \\land R(x)$, $\\forall x, Q(x)$, $\\exists x, Q(x) \\land R(x)$, $\\exists x, P(x)$, $\\exists x, R(x)$] Meaning:  $(\\forall x, P(x) \\lor Q(x) \\lor R(x)) \\land (\\exists x, P(x)) \\land \\neg[\\forall x, P(x) \\land R(x)] \\land \\neg[\\exists x, Q(x) \\land R(x)]$"
            ],
            "text/plain": [
              "<IPython.core.display.HTML object>"
            ]
          },
          "metadata": {
            "tags": []
          }
        },
        {
          "output_type": "display_data",
          "data": {
            "text/html": [
              "Pruning:  [$\\forall x, P(x) \\lor Q(x) \\lor R(x)$, $\\forall x, P(x) \\land R(x)$, $\\forall x, Q(x) \\land R(x)$, $\\forall x, R(x)$, $\\exists x, P(x) \\land R(x)$, $\\exists x, Q(x) \\land R(x)$, $\\exists x, R(x)$] Meaning:  $(\\forall x, P(x) \\lor Q(x) \\lor R(x)) \\land \\neg[\\exists x, R(x)]$"
            ],
            "text/plain": [
              "<IPython.core.display.HTML object>"
            ]
          },
          "metadata": {
            "tags": []
          }
        },
        {
          "output_type": "display_data",
          "data": {
            "text/html": [
              "Pruning:  [$\\forall x, P(x) \\lor Q(x) \\lor R(x)$, $\\forall x, P(x) \\land R(x)$, $\\forall x, Q(x) \\land R(x)$, $\\forall x, R(x)$, $\\exists x, P(x) \\land R(x)$, $\\exists x, P(x)$, $\\exists x, Q(x)$] Meaning:  $(\\forall x, P(x) \\lor Q(x) \\lor R(x)) \\land (\\exists x, Q(x)) \\land \\neg[\\forall x, Q(x) \\land R(x)] \\land \\neg[\\exists x, P(x) \\land R(x)]$"
            ],
            "text/plain": [
              "<IPython.core.display.HTML object>"
            ]
          },
          "metadata": {
            "tags": []
          }
        },
        {
          "output_type": "display_data",
          "data": {
            "text/html": [
              "Pruning:  [$\\forall x, P(x) \\lor Q(x) \\lor R(x)$, $\\forall x, P(x) \\land R(x)$, $\\forall x, Q(x) \\land R(x)$, $\\forall x, R(x)$, $\\exists x, Q(x) \\land R(x)$, $\\exists x, P(x)$, $\\exists x, Q(x)$] Meaning:  $(\\forall x, P(x) \\lor Q(x) \\lor R(x)) \\land (\\exists x, P(x)) \\land \\neg[\\forall x, P(x) \\land R(x)] \\land \\neg[\\exists x, Q(x) \\land R(x)]$"
            ],
            "text/plain": [
              "<IPython.core.display.HTML object>"
            ]
          },
          "metadata": {
            "tags": []
          }
        },
        {
          "output_type": "display_data",
          "data": {
            "text/html": [
              "Pruning:  [$\\forall x, P(x) \\lor Q(x) \\lor R(x)$, $\\forall x, P(x) \\land R(x)$, $\\forall x, P(x)$, $\\forall x, R(x)$, $\\exists x, P(x)$, $\\exists x, Q(x)$, $\\exists x, R(x)$] Meaning:  $(\\forall x, P(x) \\lor Q(x) \\lor R(x)) \\land (\\exists x, P(x)) \\land (\\exists x, Q(x)) \\land (\\exists x, R(x)) \\land \\neg[\\forall x, P(x) \\land R(x)]$"
            ],
            "text/plain": [
              "<IPython.core.display.HTML object>"
            ]
          },
          "metadata": {
            "tags": []
          }
        },
        {
          "output_type": "display_data",
          "data": {
            "text/html": [
              "Pruning:  [$\\forall x, P(x) \\lor Q(x) \\lor R(x)$, $\\forall x, Q(x) \\land R(x)$, $\\forall x, Q(x)$, $\\forall x, R(x)$, $\\exists x, P(x)$, $\\exists x, Q(x)$, $\\exists x, R(x)$] Meaning:  $(\\forall x, P(x) \\lor Q(x) \\lor R(x)) \\land (\\exists x, P(x)) \\land (\\exists x, Q(x)) \\land (\\exists x, R(x)) \\land \\neg[\\forall x, Q(x) \\land R(x)]$"
            ],
            "text/plain": [
              "<IPython.core.display.HTML object>"
            ]
          },
          "metadata": {
            "tags": []
          }
        },
        {
          "output_type": "display_data",
          "data": {
            "text/html": [
              "Pruning:  [$\\forall x, P(x) \\lor Q(x) \\lor R(x)$, $\\forall x, P(x) \\land Q(x)$, $\\forall x, P(x) \\land R(x)$, $\\forall x, Q(x) \\land R(x)$, $\\forall x, P(x)$, $\\forall x, Q(x)$, $\\forall x, R(x)$, $\\exists x, P(x) \\land Q(x)$] Meaning:  $(\\forall x, P(x) \\lor Q(x) \\lor R(x)) \\land \\neg[\\forall x, P(x)] \\land \\neg[\\forall x, Q(x)] \\land \\neg[\\forall x, R(x)] \\land \\neg[\\exists x, P(x) \\land Q(x)]$"
            ],
            "text/plain": [
              "<IPython.core.display.HTML object>"
            ]
          },
          "metadata": {
            "tags": []
          }
        },
        {
          "output_type": "display_data",
          "data": {
            "text/html": [
              "Pruning:  [$\\forall x, P(x) \\lor Q(x) \\lor R(x)$, $\\forall x, P(x) \\land Q(x)$, $\\forall x, P(x) \\land R(x)$, $\\forall x, Q(x) \\land R(x)$, $\\forall x, P(x)$, $\\forall x, Q(x)$, $\\forall x, R(x)$, $\\exists x, P(x) \\land R(x)$] Meaning:  $(\\forall x, P(x) \\lor Q(x) \\lor R(x)) \\land \\neg[\\forall x, P(x)] \\land \\neg[\\forall x, Q(x)] \\land \\neg[\\forall x, R(x)] \\land \\neg[\\exists x, P(x) \\land R(x)]$"
            ],
            "text/plain": [
              "<IPython.core.display.HTML object>"
            ]
          },
          "metadata": {
            "tags": []
          }
        },
        {
          "output_type": "display_data",
          "data": {
            "text/html": [
              "Pruning:  [$\\forall x, P(x) \\lor Q(x) \\lor R(x)$, $\\forall x, P(x) \\land Q(x)$, $\\forall x, P(x) \\land R(x)$, $\\forall x, Q(x) \\land R(x)$, $\\forall x, P(x)$, $\\forall x, Q(x)$, $\\forall x, R(x)$, $\\exists x, Q(x) \\land R(x)$] Meaning:  $(\\forall x, P(x) \\lor Q(x) \\lor R(x)) \\land \\neg[\\forall x, P(x)] \\land \\neg[\\forall x, Q(x)] \\land \\neg[\\forall x, R(x)] \\land \\neg[\\exists x, Q(x) \\land R(x)]$"
            ],
            "text/plain": [
              "<IPython.core.display.HTML object>"
            ]
          },
          "metadata": {
            "tags": []
          }
        },
        {
          "output_type": "display_data",
          "data": {
            "text/html": [
              "Pruning:  [$\\forall x, P(x) \\lor Q(x) \\lor R(x)$, $\\forall x, P(x) \\land Q(x)$, $\\forall x, P(x) \\land R(x)$, $\\forall x, Q(x) \\land R(x)$, $\\forall x, P(x)$, $\\forall x, Q(x)$, $\\exists x, P(x) \\land Q(x)$, $\\exists x, P(x) \\land R(x)$] Meaning:  $(\\forall x, P(x) \\lor Q(x) \\lor R(x)) \\land \\neg[\\forall x, P(x)] \\land \\neg[\\forall x, Q(x)] \\land \\neg[\\exists x, P(x) \\land Q(x)] \\land \\neg[\\exists x, P(x) \\land R(x)]$"
            ],
            "text/plain": [
              "<IPython.core.display.HTML object>"
            ]
          },
          "metadata": {
            "tags": []
          }
        },
        {
          "output_type": "display_data",
          "data": {
            "text/html": [
              "Pruning:  [$\\forall x, P(x) \\lor Q(x) \\lor R(x)$, $\\forall x, P(x) \\land Q(x)$, $\\forall x, P(x) \\land R(x)$, $\\forall x, Q(x) \\land R(x)$, $\\forall x, P(x)$, $\\forall x, Q(x)$, $\\exists x, P(x) \\land Q(x)$, $\\exists x, Q(x) \\land R(x)$] Meaning:  $(\\forall x, P(x) \\lor Q(x) \\lor R(x)) \\land \\neg[\\forall x, P(x)] \\land \\neg[\\forall x, Q(x)] \\land \\neg[\\exists x, P(x) \\land Q(x)] \\land \\neg[\\exists x, Q(x) \\land R(x)]$"
            ],
            "text/plain": [
              "<IPython.core.display.HTML object>"
            ]
          },
          "metadata": {
            "tags": []
          }
        },
        {
          "output_type": "display_data",
          "data": {
            "text/html": [
              "Pruning:  [$\\forall x, P(x) \\lor Q(x) \\lor R(x)$, $\\forall x, P(x) \\land Q(x)$, $\\forall x, P(x) \\land R(x)$, $\\forall x, Q(x) \\land R(x)$, $\\forall x, P(x)$, $\\forall x, Q(x)$, $\\exists x, P(x) \\land R(x)$, $\\exists x, Q(x) \\land R(x)$] Meaning:  $(\\forall x, P(x) \\lor Q(x) \\lor R(x)) \\land \\neg[\\forall x, P(x)] \\land \\neg[\\forall x, Q(x)] \\land \\neg[\\exists x, P(x) \\land R(x)] \\land \\neg[\\exists x, Q(x) \\land R(x)]$"
            ],
            "text/plain": [
              "<IPython.core.display.HTML object>"
            ]
          },
          "metadata": {
            "tags": []
          }
        },
        {
          "output_type": "display_data",
          "data": {
            "text/html": [
              "Pruning:  [$\\forall x, P(x) \\lor Q(x) \\lor R(x)$, $\\forall x, P(x) \\land Q(x)$, $\\forall x, P(x) \\land R(x)$, $\\forall x, Q(x) \\land R(x)$, $\\forall x, P(x)$, $\\forall x, R(x)$, $\\exists x, P(x) \\land Q(x)$, $\\exists x, P(x) \\land R(x)$] Meaning:  $(\\forall x, P(x) \\lor Q(x) \\lor R(x)) \\land \\neg[\\forall x, P(x)] \\land \\neg[\\forall x, R(x)] \\land \\neg[\\exists x, P(x) \\land Q(x)] \\land \\neg[\\exists x, P(x) \\land R(x)]$"
            ],
            "text/plain": [
              "<IPython.core.display.HTML object>"
            ]
          },
          "metadata": {
            "tags": []
          }
        },
        {
          "output_type": "display_data",
          "data": {
            "text/html": [
              "Pruning:  [$\\forall x, P(x) \\lor Q(x) \\lor R(x)$, $\\forall x, P(x) \\land Q(x)$, $\\forall x, P(x) \\land R(x)$, $\\forall x, Q(x) \\land R(x)$, $\\forall x, P(x)$, $\\forall x, R(x)$, $\\exists x, P(x) \\land Q(x)$, $\\exists x, Q(x) \\land R(x)$] Meaning:  $(\\forall x, P(x) \\lor Q(x) \\lor R(x)) \\land \\neg[\\forall x, P(x)] \\land \\neg[\\forall x, R(x)] \\land \\neg[\\exists x, P(x) \\land Q(x)] \\land \\neg[\\exists x, Q(x) \\land R(x)]$"
            ],
            "text/plain": [
              "<IPython.core.display.HTML object>"
            ]
          },
          "metadata": {
            "tags": []
          }
        },
        {
          "output_type": "display_data",
          "data": {
            "text/html": [
              "Pruning:  [$\\forall x, P(x) \\lor Q(x) \\lor R(x)$, $\\forall x, P(x) \\land Q(x)$, $\\forall x, P(x) \\land R(x)$, $\\forall x, Q(x) \\land R(x)$, $\\forall x, P(x)$, $\\forall x, R(x)$, $\\exists x, P(x) \\land R(x)$, $\\exists x, Q(x) \\land R(x)$] Meaning:  $(\\forall x, P(x) \\lor Q(x) \\lor R(x)) \\land \\neg[\\forall x, P(x)] \\land \\neg[\\forall x, R(x)] \\land \\neg[\\exists x, P(x) \\land R(x)] \\land \\neg[\\exists x, Q(x) \\land R(x)]$"
            ],
            "text/plain": [
              "<IPython.core.display.HTML object>"
            ]
          },
          "metadata": {
            "tags": []
          }
        },
        {
          "output_type": "display_data",
          "data": {
            "text/html": [
              "Pruning:  [$\\forall x, P(x) \\lor Q(x) \\lor R(x)$, $\\forall x, P(x) \\land Q(x)$, $\\forall x, P(x) \\land R(x)$, $\\forall x, Q(x) \\land R(x)$, $\\forall x, P(x)$, $\\exists x, P(x) \\land Q(x)$, $\\exists x, P(x) \\land R(x)$, $\\exists x, Q(x) \\land R(x)$] Meaning:  $(\\forall x, P(x) \\lor Q(x) \\lor R(x)) \\land \\neg[\\forall x, P(x)] \\land \\neg[\\exists x, P(x) \\land Q(x)] \\land \\neg[\\exists x, P(x) \\land R(x)] \\land \\neg[\\exists x, Q(x) \\land R(x)]$"
            ],
            "text/plain": [
              "<IPython.core.display.HTML object>"
            ]
          },
          "metadata": {
            "tags": []
          }
        },
        {
          "output_type": "display_data",
          "data": {
            "text/html": [
              "Pruning:  [$\\forall x, P(x) \\lor Q(x) \\lor R(x)$, $\\forall x, P(x) \\land Q(x)$, $\\forall x, P(x) \\land R(x)$, $\\forall x, Q(x) \\land R(x)$, $\\forall x, P(x)$, $\\exists x, P(x) \\land Q(x)$, $\\exists x, P(x) \\land R(x)$, $\\exists x, P(x)$] Meaning:  $(\\forall x, P(x) \\lor Q(x) \\lor R(x)) \\land \\neg[\\forall x, Q(x) \\land R(x)] \\land \\neg[\\exists x, P(x)]$"
            ],
            "text/plain": [
              "<IPython.core.display.HTML object>"
            ]
          },
          "metadata": {
            "tags": []
          }
        },
        {
          "output_type": "display_data",
          "data": {
            "text/html": [
              "Pruning:  [$\\forall x, P(x) \\lor Q(x) \\lor R(x)$, $\\forall x, P(x) \\land Q(x)$, $\\forall x, P(x) \\land R(x)$, $\\forall x, Q(x) \\land R(x)$, $\\forall x, P(x)$, $\\exists x, P(x) \\land Q(x)$, $\\exists x, Q(x)$, $\\exists x, R(x)$] Meaning:  $(\\forall x, P(x) \\lor Q(x) \\lor R(x)) \\land (\\exists x, R(x)) \\land \\neg[\\forall x, P(x) \\land R(x)] \\land \\neg[\\forall x, Q(x) \\land R(x)] \\land \\neg[\\exists x, P(x) \\land Q(x)]$"
            ],
            "text/plain": [
              "<IPython.core.display.HTML object>"
            ]
          },
          "metadata": {
            "tags": []
          }
        },
        {
          "output_type": "display_data",
          "data": {
            "text/html": [
              "Pruning:  [$\\forall x, P(x) \\lor Q(x) \\lor R(x)$, $\\forall x, P(x) \\land Q(x)$, $\\forall x, P(x) \\land R(x)$, $\\forall x, Q(x) \\land R(x)$, $\\forall x, P(x)$, $\\exists x, P(x) \\land R(x)$, $\\exists x, Q(x)$, $\\exists x, R(x)$] Meaning:  $(\\forall x, P(x) \\lor Q(x) \\lor R(x)) \\land (\\exists x, Q(x)) \\land \\neg[\\forall x, P(x) \\land Q(x)] \\land \\neg[\\forall x, Q(x) \\land R(x)] \\land \\neg[\\exists x, P(x) \\land R(x)]$"
            ],
            "text/plain": [
              "<IPython.core.display.HTML object>"
            ]
          },
          "metadata": {
            "tags": []
          }
        },
        {
          "output_type": "display_data",
          "data": {
            "text/html": [
              "Pruning:  [$\\forall x, P(x) \\lor Q(x) \\lor R(x)$, $\\forall x, P(x) \\land Q(x)$, $\\forall x, P(x) \\land R(x)$, $\\forall x, Q(x) \\land R(x)$, $\\forall x, Q(x)$, $\\forall x, R(x)$, $\\exists x, P(x) \\land Q(x)$, $\\exists x, P(x) \\land R(x)$] Meaning:  $(\\forall x, P(x) \\lor Q(x) \\lor R(x)) \\land \\neg[\\forall x, Q(x)] \\land \\neg[\\forall x, R(x)] \\land \\neg[\\exists x, P(x) \\land Q(x)] \\land \\neg[\\exists x, P(x) \\land R(x)]$"
            ],
            "text/plain": [
              "<IPython.core.display.HTML object>"
            ]
          },
          "metadata": {
            "tags": []
          }
        },
        {
          "output_type": "display_data",
          "data": {
            "text/html": [
              "Pruning:  [$\\forall x, P(x) \\lor Q(x) \\lor R(x)$, $\\forall x, P(x) \\land Q(x)$, $\\forall x, P(x) \\land R(x)$, $\\forall x, Q(x) \\land R(x)$, $\\forall x, Q(x)$, $\\forall x, R(x)$, $\\exists x, P(x) \\land Q(x)$, $\\exists x, Q(x) \\land R(x)$] Meaning:  $(\\forall x, P(x) \\lor Q(x) \\lor R(x)) \\land \\neg[\\forall x, Q(x)] \\land \\neg[\\forall x, R(x)] \\land \\neg[\\exists x, P(x) \\land Q(x)] \\land \\neg[\\exists x, Q(x) \\land R(x)]$"
            ],
            "text/plain": [
              "<IPython.core.display.HTML object>"
            ]
          },
          "metadata": {
            "tags": []
          }
        },
        {
          "output_type": "display_data",
          "data": {
            "text/html": [
              "Pruning:  [$\\forall x, P(x) \\lor Q(x) \\lor R(x)$, $\\forall x, P(x) \\land Q(x)$, $\\forall x, P(x) \\land R(x)$, $\\forall x, Q(x) \\land R(x)$, $\\forall x, Q(x)$, $\\forall x, R(x)$, $\\exists x, P(x) \\land R(x)$, $\\exists x, Q(x) \\land R(x)$] Meaning:  $(\\forall x, P(x) \\lor Q(x) \\lor R(x)) \\land \\neg[\\forall x, Q(x)] \\land \\neg[\\forall x, R(x)] \\land \\neg[\\exists x, P(x) \\land R(x)] \\land \\neg[\\exists x, Q(x) \\land R(x)]$"
            ],
            "text/plain": [
              "<IPython.core.display.HTML object>"
            ]
          },
          "metadata": {
            "tags": []
          }
        },
        {
          "output_type": "display_data",
          "data": {
            "text/html": [
              "Pruning:  [$\\forall x, P(x) \\lor Q(x) \\lor R(x)$, $\\forall x, P(x) \\land Q(x)$, $\\forall x, P(x) \\land R(x)$, $\\forall x, Q(x) \\land R(x)$, $\\forall x, Q(x)$, $\\exists x, P(x) \\land Q(x)$, $\\exists x, P(x) \\land R(x)$, $\\exists x, Q(x) \\land R(x)$] Meaning:  $(\\forall x, P(x) \\lor Q(x) \\lor R(x)) \\land \\neg[\\forall x, Q(x)] \\land \\neg[\\exists x, P(x) \\land Q(x)] \\land \\neg[\\exists x, P(x) \\land R(x)] \\land \\neg[\\exists x, Q(x) \\land R(x)]$"
            ],
            "text/plain": [
              "<IPython.core.display.HTML object>"
            ]
          },
          "metadata": {
            "tags": []
          }
        },
        {
          "output_type": "display_data",
          "data": {
            "text/html": [
              "Pruning:  [$\\forall x, P(x) \\lor Q(x) \\lor R(x)$, $\\forall x, P(x) \\land Q(x)$, $\\forall x, P(x) \\land R(x)$, $\\forall x, Q(x) \\land R(x)$, $\\forall x, Q(x)$, $\\exists x, P(x) \\land Q(x)$, $\\exists x, Q(x) \\land R(x)$, $\\exists x, Q(x)$] Meaning:  $(\\forall x, P(x) \\lor Q(x) \\lor R(x)) \\land \\neg[\\forall x, P(x) \\land R(x)] \\land \\neg[\\exists x, Q(x)]$"
            ],
            "text/plain": [
              "<IPython.core.display.HTML object>"
            ]
          },
          "metadata": {
            "tags": []
          }
        },
        {
          "output_type": "display_data",
          "data": {
            "text/html": [
              "Pruning:  [$\\forall x, P(x) \\lor Q(x) \\lor R(x)$, $\\forall x, P(x) \\land Q(x)$, $\\forall x, P(x) \\land R(x)$, $\\forall x, Q(x) \\land R(x)$, $\\forall x, Q(x)$, $\\exists x, P(x) \\land Q(x)$, $\\exists x, P(x)$, $\\exists x, R(x)$] Meaning:  $(\\forall x, P(x) \\lor Q(x) \\lor R(x)) \\land (\\exists x, R(x)) \\land \\neg[\\forall x, P(x) \\land R(x)] \\land \\neg[\\forall x, Q(x) \\land R(x)] \\land \\neg[\\exists x, P(x) \\land Q(x)]$"
            ],
            "text/plain": [
              "<IPython.core.display.HTML object>"
            ]
          },
          "metadata": {
            "tags": []
          }
        },
        {
          "output_type": "display_data",
          "data": {
            "text/html": [
              "Pruning:  [$\\forall x, P(x) \\lor Q(x) \\lor R(x)$, $\\forall x, P(x) \\land Q(x)$, $\\forall x, P(x) \\land R(x)$, $\\forall x, Q(x) \\land R(x)$, $\\forall x, Q(x)$, $\\exists x, Q(x) \\land R(x)$, $\\exists x, P(x)$, $\\exists x, R(x)$] Meaning:  $(\\forall x, P(x) \\lor Q(x) \\lor R(x)) \\land (\\exists x, P(x)) \\land \\neg[\\forall x, P(x) \\land Q(x)] \\land \\neg[\\forall x, P(x) \\land R(x)] \\land \\neg[\\exists x, Q(x) \\land R(x)]$"
            ],
            "text/plain": [
              "<IPython.core.display.HTML object>"
            ]
          },
          "metadata": {
            "tags": []
          }
        },
        {
          "output_type": "display_data",
          "data": {
            "text/html": [
              "Pruning:  [$\\forall x, P(x) \\lor Q(x) \\lor R(x)$, $\\forall x, P(x) \\land Q(x)$, $\\forall x, P(x) \\land R(x)$, $\\forall x, Q(x) \\land R(x)$, $\\forall x, R(x)$, $\\exists x, P(x) \\land Q(x)$, $\\exists x, P(x) \\land R(x)$, $\\exists x, Q(x) \\land R(x)$] Meaning:  $(\\forall x, P(x) \\lor Q(x) \\lor R(x)) \\land \\neg[\\forall x, R(x)] \\land \\neg[\\exists x, P(x) \\land Q(x)] \\land \\neg[\\exists x, P(x) \\land R(x)] \\land \\neg[\\exists x, Q(x) \\land R(x)]$"
            ],
            "text/plain": [
              "<IPython.core.display.HTML object>"
            ]
          },
          "metadata": {
            "tags": []
          }
        },
        {
          "output_type": "display_data",
          "data": {
            "text/html": [
              "Pruning:  [$\\forall x, P(x) \\lor Q(x) \\lor R(x)$, $\\forall x, P(x) \\land Q(x)$, $\\forall x, P(x) \\land R(x)$, $\\forall x, Q(x) \\land R(x)$, $\\forall x, R(x)$, $\\exists x, P(x) \\land R(x)$, $\\exists x, Q(x) \\land R(x)$, $\\exists x, R(x)$] Meaning:  $(\\forall x, P(x) \\lor Q(x) \\lor R(x)) \\land \\neg[\\forall x, P(x) \\land Q(x)] \\land \\neg[\\exists x, R(x)]$"
            ],
            "text/plain": [
              "<IPython.core.display.HTML object>"
            ]
          },
          "metadata": {
            "tags": []
          }
        },
        {
          "output_type": "display_data",
          "data": {
            "text/html": [
              "Pruning:  [$\\forall x, P(x) \\lor Q(x) \\lor R(x)$, $\\forall x, P(x) \\land Q(x)$, $\\forall x, P(x) \\land R(x)$, $\\forall x, Q(x) \\land R(x)$, $\\forall x, R(x)$, $\\exists x, P(x) \\land R(x)$, $\\exists x, P(x)$, $\\exists x, Q(x)$] Meaning:  $(\\forall x, P(x) \\lor Q(x) \\lor R(x)) \\land (\\exists x, Q(x)) \\land \\neg[\\forall x, P(x) \\land Q(x)] \\land \\neg[\\forall x, Q(x) \\land R(x)] \\land \\neg[\\exists x, P(x) \\land R(x)]$"
            ],
            "text/plain": [
              "<IPython.core.display.HTML object>"
            ]
          },
          "metadata": {
            "tags": []
          }
        },
        {
          "output_type": "display_data",
          "data": {
            "text/html": [
              "Pruning:  [$\\forall x, P(x) \\lor Q(x) \\lor R(x)$, $\\forall x, P(x) \\land Q(x)$, $\\forall x, P(x) \\land R(x)$, $\\forall x, Q(x) \\land R(x)$, $\\forall x, R(x)$, $\\exists x, Q(x) \\land R(x)$, $\\exists x, P(x)$, $\\exists x, Q(x)$] Meaning:  $(\\forall x, P(x) \\lor Q(x) \\lor R(x)) \\land (\\exists x, P(x)) \\land \\neg[\\forall x, P(x) \\land Q(x)] \\land \\neg[\\forall x, P(x) \\land R(x)] \\land \\neg[\\exists x, Q(x) \\land R(x)]$"
            ],
            "text/plain": [
              "<IPython.core.display.HTML object>"
            ]
          },
          "metadata": {
            "tags": []
          }
        },
        {
          "output_type": "display_data",
          "data": {
            "text/html": [
              "Pruning:  [$\\forall x, P(x) \\lor Q(x) \\lor R(x)$, $\\forall x, P(x) \\land Q(x)$, $\\forall x, P(x) \\land R(x)$, $\\forall x, P(x)$, $\\forall x, Q(x)$, $\\exists x, P(x) \\land Q(x)$, $\\exists x, P(x)$, $\\exists x, R(x)$] Meaning:  $(\\forall x, P(x) \\lor Q(x) \\lor R(x)) \\land (\\exists x, R(x)) \\land \\neg[\\forall x, P(x)] \\land \\neg[\\exists x, P(x) \\land Q(x)]$"
            ],
            "text/plain": [
              "<IPython.core.display.HTML object>"
            ]
          },
          "metadata": {
            "tags": []
          }
        },
        {
          "output_type": "display_data",
          "data": {
            "text/html": [
              "Pruning:  [$\\forall x, P(x) \\lor Q(x) \\lor R(x)$, $\\forall x, P(x) \\land Q(x)$, $\\forall x, P(x) \\land R(x)$, $\\forall x, P(x)$, $\\forall x, Q(x)$, $\\exists x, P(x)$, $\\exists x, Q(x)$, $\\exists x, R(x)$] Meaning:  $(\\forall x, P(x) \\lor Q(x) \\lor R(x)) \\land (\\exists x, P(x)) \\land (\\exists x, Q(x)) \\land (\\exists x, R(x)) \\land \\neg[\\forall x, P(x) \\land Q(x)] \\land \\neg[\\forall x, P(x) \\land R(x)]$"
            ],
            "text/plain": [
              "<IPython.core.display.HTML object>"
            ]
          },
          "metadata": {
            "tags": []
          }
        },
        {
          "output_type": "display_data",
          "data": {
            "text/html": [
              "Pruning:  [$\\forall x, P(x) \\lor Q(x) \\lor R(x)$, $\\forall x, P(x) \\land Q(x)$, $\\forall x, P(x) \\land R(x)$, $\\forall x, P(x)$, $\\forall x, R(x)$, $\\exists x, P(x) \\land R(x)$, $\\exists x, P(x)$, $\\exists x, Q(x)$] Meaning:  $(\\forall x, P(x) \\lor Q(x) \\lor R(x)) \\land (\\exists x, Q(x)) \\land \\neg[\\forall x, P(x)] \\land \\neg[\\exists x, P(x) \\land R(x)]$"
            ],
            "text/plain": [
              "<IPython.core.display.HTML object>"
            ]
          },
          "metadata": {
            "tags": []
          }
        },
        {
          "output_type": "display_data",
          "data": {
            "text/html": [
              "Pruning:  [$\\forall x, P(x) \\lor Q(x) \\lor R(x)$, $\\forall x, P(x) \\land Q(x)$, $\\forall x, P(x) \\land R(x)$, $\\forall x, P(x)$, $\\forall x, R(x)$, $\\exists x, P(x)$, $\\exists x, Q(x)$, $\\exists x, R(x)$] Meaning:  $(\\forall x, P(x) \\lor Q(x) \\lor R(x)) \\land (\\exists x, P(x)) \\land (\\exists x, Q(x)) \\land (\\exists x, R(x)) \\land \\neg[\\forall x, P(x) \\land Q(x)] \\land \\neg[\\forall x, P(x) \\land R(x)]$"
            ],
            "text/plain": [
              "<IPython.core.display.HTML object>"
            ]
          },
          "metadata": {
            "tags": []
          }
        },
        {
          "output_type": "display_data",
          "data": {
            "text/html": [
              "Pruning:  [$\\forall x, P(x) \\lor Q(x) \\lor R(x)$, $\\forall x, P(x) \\land Q(x)$, $\\forall x, P(x) \\land R(x)$, $\\forall x, P(x)$, $\\exists x, P(x) \\land Q(x)$, $\\exists x, P(x) \\land R(x)$, $\\exists x, Q(x)$, $\\exists x, R(x)$] Meaning:  $(\\forall x, P(x) \\lor Q(x) \\lor R(x)) \\land \\neg[\\exists x, P(x) \\land Q(x)] \\land \\neg[\\exists x, P(x) \\land R(x)]$"
            ],
            "text/plain": [
              "<IPython.core.display.HTML object>"
            ]
          },
          "metadata": {
            "tags": []
          }
        },
        {
          "output_type": "display_data",
          "data": {
            "text/html": [
              "Pruning:  [$\\forall x, P(x) \\lor Q(x) \\lor R(x)$, $\\forall x, P(x) \\land Q(x)$, $\\forall x, Q(x) \\land R(x)$, $\\forall x, P(x)$, $\\forall x, Q(x)$, $\\exists x, P(x) \\land Q(x)$, $\\exists x, Q(x)$, $\\exists x, R(x)$] Meaning:  $(\\forall x, P(x) \\lor Q(x) \\lor R(x)) \\land (\\exists x, R(x)) \\land \\neg[\\forall x, Q(x)] \\land \\neg[\\exists x, P(x) \\land Q(x)]$"
            ],
            "text/plain": [
              "<IPython.core.display.HTML object>"
            ]
          },
          "metadata": {
            "tags": []
          }
        },
        {
          "output_type": "display_data",
          "data": {
            "text/html": [
              "Pruning:  [$\\forall x, P(x) \\lor Q(x) \\lor R(x)$, $\\forall x, P(x) \\land Q(x)$, $\\forall x, Q(x) \\land R(x)$, $\\forall x, P(x)$, $\\forall x, Q(x)$, $\\exists x, P(x)$, $\\exists x, Q(x)$, $\\exists x, R(x)$] Meaning:  $(\\forall x, P(x) \\lor Q(x) \\lor R(x)) \\land (\\exists x, P(x)) \\land (\\exists x, Q(x)) \\land (\\exists x, R(x)) \\land \\neg[\\forall x, P(x) \\land Q(x)] \\land \\neg[\\forall x, Q(x) \\land R(x)]$"
            ],
            "text/plain": [
              "<IPython.core.display.HTML object>"
            ]
          },
          "metadata": {
            "tags": []
          }
        },
        {
          "output_type": "display_data",
          "data": {
            "text/html": [
              "Pruning:  [$\\forall x, P(x) \\lor Q(x) \\lor R(x)$, $\\forall x, P(x) \\land Q(x)$, $\\forall x, Q(x) \\land R(x)$, $\\forall x, Q(x)$, $\\forall x, R(x)$, $\\exists x, Q(x) \\land R(x)$, $\\exists x, P(x)$, $\\exists x, Q(x)$] Meaning:  $(\\forall x, P(x) \\lor Q(x) \\lor R(x)) \\land (\\exists x, P(x)) \\land \\neg[\\forall x, Q(x)] \\land \\neg[\\exists x, Q(x) \\land R(x)]$"
            ],
            "text/plain": [
              "<IPython.core.display.HTML object>"
            ]
          },
          "metadata": {
            "tags": []
          }
        },
        {
          "output_type": "display_data",
          "data": {
            "text/html": [
              "Pruning:  [$\\forall x, P(x) \\lor Q(x) \\lor R(x)$, $\\forall x, P(x) \\land Q(x)$, $\\forall x, Q(x) \\land R(x)$, $\\forall x, Q(x)$, $\\forall x, R(x)$, $\\exists x, P(x)$, $\\exists x, Q(x)$, $\\exists x, R(x)$] Meaning:  $(\\forall x, P(x) \\lor Q(x) \\lor R(x)) \\land (\\exists x, P(x)) \\land (\\exists x, Q(x)) \\land (\\exists x, R(x)) \\land \\neg[\\forall x, P(x) \\land Q(x)] \\land \\neg[\\forall x, Q(x) \\land R(x)]$"
            ],
            "text/plain": [
              "<IPython.core.display.HTML object>"
            ]
          },
          "metadata": {
            "tags": []
          }
        },
        {
          "output_type": "display_data",
          "data": {
            "text/html": [
              "Pruning:  [$\\forall x, P(x) \\lor Q(x) \\lor R(x)$, $\\forall x, P(x) \\land Q(x)$, $\\forall x, Q(x) \\land R(x)$, $\\forall x, Q(x)$, $\\exists x, P(x) \\land Q(x)$, $\\exists x, Q(x) \\land R(x)$, $\\exists x, P(x)$, $\\exists x, R(x)$] Meaning:  $(\\forall x, P(x) \\lor Q(x) \\lor R(x)) \\land \\neg[\\exists x, P(x) \\land Q(x)] \\land \\neg[\\exists x, Q(x) \\land R(x)]$"
            ],
            "text/plain": [
              "<IPython.core.display.HTML object>"
            ]
          },
          "metadata": {
            "tags": []
          }
        },
        {
          "output_type": "display_data",
          "data": {
            "text/html": [
              "Pruning:  [$\\forall x, P(x) \\lor Q(x) \\lor R(x)$, $\\forall x, P(x) \\land Q(x)$, $\\forall x, P(x)$, $\\forall x, Q(x)$, $\\exists x, P(x) \\land Q(x)$, $\\exists x, P(x)$, $\\exists x, Q(x)$, $\\exists x, R(x)$] Meaning:  $(\\forall x, P(x) \\lor Q(x) \\lor R(x)) \\land (\\exists x, R(x)) \\land \\neg[\\exists x, P(x) \\land Q(x)]$"
            ],
            "text/plain": [
              "<IPython.core.display.HTML object>"
            ]
          },
          "metadata": {
            "tags": []
          }
        },
        {
          "output_type": "display_data",
          "data": {
            "text/html": [
              "Pruning:  [$\\forall x, P(x) \\lor Q(x) \\lor R(x)$, $\\forall x, P(x) \\land R(x)$, $\\forall x, Q(x) \\land R(x)$, $\\forall x, P(x)$, $\\forall x, R(x)$, $\\exists x, P(x) \\land R(x)$, $\\exists x, Q(x)$, $\\exists x, R(x)$] Meaning:  $(\\forall x, P(x) \\lor Q(x) \\lor R(x)) \\land (\\exists x, Q(x)) \\land \\neg[\\forall x, R(x)] \\land \\neg[\\exists x, P(x) \\land R(x)]$"
            ],
            "text/plain": [
              "<IPython.core.display.HTML object>"
            ]
          },
          "metadata": {
            "tags": []
          }
        },
        {
          "output_type": "display_data",
          "data": {
            "text/html": [
              "Pruning:  [$\\forall x, P(x) \\lor Q(x) \\lor R(x)$, $\\forall x, P(x) \\land R(x)$, $\\forall x, Q(x) \\land R(x)$, $\\forall x, P(x)$, $\\forall x, R(x)$, $\\exists x, P(x)$, $\\exists x, Q(x)$, $\\exists x, R(x)$] Meaning:  $(\\forall x, P(x) \\lor Q(x) \\lor R(x)) \\land (\\exists x, P(x)) \\land (\\exists x, Q(x)) \\land (\\exists x, R(x)) \\land \\neg[\\forall x, P(x) \\land R(x)] \\land \\neg[\\forall x, Q(x) \\land R(x)]$"
            ],
            "text/plain": [
              "<IPython.core.display.HTML object>"
            ]
          },
          "metadata": {
            "tags": []
          }
        },
        {
          "output_type": "display_data",
          "data": {
            "text/html": [
              "Pruning:  [$\\forall x, P(x) \\lor Q(x) \\lor R(x)$, $\\forall x, P(x) \\land R(x)$, $\\forall x, Q(x) \\land R(x)$, $\\forall x, Q(x)$, $\\forall x, R(x)$, $\\exists x, Q(x) \\land R(x)$, $\\exists x, P(x)$, $\\exists x, R(x)$] Meaning:  $(\\forall x, P(x) \\lor Q(x) \\lor R(x)) \\land (\\exists x, P(x)) \\land \\neg[\\forall x, R(x)] \\land \\neg[\\exists x, Q(x) \\land R(x)]$"
            ],
            "text/plain": [
              "<IPython.core.display.HTML object>"
            ]
          },
          "metadata": {
            "tags": []
          }
        },
        {
          "output_type": "display_data",
          "data": {
            "text/html": [
              "Pruning:  [$\\forall x, P(x) \\lor Q(x) \\lor R(x)$, $\\forall x, P(x) \\land R(x)$, $\\forall x, Q(x) \\land R(x)$, $\\forall x, Q(x)$, $\\forall x, R(x)$, $\\exists x, P(x)$, $\\exists x, Q(x)$, $\\exists x, R(x)$] Meaning:  $(\\forall x, P(x) \\lor Q(x) \\lor R(x)) \\land (\\exists x, P(x)) \\land (\\exists x, Q(x)) \\land (\\exists x, R(x)) \\land \\neg[\\forall x, P(x) \\land R(x)] \\land \\neg[\\forall x, Q(x) \\land R(x)]$"
            ],
            "text/plain": [
              "<IPython.core.display.HTML object>"
            ]
          },
          "metadata": {
            "tags": []
          }
        },
        {
          "output_type": "display_data",
          "data": {
            "text/html": [
              "Pruning:  [$\\forall x, P(x) \\lor Q(x) \\lor R(x)$, $\\forall x, P(x) \\land R(x)$, $\\forall x, Q(x) \\land R(x)$, $\\forall x, R(x)$, $\\exists x, P(x) \\land R(x)$, $\\exists x, Q(x) \\land R(x)$, $\\exists x, P(x)$, $\\exists x, Q(x)$] Meaning:  $(\\forall x, P(x) \\lor Q(x) \\lor R(x)) \\land \\neg[\\exists x, P(x) \\land R(x)] \\land \\neg[\\exists x, Q(x) \\land R(x)]$"
            ],
            "text/plain": [
              "<IPython.core.display.HTML object>"
            ]
          },
          "metadata": {
            "tags": []
          }
        },
        {
          "output_type": "display_data",
          "data": {
            "text/html": [
              "Pruning:  [$\\forall x, P(x) \\lor Q(x) \\lor R(x)$, $\\forall x, P(x) \\land R(x)$, $\\forall x, P(x)$, $\\forall x, R(x)$, $\\exists x, P(x) \\land R(x)$, $\\exists x, P(x)$, $\\exists x, Q(x)$, $\\exists x, R(x)$] Meaning:  $(\\forall x, P(x) \\lor Q(x) \\lor R(x)) \\land (\\exists x, Q(x)) \\land \\neg[\\exists x, P(x) \\land R(x)]$"
            ],
            "text/plain": [
              "<IPython.core.display.HTML object>"
            ]
          },
          "metadata": {
            "tags": []
          }
        },
        {
          "output_type": "display_data",
          "data": {
            "text/html": [
              "Pruning:  [$\\forall x, P(x) \\lor Q(x) \\lor R(x)$, $\\forall x, Q(x) \\land R(x)$, $\\forall x, Q(x)$, $\\forall x, R(x)$, $\\exists x, Q(x) \\land R(x)$, $\\exists x, P(x)$, $\\exists x, Q(x)$, $\\exists x, R(x)$] Meaning:  $(\\forall x, P(x) \\lor Q(x) \\lor R(x)) \\land (\\exists x, P(x)) \\land \\neg[\\exists x, Q(x) \\land R(x)]$"
            ],
            "text/plain": [
              "<IPython.core.display.HTML object>"
            ]
          },
          "metadata": {
            "tags": []
          }
        },
        {
          "output_type": "display_data",
          "data": {
            "text/html": [
              "Pruning:  [$\\forall x, P(x) \\lor Q(x) \\lor R(x)$, $\\forall x, P(x) \\land Q(x)$, $\\forall x, P(x) \\land R(x)$, $\\forall x, Q(x) \\land R(x)$, $\\forall x, P(x)$, $\\forall x, Q(x)$, $\\forall x, R(x)$, $\\exists x, P(x) \\land Q(x)$, $\\exists x, P(x) \\land R(x)$] Meaning:  $(\\forall x, P(x) \\lor Q(x) \\lor R(x)) \\land \\neg[\\forall x, P(x)] \\land \\neg[\\forall x, Q(x)] \\land \\neg[\\forall x, R(x)] \\land \\neg[\\exists x, P(x) \\land Q(x)] \\land \\neg[\\exists x, P(x) \\land R(x)]$"
            ],
            "text/plain": [
              "<IPython.core.display.HTML object>"
            ]
          },
          "metadata": {
            "tags": []
          }
        },
        {
          "output_type": "display_data",
          "data": {
            "text/html": [
              "Pruning:  [$\\forall x, P(x) \\lor Q(x) \\lor R(x)$, $\\forall x, P(x) \\land Q(x)$, $\\forall x, P(x) \\land R(x)$, $\\forall x, Q(x) \\land R(x)$, $\\forall x, P(x)$, $\\forall x, Q(x)$, $\\forall x, R(x)$, $\\exists x, P(x) \\land Q(x)$, $\\exists x, Q(x) \\land R(x)$] Meaning:  $(\\forall x, P(x) \\lor Q(x) \\lor R(x)) \\land \\neg[\\forall x, P(x)] \\land \\neg[\\forall x, Q(x)] \\land \\neg[\\forall x, R(x)] \\land \\neg[\\exists x, P(x) \\land Q(x)] \\land \\neg[\\exists x, Q(x) \\land R(x)]$"
            ],
            "text/plain": [
              "<IPython.core.display.HTML object>"
            ]
          },
          "metadata": {
            "tags": []
          }
        },
        {
          "output_type": "display_data",
          "data": {
            "text/html": [
              "Pruning:  [$\\forall x, P(x) \\lor Q(x) \\lor R(x)$, $\\forall x, P(x) \\land Q(x)$, $\\forall x, P(x) \\land R(x)$, $\\forall x, Q(x) \\land R(x)$, $\\forall x, P(x)$, $\\forall x, Q(x)$, $\\forall x, R(x)$, $\\exists x, P(x) \\land R(x)$, $\\exists x, Q(x) \\land R(x)$] Meaning:  $(\\forall x, P(x) \\lor Q(x) \\lor R(x)) \\land \\neg[\\forall x, P(x)] \\land \\neg[\\forall x, Q(x)] \\land \\neg[\\forall x, R(x)] \\land \\neg[\\exists x, P(x) \\land R(x)] \\land \\neg[\\exists x, Q(x) \\land R(x)]$"
            ],
            "text/plain": [
              "<IPython.core.display.HTML object>"
            ]
          },
          "metadata": {
            "tags": []
          }
        },
        {
          "output_type": "display_data",
          "data": {
            "text/html": [
              "Pruning:  [$\\forall x, P(x) \\lor Q(x) \\lor R(x)$, $\\forall x, P(x) \\land Q(x)$, $\\forall x, P(x) \\land R(x)$, $\\forall x, Q(x) \\land R(x)$, $\\forall x, P(x)$, $\\forall x, Q(x)$, $\\exists x, P(x) \\land Q(x)$, $\\exists x, P(x) \\land R(x)$, $\\exists x, Q(x) \\land R(x)$] Meaning:  $(\\forall x, P(x) \\lor Q(x) \\lor R(x)) \\land \\neg[\\forall x, P(x)] \\land \\neg[\\forall x, Q(x)] \\land \\neg[\\exists x, P(x) \\land Q(x)] \\land \\neg[\\exists x, P(x) \\land R(x)] \\land \\neg[\\exists x, Q(x) \\land R(x)]$"
            ],
            "text/plain": [
              "<IPython.core.display.HTML object>"
            ]
          },
          "metadata": {
            "tags": []
          }
        },
        {
          "output_type": "display_data",
          "data": {
            "text/html": [
              "Pruning:  [$\\forall x, P(x) \\lor Q(x) \\lor R(x)$, $\\forall x, P(x) \\land Q(x)$, $\\forall x, P(x) \\land R(x)$, $\\forall x, Q(x) \\land R(x)$, $\\forall x, P(x)$, $\\forall x, Q(x)$, $\\exists x, P(x) \\land Q(x)$, $\\exists x, P(x)$, $\\exists x, R(x)$] Meaning:  $(\\forall x, P(x) \\lor Q(x) \\lor R(x)) \\land (\\exists x, R(x)) \\land \\neg[\\forall x, Q(x) \\land R(x)] \\land \\neg[\\forall x, P(x)] \\land \\neg[\\exists x, P(x) \\land Q(x)]$"
            ],
            "text/plain": [
              "<IPython.core.display.HTML object>"
            ]
          },
          "metadata": {
            "tags": []
          }
        },
        {
          "output_type": "display_data",
          "data": {
            "text/html": [
              "Pruning:  [$\\forall x, P(x) \\lor Q(x) \\lor R(x)$, $\\forall x, P(x) \\land Q(x)$, $\\forall x, P(x) \\land R(x)$, $\\forall x, Q(x) \\land R(x)$, $\\forall x, P(x)$, $\\forall x, Q(x)$, $\\exists x, P(x) \\land Q(x)$, $\\exists x, Q(x)$, $\\exists x, R(x)$] Meaning:  $(\\forall x, P(x) \\lor Q(x) \\lor R(x)) \\land (\\exists x, R(x)) \\land \\neg[\\forall x, P(x) \\land R(x)] \\land \\neg[\\forall x, Q(x)] \\land \\neg[\\exists x, P(x) \\land Q(x)]$"
            ],
            "text/plain": [
              "<IPython.core.display.HTML object>"
            ]
          },
          "metadata": {
            "tags": []
          }
        },
        {
          "output_type": "display_data",
          "data": {
            "text/html": [
              "Pruning:  [$\\forall x, P(x) \\lor Q(x) \\lor R(x)$, $\\forall x, P(x) \\land Q(x)$, $\\forall x, P(x) \\land R(x)$, $\\forall x, Q(x) \\land R(x)$, $\\forall x, P(x)$, $\\forall x, Q(x)$, $\\exists x, P(x) \\land R(x)$, $\\exists x, Q(x)$, $\\exists x, R(x)$] Meaning:  $(\\forall x, P(x) \\lor Q(x) \\lor R(x)) \\land (\\exists x, Q(x)) \\land \\neg[\\forall x, Q(x)] \\land \\neg[\\exists x, P(x) \\land R(x)]$"
            ],
            "text/plain": [
              "<IPython.core.display.HTML object>"
            ]
          },
          "metadata": {
            "tags": []
          }
        },
        {
          "output_type": "display_data",
          "data": {
            "text/html": [
              "Pruning:  [$\\forall x, P(x) \\lor Q(x) \\lor R(x)$, $\\forall x, P(x) \\land Q(x)$, $\\forall x, P(x) \\land R(x)$, $\\forall x, Q(x) \\land R(x)$, $\\forall x, P(x)$, $\\forall x, Q(x)$, $\\exists x, Q(x) \\land R(x)$, $\\exists x, P(x)$, $\\exists x, R(x)$] Meaning:  $(\\forall x, P(x) \\lor Q(x) \\lor R(x)) \\land (\\exists x, P(x)) \\land \\neg[\\forall x, P(x)] \\land \\neg[\\exists x, Q(x) \\land R(x)]$"
            ],
            "text/plain": [
              "<IPython.core.display.HTML object>"
            ]
          },
          "metadata": {
            "tags": []
          }
        },
        {
          "output_type": "display_data",
          "data": {
            "text/html": [
              "Pruning:  [$\\forall x, P(x) \\lor Q(x) \\lor R(x)$, $\\forall x, P(x) \\land Q(x)$, $\\forall x, P(x) \\land R(x)$, $\\forall x, Q(x) \\land R(x)$, $\\forall x, P(x)$, $\\forall x, Q(x)$, $\\exists x, P(x)$, $\\exists x, Q(x)$, $\\exists x, R(x)$] Meaning:  $(\\forall x, P(x) \\lor Q(x) \\lor R(x)) \\land (\\exists x, P(x)) \\land (\\exists x, Q(x)) \\land (\\exists x, R(x)) \\land \\neg[\\forall x, P(x) \\land Q(x)] \\land \\neg[\\forall x, P(x) \\land R(x)] \\land \\neg[\\forall x, Q(x) \\land R(x)]$"
            ],
            "text/plain": [
              "<IPython.core.display.HTML object>"
            ]
          },
          "metadata": {
            "tags": []
          }
        },
        {
          "output_type": "display_data",
          "data": {
            "text/html": [
              "Pruning:  [$\\forall x, P(x) \\lor Q(x) \\lor R(x)$, $\\forall x, P(x) \\land Q(x)$, $\\forall x, P(x) \\land R(x)$, $\\forall x, Q(x) \\land R(x)$, $\\forall x, P(x)$, $\\forall x, R(x)$, $\\exists x, P(x) \\land Q(x)$, $\\exists x, P(x) \\land R(x)$, $\\exists x, Q(x) \\land R(x)$] Meaning:  $(\\forall x, P(x) \\lor Q(x) \\lor R(x)) \\land \\neg[\\forall x, P(x)] \\land \\neg[\\forall x, R(x)] \\land \\neg[\\exists x, P(x) \\land Q(x)] \\land \\neg[\\exists x, P(x) \\land R(x)] \\land \\neg[\\exists x, Q(x) \\land R(x)]$"
            ],
            "text/plain": [
              "<IPython.core.display.HTML object>"
            ]
          },
          "metadata": {
            "tags": []
          }
        },
        {
          "output_type": "display_data",
          "data": {
            "text/html": [
              "Pruning:  [$\\forall x, P(x) \\lor Q(x) \\lor R(x)$, $\\forall x, P(x) \\land Q(x)$, $\\forall x, P(x) \\land R(x)$, $\\forall x, Q(x) \\land R(x)$, $\\forall x, P(x)$, $\\forall x, R(x)$, $\\exists x, P(x) \\land Q(x)$, $\\exists x, Q(x)$, $\\exists x, R(x)$] Meaning:  $(\\forall x, P(x) \\lor Q(x) \\lor R(x)) \\land (\\exists x, R(x)) \\land \\neg[\\forall x, R(x)] \\land \\neg[\\exists x, P(x) \\land Q(x)]$"
            ],
            "text/plain": [
              "<IPython.core.display.HTML object>"
            ]
          },
          "metadata": {
            "tags": []
          }
        },
        {
          "output_type": "display_data",
          "data": {
            "text/html": [
              "Pruning:  [$\\forall x, P(x) \\lor Q(x) \\lor R(x)$, $\\forall x, P(x) \\land Q(x)$, $\\forall x, P(x) \\land R(x)$, $\\forall x, Q(x) \\land R(x)$, $\\forall x, P(x)$, $\\forall x, R(x)$, $\\exists x, P(x) \\land R(x)$, $\\exists x, P(x)$, $\\exists x, Q(x)$] Meaning:  $(\\forall x, P(x) \\lor Q(x) \\lor R(x)) \\land (\\exists x, Q(x)) \\land \\neg[\\forall x, Q(x) \\land R(x)] \\land \\neg[\\forall x, P(x)] \\land \\neg[\\exists x, P(x) \\land R(x)]$"
            ],
            "text/plain": [
              "<IPython.core.display.HTML object>"
            ]
          },
          "metadata": {
            "tags": []
          }
        },
        {
          "output_type": "display_data",
          "data": {
            "text/html": [
              "Pruning:  [$\\forall x, P(x) \\lor Q(x) \\lor R(x)$, $\\forall x, P(x) \\land Q(x)$, $\\forall x, P(x) \\land R(x)$, $\\forall x, Q(x) \\land R(x)$, $\\forall x, P(x)$, $\\forall x, R(x)$, $\\exists x, P(x) \\land R(x)$, $\\exists x, Q(x)$, $\\exists x, R(x)$] Meaning:  $(\\forall x, P(x) \\lor Q(x) \\lor R(x)) \\land (\\exists x, Q(x)) \\land \\neg[\\forall x, P(x) \\land Q(x)] \\land \\neg[\\forall x, R(x)] \\land \\neg[\\exists x, P(x) \\land R(x)]$"
            ],
            "text/plain": [
              "<IPython.core.display.HTML object>"
            ]
          },
          "metadata": {
            "tags": []
          }
        },
        {
          "output_type": "display_data",
          "data": {
            "text/html": [
              "Pruning:  [$\\forall x, P(x) \\lor Q(x) \\lor R(x)$, $\\forall x, P(x) \\land Q(x)$, $\\forall x, P(x) \\land R(x)$, $\\forall x, Q(x) \\land R(x)$, $\\forall x, P(x)$, $\\forall x, R(x)$, $\\exists x, Q(x) \\land R(x)$, $\\exists x, P(x)$, $\\exists x, Q(x)$] Meaning:  $(\\forall x, P(x) \\lor Q(x) \\lor R(x)) \\land (\\exists x, P(x)) \\land \\neg[\\forall x, P(x)] \\land \\neg[\\exists x, Q(x) \\land R(x)]$"
            ],
            "text/plain": [
              "<IPython.core.display.HTML object>"
            ]
          },
          "metadata": {
            "tags": []
          }
        },
        {
          "output_type": "display_data",
          "data": {
            "text/html": [
              "Pruning:  [$\\forall x, P(x) \\lor Q(x) \\lor R(x)$, $\\forall x, P(x) \\land Q(x)$, $\\forall x, P(x) \\land R(x)$, $\\forall x, Q(x) \\land R(x)$, $\\forall x, P(x)$, $\\forall x, R(x)$, $\\exists x, P(x)$, $\\exists x, Q(x)$, $\\exists x, R(x)$] Meaning:  $(\\forall x, P(x) \\lor Q(x) \\lor R(x)) \\land (\\exists x, P(x)) \\land (\\exists x, Q(x)) \\land (\\exists x, R(x)) \\land \\neg[\\forall x, P(x) \\land Q(x)] \\land \\neg[\\forall x, P(x) \\land R(x)] \\land \\neg[\\forall x, Q(x) \\land R(x)]$"
            ],
            "text/plain": [
              "<IPython.core.display.HTML object>"
            ]
          },
          "metadata": {
            "tags": []
          }
        },
        {
          "output_type": "display_data",
          "data": {
            "text/html": [
              "Pruning:  [$\\forall x, P(x) \\lor Q(x) \\lor R(x)$, $\\forall x, P(x) \\land Q(x)$, $\\forall x, P(x) \\land R(x)$, $\\forall x, Q(x) \\land R(x)$, $\\forall x, P(x)$, $\\exists x, P(x) \\land Q(x)$, $\\exists x, P(x) \\land R(x)$, $\\exists x, Q(x) \\land R(x)$, $\\exists x, P(x)$] Meaning:  $(\\forall x, P(x) \\lor Q(x) \\lor R(x)) \\land \\neg[\\exists x, Q(x) \\land R(x)] \\land \\neg[\\exists x, P(x)]$"
            ],
            "text/plain": [
              "<IPython.core.display.HTML object>"
            ]
          },
          "metadata": {
            "tags": []
          }
        },
        {
          "output_type": "display_data",
          "data": {
            "text/html": [
              "Pruning:  [$\\forall x, P(x) \\lor Q(x) \\lor R(x)$, $\\forall x, P(x) \\land Q(x)$, $\\forall x, P(x) \\land R(x)$, $\\forall x, Q(x) \\land R(x)$, $\\forall x, P(x)$, $\\exists x, P(x) \\land Q(x)$, $\\exists x, P(x) \\land R(x)$, $\\exists x, Q(x)$, $\\exists x, R(x)$] Meaning:  $(\\forall x, P(x) \\lor Q(x) \\lor R(x)) \\land \\neg[\\forall x, Q(x) \\land R(x)] \\land \\neg[\\exists x, P(x) \\land Q(x)] \\land \\neg[\\exists x, P(x) \\land R(x)]$"
            ],
            "text/plain": [
              "<IPython.core.display.HTML object>"
            ]
          },
          "metadata": {
            "tags": []
          }
        },
        {
          "output_type": "display_data",
          "data": {
            "text/html": [
              "Pruning:  [$\\forall x, P(x) \\lor Q(x) \\lor R(x)$, $\\forall x, P(x) \\land Q(x)$, $\\forall x, P(x) \\land R(x)$, $\\forall x, Q(x) \\land R(x)$, $\\forall x, Q(x)$, $\\forall x, R(x)$, $\\exists x, P(x) \\land Q(x)$, $\\exists x, P(x) \\land R(x)$, $\\exists x, Q(x) \\land R(x)$] Meaning:  $(\\forall x, P(x) \\lor Q(x) \\lor R(x)) \\land \\neg[\\forall x, Q(x)] \\land \\neg[\\forall x, R(x)] \\land \\neg[\\exists x, P(x) \\land Q(x)] \\land \\neg[\\exists x, P(x) \\land R(x)] \\land \\neg[\\exists x, Q(x) \\land R(x)]$"
            ],
            "text/plain": [
              "<IPython.core.display.HTML object>"
            ]
          },
          "metadata": {
            "tags": []
          }
        },
        {
          "output_type": "display_data",
          "data": {
            "text/html": [
              "Pruning:  [$\\forall x, P(x) \\lor Q(x) \\lor R(x)$, $\\forall x, P(x) \\land Q(x)$, $\\forall x, P(x) \\land R(x)$, $\\forall x, Q(x) \\land R(x)$, $\\forall x, Q(x)$, $\\forall x, R(x)$, $\\exists x, P(x) \\land Q(x)$, $\\exists x, P(x)$, $\\exists x, R(x)$] Meaning:  $(\\forall x, P(x) \\lor Q(x) \\lor R(x)) \\land (\\exists x, R(x)) \\land \\neg[\\forall x, R(x)] \\land \\neg[\\exists x, P(x) \\land Q(x)]$"
            ],
            "text/plain": [
              "<IPython.core.display.HTML object>"
            ]
          },
          "metadata": {
            "tags": []
          }
        },
        {
          "output_type": "display_data",
          "data": {
            "text/html": [
              "Pruning:  [$\\forall x, P(x) \\lor Q(x) \\lor R(x)$, $\\forall x, P(x) \\land Q(x)$, $\\forall x, P(x) \\land R(x)$, $\\forall x, Q(x) \\land R(x)$, $\\forall x, Q(x)$, $\\forall x, R(x)$, $\\exists x, P(x) \\land R(x)$, $\\exists x, P(x)$, $\\exists x, Q(x)$] Meaning:  $(\\forall x, P(x) \\lor Q(x) \\lor R(x)) \\land (\\exists x, Q(x)) \\land \\neg[\\forall x, Q(x)] \\land \\neg[\\exists x, P(x) \\land R(x)]$"
            ],
            "text/plain": [
              "<IPython.core.display.HTML object>"
            ]
          },
          "metadata": {
            "tags": []
          }
        },
        {
          "output_type": "display_data",
          "data": {
            "text/html": [
              "Pruning:  [$\\forall x, P(x) \\lor Q(x) \\lor R(x)$, $\\forall x, P(x) \\land Q(x)$, $\\forall x, P(x) \\land R(x)$, $\\forall x, Q(x) \\land R(x)$, $\\forall x, Q(x)$, $\\forall x, R(x)$, $\\exists x, Q(x) \\land R(x)$, $\\exists x, P(x)$, $\\exists x, Q(x)$] Meaning:  $(\\forall x, P(x) \\lor Q(x) \\lor R(x)) \\land (\\exists x, P(x)) \\land \\neg[\\forall x, P(x) \\land R(x)] \\land \\neg[\\forall x, Q(x)] \\land \\neg[\\exists x, Q(x) \\land R(x)]$"
            ],
            "text/plain": [
              "<IPython.core.display.HTML object>"
            ]
          },
          "metadata": {
            "tags": []
          }
        },
        {
          "output_type": "display_data",
          "data": {
            "text/html": [
              "Pruning:  [$\\forall x, P(x) \\lor Q(x) \\lor R(x)$, $\\forall x, P(x) \\land Q(x)$, $\\forall x, P(x) \\land R(x)$, $\\forall x, Q(x) \\land R(x)$, $\\forall x, Q(x)$, $\\forall x, R(x)$, $\\exists x, Q(x) \\land R(x)$, $\\exists x, P(x)$, $\\exists x, R(x)$] Meaning:  $(\\forall x, P(x) \\lor Q(x) \\lor R(x)) \\land (\\exists x, P(x)) \\land \\neg[\\forall x, P(x) \\land Q(x)] \\land \\neg[\\forall x, R(x)] \\land \\neg[\\exists x, Q(x) \\land R(x)]$"
            ],
            "text/plain": [
              "<IPython.core.display.HTML object>"
            ]
          },
          "metadata": {
            "tags": []
          }
        },
        {
          "output_type": "display_data",
          "data": {
            "text/html": [
              "Pruning:  [$\\forall x, P(x) \\lor Q(x) \\lor R(x)$, $\\forall x, P(x) \\land Q(x)$, $\\forall x, P(x) \\land R(x)$, $\\forall x, Q(x) \\land R(x)$, $\\forall x, Q(x)$, $\\forall x, R(x)$, $\\exists x, P(x)$, $\\exists x, Q(x)$, $\\exists x, R(x)$] Meaning:  $(\\forall x, P(x) \\lor Q(x) \\lor R(x)) \\land (\\exists x, P(x)) \\land (\\exists x, Q(x)) \\land (\\exists x, R(x)) \\land \\neg[\\forall x, P(x) \\land Q(x)] \\land \\neg[\\forall x, P(x) \\land R(x)] \\land \\neg[\\forall x, Q(x) \\land R(x)]$"
            ],
            "text/plain": [
              "<IPython.core.display.HTML object>"
            ]
          },
          "metadata": {
            "tags": []
          }
        },
        {
          "output_type": "display_data",
          "data": {
            "text/html": [
              "Pruning:  [$\\forall x, P(x) \\lor Q(x) \\lor R(x)$, $\\forall x, P(x) \\land Q(x)$, $\\forall x, P(x) \\land R(x)$, $\\forall x, Q(x) \\land R(x)$, $\\forall x, Q(x)$, $\\exists x, P(x) \\land Q(x)$, $\\exists x, P(x) \\land R(x)$, $\\exists x, Q(x) \\land R(x)$, $\\exists x, Q(x)$] Meaning:  $(\\forall x, P(x) \\lor Q(x) \\lor R(x)) \\land \\neg[\\exists x, P(x) \\land R(x)] \\land \\neg[\\exists x, Q(x)]$"
            ],
            "text/plain": [
              "<IPython.core.display.HTML object>"
            ]
          },
          "metadata": {
            "tags": []
          }
        },
        {
          "output_type": "display_data",
          "data": {
            "text/html": [
              "Pruning:  [$\\forall x, P(x) \\lor Q(x) \\lor R(x)$, $\\forall x, P(x) \\land Q(x)$, $\\forall x, P(x) \\land R(x)$, $\\forall x, Q(x) \\land R(x)$, $\\forall x, Q(x)$, $\\exists x, P(x) \\land Q(x)$, $\\exists x, Q(x) \\land R(x)$, $\\exists x, P(x)$, $\\exists x, R(x)$] Meaning:  $(\\forall x, P(x) \\lor Q(x) \\lor R(x)) \\land \\neg[\\forall x, P(x) \\land R(x)] \\land \\neg[\\exists x, P(x) \\land Q(x)] \\land \\neg[\\exists x, Q(x) \\land R(x)]$"
            ],
            "text/plain": [
              "<IPython.core.display.HTML object>"
            ]
          },
          "metadata": {
            "tags": []
          }
        },
        {
          "output_type": "display_data",
          "data": {
            "text/html": [
              "Pruning:  [$\\forall x, P(x) \\lor Q(x) \\lor R(x)$, $\\forall x, P(x) \\land Q(x)$, $\\forall x, P(x) \\land R(x)$, $\\forall x, Q(x) \\land R(x)$, $\\forall x, R(x)$, $\\exists x, P(x) \\land Q(x)$, $\\exists x, P(x) \\land R(x)$, $\\exists x, Q(x) \\land R(x)$, $\\exists x, R(x)$] Meaning:  $(\\forall x, P(x) \\lor Q(x) \\lor R(x)) \\land \\neg[\\exists x, P(x) \\land Q(x)] \\land \\neg[\\exists x, R(x)]$"
            ],
            "text/plain": [
              "<IPython.core.display.HTML object>"
            ]
          },
          "metadata": {
            "tags": []
          }
        },
        {
          "output_type": "display_data",
          "data": {
            "text/html": [
              "Pruning:  [$\\forall x, P(x) \\lor Q(x) \\lor R(x)$, $\\forall x, P(x) \\land Q(x)$, $\\forall x, P(x) \\land R(x)$, $\\forall x, Q(x) \\land R(x)$, $\\forall x, R(x)$, $\\exists x, P(x) \\land R(x)$, $\\exists x, Q(x) \\land R(x)$, $\\exists x, P(x)$, $\\exists x, Q(x)$] Meaning:  $(\\forall x, P(x) \\lor Q(x) \\lor R(x)) \\land \\neg[\\forall x, P(x) \\land Q(x)] \\land \\neg[\\exists x, P(x) \\land R(x)] \\land \\neg[\\exists x, Q(x) \\land R(x)]$"
            ],
            "text/plain": [
              "<IPython.core.display.HTML object>"
            ]
          },
          "metadata": {
            "tags": []
          }
        },
        {
          "output_type": "display_data",
          "data": {
            "text/html": [
              "Pruning:  [$\\forall x, P(x) \\lor Q(x) \\lor R(x)$, $\\forall x, P(x) \\land Q(x)$, $\\forall x, P(x) \\land R(x)$, $\\forall x, P(x)$, $\\forall x, Q(x)$, $\\forall x, R(x)$, $\\exists x, P(x)$, $\\exists x, Q(x)$, $\\exists x, R(x)$] Meaning:  $(\\forall x, P(x) \\lor Q(x) \\lor R(x)) \\land (\\exists x, P(x)) \\land (\\exists x, Q(x)) \\land (\\exists x, R(x)) \\land \\neg[\\forall x, P(x) \\land Q(x)] \\land \\neg[\\forall x, P(x) \\land R(x)]$"
            ],
            "text/plain": [
              "<IPython.core.display.HTML object>"
            ]
          },
          "metadata": {
            "tags": []
          }
        },
        {
          "output_type": "display_data",
          "data": {
            "text/html": [
              "Pruning:  [$\\forall x, P(x) \\lor Q(x) \\lor R(x)$, $\\forall x, P(x) \\land Q(x)$, $\\forall x, P(x) \\land R(x)$, $\\forall x, P(x)$, $\\forall x, Q(x)$, $\\exists x, P(x) \\land Q(x)$, $\\exists x, P(x) \\land R(x)$, $\\exists x, P(x)$, $\\exists x, R(x)$] Meaning:  $(\\forall x, P(x) \\lor Q(x) \\lor R(x)) \\land (\\exists x, R(x)) \\land \\neg[\\forall x, P(x)] \\land \\neg[\\exists x, P(x) \\land Q(x)] \\land \\neg[\\exists x, P(x) \\land R(x)]$"
            ],
            "text/plain": [
              "<IPython.core.display.HTML object>"
            ]
          },
          "metadata": {
            "tags": []
          }
        },
        {
          "output_type": "display_data",
          "data": {
            "text/html": [
              "Pruning:  [$\\forall x, P(x) \\lor Q(x) \\lor R(x)$, $\\forall x, P(x) \\land Q(x)$, $\\forall x, P(x) \\land R(x)$, $\\forall x, P(x)$, $\\forall x, Q(x)$, $\\exists x, P(x) \\land Q(x)$, $\\exists x, P(x)$, $\\exists x, Q(x)$, $\\exists x, R(x)$] Meaning:  $(\\forall x, P(x) \\lor Q(x) \\lor R(x)) \\land (\\exists x, R(x)) \\land \\neg[\\forall x, P(x) \\land R(x)] \\land \\neg[\\exists x, P(x) \\land Q(x)]$"
            ],
            "text/plain": [
              "<IPython.core.display.HTML object>"
            ]
          },
          "metadata": {
            "tags": []
          }
        },
        {
          "output_type": "display_data",
          "data": {
            "text/html": [
              "Pruning:  [$\\forall x, P(x) \\lor Q(x) \\lor R(x)$, $\\forall x, P(x) \\land Q(x)$, $\\forall x, P(x) \\land R(x)$, $\\forall x, P(x)$, $\\forall x, R(x)$, $\\exists x, P(x) \\land Q(x)$, $\\exists x, P(x) \\land R(x)$, $\\exists x, P(x)$, $\\exists x, Q(x)$] Meaning:  $(\\forall x, P(x) \\lor Q(x) \\lor R(x)) \\land (\\exists x, Q(x)) \\land \\neg[\\forall x, P(x)] \\land \\neg[\\exists x, P(x) \\land Q(x)] \\land \\neg[\\exists x, P(x) \\land R(x)]$"
            ],
            "text/plain": [
              "<IPython.core.display.HTML object>"
            ]
          },
          "metadata": {
            "tags": []
          }
        },
        {
          "output_type": "display_data",
          "data": {
            "text/html": [
              "Pruning:  [$\\forall x, P(x) \\lor Q(x) \\lor R(x)$, $\\forall x, P(x) \\land Q(x)$, $\\forall x, P(x) \\land R(x)$, $\\forall x, P(x)$, $\\forall x, R(x)$, $\\exists x, P(x) \\land R(x)$, $\\exists x, P(x)$, $\\exists x, Q(x)$, $\\exists x, R(x)$] Meaning:  $(\\forall x, P(x) \\lor Q(x) \\lor R(x)) \\land (\\exists x, Q(x)) \\land \\neg[\\forall x, P(x) \\land Q(x)] \\land \\neg[\\exists x, P(x) \\land R(x)]$"
            ],
            "text/plain": [
              "<IPython.core.display.HTML object>"
            ]
          },
          "metadata": {
            "tags": []
          }
        },
        {
          "output_type": "display_data",
          "data": {
            "text/html": [
              "Pruning:  [$\\forall x, P(x) \\lor Q(x) \\lor R(x)$, $\\forall x, P(x) \\land Q(x)$, $\\forall x, Q(x) \\land R(x)$, $\\forall x, P(x)$, $\\forall x, Q(x)$, $\\forall x, R(x)$, $\\exists x, P(x)$, $\\exists x, Q(x)$, $\\exists x, R(x)$] Meaning:  $(\\forall x, P(x) \\lor Q(x) \\lor R(x)) \\land (\\exists x, P(x)) \\land (\\exists x, Q(x)) \\land (\\exists x, R(x)) \\land \\neg[\\forall x, P(x) \\land Q(x)] \\land \\neg[\\forall x, Q(x) \\land R(x)]$"
            ],
            "text/plain": [
              "<IPython.core.display.HTML object>"
            ]
          },
          "metadata": {
            "tags": []
          }
        },
        {
          "output_type": "display_data",
          "data": {
            "text/html": [
              "Pruning:  [$\\forall x, P(x) \\lor Q(x) \\lor R(x)$, $\\forall x, P(x) \\land Q(x)$, $\\forall x, Q(x) \\land R(x)$, $\\forall x, P(x)$, $\\forall x, Q(x)$, $\\exists x, P(x) \\land Q(x)$, $\\exists x, Q(x) \\land R(x)$, $\\exists x, Q(x)$, $\\exists x, R(x)$] Meaning:  $(\\forall x, P(x) \\lor Q(x) \\lor R(x)) \\land (\\exists x, R(x)) \\land \\neg[\\forall x, Q(x)] \\land \\neg[\\exists x, P(x) \\land Q(x)] \\land \\neg[\\exists x, Q(x) \\land R(x)]$"
            ],
            "text/plain": [
              "<IPython.core.display.HTML object>"
            ]
          },
          "metadata": {
            "tags": []
          }
        },
        {
          "output_type": "display_data",
          "data": {
            "text/html": [
              "Pruning:  [$\\forall x, P(x) \\lor Q(x) \\lor R(x)$, $\\forall x, P(x) \\land Q(x)$, $\\forall x, Q(x) \\land R(x)$, $\\forall x, P(x)$, $\\forall x, Q(x)$, $\\exists x, P(x) \\land Q(x)$, $\\exists x, P(x)$, $\\exists x, Q(x)$, $\\exists x, R(x)$] Meaning:  $(\\forall x, P(x) \\lor Q(x) \\lor R(x)) \\land (\\exists x, R(x)) \\land \\neg[\\forall x, Q(x) \\land R(x)] \\land \\neg[\\exists x, P(x) \\land Q(x)]$"
            ],
            "text/plain": [
              "<IPython.core.display.HTML object>"
            ]
          },
          "metadata": {
            "tags": []
          }
        },
        {
          "output_type": "display_data",
          "data": {
            "text/html": [
              "Pruning:  [$\\forall x, P(x) \\lor Q(x) \\lor R(x)$, $\\forall x, P(x) \\land Q(x)$, $\\forall x, Q(x) \\land R(x)$, $\\forall x, Q(x)$, $\\forall x, R(x)$, $\\exists x, P(x) \\land Q(x)$, $\\exists x, Q(x) \\land R(x)$, $\\exists x, P(x)$, $\\exists x, Q(x)$] Meaning:  $(\\forall x, P(x) \\lor Q(x) \\lor R(x)) \\land (\\exists x, P(x)) \\land \\neg[\\forall x, Q(x)] \\land \\neg[\\exists x, P(x) \\land Q(x)] \\land \\neg[\\exists x, Q(x) \\land R(x)]$"
            ],
            "text/plain": [
              "<IPython.core.display.HTML object>"
            ]
          },
          "metadata": {
            "tags": []
          }
        },
        {
          "output_type": "display_data",
          "data": {
            "text/html": [
              "Pruning:  [$\\forall x, P(x) \\lor Q(x) \\lor R(x)$, $\\forall x, P(x) \\land Q(x)$, $\\forall x, Q(x) \\land R(x)$, $\\forall x, Q(x)$, $\\forall x, R(x)$, $\\exists x, Q(x) \\land R(x)$, $\\exists x, P(x)$, $\\exists x, Q(x)$, $\\exists x, R(x)$] Meaning:  $(\\forall x, P(x) \\lor Q(x) \\lor R(x)) \\land (\\exists x, P(x)) \\land \\neg[\\forall x, P(x) \\land Q(x)] \\land \\neg[\\exists x, Q(x) \\land R(x)]$"
            ],
            "text/plain": [
              "<IPython.core.display.HTML object>"
            ]
          },
          "metadata": {
            "tags": []
          }
        },
        {
          "output_type": "display_data",
          "data": {
            "text/html": [
              "Pruning:  [$\\forall x, P(x) \\lor Q(x) \\lor R(x)$, $\\forall x, P(x) \\land Q(x)$, $\\forall x, P(x)$, $\\forall x, Q(x)$, $\\forall x, R(x)$, $\\exists x, P(x) \\land Q(x)$, $\\exists x, P(x)$, $\\exists x, Q(x)$, $\\exists x, R(x)$] Meaning:  $(\\forall x, R(x)) \\land \\neg[\\exists x, P(x) \\land Q(x)]$"
            ],
            "text/plain": [
              "<IPython.core.display.HTML object>"
            ]
          },
          "metadata": {
            "tags": []
          }
        },
        {
          "output_type": "display_data",
          "data": {
            "text/html": [
              "Pruning:  [$\\forall x, P(x) \\lor Q(x) \\lor R(x)$, $\\forall x, P(x) \\land R(x)$, $\\forall x, Q(x) \\land R(x)$, $\\forall x, P(x)$, $\\forall x, Q(x)$, $\\forall x, R(x)$, $\\exists x, P(x)$, $\\exists x, Q(x)$, $\\exists x, R(x)$] Meaning:  $(\\forall x, P(x) \\lor Q(x) \\lor R(x)) \\land (\\exists x, P(x)) \\land (\\exists x, Q(x)) \\land (\\exists x, R(x)) \\land \\neg[\\forall x, P(x) \\land R(x)] \\land \\neg[\\forall x, Q(x) \\land R(x)]$"
            ],
            "text/plain": [
              "<IPython.core.display.HTML object>"
            ]
          },
          "metadata": {
            "tags": []
          }
        },
        {
          "output_type": "display_data",
          "data": {
            "text/html": [
              "Pruning:  [$\\forall x, P(x) \\lor Q(x) \\lor R(x)$, $\\forall x, P(x) \\land R(x)$, $\\forall x, Q(x) \\land R(x)$, $\\forall x, P(x)$, $\\forall x, R(x)$, $\\exists x, P(x) \\land R(x)$, $\\exists x, Q(x) \\land R(x)$, $\\exists x, Q(x)$, $\\exists x, R(x)$] Meaning:  $(\\forall x, P(x) \\lor Q(x) \\lor R(x)) \\land (\\exists x, Q(x)) \\land \\neg[\\forall x, R(x)] \\land \\neg[\\exists x, P(x) \\land R(x)] \\land \\neg[\\exists x, Q(x) \\land R(x)]$"
            ],
            "text/plain": [
              "<IPython.core.display.HTML object>"
            ]
          },
          "metadata": {
            "tags": []
          }
        },
        {
          "output_type": "display_data",
          "data": {
            "text/html": [
              "Pruning:  [$\\forall x, P(x) \\lor Q(x) \\lor R(x)$, $\\forall x, P(x) \\land R(x)$, $\\forall x, Q(x) \\land R(x)$, $\\forall x, P(x)$, $\\forall x, R(x)$, $\\exists x, P(x) \\land R(x)$, $\\exists x, P(x)$, $\\exists x, Q(x)$, $\\exists x, R(x)$] Meaning:  $(\\forall x, P(x) \\lor Q(x) \\lor R(x)) \\land (\\exists x, Q(x)) \\land \\neg[\\forall x, Q(x) \\land R(x)] \\land \\neg[\\exists x, P(x) \\land R(x)]$"
            ],
            "text/plain": [
              "<IPython.core.display.HTML object>"
            ]
          },
          "metadata": {
            "tags": []
          }
        },
        {
          "output_type": "display_data",
          "data": {
            "text/html": [
              "Pruning:  [$\\forall x, P(x) \\lor Q(x) \\lor R(x)$, $\\forall x, P(x) \\land R(x)$, $\\forall x, Q(x) \\land R(x)$, $\\forall x, Q(x)$, $\\forall x, R(x)$, $\\exists x, P(x) \\land R(x)$, $\\exists x, Q(x) \\land R(x)$, $\\exists x, P(x)$, $\\exists x, R(x)$] Meaning:  $(\\forall x, P(x) \\lor Q(x) \\lor R(x)) \\land (\\exists x, P(x)) \\land \\neg[\\forall x, R(x)] \\land \\neg[\\exists x, P(x) \\land R(x)] \\land \\neg[\\exists x, Q(x) \\land R(x)]$"
            ],
            "text/plain": [
              "<IPython.core.display.HTML object>"
            ]
          },
          "metadata": {
            "tags": []
          }
        },
        {
          "output_type": "display_data",
          "data": {
            "text/html": [
              "Pruning:  [$\\forall x, P(x) \\lor Q(x) \\lor R(x)$, $\\forall x, P(x) \\land R(x)$, $\\forall x, Q(x) \\land R(x)$, $\\forall x, Q(x)$, $\\forall x, R(x)$, $\\exists x, Q(x) \\land R(x)$, $\\exists x, P(x)$, $\\exists x, Q(x)$, $\\exists x, R(x)$] Meaning:  $(\\forall x, P(x) \\lor Q(x) \\lor R(x)) \\land (\\exists x, P(x)) \\land \\neg[\\forall x, P(x) \\land R(x)] \\land \\neg[\\exists x, Q(x) \\land R(x)]$"
            ],
            "text/plain": [
              "<IPython.core.display.HTML object>"
            ]
          },
          "metadata": {
            "tags": []
          }
        },
        {
          "output_type": "display_data",
          "data": {
            "text/html": [
              "Pruning:  [$\\forall x, P(x) \\lor Q(x) \\lor R(x)$, $\\forall x, P(x) \\land R(x)$, $\\forall x, P(x)$, $\\forall x, Q(x)$, $\\forall x, R(x)$, $\\exists x, P(x) \\land R(x)$, $\\exists x, P(x)$, $\\exists x, Q(x)$, $\\exists x, R(x)$] Meaning:  $(\\forall x, Q(x)) \\land \\neg[\\exists x, P(x) \\land R(x)]$"
            ],
            "text/plain": [
              "<IPython.core.display.HTML object>"
            ]
          },
          "metadata": {
            "tags": []
          }
        },
        {
          "output_type": "display_data",
          "data": {
            "text/html": [
              "Pruning:  [$\\forall x, P(x) \\lor Q(x) \\lor R(x)$, $\\forall x, Q(x) \\land R(x)$, $\\forall x, P(x)$, $\\forall x, Q(x)$, $\\forall x, R(x)$, $\\exists x, Q(x) \\land R(x)$, $\\exists x, P(x)$, $\\exists x, Q(x)$, $\\exists x, R(x)$] Meaning:  $(\\forall x, P(x)) \\land \\neg[\\exists x, Q(x) \\land R(x)]$"
            ],
            "text/plain": [
              "<IPython.core.display.HTML object>"
            ]
          },
          "metadata": {
            "tags": []
          }
        },
        {
          "output_type": "display_data",
          "data": {
            "text/html": [
              "Pruning:  [$\\forall x, P(x) \\lor Q(x) \\lor R(x)$, $\\forall x, P(x) \\land Q(x)$, $\\forall x, P(x) \\land R(x)$, $\\forall x, Q(x) \\land R(x)$, $\\forall x, P(x)$, $\\forall x, Q(x)$, $\\forall x, R(x)$, $\\exists x, P(x) \\land Q(x)$, $\\exists x, P(x) \\land R(x)$, $\\exists x, Q(x) \\land R(x)$] Meaning:  $(\\forall x, P(x) \\lor Q(x) \\lor R(x)) \\land \\neg[\\forall x, P(x)] \\land \\neg[\\forall x, Q(x)] \\land \\neg[\\forall x, R(x)] \\land \\neg[\\exists x, P(x) \\land Q(x)] \\land \\neg[\\exists x, P(x) \\land R(x)] \\land \\neg[\\exists x, Q(x) \\land R(x)]$"
            ],
            "text/plain": [
              "<IPython.core.display.HTML object>"
            ]
          },
          "metadata": {
            "tags": []
          }
        },
        {
          "output_type": "display_data",
          "data": {
            "text/html": [
              "Pruning:  [$\\forall x, P(x) \\lor Q(x) \\lor R(x)$, $\\forall x, P(x) \\land Q(x)$, $\\forall x, P(x) \\land R(x)$, $\\forall x, Q(x) \\land R(x)$, $\\forall x, P(x)$, $\\forall x, Q(x)$, $\\forall x, R(x)$, $\\exists x, P(x) \\land Q(x)$, $\\exists x, P(x)$, $\\exists x, R(x)$] Meaning:  $(\\forall x, P(x) \\lor Q(x) \\lor R(x)) \\land (\\exists x, R(x)) \\land \\neg[\\forall x, P(x)] \\land \\neg[\\forall x, R(x)] \\land \\neg[\\exists x, P(x) \\land Q(x)]$"
            ],
            "text/plain": [
              "<IPython.core.display.HTML object>"
            ]
          },
          "metadata": {
            "tags": []
          }
        },
        {
          "output_type": "display_data",
          "data": {
            "text/html": [
              "Pruning:  [$\\forall x, P(x) \\lor Q(x) \\lor R(x)$, $\\forall x, P(x) \\land Q(x)$, $\\forall x, P(x) \\land R(x)$, $\\forall x, Q(x) \\land R(x)$, $\\forall x, P(x)$, $\\forall x, Q(x)$, $\\forall x, R(x)$, $\\exists x, P(x) \\land Q(x)$, $\\exists x, Q(x)$, $\\exists x, R(x)$] Meaning:  $(\\forall x, P(x) \\lor Q(x) \\lor R(x)) \\land (\\exists x, R(x)) \\land \\neg[\\forall x, Q(x)] \\land \\neg[\\forall x, R(x)] \\land \\neg[\\exists x, P(x) \\land Q(x)]$"
            ],
            "text/plain": [
              "<IPython.core.display.HTML object>"
            ]
          },
          "metadata": {
            "tags": []
          }
        },
        {
          "output_type": "display_data",
          "data": {
            "text/html": [
              "Pruning:  [$\\forall x, P(x) \\lor Q(x) \\lor R(x)$, $\\forall x, P(x) \\land Q(x)$, $\\forall x, P(x) \\land R(x)$, $\\forall x, Q(x) \\land R(x)$, $\\forall x, P(x)$, $\\forall x, Q(x)$, $\\forall x, R(x)$, $\\exists x, P(x) \\land R(x)$, $\\exists x, P(x)$, $\\exists x, Q(x)$] Meaning:  $(\\forall x, P(x) \\lor Q(x) \\lor R(x)) \\land (\\exists x, Q(x)) \\land \\neg[\\forall x, P(x)] \\land \\neg[\\forall x, Q(x)] \\land \\neg[\\exists x, P(x) \\land R(x)]$"
            ],
            "text/plain": [
              "<IPython.core.display.HTML object>"
            ]
          },
          "metadata": {
            "tags": []
          }
        },
        {
          "output_type": "display_data",
          "data": {
            "text/html": [
              "Pruning:  [$\\forall x, P(x) \\lor Q(x) \\lor R(x)$, $\\forall x, P(x) \\land Q(x)$, $\\forall x, P(x) \\land R(x)$, $\\forall x, Q(x) \\land R(x)$, $\\forall x, P(x)$, $\\forall x, Q(x)$, $\\forall x, R(x)$, $\\exists x, P(x) \\land R(x)$, $\\exists x, Q(x)$, $\\exists x, R(x)$] Meaning:  $(\\forall x, P(x) \\lor Q(x) \\lor R(x)) \\land (\\exists x, Q(x)) \\land \\neg[\\forall x, Q(x)] \\land \\neg[\\forall x, R(x)] \\land \\neg[\\exists x, P(x) \\land R(x)]$"
            ],
            "text/plain": [
              "<IPython.core.display.HTML object>"
            ]
          },
          "metadata": {
            "tags": []
          }
        },
        {
          "output_type": "display_data",
          "data": {
            "text/html": [
              "Pruning:  [$\\forall x, P(x) \\lor Q(x) \\lor R(x)$, $\\forall x, P(x) \\land Q(x)$, $\\forall x, P(x) \\land R(x)$, $\\forall x, Q(x) \\land R(x)$, $\\forall x, P(x)$, $\\forall x, Q(x)$, $\\forall x, R(x)$, $\\exists x, Q(x) \\land R(x)$, $\\exists x, P(x)$, $\\exists x, Q(x)$] Meaning:  $(\\forall x, P(x) \\lor Q(x) \\lor R(x)) \\land (\\exists x, P(x)) \\land \\neg[\\forall x, P(x)] \\land \\neg[\\forall x, Q(x)] \\land \\neg[\\exists x, Q(x) \\land R(x)]$"
            ],
            "text/plain": [
              "<IPython.core.display.HTML object>"
            ]
          },
          "metadata": {
            "tags": []
          }
        },
        {
          "output_type": "display_data",
          "data": {
            "text/html": [
              "Pruning:  [$\\forall x, P(x) \\lor Q(x) \\lor R(x)$, $\\forall x, P(x) \\land Q(x)$, $\\forall x, P(x) \\land R(x)$, $\\forall x, Q(x) \\land R(x)$, $\\forall x, P(x)$, $\\forall x, Q(x)$, $\\forall x, R(x)$, $\\exists x, Q(x) \\land R(x)$, $\\exists x, P(x)$, $\\exists x, R(x)$] Meaning:  $(\\forall x, P(x) \\lor Q(x) \\lor R(x)) \\land (\\exists x, P(x)) \\land \\neg[\\forall x, P(x)] \\land \\neg[\\forall x, R(x)] \\land \\neg[\\exists x, Q(x) \\land R(x)]$"
            ],
            "text/plain": [
              "<IPython.core.display.HTML object>"
            ]
          },
          "metadata": {
            "tags": []
          }
        },
        {
          "output_type": "display_data",
          "data": {
            "text/html": [
              "Pruning:  [$\\forall x, P(x) \\lor Q(x) \\lor R(x)$, $\\forall x, P(x) \\land Q(x)$, $\\forall x, P(x) \\land R(x)$, $\\forall x, Q(x) \\land R(x)$, $\\forall x, P(x)$, $\\forall x, Q(x)$, $\\forall x, R(x)$, $\\exists x, P(x)$, $\\exists x, Q(x)$, $\\exists x, R(x)$] Meaning:  $(\\forall x, P(x) \\lor Q(x) \\lor R(x)) \\land (\\exists x, P(x)) \\land (\\exists x, Q(x)) \\land (\\exists x, R(x)) \\land \\neg[\\forall x, P(x) \\land Q(x)] \\land \\neg[\\forall x, P(x) \\land R(x)] \\land \\neg[\\forall x, Q(x) \\land R(x)]$"
            ],
            "text/plain": [
              "<IPython.core.display.HTML object>"
            ]
          },
          "metadata": {
            "tags": []
          }
        },
        {
          "output_type": "display_data",
          "data": {
            "text/html": [
              "Pruning:  [$\\forall x, P(x) \\lor Q(x) \\lor R(x)$, $\\forall x, P(x) \\land Q(x)$, $\\forall x, P(x) \\land R(x)$, $\\forall x, Q(x) \\land R(x)$, $\\forall x, P(x)$, $\\forall x, Q(x)$, $\\exists x, P(x) \\land Q(x)$, $\\exists x, P(x) \\land R(x)$, $\\exists x, P(x)$, $\\exists x, R(x)$] Meaning:  $(\\forall x, P(x) \\lor Q(x) \\lor R(x)) \\land (\\exists x, R(x)) \\land \\neg[\\forall x, Q(x) \\land R(x)] \\land \\neg[\\forall x, P(x)] \\land \\neg[\\exists x, P(x) \\land Q(x)] \\land \\neg[\\exists x, P(x) \\land R(x)]$"
            ],
            "text/plain": [
              "<IPython.core.display.HTML object>"
            ]
          },
          "metadata": {
            "tags": []
          }
        },
        {
          "output_type": "display_data",
          "data": {
            "text/html": [
              "Pruning:  [$\\forall x, P(x) \\lor Q(x) \\lor R(x)$, $\\forall x, P(x) \\land Q(x)$, $\\forall x, P(x) \\land R(x)$, $\\forall x, Q(x) \\land R(x)$, $\\forall x, P(x)$, $\\forall x, Q(x)$, $\\exists x, P(x) \\land Q(x)$, $\\exists x, P(x) \\land R(x)$, $\\exists x, Q(x)$, $\\exists x, R(x)$] Meaning:  $(\\forall x, P(x) \\lor Q(x) \\lor R(x)) \\land \\neg[\\forall x, Q(x)] \\land \\neg[\\exists x, P(x) \\land Q(x)] \\land \\neg[\\exists x, P(x) \\land R(x)]$"
            ],
            "text/plain": [
              "<IPython.core.display.HTML object>"
            ]
          },
          "metadata": {
            "tags": []
          }
        },
        {
          "output_type": "display_data",
          "data": {
            "text/html": [
              "Pruning:  [$\\forall x, P(x) \\lor Q(x) \\lor R(x)$, $\\forall x, P(x) \\land Q(x)$, $\\forall x, P(x) \\land R(x)$, $\\forall x, Q(x) \\land R(x)$, $\\forall x, P(x)$, $\\forall x, Q(x)$, $\\exists x, P(x) \\land Q(x)$, $\\exists x, Q(x) \\land R(x)$, $\\exists x, P(x)$, $\\exists x, R(x)$] Meaning:  $(\\forall x, P(x) \\lor Q(x) \\lor R(x)) \\land \\neg[\\forall x, P(x)] \\land \\neg[\\exists x, P(x) \\land Q(x)] \\land \\neg[\\exists x, Q(x) \\land R(x)]$"
            ],
            "text/plain": [
              "<IPython.core.display.HTML object>"
            ]
          },
          "metadata": {
            "tags": []
          }
        },
        {
          "output_type": "display_data",
          "data": {
            "text/html": [
              "Pruning:  [$\\forall x, P(x) \\lor Q(x) \\lor R(x)$, $\\forall x, P(x) \\land Q(x)$, $\\forall x, P(x) \\land R(x)$, $\\forall x, Q(x) \\land R(x)$, $\\forall x, P(x)$, $\\forall x, Q(x)$, $\\exists x, P(x) \\land Q(x)$, $\\exists x, Q(x) \\land R(x)$, $\\exists x, Q(x)$, $\\exists x, R(x)$] Meaning:  $(\\forall x, P(x) \\lor Q(x) \\lor R(x)) \\land (\\exists x, R(x)) \\land \\neg[\\forall x, P(x) \\land R(x)] \\land \\neg[\\forall x, Q(x)] \\land \\neg[\\exists x, P(x) \\land Q(x)] \\land \\neg[\\exists x, Q(x) \\land R(x)]$"
            ],
            "text/plain": [
              "<IPython.core.display.HTML object>"
            ]
          },
          "metadata": {
            "tags": []
          }
        },
        {
          "output_type": "display_data",
          "data": {
            "text/html": [
              "Pruning:  [$\\forall x, P(x) \\lor Q(x) \\lor R(x)$, $\\forall x, P(x) \\land Q(x)$, $\\forall x, P(x) \\land R(x)$, $\\forall x, Q(x) \\land R(x)$, $\\forall x, P(x)$, $\\forall x, Q(x)$, $\\exists x, P(x) \\land Q(x)$, $\\exists x, P(x)$, $\\exists x, Q(x)$, $\\exists x, R(x)$] Meaning:  $(\\forall x, P(x) \\lor Q(x) \\lor R(x)) \\land (\\exists x, R(x)) \\land \\neg[\\forall x, P(x) \\land R(x)] \\land \\neg[\\forall x, Q(x) \\land R(x)] \\land \\neg[\\exists x, P(x) \\land Q(x)]$"
            ],
            "text/plain": [
              "<IPython.core.display.HTML object>"
            ]
          },
          "metadata": {
            "tags": []
          }
        },
        {
          "output_type": "display_data",
          "data": {
            "text/html": [
              "Pruning:  [$\\forall x, P(x) \\lor Q(x) \\lor R(x)$, $\\forall x, P(x) \\land Q(x)$, $\\forall x, P(x) \\land R(x)$, $\\forall x, Q(x) \\land R(x)$, $\\forall x, P(x)$, $\\forall x, R(x)$, $\\exists x, P(x) \\land Q(x)$, $\\exists x, P(x) \\land R(x)$, $\\exists x, P(x)$, $\\exists x, Q(x)$] Meaning:  $(\\forall x, P(x) \\lor Q(x) \\lor R(x)) \\land (\\exists x, Q(x)) \\land \\neg[\\forall x, Q(x) \\land R(x)] \\land \\neg[\\forall x, P(x)] \\land \\neg[\\exists x, P(x) \\land Q(x)] \\land \\neg[\\exists x, P(x) \\land R(x)]$"
            ],
            "text/plain": [
              "<IPython.core.display.HTML object>"
            ]
          },
          "metadata": {
            "tags": []
          }
        },
        {
          "output_type": "display_data",
          "data": {
            "text/html": [
              "Pruning:  [$\\forall x, P(x) \\lor Q(x) \\lor R(x)$, $\\forall x, P(x) \\land Q(x)$, $\\forall x, P(x) \\land R(x)$, $\\forall x, Q(x) \\land R(x)$, $\\forall x, P(x)$, $\\forall x, R(x)$, $\\exists x, P(x) \\land Q(x)$, $\\exists x, P(x) \\land R(x)$, $\\exists x, Q(x)$, $\\exists x, R(x)$] Meaning:  $(\\forall x, P(x) \\lor Q(x) \\lor R(x)) \\land \\neg[\\forall x, R(x)] \\land \\neg[\\exists x, P(x) \\land Q(x)] \\land \\neg[\\exists x, P(x) \\land R(x)]$"
            ],
            "text/plain": [
              "<IPython.core.display.HTML object>"
            ]
          },
          "metadata": {
            "tags": []
          }
        },
        {
          "output_type": "display_data",
          "data": {
            "text/html": [
              "Pruning:  [$\\forall x, P(x) \\lor Q(x) \\lor R(x)$, $\\forall x, P(x) \\land Q(x)$, $\\forall x, P(x) \\land R(x)$, $\\forall x, Q(x) \\land R(x)$, $\\forall x, P(x)$, $\\forall x, R(x)$, $\\exists x, P(x) \\land R(x)$, $\\exists x, Q(x) \\land R(x)$, $\\exists x, P(x)$, $\\exists x, Q(x)$] Meaning:  $(\\forall x, P(x) \\lor Q(x) \\lor R(x)) \\land \\neg[\\forall x, P(x)] \\land \\neg[\\exists x, P(x) \\land R(x)] \\land \\neg[\\exists x, Q(x) \\land R(x)]$"
            ],
            "text/plain": [
              "<IPython.core.display.HTML object>"
            ]
          },
          "metadata": {
            "tags": []
          }
        },
        {
          "output_type": "display_data",
          "data": {
            "text/html": [
              "Pruning:  [$\\forall x, P(x) \\lor Q(x) \\lor R(x)$, $\\forall x, P(x) \\land Q(x)$, $\\forall x, P(x) \\land R(x)$, $\\forall x, Q(x) \\land R(x)$, $\\forall x, P(x)$, $\\forall x, R(x)$, $\\exists x, P(x) \\land R(x)$, $\\exists x, Q(x) \\land R(x)$, $\\exists x, Q(x)$, $\\exists x, R(x)$] Meaning:  $(\\forall x, P(x) \\lor Q(x) \\lor R(x)) \\land (\\exists x, Q(x)) \\land \\neg[\\forall x, P(x) \\land Q(x)] \\land \\neg[\\forall x, R(x)] \\land \\neg[\\exists x, P(x) \\land R(x)] \\land \\neg[\\exists x, Q(x) \\land R(x)]$"
            ],
            "text/plain": [
              "<IPython.core.display.HTML object>"
            ]
          },
          "metadata": {
            "tags": []
          }
        },
        {
          "output_type": "display_data",
          "data": {
            "text/html": [
              "Pruning:  [$\\forall x, P(x) \\lor Q(x) \\lor R(x)$, $\\forall x, P(x) \\land Q(x)$, $\\forall x, P(x) \\land R(x)$, $\\forall x, Q(x) \\land R(x)$, $\\forall x, P(x)$, $\\forall x, R(x)$, $\\exists x, P(x) \\land R(x)$, $\\exists x, P(x)$, $\\exists x, Q(x)$, $\\exists x, R(x)$] Meaning:  $(\\forall x, P(x) \\lor Q(x) \\lor R(x)) \\land (\\exists x, Q(x)) \\land \\neg[\\forall x, P(x) \\land Q(x)] \\land \\neg[\\forall x, Q(x) \\land R(x)] \\land \\neg[\\exists x, P(x) \\land R(x)]$"
            ],
            "text/plain": [
              "<IPython.core.display.HTML object>"
            ]
          },
          "metadata": {
            "tags": []
          }
        },
        {
          "output_type": "display_data",
          "data": {
            "text/html": [
              "Pruning:  [$\\forall x, P(x) \\lor Q(x) \\lor R(x)$, $\\forall x, P(x) \\land Q(x)$, $\\forall x, P(x) \\land R(x)$, $\\forall x, Q(x) \\land R(x)$, $\\forall x, P(x)$, $\\exists x, P(x) \\land Q(x)$, $\\exists x, P(x) \\land R(x)$, $\\exists x, Q(x) \\land R(x)$, $\\exists x, Q(x)$, $\\exists x, R(x)$] Meaning:  $(\\forall x, P(x) \\lor Q(x) \\lor R(x)) \\land \\neg[\\exists x, P(x) \\land Q(x)] \\land \\neg[\\exists x, P(x) \\land R(x)] \\land \\neg[\\exists x, Q(x) \\land R(x)]$"
            ],
            "text/plain": [
              "<IPython.core.display.HTML object>"
            ]
          },
          "metadata": {
            "tags": []
          }
        },
        {
          "output_type": "display_data",
          "data": {
            "text/html": [
              "Pruning:  [$\\forall x, P(x) \\lor Q(x) \\lor R(x)$, $\\forall x, P(x) \\land Q(x)$, $\\forall x, P(x) \\land R(x)$, $\\forall x, Q(x) \\land R(x)$, $\\forall x, Q(x)$, $\\forall x, R(x)$, $\\exists x, P(x) \\land Q(x)$, $\\exists x, Q(x) \\land R(x)$, $\\exists x, P(x)$, $\\exists x, Q(x)$] Meaning:  $(\\forall x, P(x) \\lor Q(x) \\lor R(x)) \\land (\\exists x, P(x)) \\land \\neg[\\forall x, P(x) \\land R(x)] \\land \\neg[\\forall x, Q(x)] \\land \\neg[\\exists x, P(x) \\land Q(x)] \\land \\neg[\\exists x, Q(x) \\land R(x)]$"
            ],
            "text/plain": [
              "<IPython.core.display.HTML object>"
            ]
          },
          "metadata": {
            "tags": []
          }
        },
        {
          "output_type": "display_data",
          "data": {
            "text/html": [
              "Pruning:  [$\\forall x, P(x) \\lor Q(x) \\lor R(x)$, $\\forall x, P(x) \\land Q(x)$, $\\forall x, P(x) \\land R(x)$, $\\forall x, Q(x) \\land R(x)$, $\\forall x, Q(x)$, $\\forall x, R(x)$, $\\exists x, P(x) \\land Q(x)$, $\\exists x, Q(x) \\land R(x)$, $\\exists x, P(x)$, $\\exists x, R(x)$] Meaning:  $(\\forall x, P(x) \\lor Q(x) \\lor R(x)) \\land \\neg[\\forall x, R(x)] \\land \\neg[\\exists x, P(x) \\land Q(x)] \\land \\neg[\\exists x, Q(x) \\land R(x)]$"
            ],
            "text/plain": [
              "<IPython.core.display.HTML object>"
            ]
          },
          "metadata": {
            "tags": []
          }
        },
        {
          "output_type": "display_data",
          "data": {
            "text/html": [
              "Pruning:  [$\\forall x, P(x) \\lor Q(x) \\lor R(x)$, $\\forall x, P(x) \\land Q(x)$, $\\forall x, P(x) \\land R(x)$, $\\forall x, Q(x) \\land R(x)$, $\\forall x, Q(x)$, $\\forall x, R(x)$, $\\exists x, P(x) \\land R(x)$, $\\exists x, Q(x) \\land R(x)$, $\\exists x, P(x)$, $\\exists x, Q(x)$] Meaning:  $(\\forall x, P(x) \\lor Q(x) \\lor R(x)) \\land \\neg[\\forall x, Q(x)] \\land \\neg[\\exists x, P(x) \\land R(x)] \\land \\neg[\\exists x, Q(x) \\land R(x)]$"
            ],
            "text/plain": [
              "<IPython.core.display.HTML object>"
            ]
          },
          "metadata": {
            "tags": []
          }
        },
        {
          "output_type": "display_data",
          "data": {
            "text/html": [
              "Pruning:  [$\\forall x, P(x) \\lor Q(x) \\lor R(x)$, $\\forall x, P(x) \\land Q(x)$, $\\forall x, P(x) \\land R(x)$, $\\forall x, Q(x) \\land R(x)$, $\\forall x, Q(x)$, $\\forall x, R(x)$, $\\exists x, P(x) \\land R(x)$, $\\exists x, Q(x) \\land R(x)$, $\\exists x, P(x)$, $\\exists x, R(x)$] Meaning:  $(\\forall x, P(x) \\lor Q(x) \\lor R(x)) \\land (\\exists x, P(x)) \\land \\neg[\\forall x, P(x) \\land Q(x)] \\land \\neg[\\forall x, R(x)] \\land \\neg[\\exists x, P(x) \\land R(x)] \\land \\neg[\\exists x, Q(x) \\land R(x)]$"
            ],
            "text/plain": [
              "<IPython.core.display.HTML object>"
            ]
          },
          "metadata": {
            "tags": []
          }
        },
        {
          "output_type": "display_data",
          "data": {
            "text/html": [
              "Pruning:  [$\\forall x, P(x) \\lor Q(x) \\lor R(x)$, $\\forall x, P(x) \\land Q(x)$, $\\forall x, P(x) \\land R(x)$, $\\forall x, Q(x) \\land R(x)$, $\\forall x, Q(x)$, $\\forall x, R(x)$, $\\exists x, Q(x) \\land R(x)$, $\\exists x, P(x)$, $\\exists x, Q(x)$, $\\exists x, R(x)$] Meaning:  $(\\forall x, P(x) \\lor Q(x) \\lor R(x)) \\land (\\exists x, P(x)) \\land \\neg[\\forall x, P(x) \\land Q(x)] \\land \\neg[\\forall x, P(x) \\land R(x)] \\land \\neg[\\exists x, Q(x) \\land R(x)]$"
            ],
            "text/plain": [
              "<IPython.core.display.HTML object>"
            ]
          },
          "metadata": {
            "tags": []
          }
        },
        {
          "output_type": "display_data",
          "data": {
            "text/html": [
              "Pruning:  [$\\forall x, P(x) \\lor Q(x) \\lor R(x)$, $\\forall x, P(x) \\land Q(x)$, $\\forall x, P(x) \\land R(x)$, $\\forall x, Q(x) \\land R(x)$, $\\forall x, Q(x)$, $\\exists x, P(x) \\land Q(x)$, $\\exists x, P(x) \\land R(x)$, $\\exists x, Q(x) \\land R(x)$, $\\exists x, P(x)$, $\\exists x, R(x)$] Meaning:  $(\\forall x, P(x) \\lor Q(x) \\lor R(x)) \\land \\neg[\\exists x, P(x) \\land Q(x)] \\land \\neg[\\exists x, P(x) \\land R(x)] \\land \\neg[\\exists x, Q(x) \\land R(x)]$"
            ],
            "text/plain": [
              "<IPython.core.display.HTML object>"
            ]
          },
          "metadata": {
            "tags": []
          }
        },
        {
          "output_type": "display_data",
          "data": {
            "text/html": [
              "Pruning:  [$\\forall x, P(x) \\lor Q(x) \\lor R(x)$, $\\forall x, P(x) \\land Q(x)$, $\\forall x, P(x) \\land R(x)$, $\\forall x, Q(x) \\land R(x)$, $\\forall x, R(x)$, $\\exists x, P(x) \\land Q(x)$, $\\exists x, P(x) \\land R(x)$, $\\exists x, Q(x) \\land R(x)$, $\\exists x, P(x)$, $\\exists x, Q(x)$] Meaning:  $(\\forall x, P(x) \\lor Q(x) \\lor R(x)) \\land \\neg[\\exists x, P(x) \\land Q(x)] \\land \\neg[\\exists x, P(x) \\land R(x)] \\land \\neg[\\exists x, Q(x) \\land R(x)]$"
            ],
            "text/plain": [
              "<IPython.core.display.HTML object>"
            ]
          },
          "metadata": {
            "tags": []
          }
        },
        {
          "output_type": "display_data",
          "data": {
            "text/html": [
              "Pruning:  [$\\forall x, P(x) \\lor Q(x) \\lor R(x)$, $\\forall x, P(x) \\land Q(x)$, $\\forall x, P(x) \\land R(x)$, $\\forall x, P(x)$, $\\forall x, Q(x)$, $\\forall x, R(x)$, $\\exists x, P(x) \\land Q(x)$, $\\exists x, P(x)$, $\\exists x, Q(x)$, $\\exists x, R(x)$] Meaning:  $(\\forall x, P(x) \\lor Q(x) \\lor R(x)) \\land (\\exists x, R(x)) \\land \\neg[\\forall x, P(x) \\land R(x)] \\land \\neg[\\exists x, P(x) \\land Q(x)]$"
            ],
            "text/plain": [
              "<IPython.core.display.HTML object>"
            ]
          },
          "metadata": {
            "tags": []
          }
        },
        {
          "output_type": "display_data",
          "data": {
            "text/html": [
              "Pruning:  [$\\forall x, P(x) \\lor Q(x) \\lor R(x)$, $\\forall x, P(x) \\land Q(x)$, $\\forall x, P(x) \\land R(x)$, $\\forall x, P(x)$, $\\forall x, Q(x)$, $\\forall x, R(x)$, $\\exists x, P(x) \\land R(x)$, $\\exists x, P(x)$, $\\exists x, Q(x)$, $\\exists x, R(x)$] Meaning:  $(\\forall x, P(x) \\lor Q(x) \\lor R(x)) \\land (\\exists x, Q(x)) \\land \\neg[\\forall x, P(x) \\land Q(x)] \\land \\neg[\\exists x, P(x) \\land R(x)]$"
            ],
            "text/plain": [
              "<IPython.core.display.HTML object>"
            ]
          },
          "metadata": {
            "tags": []
          }
        },
        {
          "output_type": "display_data",
          "data": {
            "text/html": [
              "Pruning:  [$\\forall x, P(x) \\lor Q(x) \\lor R(x)$, $\\forall x, P(x) \\land Q(x)$, $\\forall x, P(x) \\land R(x)$, $\\forall x, P(x)$, $\\forall x, Q(x)$, $\\exists x, P(x) \\land Q(x)$, $\\exists x, P(x) \\land R(x)$, $\\exists x, P(x)$, $\\exists x, Q(x)$, $\\exists x, R(x)$] Meaning:  $(\\forall x, P(x) \\lor Q(x) \\lor R(x)) \\land \\neg[\\exists x, P(x) \\land Q(x)] \\land \\neg[\\exists x, P(x) \\land R(x)]$"
            ],
            "text/plain": [
              "<IPython.core.display.HTML object>"
            ]
          },
          "metadata": {
            "tags": []
          }
        },
        {
          "output_type": "display_data",
          "data": {
            "text/html": [
              "Pruning:  [$\\forall x, P(x) \\lor Q(x) \\lor R(x)$, $\\forall x, P(x) \\land Q(x)$, $\\forall x, P(x) \\land R(x)$, $\\forall x, P(x)$, $\\forall x, R(x)$, $\\exists x, P(x) \\land Q(x)$, $\\exists x, P(x) \\land R(x)$, $\\exists x, P(x)$, $\\exists x, Q(x)$, $\\exists x, R(x)$] Meaning:  $(\\forall x, P(x) \\lor Q(x) \\lor R(x)) \\land \\neg[\\exists x, P(x) \\land Q(x)] \\land \\neg[\\exists x, P(x) \\land R(x)]$"
            ],
            "text/plain": [
              "<IPython.core.display.HTML object>"
            ]
          },
          "metadata": {
            "tags": []
          }
        },
        {
          "output_type": "display_data",
          "data": {
            "text/html": [
              "Pruning:  [$\\forall x, P(x) \\lor Q(x) \\lor R(x)$, $\\forall x, P(x) \\land Q(x)$, $\\forall x, Q(x) \\land R(x)$, $\\forall x, P(x)$, $\\forall x, Q(x)$, $\\forall x, R(x)$, $\\exists x, P(x) \\land Q(x)$, $\\exists x, P(x)$, $\\exists x, Q(x)$, $\\exists x, R(x)$] Meaning:  $(\\forall x, P(x) \\lor Q(x) \\lor R(x)) \\land (\\exists x, R(x)) \\land \\neg[\\forall x, Q(x) \\land R(x)] \\land \\neg[\\exists x, P(x) \\land Q(x)]$"
            ],
            "text/plain": [
              "<IPython.core.display.HTML object>"
            ]
          },
          "metadata": {
            "tags": []
          }
        },
        {
          "output_type": "display_data",
          "data": {
            "text/html": [
              "Pruning:  [$\\forall x, P(x) \\lor Q(x) \\lor R(x)$, $\\forall x, P(x) \\land Q(x)$, $\\forall x, Q(x) \\land R(x)$, $\\forall x, P(x)$, $\\forall x, Q(x)$, $\\forall x, R(x)$, $\\exists x, Q(x) \\land R(x)$, $\\exists x, P(x)$, $\\exists x, Q(x)$, $\\exists x, R(x)$] Meaning:  $(\\forall x, P(x) \\lor Q(x) \\lor R(x)) \\land (\\exists x, P(x)) \\land \\neg[\\forall x, P(x) \\land Q(x)] \\land \\neg[\\exists x, Q(x) \\land R(x)]$"
            ],
            "text/plain": [
              "<IPython.core.display.HTML object>"
            ]
          },
          "metadata": {
            "tags": []
          }
        },
        {
          "output_type": "display_data",
          "data": {
            "text/html": [
              "Pruning:  [$\\forall x, P(x) \\lor Q(x) \\lor R(x)$, $\\forall x, P(x) \\land Q(x)$, $\\forall x, Q(x) \\land R(x)$, $\\forall x, P(x)$, $\\forall x, Q(x)$, $\\exists x, P(x) \\land Q(x)$, $\\exists x, Q(x) \\land R(x)$, $\\exists x, P(x)$, $\\exists x, Q(x)$, $\\exists x, R(x)$] Meaning:  $(\\forall x, P(x) \\lor Q(x) \\lor R(x)) \\land \\neg[\\exists x, P(x) \\land Q(x)] \\land \\neg[\\exists x, Q(x) \\land R(x)]$"
            ],
            "text/plain": [
              "<IPython.core.display.HTML object>"
            ]
          },
          "metadata": {
            "tags": []
          }
        },
        {
          "output_type": "display_data",
          "data": {
            "text/html": [
              "Pruning:  [$\\forall x, P(x) \\lor Q(x) \\lor R(x)$, $\\forall x, P(x) \\land Q(x)$, $\\forall x, Q(x) \\land R(x)$, $\\forall x, Q(x)$, $\\forall x, R(x)$, $\\exists x, P(x) \\land Q(x)$, $\\exists x, Q(x) \\land R(x)$, $\\exists x, P(x)$, $\\exists x, Q(x)$, $\\exists x, R(x)$] Meaning:  $(\\forall x, P(x) \\lor Q(x) \\lor R(x)) \\land \\neg[\\exists x, P(x) \\land Q(x)] \\land \\neg[\\exists x, Q(x) \\land R(x)]$"
            ],
            "text/plain": [
              "<IPython.core.display.HTML object>"
            ]
          },
          "metadata": {
            "tags": []
          }
        },
        {
          "output_type": "display_data",
          "data": {
            "text/html": [
              "Pruning:  [$\\forall x, P(x) \\lor Q(x) \\lor R(x)$, $\\forall x, P(x) \\land R(x)$, $\\forall x, Q(x) \\land R(x)$, $\\forall x, P(x)$, $\\forall x, Q(x)$, $\\forall x, R(x)$, $\\exists x, P(x) \\land R(x)$, $\\exists x, P(x)$, $\\exists x, Q(x)$, $\\exists x, R(x)$] Meaning:  $(\\forall x, P(x) \\lor Q(x) \\lor R(x)) \\land (\\exists x, Q(x)) \\land \\neg[\\forall x, Q(x) \\land R(x)] \\land \\neg[\\exists x, P(x) \\land R(x)]$"
            ],
            "text/plain": [
              "<IPython.core.display.HTML object>"
            ]
          },
          "metadata": {
            "tags": []
          }
        },
        {
          "output_type": "display_data",
          "data": {
            "text/html": [
              "Pruning:  [$\\forall x, P(x) \\lor Q(x) \\lor R(x)$, $\\forall x, P(x) \\land R(x)$, $\\forall x, Q(x) \\land R(x)$, $\\forall x, P(x)$, $\\forall x, Q(x)$, $\\forall x, R(x)$, $\\exists x, Q(x) \\land R(x)$, $\\exists x, P(x)$, $\\exists x, Q(x)$, $\\exists x, R(x)$] Meaning:  $(\\forall x, P(x) \\lor Q(x) \\lor R(x)) \\land (\\exists x, P(x)) \\land \\neg[\\forall x, P(x) \\land R(x)] \\land \\neg[\\exists x, Q(x) \\land R(x)]$"
            ],
            "text/plain": [
              "<IPython.core.display.HTML object>"
            ]
          },
          "metadata": {
            "tags": []
          }
        },
        {
          "output_type": "display_data",
          "data": {
            "text/html": [
              "Pruning:  [$\\forall x, P(x) \\lor Q(x) \\lor R(x)$, $\\forall x, P(x) \\land R(x)$, $\\forall x, Q(x) \\land R(x)$, $\\forall x, P(x)$, $\\forall x, R(x)$, $\\exists x, P(x) \\land R(x)$, $\\exists x, Q(x) \\land R(x)$, $\\exists x, P(x)$, $\\exists x, Q(x)$, $\\exists x, R(x)$] Meaning:  $(\\forall x, P(x) \\lor Q(x) \\lor R(x)) \\land \\neg[\\exists x, P(x) \\land R(x)] \\land \\neg[\\exists x, Q(x) \\land R(x)]$"
            ],
            "text/plain": [
              "<IPython.core.display.HTML object>"
            ]
          },
          "metadata": {
            "tags": []
          }
        },
        {
          "output_type": "display_data",
          "data": {
            "text/html": [
              "Pruning:  [$\\forall x, P(x) \\lor Q(x) \\lor R(x)$, $\\forall x, P(x) \\land R(x)$, $\\forall x, Q(x) \\land R(x)$, $\\forall x, Q(x)$, $\\forall x, R(x)$, $\\exists x, P(x) \\land R(x)$, $\\exists x, Q(x) \\land R(x)$, $\\exists x, P(x)$, $\\exists x, Q(x)$, $\\exists x, R(x)$] Meaning:  $(\\forall x, P(x) \\lor Q(x) \\lor R(x)) \\land \\neg[\\exists x, P(x) \\land R(x)] \\land \\neg[\\exists x, Q(x) \\land R(x)]$"
            ],
            "text/plain": [
              "<IPython.core.display.HTML object>"
            ]
          },
          "metadata": {
            "tags": []
          }
        },
        {
          "output_type": "display_data",
          "data": {
            "text/html": [
              "Pruning:  [$\\forall x, P(x) \\lor Q(x) \\lor R(x)$, $\\forall x, P(x) \\land Q(x)$, $\\forall x, P(x) \\land R(x)$, $\\forall x, Q(x) \\land R(x)$, $\\forall x, P(x)$, $\\forall x, Q(x)$, $\\forall x, R(x)$, $\\exists x, P(x) \\land Q(x)$, $\\exists x, P(x) \\land R(x)$, $\\exists x, P(x)$, $\\exists x, Q(x)$] Meaning:  $(\\forall x, P(x) \\lor Q(x) \\lor R(x)) \\land (\\exists x, Q(x)) \\land \\neg[\\forall x, P(x)] \\land \\neg[\\forall x, Q(x)] \\land \\neg[\\exists x, P(x) \\land Q(x)] \\land \\neg[\\exists x, P(x) \\land R(x)]$"
            ],
            "text/plain": [
              "<IPython.core.display.HTML object>"
            ]
          },
          "metadata": {
            "tags": []
          }
        },
        {
          "output_type": "display_data",
          "data": {
            "text/html": [
              "Pruning:  [$\\forall x, P(x) \\lor Q(x) \\lor R(x)$, $\\forall x, P(x) \\land Q(x)$, $\\forall x, P(x) \\land R(x)$, $\\forall x, Q(x) \\land R(x)$, $\\forall x, P(x)$, $\\forall x, Q(x)$, $\\forall x, R(x)$, $\\exists x, P(x) \\land Q(x)$, $\\exists x, P(x) \\land R(x)$, $\\exists x, P(x)$, $\\exists x, R(x)$] Meaning:  $(\\forall x, P(x) \\lor Q(x) \\lor R(x)) \\land (\\exists x, R(x)) \\land \\neg[\\forall x, P(x)] \\land \\neg[\\forall x, R(x)] \\land \\neg[\\exists x, P(x) \\land Q(x)] \\land \\neg[\\exists x, P(x) \\land R(x)]$"
            ],
            "text/plain": [
              "<IPython.core.display.HTML object>"
            ]
          },
          "metadata": {
            "tags": []
          }
        },
        {
          "output_type": "display_data",
          "data": {
            "text/html": [
              "Pruning:  [$\\forall x, P(x) \\lor Q(x) \\lor R(x)$, $\\forall x, P(x) \\land Q(x)$, $\\forall x, P(x) \\land R(x)$, $\\forall x, Q(x) \\land R(x)$, $\\forall x, P(x)$, $\\forall x, Q(x)$, $\\forall x, R(x)$, $\\exists x, P(x) \\land Q(x)$, $\\exists x, P(x) \\land R(x)$, $\\exists x, Q(x)$, $\\exists x, R(x)$] Meaning:  $(\\forall x, P(x) \\lor Q(x) \\lor R(x)) \\land \\neg[\\forall x, Q(x)] \\land \\neg[\\forall x, R(x)] \\land \\neg[\\exists x, P(x) \\land Q(x)] \\land \\neg[\\exists x, P(x) \\land R(x)]$"
            ],
            "text/plain": [
              "<IPython.core.display.HTML object>"
            ]
          },
          "metadata": {
            "tags": []
          }
        },
        {
          "output_type": "display_data",
          "data": {
            "text/html": [
              "Pruning:  [$\\forall x, P(x) \\lor Q(x) \\lor R(x)$, $\\forall x, P(x) \\land Q(x)$, $\\forall x, P(x) \\land R(x)$, $\\forall x, Q(x) \\land R(x)$, $\\forall x, P(x)$, $\\forall x, Q(x)$, $\\forall x, R(x)$, $\\exists x, P(x) \\land Q(x)$, $\\exists x, Q(x) \\land R(x)$, $\\exists x, P(x)$, $\\exists x, Q(x)$] Meaning:  $(\\forall x, P(x) \\lor Q(x) \\lor R(x)) \\land (\\exists x, P(x)) \\land \\neg[\\forall x, P(x)] \\land \\neg[\\forall x, Q(x)] \\land \\neg[\\exists x, P(x) \\land Q(x)] \\land \\neg[\\exists x, Q(x) \\land R(x)]$"
            ],
            "text/plain": [
              "<IPython.core.display.HTML object>"
            ]
          },
          "metadata": {
            "tags": []
          }
        },
        {
          "output_type": "display_data",
          "data": {
            "text/html": [
              "Pruning:  [$\\forall x, P(x) \\lor Q(x) \\lor R(x)$, $\\forall x, P(x) \\land Q(x)$, $\\forall x, P(x) \\land R(x)$, $\\forall x, Q(x) \\land R(x)$, $\\forall x, P(x)$, $\\forall x, Q(x)$, $\\forall x, R(x)$, $\\exists x, P(x) \\land Q(x)$, $\\exists x, Q(x) \\land R(x)$, $\\exists x, P(x)$, $\\exists x, R(x)$] Meaning:  $(\\forall x, P(x) \\lor Q(x) \\lor R(x)) \\land \\neg[\\forall x, P(x)] \\land \\neg[\\forall x, R(x)] \\land \\neg[\\exists x, P(x) \\land Q(x)] \\land \\neg[\\exists x, Q(x) \\land R(x)]$"
            ],
            "text/plain": [
              "<IPython.core.display.HTML object>"
            ]
          },
          "metadata": {
            "tags": []
          }
        },
        {
          "output_type": "display_data",
          "data": {
            "text/html": [
              "Pruning:  [$\\forall x, P(x) \\lor Q(x) \\lor R(x)$, $\\forall x, P(x) \\land Q(x)$, $\\forall x, P(x) \\land R(x)$, $\\forall x, Q(x) \\land R(x)$, $\\forall x, P(x)$, $\\forall x, Q(x)$, $\\forall x, R(x)$, $\\exists x, P(x) \\land Q(x)$, $\\exists x, Q(x) \\land R(x)$, $\\exists x, Q(x)$, $\\exists x, R(x)$] Meaning:  $(\\forall x, P(x) \\lor Q(x) \\lor R(x)) \\land (\\exists x, R(x)) \\land \\neg[\\forall x, Q(x)] \\land \\neg[\\forall x, R(x)] \\land \\neg[\\exists x, P(x) \\land Q(x)] \\land \\neg[\\exists x, Q(x) \\land R(x)]$"
            ],
            "text/plain": [
              "<IPython.core.display.HTML object>"
            ]
          },
          "metadata": {
            "tags": []
          }
        },
        {
          "output_type": "display_data",
          "data": {
            "text/html": [
              "Pruning:  [$\\forall x, P(x) \\lor Q(x) \\lor R(x)$, $\\forall x, P(x) \\land Q(x)$, $\\forall x, P(x) \\land R(x)$, $\\forall x, Q(x) \\land R(x)$, $\\forall x, P(x)$, $\\forall x, Q(x)$, $\\forall x, R(x)$, $\\exists x, P(x) \\land Q(x)$, $\\exists x, P(x)$, $\\exists x, Q(x)$, $\\exists x, R(x)$] Meaning:  $(\\forall x, P(x) \\lor Q(x) \\lor R(x)) \\land (\\exists x, R(x)) \\land \\neg[\\forall x, P(x) \\land R(x)] \\land \\neg[\\forall x, Q(x) \\land R(x)] \\land \\neg[\\exists x, P(x) \\land Q(x)]$"
            ],
            "text/plain": [
              "<IPython.core.display.HTML object>"
            ]
          },
          "metadata": {
            "tags": []
          }
        },
        {
          "output_type": "display_data",
          "data": {
            "text/html": [
              "Pruning:  [$\\forall x, P(x) \\lor Q(x) \\lor R(x)$, $\\forall x, P(x) \\land Q(x)$, $\\forall x, P(x) \\land R(x)$, $\\forall x, Q(x) \\land R(x)$, $\\forall x, P(x)$, $\\forall x, Q(x)$, $\\forall x, R(x)$, $\\exists x, P(x) \\land R(x)$, $\\exists x, Q(x) \\land R(x)$, $\\exists x, P(x)$, $\\exists x, Q(x)$] Meaning:  $(\\forall x, P(x) \\lor Q(x) \\lor R(x)) \\land \\neg[\\forall x, P(x)] \\land \\neg[\\forall x, Q(x)] \\land \\neg[\\exists x, P(x) \\land R(x)] \\land \\neg[\\exists x, Q(x) \\land R(x)]$"
            ],
            "text/plain": [
              "<IPython.core.display.HTML object>"
            ]
          },
          "metadata": {
            "tags": []
          }
        },
        {
          "output_type": "display_data",
          "data": {
            "text/html": [
              "Pruning:  [$\\forall x, P(x) \\lor Q(x) \\lor R(x)$, $\\forall x, P(x) \\land Q(x)$, $\\forall x, P(x) \\land R(x)$, $\\forall x, Q(x) \\land R(x)$, $\\forall x, P(x)$, $\\forall x, Q(x)$, $\\forall x, R(x)$, $\\exists x, P(x) \\land R(x)$, $\\exists x, Q(x) \\land R(x)$, $\\exists x, P(x)$, $\\exists x, R(x)$] Meaning:  $(\\forall x, P(x) \\lor Q(x) \\lor R(x)) \\land (\\exists x, P(x)) \\land \\neg[\\forall x, P(x)] \\land \\neg[\\forall x, R(x)] \\land \\neg[\\exists x, P(x) \\land R(x)] \\land \\neg[\\exists x, Q(x) \\land R(x)]$"
            ],
            "text/plain": [
              "<IPython.core.display.HTML object>"
            ]
          },
          "metadata": {
            "tags": []
          }
        },
        {
          "output_type": "display_data",
          "data": {
            "text/html": [
              "Pruning:  [$\\forall x, P(x) \\lor Q(x) \\lor R(x)$, $\\forall x, P(x) \\land Q(x)$, $\\forall x, P(x) \\land R(x)$, $\\forall x, Q(x) \\land R(x)$, $\\forall x, P(x)$, $\\forall x, Q(x)$, $\\forall x, R(x)$, $\\exists x, P(x) \\land R(x)$, $\\exists x, Q(x) \\land R(x)$, $\\exists x, Q(x)$, $\\exists x, R(x)$] Meaning:  $(\\forall x, P(x) \\lor Q(x) \\lor R(x)) \\land (\\exists x, Q(x)) \\land \\neg[\\forall x, Q(x)] \\land \\neg[\\forall x, R(x)] \\land \\neg[\\exists x, P(x) \\land R(x)] \\land \\neg[\\exists x, Q(x) \\land R(x)]$"
            ],
            "text/plain": [
              "<IPython.core.display.HTML object>"
            ]
          },
          "metadata": {
            "tags": []
          }
        },
        {
          "output_type": "display_data",
          "data": {
            "text/html": [
              "Pruning:  [$\\forall x, P(x) \\lor Q(x) \\lor R(x)$, $\\forall x, P(x) \\land Q(x)$, $\\forall x, P(x) \\land R(x)$, $\\forall x, Q(x) \\land R(x)$, $\\forall x, P(x)$, $\\forall x, Q(x)$, $\\forall x, R(x)$, $\\exists x, P(x) \\land R(x)$, $\\exists x, P(x)$, $\\exists x, Q(x)$, $\\exists x, R(x)$] Meaning:  $(\\forall x, P(x) \\lor Q(x) \\lor R(x)) \\land (\\exists x, Q(x)) \\land \\neg[\\forall x, P(x) \\land Q(x)] \\land \\neg[\\forall x, Q(x) \\land R(x)] \\land \\neg[\\exists x, P(x) \\land R(x)]$"
            ],
            "text/plain": [
              "<IPython.core.display.HTML object>"
            ]
          },
          "metadata": {
            "tags": []
          }
        },
        {
          "output_type": "display_data",
          "data": {
            "text/html": [
              "Pruning:  [$\\forall x, P(x) \\lor Q(x) \\lor R(x)$, $\\forall x, P(x) \\land Q(x)$, $\\forall x, P(x) \\land R(x)$, $\\forall x, Q(x) \\land R(x)$, $\\forall x, P(x)$, $\\forall x, Q(x)$, $\\forall x, R(x)$, $\\exists x, Q(x) \\land R(x)$, $\\exists x, P(x)$, $\\exists x, Q(x)$, $\\exists x, R(x)$] Meaning:  $(\\forall x, P(x) \\lor Q(x) \\lor R(x)) \\land (\\exists x, P(x)) \\land \\neg[\\forall x, P(x) \\land Q(x)] \\land \\neg[\\forall x, P(x) \\land R(x)] \\land \\neg[\\exists x, Q(x) \\land R(x)]$"
            ],
            "text/plain": [
              "<IPython.core.display.HTML object>"
            ]
          },
          "metadata": {
            "tags": []
          }
        },
        {
          "output_type": "display_data",
          "data": {
            "text/html": [
              "Pruning:  [$\\forall x, P(x) \\lor Q(x) \\lor R(x)$, $\\forall x, P(x) \\land Q(x)$, $\\forall x, P(x) \\land R(x)$, $\\forall x, Q(x) \\land R(x)$, $\\forall x, P(x)$, $\\forall x, Q(x)$, $\\exists x, P(x) \\land Q(x)$, $\\exists x, P(x) \\land R(x)$, $\\exists x, Q(x) \\land R(x)$, $\\exists x, P(x)$, $\\exists x, R(x)$] Meaning:  $(\\forall x, P(x) \\lor Q(x) \\lor R(x)) \\land \\neg[\\forall x, P(x)] \\land \\neg[\\exists x, P(x) \\land Q(x)] \\land \\neg[\\exists x, P(x) \\land R(x)] \\land \\neg[\\exists x, Q(x) \\land R(x)]$"
            ],
            "text/plain": [
              "<IPython.core.display.HTML object>"
            ]
          },
          "metadata": {
            "tags": []
          }
        },
        {
          "output_type": "display_data",
          "data": {
            "text/html": [
              "Pruning:  [$\\forall x, P(x) \\lor Q(x) \\lor R(x)$, $\\forall x, P(x) \\land Q(x)$, $\\forall x, P(x) \\land R(x)$, $\\forall x, Q(x) \\land R(x)$, $\\forall x, P(x)$, $\\forall x, Q(x)$, $\\exists x, P(x) \\land Q(x)$, $\\exists x, P(x) \\land R(x)$, $\\exists x, Q(x) \\land R(x)$, $\\exists x, Q(x)$, $\\exists x, R(x)$] Meaning:  $(\\forall x, P(x) \\lor Q(x) \\lor R(x)) \\land \\neg[\\forall x, Q(x)] \\land \\neg[\\exists x, P(x) \\land Q(x)] \\land \\neg[\\exists x, P(x) \\land R(x)] \\land \\neg[\\exists x, Q(x) \\land R(x)]$"
            ],
            "text/plain": [
              "<IPython.core.display.HTML object>"
            ]
          },
          "metadata": {
            "tags": []
          }
        },
        {
          "output_type": "display_data",
          "data": {
            "text/html": [
              "Pruning:  [$\\forall x, P(x) \\lor Q(x) \\lor R(x)$, $\\forall x, P(x) \\land Q(x)$, $\\forall x, P(x) \\land R(x)$, $\\forall x, Q(x) \\land R(x)$, $\\forall x, P(x)$, $\\forall x, Q(x)$, $\\exists x, P(x) \\land Q(x)$, $\\exists x, P(x) \\land R(x)$, $\\exists x, P(x)$, $\\exists x, Q(x)$, $\\exists x, R(x)$] Meaning:  $(\\forall x, P(x) \\lor Q(x) \\lor R(x)) \\land \\neg[\\forall x, Q(x) \\land R(x)] \\land \\neg[\\exists x, P(x) \\land Q(x)] \\land \\neg[\\exists x, P(x) \\land R(x)]$"
            ],
            "text/plain": [
              "<IPython.core.display.HTML object>"
            ]
          },
          "metadata": {
            "tags": []
          }
        },
        {
          "output_type": "display_data",
          "data": {
            "text/html": [
              "Pruning:  [$\\forall x, P(x) \\lor Q(x) \\lor R(x)$, $\\forall x, P(x) \\land Q(x)$, $\\forall x, P(x) \\land R(x)$, $\\forall x, Q(x) \\land R(x)$, $\\forall x, P(x)$, $\\forall x, Q(x)$, $\\exists x, P(x) \\land Q(x)$, $\\exists x, Q(x) \\land R(x)$, $\\exists x, P(x)$, $\\exists x, Q(x)$, $\\exists x, R(x)$] Meaning:  $(\\forall x, P(x) \\lor Q(x) \\lor R(x)) \\land \\neg[\\forall x, P(x) \\land R(x)] \\land \\neg[\\exists x, P(x) \\land Q(x)] \\land \\neg[\\exists x, Q(x) \\land R(x)]$"
            ],
            "text/plain": [
              "<IPython.core.display.HTML object>"
            ]
          },
          "metadata": {
            "tags": []
          }
        },
        {
          "output_type": "display_data",
          "data": {
            "text/html": [
              "Pruning:  [$\\forall x, P(x) \\lor Q(x) \\lor R(x)$, $\\forall x, P(x) \\land Q(x)$, $\\forall x, P(x) \\land R(x)$, $\\forall x, Q(x) \\land R(x)$, $\\forall x, P(x)$, $\\forall x, R(x)$, $\\exists x, P(x) \\land Q(x)$, $\\exists x, P(x) \\land R(x)$, $\\exists x, Q(x) \\land R(x)$, $\\exists x, P(x)$, $\\exists x, Q(x)$] Meaning:  $(\\forall x, P(x) \\lor Q(x) \\lor R(x)) \\land \\neg[\\forall x, P(x)] \\land \\neg[\\exists x, P(x) \\land Q(x)] \\land \\neg[\\exists x, P(x) \\land R(x)] \\land \\neg[\\exists x, Q(x) \\land R(x)]$"
            ],
            "text/plain": [
              "<IPython.core.display.HTML object>"
            ]
          },
          "metadata": {
            "tags": []
          }
        },
        {
          "output_type": "display_data",
          "data": {
            "text/html": [
              "Pruning:  [$\\forall x, P(x) \\lor Q(x) \\lor R(x)$, $\\forall x, P(x) \\land Q(x)$, $\\forall x, P(x) \\land R(x)$, $\\forall x, Q(x) \\land R(x)$, $\\forall x, P(x)$, $\\forall x, R(x)$, $\\exists x, P(x) \\land Q(x)$, $\\exists x, P(x) \\land R(x)$, $\\exists x, Q(x) \\land R(x)$, $\\exists x, Q(x)$, $\\exists x, R(x)$] Meaning:  $(\\forall x, P(x) \\lor Q(x) \\lor R(x)) \\land \\neg[\\forall x, R(x)] \\land \\neg[\\exists x, P(x) \\land Q(x)] \\land \\neg[\\exists x, P(x) \\land R(x)] \\land \\neg[\\exists x, Q(x) \\land R(x)]$"
            ],
            "text/plain": [
              "<IPython.core.display.HTML object>"
            ]
          },
          "metadata": {
            "tags": []
          }
        },
        {
          "output_type": "display_data",
          "data": {
            "text/html": [
              "Pruning:  [$\\forall x, P(x) \\lor Q(x) \\lor R(x)$, $\\forall x, P(x) \\land Q(x)$, $\\forall x, P(x) \\land R(x)$, $\\forall x, Q(x) \\land R(x)$, $\\forall x, P(x)$, $\\forall x, R(x)$, $\\exists x, P(x) \\land Q(x)$, $\\exists x, P(x) \\land R(x)$, $\\exists x, P(x)$, $\\exists x, Q(x)$, $\\exists x, R(x)$] Meaning:  $(\\forall x, P(x) \\lor Q(x) \\lor R(x)) \\land \\neg[\\forall x, Q(x) \\land R(x)] \\land \\neg[\\exists x, P(x) \\land Q(x)] \\land \\neg[\\exists x, P(x) \\land R(x)]$"
            ],
            "text/plain": [
              "<IPython.core.display.HTML object>"
            ]
          },
          "metadata": {
            "tags": []
          }
        },
        {
          "output_type": "display_data",
          "data": {
            "text/html": [
              "Pruning:  [$\\forall x, P(x) \\lor Q(x) \\lor R(x)$, $\\forall x, P(x) \\land Q(x)$, $\\forall x, P(x) \\land R(x)$, $\\forall x, Q(x) \\land R(x)$, $\\forall x, P(x)$, $\\forall x, R(x)$, $\\exists x, P(x) \\land R(x)$, $\\exists x, Q(x) \\land R(x)$, $\\exists x, P(x)$, $\\exists x, Q(x)$, $\\exists x, R(x)$] Meaning:  $(\\forall x, P(x) \\lor Q(x) \\lor R(x)) \\land \\neg[\\forall x, P(x) \\land Q(x)] \\land \\neg[\\exists x, P(x) \\land R(x)] \\land \\neg[\\exists x, Q(x) \\land R(x)]$"
            ],
            "text/plain": [
              "<IPython.core.display.HTML object>"
            ]
          },
          "metadata": {
            "tags": []
          }
        },
        {
          "output_type": "display_data",
          "data": {
            "text/html": [
              "Pruning:  [$\\forall x, P(x) \\lor Q(x) \\lor R(x)$, $\\forall x, P(x) \\land Q(x)$, $\\forall x, P(x) \\land R(x)$, $\\forall x, Q(x) \\land R(x)$, $\\forall x, Q(x)$, $\\forall x, R(x)$, $\\exists x, P(x) \\land Q(x)$, $\\exists x, P(x) \\land R(x)$, $\\exists x, Q(x) \\land R(x)$, $\\exists x, P(x)$, $\\exists x, Q(x)$] Meaning:  $(\\forall x, P(x) \\lor Q(x) \\lor R(x)) \\land \\neg[\\forall x, Q(x)] \\land \\neg[\\exists x, P(x) \\land Q(x)] \\land \\neg[\\exists x, P(x) \\land R(x)] \\land \\neg[\\exists x, Q(x) \\land R(x)]$"
            ],
            "text/plain": [
              "<IPython.core.display.HTML object>"
            ]
          },
          "metadata": {
            "tags": []
          }
        },
        {
          "output_type": "display_data",
          "data": {
            "text/html": [
              "Pruning:  [$\\forall x, P(x) \\lor Q(x) \\lor R(x)$, $\\forall x, P(x) \\land Q(x)$, $\\forall x, P(x) \\land R(x)$, $\\forall x, Q(x) \\land R(x)$, $\\forall x, Q(x)$, $\\forall x, R(x)$, $\\exists x, P(x) \\land Q(x)$, $\\exists x, P(x) \\land R(x)$, $\\exists x, Q(x) \\land R(x)$, $\\exists x, P(x)$, $\\exists x, R(x)$] Meaning:  $(\\forall x, P(x) \\lor Q(x) \\lor R(x)) \\land \\neg[\\forall x, R(x)] \\land \\neg[\\exists x, P(x) \\land Q(x)] \\land \\neg[\\exists x, P(x) \\land R(x)] \\land \\neg[\\exists x, Q(x) \\land R(x)]$"
            ],
            "text/plain": [
              "<IPython.core.display.HTML object>"
            ]
          },
          "metadata": {
            "tags": []
          }
        },
        {
          "output_type": "display_data",
          "data": {
            "text/html": [
              "Pruning:  [$\\forall x, P(x) \\lor Q(x) \\lor R(x)$, $\\forall x, P(x) \\land Q(x)$, $\\forall x, P(x) \\land R(x)$, $\\forall x, Q(x) \\land R(x)$, $\\forall x, Q(x)$, $\\forall x, R(x)$, $\\exists x, P(x) \\land Q(x)$, $\\exists x, Q(x) \\land R(x)$, $\\exists x, P(x)$, $\\exists x, Q(x)$, $\\exists x, R(x)$] Meaning:  $(\\forall x, P(x) \\lor Q(x) \\lor R(x)) \\land \\neg[\\forall x, P(x) \\land R(x)] \\land \\neg[\\exists x, P(x) \\land Q(x)] \\land \\neg[\\exists x, Q(x) \\land R(x)]$"
            ],
            "text/plain": [
              "<IPython.core.display.HTML object>"
            ]
          },
          "metadata": {
            "tags": []
          }
        },
        {
          "output_type": "display_data",
          "data": {
            "text/html": [
              "Pruning:  [$\\forall x, P(x) \\lor Q(x) \\lor R(x)$, $\\forall x, P(x) \\land Q(x)$, $\\forall x, P(x) \\land R(x)$, $\\forall x, Q(x) \\land R(x)$, $\\forall x, Q(x)$, $\\forall x, R(x)$, $\\exists x, P(x) \\land R(x)$, $\\exists x, Q(x) \\land R(x)$, $\\exists x, P(x)$, $\\exists x, Q(x)$, $\\exists x, R(x)$] Meaning:  $(\\forall x, P(x) \\lor Q(x) \\lor R(x)) \\land \\neg[\\forall x, P(x) \\land Q(x)] \\land \\neg[\\exists x, P(x) \\land R(x)] \\land \\neg[\\exists x, Q(x) \\land R(x)]$"
            ],
            "text/plain": [
              "<IPython.core.display.HTML object>"
            ]
          },
          "metadata": {
            "tags": []
          }
        },
        {
          "output_type": "display_data",
          "data": {
            "text/html": [
              "Pruning:  [$\\forall x, P(x) \\lor Q(x) \\lor R(x)$, $\\forall x, P(x) \\land Q(x)$, $\\forall x, P(x) \\land R(x)$, $\\forall x, P(x)$, $\\forall x, Q(x)$, $\\forall x, R(x)$, $\\exists x, P(x) \\land Q(x)$, $\\exists x, P(x) \\land R(x)$, $\\exists x, P(x)$, $\\exists x, Q(x)$, $\\exists x, R(x)$] Meaning:  $(\\forall x, P(x) \\lor Q(x) \\lor R(x)) \\land \\neg[\\exists x, P(x) \\land Q(x)] \\land \\neg[\\exists x, P(x) \\land R(x)]$"
            ],
            "text/plain": [
              "<IPython.core.display.HTML object>"
            ]
          },
          "metadata": {
            "tags": []
          }
        },
        {
          "output_type": "display_data",
          "data": {
            "text/html": [
              "Pruning:  [$\\forall x, P(x) \\lor Q(x) \\lor R(x)$, $\\forall x, P(x) \\land Q(x)$, $\\forall x, Q(x) \\land R(x)$, $\\forall x, P(x)$, $\\forall x, Q(x)$, $\\forall x, R(x)$, $\\exists x, P(x) \\land Q(x)$, $\\exists x, Q(x) \\land R(x)$, $\\exists x, P(x)$, $\\exists x, Q(x)$, $\\exists x, R(x)$] Meaning:  $(\\forall x, P(x) \\lor Q(x) \\lor R(x)) \\land \\neg[\\exists x, P(x) \\land Q(x)] \\land \\neg[\\exists x, Q(x) \\land R(x)]$"
            ],
            "text/plain": [
              "<IPython.core.display.HTML object>"
            ]
          },
          "metadata": {
            "tags": []
          }
        },
        {
          "output_type": "display_data",
          "data": {
            "text/html": [
              "Pruning:  [$\\forall x, P(x) \\lor Q(x) \\lor R(x)$, $\\forall x, P(x) \\land R(x)$, $\\forall x, Q(x) \\land R(x)$, $\\forall x, P(x)$, $\\forall x, Q(x)$, $\\forall x, R(x)$, $\\exists x, P(x) \\land R(x)$, $\\exists x, Q(x) \\land R(x)$, $\\exists x, P(x)$, $\\exists x, Q(x)$, $\\exists x, R(x)$] Meaning:  $(\\forall x, P(x) \\lor Q(x) \\lor R(x)) \\land \\neg[\\exists x, P(x) \\land R(x)] \\land \\neg[\\exists x, Q(x) \\land R(x)]$"
            ],
            "text/plain": [
              "<IPython.core.display.HTML object>"
            ]
          },
          "metadata": {
            "tags": []
          }
        },
        {
          "output_type": "display_data",
          "data": {
            "text/html": [
              "Pruning:  [$\\forall x, P(x) \\lor Q(x) \\lor R(x)$, $\\forall x, P(x) \\land Q(x)$, $\\forall x, P(x) \\land R(x)$, $\\forall x, Q(x) \\land R(x)$, $\\forall x, P(x)$, $\\forall x, Q(x)$, $\\forall x, R(x)$, $\\exists x, P(x) \\land Q(x)$, $\\exists x, P(x) \\land R(x)$, $\\exists x, Q(x) \\land R(x)$, $\\exists x, P(x)$, $\\exists x, Q(x)$] Meaning:  $(\\forall x, P(x) \\lor Q(x) \\lor R(x)) \\land \\neg[\\forall x, P(x)] \\land \\neg[\\forall x, Q(x)] \\land \\neg[\\exists x, P(x) \\land Q(x)] \\land \\neg[\\exists x, P(x) \\land R(x)] \\land \\neg[\\exists x, Q(x) \\land R(x)]$"
            ],
            "text/plain": [
              "<IPython.core.display.HTML object>"
            ]
          },
          "metadata": {
            "tags": []
          }
        },
        {
          "output_type": "display_data",
          "data": {
            "text/html": [
              "Pruning:  [$\\forall x, P(x) \\lor Q(x) \\lor R(x)$, $\\forall x, P(x) \\land Q(x)$, $\\forall x, P(x) \\land R(x)$, $\\forall x, Q(x) \\land R(x)$, $\\forall x, P(x)$, $\\forall x, Q(x)$, $\\forall x, R(x)$, $\\exists x, P(x) \\land Q(x)$, $\\exists x, P(x) \\land R(x)$, $\\exists x, Q(x) \\land R(x)$, $\\exists x, P(x)$, $\\exists x, R(x)$] Meaning:  $(\\forall x, P(x) \\lor Q(x) \\lor R(x)) \\land \\neg[\\forall x, P(x)] \\land \\neg[\\forall x, R(x)] \\land \\neg[\\exists x, P(x) \\land Q(x)] \\land \\neg[\\exists x, P(x) \\land R(x)] \\land \\neg[\\exists x, Q(x) \\land R(x)]$"
            ],
            "text/plain": [
              "<IPython.core.display.HTML object>"
            ]
          },
          "metadata": {
            "tags": []
          }
        },
        {
          "output_type": "display_data",
          "data": {
            "text/html": [
              "Pruning:  [$\\forall x, P(x) \\lor Q(x) \\lor R(x)$, $\\forall x, P(x) \\land Q(x)$, $\\forall x, P(x) \\land R(x)$, $\\forall x, Q(x) \\land R(x)$, $\\forall x, P(x)$, $\\forall x, Q(x)$, $\\forall x, R(x)$, $\\exists x, P(x) \\land Q(x)$, $\\exists x, P(x) \\land R(x)$, $\\exists x, Q(x) \\land R(x)$, $\\exists x, Q(x)$, $\\exists x, R(x)$] Meaning:  $(\\forall x, P(x) \\lor Q(x) \\lor R(x)) \\land \\neg[\\forall x, Q(x)] \\land \\neg[\\forall x, R(x)] \\land \\neg[\\exists x, P(x) \\land Q(x)] \\land \\neg[\\exists x, P(x) \\land R(x)] \\land \\neg[\\exists x, Q(x) \\land R(x)]$"
            ],
            "text/plain": [
              "<IPython.core.display.HTML object>"
            ]
          },
          "metadata": {
            "tags": []
          }
        },
        {
          "output_type": "display_data",
          "data": {
            "text/html": [
              "Pruning:  [$\\forall x, P(x) \\lor Q(x) \\lor R(x)$, $\\forall x, P(x) \\land Q(x)$, $\\forall x, P(x) \\land R(x)$, $\\forall x, Q(x) \\land R(x)$, $\\forall x, P(x)$, $\\forall x, Q(x)$, $\\forall x, R(x)$, $\\exists x, P(x) \\land Q(x)$, $\\exists x, P(x) \\land R(x)$, $\\exists x, P(x)$, $\\exists x, Q(x)$, $\\exists x, R(x)$] Meaning:  $(\\forall x, P(x) \\lor Q(x) \\lor R(x)) \\land \\neg[\\forall x, Q(x) \\land R(x)] \\land \\neg[\\exists x, P(x) \\land Q(x)] \\land \\neg[\\exists x, P(x) \\land R(x)]$"
            ],
            "text/plain": [
              "<IPython.core.display.HTML object>"
            ]
          },
          "metadata": {
            "tags": []
          }
        },
        {
          "output_type": "display_data",
          "data": {
            "text/html": [
              "Pruning:  [$\\forall x, P(x) \\lor Q(x) \\lor R(x)$, $\\forall x, P(x) \\land Q(x)$, $\\forall x, P(x) \\land R(x)$, $\\forall x, Q(x) \\land R(x)$, $\\forall x, P(x)$, $\\forall x, Q(x)$, $\\forall x, R(x)$, $\\exists x, P(x) \\land Q(x)$, $\\exists x, Q(x) \\land R(x)$, $\\exists x, P(x)$, $\\exists x, Q(x)$, $\\exists x, R(x)$] Meaning:  $(\\forall x, P(x) \\lor Q(x) \\lor R(x)) \\land \\neg[\\forall x, P(x) \\land R(x)] \\land \\neg[\\exists x, P(x) \\land Q(x)] \\land \\neg[\\exists x, Q(x) \\land R(x)]$"
            ],
            "text/plain": [
              "<IPython.core.display.HTML object>"
            ]
          },
          "metadata": {
            "tags": []
          }
        },
        {
          "output_type": "display_data",
          "data": {
            "text/html": [
              "Pruning:  [$\\forall x, P(x) \\lor Q(x) \\lor R(x)$, $\\forall x, P(x) \\land Q(x)$, $\\forall x, P(x) \\land R(x)$, $\\forall x, Q(x) \\land R(x)$, $\\forall x, P(x)$, $\\forall x, Q(x)$, $\\forall x, R(x)$, $\\exists x, P(x) \\land R(x)$, $\\exists x, Q(x) \\land R(x)$, $\\exists x, P(x)$, $\\exists x, Q(x)$, $\\exists x, R(x)$] Meaning:  $(\\forall x, P(x) \\lor Q(x) \\lor R(x)) \\land \\neg[\\forall x, P(x) \\land Q(x)] \\land \\neg[\\exists x, P(x) \\land R(x)] \\land \\neg[\\exists x, Q(x) \\land R(x)]$"
            ],
            "text/plain": [
              "<IPython.core.display.HTML object>"
            ]
          },
          "metadata": {
            "tags": []
          }
        },
        {
          "output_type": "display_data",
          "data": {
            "text/html": [
              "Pruning:  [$\\forall x, P(x) \\lor Q(x) \\lor R(x)$, $\\forall x, P(x) \\land Q(x)$, $\\forall x, P(x) \\land R(x)$, $\\forall x, Q(x) \\land R(x)$, $\\forall x, P(x)$, $\\forall x, Q(x)$, $\\exists x, P(x) \\land Q(x)$, $\\exists x, P(x) \\land R(x)$, $\\exists x, Q(x) \\land R(x)$, $\\exists x, P(x)$, $\\exists x, Q(x)$, $\\exists x, R(x)$] Meaning:  $(\\forall x, P(x) \\lor Q(x) \\lor R(x)) \\land \\neg[\\exists x, P(x) \\land Q(x)] \\land \\neg[\\exists x, P(x) \\land R(x)] \\land \\neg[\\exists x, Q(x) \\land R(x)]$"
            ],
            "text/plain": [
              "<IPython.core.display.HTML object>"
            ]
          },
          "metadata": {
            "tags": []
          }
        },
        {
          "output_type": "display_data",
          "data": {
            "text/html": [
              "Pruning:  [$\\forall x, P(x) \\lor Q(x) \\lor R(x)$, $\\forall x, P(x) \\land Q(x)$, $\\forall x, P(x) \\land R(x)$, $\\forall x, Q(x) \\land R(x)$, $\\forall x, P(x)$, $\\forall x, R(x)$, $\\exists x, P(x) \\land Q(x)$, $\\exists x, P(x) \\land R(x)$, $\\exists x, Q(x) \\land R(x)$, $\\exists x, P(x)$, $\\exists x, Q(x)$, $\\exists x, R(x)$] Meaning:  $(\\forall x, P(x) \\lor Q(x) \\lor R(x)) \\land \\neg[\\exists x, P(x) \\land Q(x)] \\land \\neg[\\exists x, P(x) \\land R(x)] \\land \\neg[\\exists x, Q(x) \\land R(x)]$"
            ],
            "text/plain": [
              "<IPython.core.display.HTML object>"
            ]
          },
          "metadata": {
            "tags": []
          }
        },
        {
          "output_type": "display_data",
          "data": {
            "text/html": [
              "Pruning:  [$\\forall x, P(x) \\lor Q(x) \\lor R(x)$, $\\forall x, P(x) \\land Q(x)$, $\\forall x, P(x) \\land R(x)$, $\\forall x, Q(x) \\land R(x)$, $\\forall x, Q(x)$, $\\forall x, R(x)$, $\\exists x, P(x) \\land Q(x)$, $\\exists x, P(x) \\land R(x)$, $\\exists x, Q(x) \\land R(x)$, $\\exists x, P(x)$, $\\exists x, Q(x)$, $\\exists x, R(x)$] Meaning:  $(\\forall x, P(x) \\lor Q(x) \\lor R(x)) \\land \\neg[\\exists x, P(x) \\land Q(x)] \\land \\neg[\\exists x, P(x) \\land R(x)] \\land \\neg[\\exists x, Q(x) \\land R(x)]$"
            ],
            "text/plain": [
              "<IPython.core.display.HTML object>"
            ]
          },
          "metadata": {
            "tags": []
          }
        },
        {
          "output_type": "display_data",
          "data": {
            "text/html": [
              "Pruning:  [$\\forall x, P(x) \\lor Q(x) \\lor R(x)$, $\\forall x, P(x) \\land Q(x)$, $\\forall x, P(x) \\land R(x)$, $\\forall x, Q(x) \\land R(x)$, $\\forall x, P(x)$, $\\forall x, Q(x)$, $\\forall x, R(x)$, $\\exists x, P(x) \\land Q(x)$, $\\exists x, P(x) \\land R(x)$, $\\exists x, Q(x) \\land R(x)$, $\\exists x, P(x)$, $\\exists x, Q(x)$, $\\exists x, R(x)$] Meaning:  $(\\forall x, P(x) \\lor Q(x) \\lor R(x)) \\land \\neg[\\exists x, P(x) \\land Q(x)] \\land \\neg[\\exists x, P(x) \\land R(x)] \\land \\neg[\\exists x, Q(x) \\land R(x)]$"
            ],
            "text/plain": [
              "<IPython.core.display.HTML object>"
            ]
          },
          "metadata": {
            "tags": []
          }
        },
        {
          "output_type": "execute_result",
          "data": {
            "text/plain": [
              "[None,\n",
              " None,\n",
              " None,\n",
              " None,\n",
              " None,\n",
              " None,\n",
              " None,\n",
              " None,\n",
              " None,\n",
              " None,\n",
              " None,\n",
              " None,\n",
              " None,\n",
              " None,\n",
              " None,\n",
              " None,\n",
              " None,\n",
              " None,\n",
              " None,\n",
              " None,\n",
              " None,\n",
              " None,\n",
              " None,\n",
              " None,\n",
              " None,\n",
              " None,\n",
              " None,\n",
              " None,\n",
              " None,\n",
              " None,\n",
              " None,\n",
              " None,\n",
              " None,\n",
              " None,\n",
              " None,\n",
              " None,\n",
              " None,\n",
              " None,\n",
              " None,\n",
              " None,\n",
              " None,\n",
              " None,\n",
              " None,\n",
              " None,\n",
              " None,\n",
              " None,\n",
              " None,\n",
              " None,\n",
              " None,\n",
              " None,\n",
              " None,\n",
              " None,\n",
              " None,\n",
              " None,\n",
              " None,\n",
              " None,\n",
              " None,\n",
              " None,\n",
              " None,\n",
              " None,\n",
              " None,\n",
              " None,\n",
              " None,\n",
              " None,\n",
              " None,\n",
              " None,\n",
              " None,\n",
              " None,\n",
              " None,\n",
              " None,\n",
              " None,\n",
              " None,\n",
              " None,\n",
              " None,\n",
              " None,\n",
              " None,\n",
              " None,\n",
              " None,\n",
              " None,\n",
              " None,\n",
              " None,\n",
              " None,\n",
              " None,\n",
              " None,\n",
              " None,\n",
              " None,\n",
              " None,\n",
              " None,\n",
              " None,\n",
              " None,\n",
              " None,\n",
              " None,\n",
              " None,\n",
              " None,\n",
              " None,\n",
              " None,\n",
              " None,\n",
              " None,\n",
              " None,\n",
              " None,\n",
              " None,\n",
              " None,\n",
              " None,\n",
              " None,\n",
              " None,\n",
              " None,\n",
              " None,\n",
              " None,\n",
              " None,\n",
              " None,\n",
              " None,\n",
              " None,\n",
              " None,\n",
              " None,\n",
              " None,\n",
              " None,\n",
              " None,\n",
              " None,\n",
              " None,\n",
              " None,\n",
              " None,\n",
              " None,\n",
              " None,\n",
              " None,\n",
              " None,\n",
              " None,\n",
              " None,\n",
              " None,\n",
              " None,\n",
              " None,\n",
              " None,\n",
              " None,\n",
              " None,\n",
              " None,\n",
              " None,\n",
              " None,\n",
              " None,\n",
              " None,\n",
              " None,\n",
              " None,\n",
              " None,\n",
              " None,\n",
              " None,\n",
              " None,\n",
              " None,\n",
              " None,\n",
              " None,\n",
              " None,\n",
              " None,\n",
              " None,\n",
              " None,\n",
              " None,\n",
              " None,\n",
              " None,\n",
              " None,\n",
              " None,\n",
              " None,\n",
              " None,\n",
              " None,\n",
              " None,\n",
              " None,\n",
              " None,\n",
              " None,\n",
              " None,\n",
              " None,\n",
              " None,\n",
              " None,\n",
              " None,\n",
              " None,\n",
              " None,\n",
              " None,\n",
              " None,\n",
              " None,\n",
              " None,\n",
              " None,\n",
              " None,\n",
              " None,\n",
              " None,\n",
              " None,\n",
              " None,\n",
              " None,\n",
              " None,\n",
              " None,\n",
              " None,\n",
              " None,\n",
              " None,\n",
              " None,\n",
              " None,\n",
              " None,\n",
              " None,\n",
              " None,\n",
              " None,\n",
              " None,\n",
              " None,\n",
              " None,\n",
              " None,\n",
              " None,\n",
              " None,\n",
              " None,\n",
              " None,\n",
              " None,\n",
              " None,\n",
              " None,\n",
              " None,\n",
              " None,\n",
              " None,\n",
              " None,\n",
              " None,\n",
              " None,\n",
              " None,\n",
              " None,\n",
              " None,\n",
              " None,\n",
              " None,\n",
              " None,\n",
              " None,\n",
              " None,\n",
              " None,\n",
              " None,\n",
              " None,\n",
              " None,\n",
              " None,\n",
              " None,\n",
              " None,\n",
              " None,\n",
              " None,\n",
              " None,\n",
              " None,\n",
              " None,\n",
              " None,\n",
              " None,\n",
              " None,\n",
              " None,\n",
              " None,\n",
              " None,\n",
              " None,\n",
              " None,\n",
              " None,\n",
              " None,\n",
              " None,\n",
              " None,\n",
              " None,\n",
              " None,\n",
              " None,\n",
              " None,\n",
              " None,\n",
              " None,\n",
              " None,\n",
              " None,\n",
              " None,\n",
              " None,\n",
              " None,\n",
              " None,\n",
              " None,\n",
              " None,\n",
              " None,\n",
              " None,\n",
              " None,\n",
              " None,\n",
              " None,\n",
              " None,\n",
              " None,\n",
              " None,\n",
              " None,\n",
              " None,\n",
              " None,\n",
              " None]"
            ]
          },
          "metadata": {
            "tags": []
          },
          "execution_count": 30
        }
      ]
    },
    {
      "cell_type": "code",
      "metadata": {
        "id": "uZrWRkEqQSOe",
        "outputId": "4eba6ee9-923a-40bd-bdc5-3807806d2af1",
        "colab": {
          "base_uri": "https://localhost:8080/",
          "height": 1000
        }
      },
      "source": [
        "[jprint(\"Pruning: \",i,\"Meaning: \",exhf(Exh(prej_universal3,i))) for i in pos_prun_nonset3]"
      ],
      "execution_count": 31,
      "outputs": [
        {
          "output_type": "display_data",
          "data": {
            "text/html": [
              "Pruning:  [$\\forall x, P(x) \\lor Q(x) \\lor R(x)$] Meaning:  $\\forall x, P(x) \\lor Q(x) \\lor R(x)$"
            ],
            "text/plain": [
              "<IPython.core.display.HTML object>"
            ]
          },
          "metadata": {
            "tags": []
          }
        },
        {
          "output_type": "display_data",
          "data": {
            "text/html": [
              "Pruning:  [$\\forall x, P(x) \\lor Q(x) \\lor R(x)$, $\\forall x, P(x) \\land Q(x)$] Meaning:  $(\\forall x, P(x) \\lor Q(x) \\lor R(x)) \\land \\neg[\\forall x, P(x) \\land Q(x)]$"
            ],
            "text/plain": [
              "<IPython.core.display.HTML object>"
            ]
          },
          "metadata": {
            "tags": []
          }
        },
        {
          "output_type": "display_data",
          "data": {
            "text/html": [
              "Pruning:  [$\\forall x, P(x) \\lor Q(x) \\lor R(x)$, $\\forall x, P(x) \\land R(x)$] Meaning:  $(\\forall x, P(x) \\lor Q(x) \\lor R(x)) \\land \\neg[\\forall x, P(x) \\land R(x)]$"
            ],
            "text/plain": [
              "<IPython.core.display.HTML object>"
            ]
          },
          "metadata": {
            "tags": []
          }
        },
        {
          "output_type": "display_data",
          "data": {
            "text/html": [
              "Pruning:  [$\\forall x, P(x) \\lor Q(x) \\lor R(x)$, $\\forall x, Q(x) \\land R(x)$] Meaning:  $(\\forall x, P(x) \\lor Q(x) \\lor R(x)) \\land \\neg[\\forall x, Q(x) \\land R(x)]$"
            ],
            "text/plain": [
              "<IPython.core.display.HTML object>"
            ]
          },
          "metadata": {
            "tags": []
          }
        },
        {
          "output_type": "display_data",
          "data": {
            "text/html": [
              "Pruning:  [$\\forall x, P(x) \\lor Q(x) \\lor R(x)$, $\\forall x, P(x) \\land Q(x)$, $\\forall x, P(x) \\land R(x)$] Meaning:  $(\\forall x, P(x) \\lor Q(x) \\lor R(x)) \\land \\neg[\\forall x, P(x) \\land Q(x)] \\land \\neg[\\forall x, P(x) \\land R(x)]$"
            ],
            "text/plain": [
              "<IPython.core.display.HTML object>"
            ]
          },
          "metadata": {
            "tags": []
          }
        },
        {
          "output_type": "display_data",
          "data": {
            "text/html": [
              "Pruning:  [$\\forall x, P(x) \\lor Q(x) \\lor R(x)$, $\\forall x, P(x) \\land Q(x)$, $\\forall x, Q(x) \\land R(x)$] Meaning:  $(\\forall x, P(x) \\lor Q(x) \\lor R(x)) \\land \\neg[\\forall x, P(x) \\land Q(x)] \\land \\neg[\\forall x, Q(x) \\land R(x)]$"
            ],
            "text/plain": [
              "<IPython.core.display.HTML object>"
            ]
          },
          "metadata": {
            "tags": []
          }
        },
        {
          "output_type": "display_data",
          "data": {
            "text/html": [
              "Pruning:  [$\\forall x, P(x) \\lor Q(x) \\lor R(x)$, $\\forall x, P(x) \\land Q(x)$, $\\exists x, P(x) \\land Q(x)$] Meaning:  $(\\forall x, P(x) \\lor Q(x) \\lor R(x)) \\land \\neg[\\exists x, P(x) \\land Q(x)]$"
            ],
            "text/plain": [
              "<IPython.core.display.HTML object>"
            ]
          },
          "metadata": {
            "tags": []
          }
        },
        {
          "output_type": "display_data",
          "data": {
            "text/html": [
              "Pruning:  [$\\forall x, P(x) \\lor Q(x) \\lor R(x)$, $\\forall x, P(x) \\land R(x)$, $\\forall x, Q(x) \\land R(x)$] Meaning:  $(\\forall x, P(x) \\lor Q(x) \\lor R(x)) \\land \\neg[\\forall x, P(x) \\land R(x)] \\land \\neg[\\forall x, Q(x) \\land R(x)]$"
            ],
            "text/plain": [
              "<IPython.core.display.HTML object>"
            ]
          },
          "metadata": {
            "tags": []
          }
        },
        {
          "output_type": "display_data",
          "data": {
            "text/html": [
              "Pruning:  [$\\forall x, P(x) \\lor Q(x) \\lor R(x)$, $\\forall x, P(x) \\land R(x)$, $\\exists x, P(x) \\land R(x)$] Meaning:  $(\\forall x, P(x) \\lor Q(x) \\lor R(x)) \\land \\neg[\\exists x, P(x) \\land R(x)]$"
            ],
            "text/plain": [
              "<IPython.core.display.HTML object>"
            ]
          },
          "metadata": {
            "tags": []
          }
        },
        {
          "output_type": "display_data",
          "data": {
            "text/html": [
              "Pruning:  [$\\forall x, P(x) \\lor Q(x) \\lor R(x)$, $\\forall x, Q(x) \\land R(x)$, $\\exists x, Q(x) \\land R(x)$] Meaning:  $(\\forall x, P(x) \\lor Q(x) \\lor R(x)) \\land \\neg[\\exists x, Q(x) \\land R(x)]$"
            ],
            "text/plain": [
              "<IPython.core.display.HTML object>"
            ]
          },
          "metadata": {
            "tags": []
          }
        },
        {
          "output_type": "display_data",
          "data": {
            "text/html": [
              "Pruning:  [$\\forall x, P(x) \\lor Q(x) \\lor R(x)$, $\\forall x, P(x) \\land Q(x)$, $\\forall x, P(x) \\land R(x)$, $\\forall x, Q(x) \\land R(x)$] Meaning:  $(\\forall x, P(x) \\lor Q(x) \\lor R(x)) \\land \\neg[\\forall x, P(x) \\land Q(x)] \\land \\neg[\\forall x, P(x) \\land R(x)] \\land \\neg[\\forall x, Q(x) \\land R(x)]$"
            ],
            "text/plain": [
              "<IPython.core.display.HTML object>"
            ]
          },
          "metadata": {
            "tags": []
          }
        },
        {
          "output_type": "display_data",
          "data": {
            "text/html": [
              "Pruning:  [$\\forall x, P(x) \\lor Q(x) \\lor R(x)$, $\\forall x, P(x) \\land Q(x)$, $\\forall x, P(x) \\land R(x)$, $\\forall x, P(x)$] Meaning:  $(\\forall x, P(x) \\lor Q(x) \\lor R(x)) \\land \\neg[\\forall x, P(x)]$"
            ],
            "text/plain": [
              "<IPython.core.display.HTML object>"
            ]
          },
          "metadata": {
            "tags": []
          }
        },
        {
          "output_type": "display_data",
          "data": {
            "text/html": [
              "Pruning:  [$\\forall x, P(x) \\lor Q(x) \\lor R(x)$, $\\forall x, P(x) \\land Q(x)$, $\\forall x, P(x) \\land R(x)$, $\\exists x, P(x) \\land Q(x)$] Meaning:  $(\\forall x, P(x) \\lor Q(x) \\lor R(x)) \\land \\neg[\\forall x, P(x) \\land R(x)] \\land \\neg[\\exists x, P(x) \\land Q(x)]$"
            ],
            "text/plain": [
              "<IPython.core.display.HTML object>"
            ]
          },
          "metadata": {
            "tags": []
          }
        },
        {
          "output_type": "display_data",
          "data": {
            "text/html": [
              "Pruning:  [$\\forall x, P(x) \\lor Q(x) \\lor R(x)$, $\\forall x, P(x) \\land Q(x)$, $\\forall x, P(x) \\land R(x)$, $\\exists x, P(x) \\land R(x)$] Meaning:  $(\\forall x, P(x) \\lor Q(x) \\lor R(x)) \\land \\neg[\\forall x, P(x) \\land Q(x)] \\land \\neg[\\exists x, P(x) \\land R(x)]$"
            ],
            "text/plain": [
              "<IPython.core.display.HTML object>"
            ]
          },
          "metadata": {
            "tags": []
          }
        },
        {
          "output_type": "display_data",
          "data": {
            "text/html": [
              "Pruning:  [$\\forall x, P(x) \\lor Q(x) \\lor R(x)$, $\\forall x, P(x) \\land Q(x)$, $\\forall x, Q(x) \\land R(x)$, $\\forall x, Q(x)$] Meaning:  $(\\forall x, P(x) \\lor Q(x) \\lor R(x)) \\land \\neg[\\forall x, Q(x)]$"
            ],
            "text/plain": [
              "<IPython.core.display.HTML object>"
            ]
          },
          "metadata": {
            "tags": []
          }
        },
        {
          "output_type": "display_data",
          "data": {
            "text/html": [
              "Pruning:  [$\\forall x, P(x) \\lor Q(x) \\lor R(x)$, $\\forall x, P(x) \\land Q(x)$, $\\forall x, Q(x) \\land R(x)$, $\\exists x, P(x) \\land Q(x)$] Meaning:  $(\\forall x, P(x) \\lor Q(x) \\lor R(x)) \\land \\neg[\\forall x, Q(x) \\land R(x)] \\land \\neg[\\exists x, P(x) \\land Q(x)]$"
            ],
            "text/plain": [
              "<IPython.core.display.HTML object>"
            ]
          },
          "metadata": {
            "tags": []
          }
        },
        {
          "output_type": "display_data",
          "data": {
            "text/html": [
              "Pruning:  [$\\forall x, P(x) \\lor Q(x) \\lor R(x)$, $\\forall x, P(x) \\land Q(x)$, $\\forall x, Q(x) \\land R(x)$, $\\exists x, Q(x) \\land R(x)$] Meaning:  $(\\forall x, P(x) \\lor Q(x) \\lor R(x)) \\land \\neg[\\forall x, P(x) \\land Q(x)] \\land \\neg[\\exists x, Q(x) \\land R(x)]$"
            ],
            "text/plain": [
              "<IPython.core.display.HTML object>"
            ]
          },
          "metadata": {
            "tags": []
          }
        },
        {
          "output_type": "display_data",
          "data": {
            "text/html": [
              "Pruning:  [$\\forall x, P(x) \\lor Q(x) \\lor R(x)$, $\\forall x, P(x) \\land R(x)$, $\\forall x, Q(x) \\land R(x)$, $\\forall x, R(x)$] Meaning:  $(\\forall x, P(x) \\lor Q(x) \\lor R(x)) \\land \\neg[\\forall x, R(x)]$"
            ],
            "text/plain": [
              "<IPython.core.display.HTML object>"
            ]
          },
          "metadata": {
            "tags": []
          }
        },
        {
          "output_type": "display_data",
          "data": {
            "text/html": [
              "Pruning:  [$\\forall x, P(x) \\lor Q(x) \\lor R(x)$, $\\forall x, P(x) \\land R(x)$, $\\forall x, Q(x) \\land R(x)$, $\\exists x, P(x) \\land R(x)$] Meaning:  $(\\forall x, P(x) \\lor Q(x) \\lor R(x)) \\land \\neg[\\forall x, Q(x) \\land R(x)] \\land \\neg[\\exists x, P(x) \\land R(x)]$"
            ],
            "text/plain": [
              "<IPython.core.display.HTML object>"
            ]
          },
          "metadata": {
            "tags": []
          }
        },
        {
          "output_type": "display_data",
          "data": {
            "text/html": [
              "Pruning:  [$\\forall x, P(x) \\lor Q(x) \\lor R(x)$, $\\forall x, P(x) \\land R(x)$, $\\forall x, Q(x) \\land R(x)$, $\\exists x, Q(x) \\land R(x)$] Meaning:  $(\\forall x, P(x) \\lor Q(x) \\lor R(x)) \\land \\neg[\\forall x, P(x) \\land R(x)] \\land \\neg[\\exists x, Q(x) \\land R(x)]$"
            ],
            "text/plain": [
              "<IPython.core.display.HTML object>"
            ]
          },
          "metadata": {
            "tags": []
          }
        },
        {
          "output_type": "display_data",
          "data": {
            "text/html": [
              "Pruning:  [$\\forall x, P(x) \\lor Q(x) \\lor R(x)$, $\\exists x, P(x)$, $\\exists x, Q(x)$, $\\exists x, R(x)$] Meaning:  $(\\forall x, P(x) \\lor Q(x) \\lor R(x)) \\land (\\exists x, P(x)) \\land (\\exists x, Q(x)) \\land (\\exists x, R(x))$"
            ],
            "text/plain": [
              "<IPython.core.display.HTML object>"
            ]
          },
          "metadata": {
            "tags": []
          }
        },
        {
          "output_type": "display_data",
          "data": {
            "text/html": [
              "Pruning:  [$\\forall x, P(x) \\lor Q(x) \\lor R(x)$, $\\forall x, P(x) \\land Q(x)$, $\\forall x, P(x) \\land R(x)$, $\\forall x, Q(x) \\land R(x)$, $\\forall x, P(x)$] Meaning:  $(\\forall x, P(x) \\lor Q(x) \\lor R(x)) \\land \\neg[\\forall x, Q(x) \\land R(x)] \\land \\neg[\\forall x, P(x)]$"
            ],
            "text/plain": [
              "<IPython.core.display.HTML object>"
            ]
          },
          "metadata": {
            "tags": []
          }
        },
        {
          "output_type": "display_data",
          "data": {
            "text/html": [
              "Pruning:  [$\\forall x, P(x) \\lor Q(x) \\lor R(x)$, $\\forall x, P(x) \\land Q(x)$, $\\forall x, P(x) \\land R(x)$, $\\forall x, Q(x) \\land R(x)$, $\\forall x, Q(x)$] Meaning:  $(\\forall x, P(x) \\lor Q(x) \\lor R(x)) \\land \\neg[\\forall x, P(x) \\land R(x)] \\land \\neg[\\forall x, Q(x)]$"
            ],
            "text/plain": [
              "<IPython.core.display.HTML object>"
            ]
          },
          "metadata": {
            "tags": []
          }
        },
        {
          "output_type": "display_data",
          "data": {
            "text/html": [
              "Pruning:  [$\\forall x, P(x) \\lor Q(x) \\lor R(x)$, $\\forall x, P(x) \\land Q(x)$, $\\forall x, P(x) \\land R(x)$, $\\forall x, Q(x) \\land R(x)$, $\\forall x, R(x)$] Meaning:  $(\\forall x, P(x) \\lor Q(x) \\lor R(x)) \\land \\neg[\\forall x, P(x) \\land Q(x)] \\land \\neg[\\forall x, R(x)]$"
            ],
            "text/plain": [
              "<IPython.core.display.HTML object>"
            ]
          },
          "metadata": {
            "tags": []
          }
        },
        {
          "output_type": "display_data",
          "data": {
            "text/html": [
              "Pruning:  [$\\forall x, P(x) \\lor Q(x) \\lor R(x)$, $\\forall x, P(x) \\land Q(x)$, $\\forall x, P(x) \\land R(x)$, $\\forall x, Q(x) \\land R(x)$, $\\exists x, P(x) \\land Q(x)$] Meaning:  $(\\forall x, P(x) \\lor Q(x) \\lor R(x)) \\land \\neg[\\forall x, P(x) \\land R(x)] \\land \\neg[\\forall x, Q(x) \\land R(x)] \\land \\neg[\\exists x, P(x) \\land Q(x)]$"
            ],
            "text/plain": [
              "<IPython.core.display.HTML object>"
            ]
          },
          "metadata": {
            "tags": []
          }
        },
        {
          "output_type": "display_data",
          "data": {
            "text/html": [
              "Pruning:  [$\\forall x, P(x) \\lor Q(x) \\lor R(x)$, $\\forall x, P(x) \\land Q(x)$, $\\forall x, P(x) \\land R(x)$, $\\forall x, Q(x) \\land R(x)$, $\\exists x, P(x) \\land R(x)$] Meaning:  $(\\forall x, P(x) \\lor Q(x) \\lor R(x)) \\land \\neg[\\forall x, P(x) \\land Q(x)] \\land \\neg[\\forall x, Q(x) \\land R(x)] \\land \\neg[\\exists x, P(x) \\land R(x)]$"
            ],
            "text/plain": [
              "<IPython.core.display.HTML object>"
            ]
          },
          "metadata": {
            "tags": []
          }
        },
        {
          "output_type": "display_data",
          "data": {
            "text/html": [
              "Pruning:  [$\\forall x, P(x) \\lor Q(x) \\lor R(x)$, $\\forall x, P(x) \\land Q(x)$, $\\forall x, P(x) \\land R(x)$, $\\forall x, Q(x) \\land R(x)$, $\\exists x, Q(x) \\land R(x)$] Meaning:  $(\\forall x, P(x) \\lor Q(x) \\lor R(x)) \\land \\neg[\\forall x, P(x) \\land Q(x)] \\land \\neg[\\forall x, P(x) \\land R(x)] \\land \\neg[\\exists x, Q(x) \\land R(x)]$"
            ],
            "text/plain": [
              "<IPython.core.display.HTML object>"
            ]
          },
          "metadata": {
            "tags": []
          }
        },
        {
          "output_type": "display_data",
          "data": {
            "text/html": [
              "Pruning:  [$\\forall x, P(x) \\lor Q(x) \\lor R(x)$, $\\forall x, P(x) \\land Q(x)$, $\\forall x, P(x) \\land R(x)$, $\\forall x, P(x)$, $\\exists x, P(x) \\land Q(x)$] Meaning:  $(\\forall x, P(x) \\lor Q(x) \\lor R(x)) \\land \\neg[\\forall x, P(x)] \\land \\neg[\\exists x, P(x) \\land Q(x)]$"
            ],
            "text/plain": [
              "<IPython.core.display.HTML object>"
            ]
          },
          "metadata": {
            "tags": []
          }
        },
        {
          "output_type": "display_data",
          "data": {
            "text/html": [
              "Pruning:  [$\\forall x, P(x) \\lor Q(x) \\lor R(x)$, $\\forall x, P(x) \\land Q(x)$, $\\forall x, P(x) \\land R(x)$, $\\forall x, P(x)$, $\\exists x, P(x) \\land R(x)$] Meaning:  $(\\forall x, P(x) \\lor Q(x) \\lor R(x)) \\land \\neg[\\forall x, P(x)] \\land \\neg[\\exists x, P(x) \\land R(x)]$"
            ],
            "text/plain": [
              "<IPython.core.display.HTML object>"
            ]
          },
          "metadata": {
            "tags": []
          }
        },
        {
          "output_type": "display_data",
          "data": {
            "text/html": [
              "Pruning:  [$\\forall x, P(x) \\lor Q(x) \\lor R(x)$, $\\forall x, P(x) \\land Q(x)$, $\\forall x, P(x) \\land R(x)$, $\\exists x, P(x) \\land Q(x)$, $\\exists x, P(x) \\land R(x)$] Meaning:  $(\\forall x, P(x) \\lor Q(x) \\lor R(x)) \\land \\neg[\\exists x, P(x) \\land Q(x)] \\land \\neg[\\exists x, P(x) \\land R(x)]$"
            ],
            "text/plain": [
              "<IPython.core.display.HTML object>"
            ]
          },
          "metadata": {
            "tags": []
          }
        },
        {
          "output_type": "display_data",
          "data": {
            "text/html": [
              "Pruning:  [$\\forall x, P(x) \\lor Q(x) \\lor R(x)$, $\\forall x, P(x) \\land Q(x)$, $\\forall x, Q(x) \\land R(x)$, $\\forall x, Q(x)$, $\\exists x, P(x) \\land Q(x)$] Meaning:  $(\\forall x, P(x) \\lor Q(x) \\lor R(x)) \\land \\neg[\\forall x, Q(x)] \\land \\neg[\\exists x, P(x) \\land Q(x)]$"
            ],
            "text/plain": [
              "<IPython.core.display.HTML object>"
            ]
          },
          "metadata": {
            "tags": []
          }
        },
        {
          "output_type": "display_data",
          "data": {
            "text/html": [
              "Pruning:  [$\\forall x, P(x) \\lor Q(x) \\lor R(x)$, $\\forall x, P(x) \\land Q(x)$, $\\forall x, Q(x) \\land R(x)$, $\\forall x, Q(x)$, $\\exists x, Q(x) \\land R(x)$] Meaning:  $(\\forall x, P(x) \\lor Q(x) \\lor R(x)) \\land \\neg[\\forall x, Q(x)] \\land \\neg[\\exists x, Q(x) \\land R(x)]$"
            ],
            "text/plain": [
              "<IPython.core.display.HTML object>"
            ]
          },
          "metadata": {
            "tags": []
          }
        },
        {
          "output_type": "display_data",
          "data": {
            "text/html": [
              "Pruning:  [$\\forall x, P(x) \\lor Q(x) \\lor R(x)$, $\\forall x, P(x) \\land Q(x)$, $\\forall x, Q(x) \\land R(x)$, $\\exists x, P(x) \\land Q(x)$, $\\exists x, Q(x) \\land R(x)$] Meaning:  $(\\forall x, P(x) \\lor Q(x) \\lor R(x)) \\land \\neg[\\exists x, P(x) \\land Q(x)] \\land \\neg[\\exists x, Q(x) \\land R(x)]$"
            ],
            "text/plain": [
              "<IPython.core.display.HTML object>"
            ]
          },
          "metadata": {
            "tags": []
          }
        },
        {
          "output_type": "display_data",
          "data": {
            "text/html": [
              "Pruning:  [$\\forall x, P(x) \\lor Q(x) \\lor R(x)$, $\\forall x, P(x) \\land Q(x)$, $\\exists x, P(x)$, $\\exists x, Q(x)$, $\\exists x, R(x)$] Meaning:  $(\\forall x, P(x) \\lor Q(x) \\lor R(x)) \\land (\\exists x, P(x)) \\land (\\exists x, Q(x)) \\land (\\exists x, R(x)) \\land \\neg[\\forall x, P(x) \\land Q(x)]$"
            ],
            "text/plain": [
              "<IPython.core.display.HTML object>"
            ]
          },
          "metadata": {
            "tags": []
          }
        },
        {
          "output_type": "display_data",
          "data": {
            "text/html": [
              "Pruning:  [$\\forall x, P(x) \\lor Q(x) \\lor R(x)$, $\\forall x, P(x) \\land R(x)$, $\\forall x, Q(x) \\land R(x)$, $\\forall x, R(x)$, $\\exists x, P(x) \\land R(x)$] Meaning:  $(\\forall x, P(x) \\lor Q(x) \\lor R(x)) \\land \\neg[\\forall x, R(x)] \\land \\neg[\\exists x, P(x) \\land R(x)]$"
            ],
            "text/plain": [
              "<IPython.core.display.HTML object>"
            ]
          },
          "metadata": {
            "tags": []
          }
        },
        {
          "output_type": "display_data",
          "data": {
            "text/html": [
              "Pruning:  [$\\forall x, P(x) \\lor Q(x) \\lor R(x)$, $\\forall x, P(x) \\land R(x)$, $\\forall x, Q(x) \\land R(x)$, $\\forall x, R(x)$, $\\exists x, Q(x) \\land R(x)$] Meaning:  $(\\forall x, P(x) \\lor Q(x) \\lor R(x)) \\land \\neg[\\forall x, R(x)] \\land \\neg[\\exists x, Q(x) \\land R(x)]$"
            ],
            "text/plain": [
              "<IPython.core.display.HTML object>"
            ]
          },
          "metadata": {
            "tags": []
          }
        },
        {
          "output_type": "display_data",
          "data": {
            "text/html": [
              "Pruning:  [$\\forall x, P(x) \\lor Q(x) \\lor R(x)$, $\\forall x, P(x) \\land R(x)$, $\\forall x, Q(x) \\land R(x)$, $\\exists x, P(x) \\land R(x)$, $\\exists x, Q(x) \\land R(x)$] Meaning:  $(\\forall x, P(x) \\lor Q(x) \\lor R(x)) \\land \\neg[\\exists x, P(x) \\land R(x)] \\land \\neg[\\exists x, Q(x) \\land R(x)]$"
            ],
            "text/plain": [
              "<IPython.core.display.HTML object>"
            ]
          },
          "metadata": {
            "tags": []
          }
        },
        {
          "output_type": "display_data",
          "data": {
            "text/html": [
              "Pruning:  [$\\forall x, P(x) \\lor Q(x) \\lor R(x)$, $\\forall x, P(x) \\land R(x)$, $\\exists x, P(x)$, $\\exists x, Q(x)$, $\\exists x, R(x)$] Meaning:  $(\\forall x, P(x) \\lor Q(x) \\lor R(x)) \\land (\\exists x, P(x)) \\land (\\exists x, Q(x)) \\land (\\exists x, R(x)) \\land \\neg[\\forall x, P(x) \\land R(x)]$"
            ],
            "text/plain": [
              "<IPython.core.display.HTML object>"
            ]
          },
          "metadata": {
            "tags": []
          }
        },
        {
          "output_type": "display_data",
          "data": {
            "text/html": [
              "Pruning:  [$\\forall x, P(x) \\lor Q(x) \\lor R(x)$, $\\forall x, Q(x) \\land R(x)$, $\\exists x, P(x)$, $\\exists x, Q(x)$, $\\exists x, R(x)$] Meaning:  $(\\forall x, P(x) \\lor Q(x) \\lor R(x)) \\land (\\exists x, P(x)) \\land (\\exists x, Q(x)) \\land (\\exists x, R(x)) \\land \\neg[\\forall x, Q(x) \\land R(x)]$"
            ],
            "text/plain": [
              "<IPython.core.display.HTML object>"
            ]
          },
          "metadata": {
            "tags": []
          }
        },
        {
          "output_type": "display_data",
          "data": {
            "text/html": [
              "Pruning:  [$\\forall x, P(x) \\lor Q(x) \\lor R(x)$, $\\forall x, P(x) \\land Q(x)$, $\\forall x, P(x) \\land R(x)$, $\\forall x, Q(x) \\land R(x)$, $\\forall x, P(x)$, $\\forall x, Q(x)$] Meaning:  $(\\forall x, P(x) \\lor Q(x) \\lor R(x)) \\land \\neg[\\forall x, P(x)] \\land \\neg[\\forall x, Q(x)]$"
            ],
            "text/plain": [
              "<IPython.core.display.HTML object>"
            ]
          },
          "metadata": {
            "tags": []
          }
        },
        {
          "output_type": "display_data",
          "data": {
            "text/html": [
              "Pruning:  [$\\forall x, P(x) \\lor Q(x) \\lor R(x)$, $\\forall x, P(x) \\land Q(x)$, $\\forall x, P(x) \\land R(x)$, $\\forall x, Q(x) \\land R(x)$, $\\forall x, P(x)$, $\\forall x, R(x)$] Meaning:  $(\\forall x, P(x) \\lor Q(x) \\lor R(x)) \\land \\neg[\\forall x, P(x)] \\land \\neg[\\forall x, R(x)]$"
            ],
            "text/plain": [
              "<IPython.core.display.HTML object>"
            ]
          },
          "metadata": {
            "tags": []
          }
        },
        {
          "output_type": "display_data",
          "data": {
            "text/html": [
              "Pruning:  [$\\forall x, P(x) \\lor Q(x) \\lor R(x)$, $\\forall x, P(x) \\land Q(x)$, $\\forall x, P(x) \\land R(x)$, $\\forall x, Q(x) \\land R(x)$, $\\forall x, P(x)$, $\\exists x, P(x) \\land Q(x)$] Meaning:  $(\\forall x, P(x) \\lor Q(x) \\lor R(x)) \\land \\neg[\\forall x, Q(x) \\land R(x)] \\land \\neg[\\forall x, P(x)] \\land \\neg[\\exists x, P(x) \\land Q(x)]$"
            ],
            "text/plain": [
              "<IPython.core.display.HTML object>"
            ]
          },
          "metadata": {
            "tags": []
          }
        },
        {
          "output_type": "display_data",
          "data": {
            "text/html": [
              "Pruning:  [$\\forall x, P(x) \\lor Q(x) \\lor R(x)$, $\\forall x, P(x) \\land Q(x)$, $\\forall x, P(x) \\land R(x)$, $\\forall x, Q(x) \\land R(x)$, $\\forall x, P(x)$, $\\exists x, P(x) \\land R(x)$] Meaning:  $(\\forall x, P(x) \\lor Q(x) \\lor R(x)) \\land \\neg[\\forall x, Q(x) \\land R(x)] \\land \\neg[\\forall x, P(x)] \\land \\neg[\\exists x, P(x) \\land R(x)]$"
            ],
            "text/plain": [
              "<IPython.core.display.HTML object>"
            ]
          },
          "metadata": {
            "tags": []
          }
        },
        {
          "output_type": "display_data",
          "data": {
            "text/html": [
              "Pruning:  [$\\forall x, P(x) \\lor Q(x) \\lor R(x)$, $\\forall x, P(x) \\land Q(x)$, $\\forall x, P(x) \\land R(x)$, $\\forall x, Q(x) \\land R(x)$, $\\forall x, P(x)$, $\\exists x, Q(x) \\land R(x)$] Meaning:  $(\\forall x, P(x) \\lor Q(x) \\lor R(x)) \\land \\neg[\\forall x, P(x)] \\land \\neg[\\exists x, Q(x) \\land R(x)]$"
            ],
            "text/plain": [
              "<IPython.core.display.HTML object>"
            ]
          },
          "metadata": {
            "tags": []
          }
        },
        {
          "output_type": "display_data",
          "data": {
            "text/html": [
              "Pruning:  [$\\forall x, P(x) \\lor Q(x) \\lor R(x)$, $\\forall x, P(x) \\land Q(x)$, $\\forall x, P(x) \\land R(x)$, $\\forall x, Q(x) \\land R(x)$, $\\forall x, Q(x)$, $\\forall x, R(x)$] Meaning:  $(\\forall x, P(x) \\lor Q(x) \\lor R(x)) \\land \\neg[\\forall x, Q(x)] \\land \\neg[\\forall x, R(x)]$"
            ],
            "text/plain": [
              "<IPython.core.display.HTML object>"
            ]
          },
          "metadata": {
            "tags": []
          }
        },
        {
          "output_type": "display_data",
          "data": {
            "text/html": [
              "Pruning:  [$\\forall x, P(x) \\lor Q(x) \\lor R(x)$, $\\forall x, P(x) \\land Q(x)$, $\\forall x, P(x) \\land R(x)$, $\\forall x, Q(x) \\land R(x)$, $\\forall x, Q(x)$, $\\exists x, P(x) \\land Q(x)$] Meaning:  $(\\forall x, P(x) \\lor Q(x) \\lor R(x)) \\land \\neg[\\forall x, P(x) \\land R(x)] \\land \\neg[\\forall x, Q(x)] \\land \\neg[\\exists x, P(x) \\land Q(x)]$"
            ],
            "text/plain": [
              "<IPython.core.display.HTML object>"
            ]
          },
          "metadata": {
            "tags": []
          }
        },
        {
          "output_type": "display_data",
          "data": {
            "text/html": [
              "Pruning:  [$\\forall x, P(x) \\lor Q(x) \\lor R(x)$, $\\forall x, P(x) \\land Q(x)$, $\\forall x, P(x) \\land R(x)$, $\\forall x, Q(x) \\land R(x)$, $\\forall x, Q(x)$, $\\exists x, P(x) \\land R(x)$] Meaning:  $(\\forall x, P(x) \\lor Q(x) \\lor R(x)) \\land \\neg[\\forall x, Q(x)] \\land \\neg[\\exists x, P(x) \\land R(x)]$"
            ],
            "text/plain": [
              "<IPython.core.display.HTML object>"
            ]
          },
          "metadata": {
            "tags": []
          }
        },
        {
          "output_type": "display_data",
          "data": {
            "text/html": [
              "Pruning:  [$\\forall x, P(x) \\lor Q(x) \\lor R(x)$, $\\forall x, P(x) \\land Q(x)$, $\\forall x, P(x) \\land R(x)$, $\\forall x, Q(x) \\land R(x)$, $\\forall x, Q(x)$, $\\exists x, Q(x) \\land R(x)$] Meaning:  $(\\forall x, P(x) \\lor Q(x) \\lor R(x)) \\land \\neg[\\forall x, P(x) \\land R(x)] \\land \\neg[\\forall x, Q(x)] \\land \\neg[\\exists x, Q(x) \\land R(x)]$"
            ],
            "text/plain": [
              "<IPython.core.display.HTML object>"
            ]
          },
          "metadata": {
            "tags": []
          }
        },
        {
          "output_type": "display_data",
          "data": {
            "text/html": [
              "Pruning:  [$\\forall x, P(x) \\lor Q(x) \\lor R(x)$, $\\forall x, P(x) \\land Q(x)$, $\\forall x, P(x) \\land R(x)$, $\\forall x, Q(x) \\land R(x)$, $\\forall x, R(x)$, $\\exists x, P(x) \\land Q(x)$] Meaning:  $(\\forall x, P(x) \\lor Q(x) \\lor R(x)) \\land \\neg[\\forall x, R(x)] \\land \\neg[\\exists x, P(x) \\land Q(x)]$"
            ],
            "text/plain": [
              "<IPython.core.display.HTML object>"
            ]
          },
          "metadata": {
            "tags": []
          }
        },
        {
          "output_type": "display_data",
          "data": {
            "text/html": [
              "Pruning:  [$\\forall x, P(x) \\lor Q(x) \\lor R(x)$, $\\forall x, P(x) \\land Q(x)$, $\\forall x, P(x) \\land R(x)$, $\\forall x, Q(x) \\land R(x)$, $\\forall x, R(x)$, $\\exists x, P(x) \\land R(x)$] Meaning:  $(\\forall x, P(x) \\lor Q(x) \\lor R(x)) \\land \\neg[\\forall x, P(x) \\land Q(x)] \\land \\neg[\\forall x, R(x)] \\land \\neg[\\exists x, P(x) \\land R(x)]$"
            ],
            "text/plain": [
              "<IPython.core.display.HTML object>"
            ]
          },
          "metadata": {
            "tags": []
          }
        },
        {
          "output_type": "display_data",
          "data": {
            "text/html": [
              "Pruning:  [$\\forall x, P(x) \\lor Q(x) \\lor R(x)$, $\\forall x, P(x) \\land Q(x)$, $\\forall x, P(x) \\land R(x)$, $\\forall x, Q(x) \\land R(x)$, $\\forall x, R(x)$, $\\exists x, Q(x) \\land R(x)$] Meaning:  $(\\forall x, P(x) \\lor Q(x) \\lor R(x)) \\land \\neg[\\forall x, P(x) \\land Q(x)] \\land \\neg[\\forall x, R(x)] \\land \\neg[\\exists x, Q(x) \\land R(x)]$"
            ],
            "text/plain": [
              "<IPython.core.display.HTML object>"
            ]
          },
          "metadata": {
            "tags": []
          }
        },
        {
          "output_type": "display_data",
          "data": {
            "text/html": [
              "Pruning:  [$\\forall x, P(x) \\lor Q(x) \\lor R(x)$, $\\forall x, P(x) \\land Q(x)$, $\\forall x, P(x) \\land R(x)$, $\\forall x, Q(x) \\land R(x)$, $\\exists x, P(x) \\land Q(x)$, $\\exists x, P(x) \\land R(x)$] Meaning:  $(\\forall x, P(x) \\lor Q(x) \\lor R(x)) \\land \\neg[\\forall x, Q(x) \\land R(x)] \\land \\neg[\\exists x, P(x) \\land Q(x)] \\land \\neg[\\exists x, P(x) \\land R(x)]$"
            ],
            "text/plain": [
              "<IPython.core.display.HTML object>"
            ]
          },
          "metadata": {
            "tags": []
          }
        },
        {
          "output_type": "display_data",
          "data": {
            "text/html": [
              "Pruning:  [$\\forall x, P(x) \\lor Q(x) \\lor R(x)$, $\\forall x, P(x) \\land Q(x)$, $\\forall x, P(x) \\land R(x)$, $\\forall x, Q(x) \\land R(x)$, $\\exists x, P(x) \\land Q(x)$, $\\exists x, Q(x) \\land R(x)$] Meaning:  $(\\forall x, P(x) \\lor Q(x) \\lor R(x)) \\land \\neg[\\forall x, P(x) \\land R(x)] \\land \\neg[\\exists x, P(x) \\land Q(x)] \\land \\neg[\\exists x, Q(x) \\land R(x)]$"
            ],
            "text/plain": [
              "<IPython.core.display.HTML object>"
            ]
          },
          "metadata": {
            "tags": []
          }
        },
        {
          "output_type": "display_data",
          "data": {
            "text/html": [
              "Pruning:  [$\\forall x, P(x) \\lor Q(x) \\lor R(x)$, $\\forall x, P(x) \\land Q(x)$, $\\forall x, P(x) \\land R(x)$, $\\forall x, Q(x) \\land R(x)$, $\\exists x, P(x) \\land R(x)$, $\\exists x, Q(x) \\land R(x)$] Meaning:  $(\\forall x, P(x) \\lor Q(x) \\lor R(x)) \\land \\neg[\\forall x, P(x) \\land Q(x)] \\land \\neg[\\exists x, P(x) \\land R(x)] \\land \\neg[\\exists x, Q(x) \\land R(x)]$"
            ],
            "text/plain": [
              "<IPython.core.display.HTML object>"
            ]
          },
          "metadata": {
            "tags": []
          }
        },
        {
          "output_type": "display_data",
          "data": {
            "text/html": [
              "Pruning:  [$\\forall x, P(x) \\lor Q(x) \\lor R(x)$, $\\forall x, P(x) \\land Q(x)$, $\\forall x, P(x) \\land R(x)$, $\\forall x, P(x)$, $\\exists x, P(x) \\land Q(x)$, $\\exists x, P(x) \\land R(x)$] Meaning:  $(\\forall x, P(x) \\lor Q(x) \\lor R(x)) \\land \\neg[\\forall x, P(x)] \\land \\neg[\\exists x, P(x) \\land Q(x)] \\land \\neg[\\exists x, P(x) \\land R(x)]$"
            ],
            "text/plain": [
              "<IPython.core.display.HTML object>"
            ]
          },
          "metadata": {
            "tags": []
          }
        },
        {
          "output_type": "display_data",
          "data": {
            "text/html": [
              "Pruning:  [$\\forall x, P(x) \\lor Q(x) \\lor R(x)$, $\\forall x, P(x) \\land Q(x)$, $\\forall x, P(x) \\land R(x)$, $\\exists x, P(x)$, $\\exists x, Q(x)$, $\\exists x, R(x)$] Meaning:  $(\\forall x, P(x) \\lor Q(x) \\lor R(x)) \\land (\\exists x, P(x)) \\land (\\exists x, Q(x)) \\land (\\exists x, R(x)) \\land \\neg[\\forall x, P(x) \\land Q(x)] \\land \\neg[\\forall x, P(x) \\land R(x)]$"
            ],
            "text/plain": [
              "<IPython.core.display.HTML object>"
            ]
          },
          "metadata": {
            "tags": []
          }
        },
        {
          "output_type": "display_data",
          "data": {
            "text/html": [
              "Pruning:  [$\\forall x, P(x) \\lor Q(x) \\lor R(x)$, $\\forall x, P(x) \\land Q(x)$, $\\forall x, Q(x) \\land R(x)$, $\\forall x, Q(x)$, $\\exists x, P(x) \\land Q(x)$, $\\exists x, Q(x) \\land R(x)$] Meaning:  $(\\forall x, P(x) \\lor Q(x) \\lor R(x)) \\land \\neg[\\forall x, Q(x)] \\land \\neg[\\exists x, P(x) \\land Q(x)] \\land \\neg[\\exists x, Q(x) \\land R(x)]$"
            ],
            "text/plain": [
              "<IPython.core.display.HTML object>"
            ]
          },
          "metadata": {
            "tags": []
          }
        },
        {
          "output_type": "display_data",
          "data": {
            "text/html": [
              "Pruning:  [$\\forall x, P(x) \\lor Q(x) \\lor R(x)$, $\\forall x, P(x) \\land Q(x)$, $\\forall x, Q(x) \\land R(x)$, $\\exists x, P(x)$, $\\exists x, Q(x)$, $\\exists x, R(x)$] Meaning:  $(\\forall x, P(x) \\lor Q(x) \\lor R(x)) \\land (\\exists x, P(x)) \\land (\\exists x, Q(x)) \\land (\\exists x, R(x)) \\land \\neg[\\forall x, P(x) \\land Q(x)] \\land \\neg[\\forall x, Q(x) \\land R(x)]$"
            ],
            "text/plain": [
              "<IPython.core.display.HTML object>"
            ]
          },
          "metadata": {
            "tags": []
          }
        },
        {
          "output_type": "display_data",
          "data": {
            "text/html": [
              "Pruning:  [$\\forall x, P(x) \\lor Q(x) \\lor R(x)$, $\\forall x, P(x) \\land Q(x)$, $\\forall x, P(x)$, $\\exists x, P(x) \\land Q(x)$, $\\exists x, Q(x)$, $\\exists x, R(x)$] Meaning:  $(\\forall x, P(x) \\lor Q(x) \\lor R(x)) \\land (\\exists x, R(x)) \\land \\neg[\\exists x, P(x) \\land Q(x)]$"
            ],
            "text/plain": [
              "<IPython.core.display.HTML object>"
            ]
          },
          "metadata": {
            "tags": []
          }
        },
        {
          "output_type": "display_data",
          "data": {
            "text/html": [
              "Pruning:  [$\\forall x, P(x) \\lor Q(x) \\lor R(x)$, $\\forall x, P(x) \\land Q(x)$, $\\forall x, Q(x)$, $\\exists x, P(x) \\land Q(x)$, $\\exists x, P(x)$, $\\exists x, R(x)$] Meaning:  $(\\forall x, P(x) \\lor Q(x) \\lor R(x)) \\land (\\exists x, R(x)) \\land \\neg[\\exists x, P(x) \\land Q(x)]$"
            ],
            "text/plain": [
              "<IPython.core.display.HTML object>"
            ]
          },
          "metadata": {
            "tags": []
          }
        },
        {
          "output_type": "display_data",
          "data": {
            "text/html": [
              "Pruning:  [$\\forall x, P(x) \\lor Q(x) \\lor R(x)$, $\\forall x, P(x) \\land R(x)$, $\\forall x, Q(x) \\land R(x)$, $\\forall x, R(x)$, $\\exists x, P(x) \\land R(x)$, $\\exists x, Q(x) \\land R(x)$] Meaning:  $(\\forall x, P(x) \\lor Q(x) \\lor R(x)) \\land \\neg[\\forall x, R(x)] \\land \\neg[\\exists x, P(x) \\land R(x)] \\land \\neg[\\exists x, Q(x) \\land R(x)]$"
            ],
            "text/plain": [
              "<IPython.core.display.HTML object>"
            ]
          },
          "metadata": {
            "tags": []
          }
        },
        {
          "output_type": "display_data",
          "data": {
            "text/html": [
              "Pruning:  [$\\forall x, P(x) \\lor Q(x) \\lor R(x)$, $\\forall x, P(x) \\land R(x)$, $\\forall x, Q(x) \\land R(x)$, $\\exists x, P(x)$, $\\exists x, Q(x)$, $\\exists x, R(x)$] Meaning:  $(\\forall x, P(x) \\lor Q(x) \\lor R(x)) \\land (\\exists x, P(x)) \\land (\\exists x, Q(x)) \\land (\\exists x, R(x)) \\land \\neg[\\forall x, P(x) \\land R(x)] \\land \\neg[\\forall x, Q(x) \\land R(x)]$"
            ],
            "text/plain": [
              "<IPython.core.display.HTML object>"
            ]
          },
          "metadata": {
            "tags": []
          }
        },
        {
          "output_type": "display_data",
          "data": {
            "text/html": [
              "Pruning:  [$\\forall x, P(x) \\lor Q(x) \\lor R(x)$, $\\forall x, P(x) \\land R(x)$, $\\forall x, P(x)$, $\\exists x, P(x) \\land R(x)$, $\\exists x, Q(x)$, $\\exists x, R(x)$] Meaning:  $(\\forall x, P(x) \\lor Q(x) \\lor R(x)) \\land (\\exists x, Q(x)) \\land \\neg[\\exists x, P(x) \\land R(x)]$"
            ],
            "text/plain": [
              "<IPython.core.display.HTML object>"
            ]
          },
          "metadata": {
            "tags": []
          }
        },
        {
          "output_type": "display_data",
          "data": {
            "text/html": [
              "Pruning:  [$\\forall x, P(x) \\lor Q(x) \\lor R(x)$, $\\forall x, P(x) \\land R(x)$, $\\forall x, R(x)$, $\\exists x, P(x) \\land R(x)$, $\\exists x, P(x)$, $\\exists x, Q(x)$] Meaning:  $(\\forall x, P(x) \\lor Q(x) \\lor R(x)) \\land (\\exists x, Q(x)) \\land \\neg[\\exists x, P(x) \\land R(x)]$"
            ],
            "text/plain": [
              "<IPython.core.display.HTML object>"
            ]
          },
          "metadata": {
            "tags": []
          }
        },
        {
          "output_type": "display_data",
          "data": {
            "text/html": [
              "Pruning:  [$\\forall x, P(x) \\lor Q(x) \\lor R(x)$, $\\forall x, Q(x) \\land R(x)$, $\\forall x, Q(x)$, $\\exists x, Q(x) \\land R(x)$, $\\exists x, P(x)$, $\\exists x, R(x)$] Meaning:  $(\\forall x, P(x) \\lor Q(x) \\lor R(x)) \\land (\\exists x, P(x)) \\land \\neg[\\exists x, Q(x) \\land R(x)]$"
            ],
            "text/plain": [
              "<IPython.core.display.HTML object>"
            ]
          },
          "metadata": {
            "tags": []
          }
        },
        {
          "output_type": "display_data",
          "data": {
            "text/html": [
              "Pruning:  [$\\forall x, P(x) \\lor Q(x) \\lor R(x)$, $\\forall x, Q(x) \\land R(x)$, $\\forall x, R(x)$, $\\exists x, Q(x) \\land R(x)$, $\\exists x, P(x)$, $\\exists x, Q(x)$] Meaning:  $(\\forall x, P(x) \\lor Q(x) \\lor R(x)) \\land (\\exists x, P(x)) \\land \\neg[\\exists x, Q(x) \\land R(x)]$"
            ],
            "text/plain": [
              "<IPython.core.display.HTML object>"
            ]
          },
          "metadata": {
            "tags": []
          }
        },
        {
          "output_type": "display_data",
          "data": {
            "text/html": [
              "Pruning:  [$\\forall x, P(x) \\lor Q(x) \\lor R(x)$, $\\forall x, P(x) \\land Q(x)$, $\\forall x, P(x) \\land R(x)$, $\\forall x, Q(x) \\land R(x)$, $\\forall x, P(x)$, $\\forall x, Q(x)$, $\\forall x, R(x)$] Meaning:  $(\\forall x, P(x) \\lor Q(x) \\lor R(x)) \\land \\neg[\\forall x, P(x)] \\land \\neg[\\forall x, Q(x)] \\land \\neg[\\forall x, R(x)]$"
            ],
            "text/plain": [
              "<IPython.core.display.HTML object>"
            ]
          },
          "metadata": {
            "tags": []
          }
        },
        {
          "output_type": "display_data",
          "data": {
            "text/html": [
              "Pruning:  [$\\forall x, P(x) \\lor Q(x) \\lor R(x)$, $\\forall x, P(x) \\land Q(x)$, $\\forall x, P(x) \\land R(x)$, $\\forall x, Q(x) \\land R(x)$, $\\forall x, P(x)$, $\\forall x, Q(x)$, $\\exists x, P(x) \\land Q(x)$] Meaning:  $(\\forall x, P(x) \\lor Q(x) \\lor R(x)) \\land \\neg[\\forall x, P(x)] \\land \\neg[\\forall x, Q(x)] \\land \\neg[\\exists x, P(x) \\land Q(x)]$"
            ],
            "text/plain": [
              "<IPython.core.display.HTML object>"
            ]
          },
          "metadata": {
            "tags": []
          }
        },
        {
          "output_type": "display_data",
          "data": {
            "text/html": [
              "Pruning:  [$\\forall x, P(x) \\lor Q(x) \\lor R(x)$, $\\forall x, P(x) \\land Q(x)$, $\\forall x, P(x) \\land R(x)$, $\\forall x, Q(x) \\land R(x)$, $\\forall x, P(x)$, $\\forall x, Q(x)$, $\\exists x, P(x) \\land R(x)$] Meaning:  $(\\forall x, P(x) \\lor Q(x) \\lor R(x)) \\land \\neg[\\forall x, P(x)] \\land \\neg[\\forall x, Q(x)] \\land \\neg[\\exists x, P(x) \\land R(x)]$"
            ],
            "text/plain": [
              "<IPython.core.display.HTML object>"
            ]
          },
          "metadata": {
            "tags": []
          }
        },
        {
          "output_type": "display_data",
          "data": {
            "text/html": [
              "Pruning:  [$\\forall x, P(x) \\lor Q(x) \\lor R(x)$, $\\forall x, P(x) \\land Q(x)$, $\\forall x, P(x) \\land R(x)$, $\\forall x, Q(x) \\land R(x)$, $\\forall x, P(x)$, $\\forall x, Q(x)$, $\\exists x, Q(x) \\land R(x)$] Meaning:  $(\\forall x, P(x) \\lor Q(x) \\lor R(x)) \\land \\neg[\\forall x, P(x)] \\land \\neg[\\forall x, Q(x)] \\land \\neg[\\exists x, Q(x) \\land R(x)]$"
            ],
            "text/plain": [
              "<IPython.core.display.HTML object>"
            ]
          },
          "metadata": {
            "tags": []
          }
        },
        {
          "output_type": "display_data",
          "data": {
            "text/html": [
              "Pruning:  [$\\forall x, P(x) \\lor Q(x) \\lor R(x)$, $\\forall x, P(x) \\land Q(x)$, $\\forall x, P(x) \\land R(x)$, $\\forall x, Q(x) \\land R(x)$, $\\forall x, P(x)$, $\\forall x, R(x)$, $\\exists x, P(x) \\land Q(x)$] Meaning:  $(\\forall x, P(x) \\lor Q(x) \\lor R(x)) \\land \\neg[\\forall x, P(x)] \\land \\neg[\\forall x, R(x)] \\land \\neg[\\exists x, P(x) \\land Q(x)]$"
            ],
            "text/plain": [
              "<IPython.core.display.HTML object>"
            ]
          },
          "metadata": {
            "tags": []
          }
        },
        {
          "output_type": "display_data",
          "data": {
            "text/html": [
              "Pruning:  [$\\forall x, P(x) \\lor Q(x) \\lor R(x)$, $\\forall x, P(x) \\land Q(x)$, $\\forall x, P(x) \\land R(x)$, $\\forall x, Q(x) \\land R(x)$, $\\forall x, P(x)$, $\\forall x, R(x)$, $\\exists x, P(x) \\land R(x)$] Meaning:  $(\\forall x, P(x) \\lor Q(x) \\lor R(x)) \\land \\neg[\\forall x, P(x)] \\land \\neg[\\forall x, R(x)] \\land \\neg[\\exists x, P(x) \\land R(x)]$"
            ],
            "text/plain": [
              "<IPython.core.display.HTML object>"
            ]
          },
          "metadata": {
            "tags": []
          }
        },
        {
          "output_type": "display_data",
          "data": {
            "text/html": [
              "Pruning:  [$\\forall x, P(x) \\lor Q(x) \\lor R(x)$, $\\forall x, P(x) \\land Q(x)$, $\\forall x, P(x) \\land R(x)$, $\\forall x, Q(x) \\land R(x)$, $\\forall x, P(x)$, $\\forall x, R(x)$, $\\exists x, Q(x) \\land R(x)$] Meaning:  $(\\forall x, P(x) \\lor Q(x) \\lor R(x)) \\land \\neg[\\forall x, P(x)] \\land \\neg[\\forall x, R(x)] \\land \\neg[\\exists x, Q(x) \\land R(x)]$"
            ],
            "text/plain": [
              "<IPython.core.display.HTML object>"
            ]
          },
          "metadata": {
            "tags": []
          }
        },
        {
          "output_type": "display_data",
          "data": {
            "text/html": [
              "Pruning:  [$\\forall x, P(x) \\lor Q(x) \\lor R(x)$, $\\forall x, P(x) \\land Q(x)$, $\\forall x, P(x) \\land R(x)$, $\\forall x, Q(x) \\land R(x)$, $\\forall x, P(x)$, $\\exists x, P(x) \\land Q(x)$, $\\exists x, P(x) \\land R(x)$] Meaning:  $(\\forall x, P(x) \\lor Q(x) \\lor R(x)) \\land \\neg[\\forall x, Q(x) \\land R(x)] \\land \\neg[\\forall x, P(x)] \\land \\neg[\\exists x, P(x) \\land Q(x)] \\land \\neg[\\exists x, P(x) \\land R(x)]$"
            ],
            "text/plain": [
              "<IPython.core.display.HTML object>"
            ]
          },
          "metadata": {
            "tags": []
          }
        },
        {
          "output_type": "display_data",
          "data": {
            "text/html": [
              "Pruning:  [$\\forall x, P(x) \\lor Q(x) \\lor R(x)$, $\\forall x, P(x) \\land Q(x)$, $\\forall x, P(x) \\land R(x)$, $\\forall x, Q(x) \\land R(x)$, $\\forall x, P(x)$, $\\exists x, P(x) \\land Q(x)$, $\\exists x, Q(x) \\land R(x)$] Meaning:  $(\\forall x, P(x) \\lor Q(x) \\lor R(x)) \\land \\neg[\\forall x, P(x)] \\land \\neg[\\exists x, P(x) \\land Q(x)] \\land \\neg[\\exists x, Q(x) \\land R(x)]$"
            ],
            "text/plain": [
              "<IPython.core.display.HTML object>"
            ]
          },
          "metadata": {
            "tags": []
          }
        },
        {
          "output_type": "display_data",
          "data": {
            "text/html": [
              "Pruning:  [$\\forall x, P(x) \\lor Q(x) \\lor R(x)$, $\\forall x, P(x) \\land Q(x)$, $\\forall x, P(x) \\land R(x)$, $\\forall x, Q(x) \\land R(x)$, $\\forall x, P(x)$, $\\exists x, P(x) \\land R(x)$, $\\exists x, Q(x) \\land R(x)$] Meaning:  $(\\forall x, P(x) \\lor Q(x) \\lor R(x)) \\land \\neg[\\forall x, P(x)] \\land \\neg[\\exists x, P(x) \\land R(x)] \\land \\neg[\\exists x, Q(x) \\land R(x)]$"
            ],
            "text/plain": [
              "<IPython.core.display.HTML object>"
            ]
          },
          "metadata": {
            "tags": []
          }
        },
        {
          "output_type": "display_data",
          "data": {
            "text/html": [
              "Pruning:  [$\\forall x, P(x) \\lor Q(x) \\lor R(x)$, $\\forall x, P(x) \\land Q(x)$, $\\forall x, P(x) \\land R(x)$, $\\forall x, Q(x) \\land R(x)$, $\\forall x, Q(x)$, $\\forall x, R(x)$, $\\exists x, P(x) \\land Q(x)$] Meaning:  $(\\forall x, P(x) \\lor Q(x) \\lor R(x)) \\land \\neg[\\forall x, Q(x)] \\land \\neg[\\forall x, R(x)] \\land \\neg[\\exists x, P(x) \\land Q(x)]$"
            ],
            "text/plain": [
              "<IPython.core.display.HTML object>"
            ]
          },
          "metadata": {
            "tags": []
          }
        },
        {
          "output_type": "display_data",
          "data": {
            "text/html": [
              "Pruning:  [$\\forall x, P(x) \\lor Q(x) \\lor R(x)$, $\\forall x, P(x) \\land Q(x)$, $\\forall x, P(x) \\land R(x)$, $\\forall x, Q(x) \\land R(x)$, $\\forall x, Q(x)$, $\\forall x, R(x)$, $\\exists x, P(x) \\land R(x)$] Meaning:  $(\\forall x, P(x) \\lor Q(x) \\lor R(x)) \\land \\neg[\\forall x, Q(x)] \\land \\neg[\\forall x, R(x)] \\land \\neg[\\exists x, P(x) \\land R(x)]$"
            ],
            "text/plain": [
              "<IPython.core.display.HTML object>"
            ]
          },
          "metadata": {
            "tags": []
          }
        },
        {
          "output_type": "display_data",
          "data": {
            "text/html": [
              "Pruning:  [$\\forall x, P(x) \\lor Q(x) \\lor R(x)$, $\\forall x, P(x) \\land Q(x)$, $\\forall x, P(x) \\land R(x)$, $\\forall x, Q(x) \\land R(x)$, $\\forall x, Q(x)$, $\\forall x, R(x)$, $\\exists x, Q(x) \\land R(x)$] Meaning:  $(\\forall x, P(x) \\lor Q(x) \\lor R(x)) \\land \\neg[\\forall x, Q(x)] \\land \\neg[\\forall x, R(x)] \\land \\neg[\\exists x, Q(x) \\land R(x)]$"
            ],
            "text/plain": [
              "<IPython.core.display.HTML object>"
            ]
          },
          "metadata": {
            "tags": []
          }
        },
        {
          "output_type": "display_data",
          "data": {
            "text/html": [
              "Pruning:  [$\\forall x, P(x) \\lor Q(x) \\lor R(x)$, $\\forall x, P(x) \\land Q(x)$, $\\forall x, P(x) \\land R(x)$, $\\forall x, Q(x) \\land R(x)$, $\\forall x, Q(x)$, $\\exists x, P(x) \\land Q(x)$, $\\exists x, P(x) \\land R(x)$] Meaning:  $(\\forall x, P(x) \\lor Q(x) \\lor R(x)) \\land \\neg[\\forall x, Q(x)] \\land \\neg[\\exists x, P(x) \\land Q(x)] \\land \\neg[\\exists x, P(x) \\land R(x)]$"
            ],
            "text/plain": [
              "<IPython.core.display.HTML object>"
            ]
          },
          "metadata": {
            "tags": []
          }
        },
        {
          "output_type": "display_data",
          "data": {
            "text/html": [
              "Pruning:  [$\\forall x, P(x) \\lor Q(x) \\lor R(x)$, $\\forall x, P(x) \\land Q(x)$, $\\forall x, P(x) \\land R(x)$, $\\forall x, Q(x) \\land R(x)$, $\\forall x, Q(x)$, $\\exists x, P(x) \\land Q(x)$, $\\exists x, Q(x) \\land R(x)$] Meaning:  $(\\forall x, P(x) \\lor Q(x) \\lor R(x)) \\land \\neg[\\forall x, P(x) \\land R(x)] \\land \\neg[\\forall x, Q(x)] \\land \\neg[\\exists x, P(x) \\land Q(x)] \\land \\neg[\\exists x, Q(x) \\land R(x)]$"
            ],
            "text/plain": [
              "<IPython.core.display.HTML object>"
            ]
          },
          "metadata": {
            "tags": []
          }
        },
        {
          "output_type": "display_data",
          "data": {
            "text/html": [
              "Pruning:  [$\\forall x, P(x) \\lor Q(x) \\lor R(x)$, $\\forall x, P(x) \\land Q(x)$, $\\forall x, P(x) \\land R(x)$, $\\forall x, Q(x) \\land R(x)$, $\\forall x, Q(x)$, $\\exists x, P(x) \\land R(x)$, $\\exists x, Q(x) \\land R(x)$] Meaning:  $(\\forall x, P(x) \\lor Q(x) \\lor R(x)) \\land \\neg[\\forall x, Q(x)] \\land \\neg[\\exists x, P(x) \\land R(x)] \\land \\neg[\\exists x, Q(x) \\land R(x)]$"
            ],
            "text/plain": [
              "<IPython.core.display.HTML object>"
            ]
          },
          "metadata": {
            "tags": []
          }
        },
        {
          "output_type": "display_data",
          "data": {
            "text/html": [
              "Pruning:  [$\\forall x, P(x) \\lor Q(x) \\lor R(x)$, $\\forall x, P(x) \\land Q(x)$, $\\forall x, P(x) \\land R(x)$, $\\forall x, Q(x) \\land R(x)$, $\\forall x, R(x)$, $\\exists x, P(x) \\land Q(x)$, $\\exists x, P(x) \\land R(x)$] Meaning:  $(\\forall x, P(x) \\lor Q(x) \\lor R(x)) \\land \\neg[\\forall x, R(x)] \\land \\neg[\\exists x, P(x) \\land Q(x)] \\land \\neg[\\exists x, P(x) \\land R(x)]$"
            ],
            "text/plain": [
              "<IPython.core.display.HTML object>"
            ]
          },
          "metadata": {
            "tags": []
          }
        },
        {
          "output_type": "display_data",
          "data": {
            "text/html": [
              "Pruning:  [$\\forall x, P(x) \\lor Q(x) \\lor R(x)$, $\\forall x, P(x) \\land Q(x)$, $\\forall x, P(x) \\land R(x)$, $\\forall x, Q(x) \\land R(x)$, $\\forall x, R(x)$, $\\exists x, P(x) \\land Q(x)$, $\\exists x, Q(x) \\land R(x)$] Meaning:  $(\\forall x, P(x) \\lor Q(x) \\lor R(x)) \\land \\neg[\\forall x, R(x)] \\land \\neg[\\exists x, P(x) \\land Q(x)] \\land \\neg[\\exists x, Q(x) \\land R(x)]$"
            ],
            "text/plain": [
              "<IPython.core.display.HTML object>"
            ]
          },
          "metadata": {
            "tags": []
          }
        },
        {
          "output_type": "display_data",
          "data": {
            "text/html": [
              "Pruning:  [$\\forall x, P(x) \\lor Q(x) \\lor R(x)$, $\\forall x, P(x) \\land Q(x)$, $\\forall x, P(x) \\land R(x)$, $\\forall x, Q(x) \\land R(x)$, $\\forall x, R(x)$, $\\exists x, P(x) \\land R(x)$, $\\exists x, Q(x) \\land R(x)$] Meaning:  $(\\forall x, P(x) \\lor Q(x) \\lor R(x)) \\land \\neg[\\forall x, P(x) \\land Q(x)] \\land \\neg[\\forall x, R(x)] \\land \\neg[\\exists x, P(x) \\land R(x)] \\land \\neg[\\exists x, Q(x) \\land R(x)]$"
            ],
            "text/plain": [
              "<IPython.core.display.HTML object>"
            ]
          },
          "metadata": {
            "tags": []
          }
        },
        {
          "output_type": "display_data",
          "data": {
            "text/html": [
              "Pruning:  [$\\forall x, P(x) \\lor Q(x) \\lor R(x)$, $\\forall x, P(x) \\land Q(x)$, $\\forall x, P(x) \\land R(x)$, $\\forall x, Q(x) \\land R(x)$, $\\exists x, P(x) \\land Q(x)$, $\\exists x, P(x) \\land R(x)$, $\\exists x, Q(x) \\land R(x)$] Meaning:  $(\\forall x, P(x) \\lor Q(x) \\lor R(x)) \\land \\neg[\\exists x, P(x) \\land Q(x)] \\land \\neg[\\exists x, P(x) \\land R(x)] \\land \\neg[\\exists x, Q(x) \\land R(x)]$"
            ],
            "text/plain": [
              "<IPython.core.display.HTML object>"
            ]
          },
          "metadata": {
            "tags": []
          }
        },
        {
          "output_type": "display_data",
          "data": {
            "text/html": [
              "Pruning:  [$\\forall x, P(x) \\lor Q(x) \\lor R(x)$, $\\forall x, P(x) \\land Q(x)$, $\\forall x, P(x) \\land R(x)$, $\\forall x, Q(x) \\land R(x)$, $\\exists x, P(x)$, $\\exists x, Q(x)$, $\\exists x, R(x)$] Meaning:  $(\\forall x, P(x) \\lor Q(x) \\lor R(x)) \\land (\\exists x, P(x)) \\land (\\exists x, Q(x)) \\land (\\exists x, R(x)) \\land \\neg[\\forall x, P(x) \\land Q(x)] \\land \\neg[\\forall x, P(x) \\land R(x)] \\land \\neg[\\forall x, Q(x) \\land R(x)]$"
            ],
            "text/plain": [
              "<IPython.core.display.HTML object>"
            ]
          },
          "metadata": {
            "tags": []
          }
        },
        {
          "output_type": "display_data",
          "data": {
            "text/html": [
              "Pruning:  [$\\forall x, P(x) \\lor Q(x) \\lor R(x)$, $\\forall x, P(x) \\land Q(x)$, $\\forall x, P(x) \\land R(x)$, $\\forall x, P(x)$, $\\exists x, P(x) \\land Q(x)$, $\\exists x, P(x) \\land R(x)$, $\\exists x, P(x)$] Meaning:  $(\\forall x, P(x) \\lor Q(x) \\lor R(x)) \\land \\neg[\\exists x, P(x)]$"
            ],
            "text/plain": [
              "<IPython.core.display.HTML object>"
            ]
          },
          "metadata": {
            "tags": []
          }
        },
        {
          "output_type": "display_data",
          "data": {
            "text/html": [
              "Pruning:  [$\\forall x, P(x) \\lor Q(x) \\lor R(x)$, $\\forall x, P(x) \\land Q(x)$, $\\forall x, P(x) \\land R(x)$, $\\forall x, P(x)$, $\\exists x, P(x) \\land Q(x)$, $\\exists x, Q(x)$, $\\exists x, R(x)$] Meaning:  $(\\forall x, P(x) \\lor Q(x) \\lor R(x)) \\land (\\exists x, R(x)) \\land \\neg[\\forall x, P(x) \\land R(x)] \\land \\neg[\\exists x, P(x) \\land Q(x)]$"
            ],
            "text/plain": [
              "<IPython.core.display.HTML object>"
            ]
          },
          "metadata": {
            "tags": []
          }
        },
        {
          "output_type": "display_data",
          "data": {
            "text/html": [
              "Pruning:  [$\\forall x, P(x) \\lor Q(x) \\lor R(x)$, $\\forall x, P(x) \\land Q(x)$, $\\forall x, P(x) \\land R(x)$, $\\forall x, P(x)$, $\\exists x, P(x) \\land R(x)$, $\\exists x, Q(x)$, $\\exists x, R(x)$] Meaning:  $(\\forall x, P(x) \\lor Q(x) \\lor R(x)) \\land (\\exists x, Q(x)) \\land \\neg[\\forall x, P(x) \\land Q(x)] \\land \\neg[\\exists x, P(x) \\land R(x)]$"
            ],
            "text/plain": [
              "<IPython.core.display.HTML object>"
            ]
          },
          "metadata": {
            "tags": []
          }
        },
        {
          "output_type": "display_data",
          "data": {
            "text/html": [
              "Pruning:  [$\\forall x, P(x) \\lor Q(x) \\lor R(x)$, $\\forall x, P(x) \\land Q(x)$, $\\forall x, P(x) \\land R(x)$, $\\forall x, Q(x)$, $\\exists x, P(x) \\land Q(x)$, $\\exists x, P(x)$, $\\exists x, R(x)$] Meaning:  $(\\forall x, P(x) \\lor Q(x) \\lor R(x)) \\land (\\exists x, R(x)) \\land \\neg[\\forall x, P(x) \\land R(x)] \\land \\neg[\\exists x, P(x) \\land Q(x)]$"
            ],
            "text/plain": [
              "<IPython.core.display.HTML object>"
            ]
          },
          "metadata": {
            "tags": []
          }
        },
        {
          "output_type": "display_data",
          "data": {
            "text/html": [
              "Pruning:  [$\\forall x, P(x) \\lor Q(x) \\lor R(x)$, $\\forall x, P(x) \\land Q(x)$, $\\forall x, P(x) \\land R(x)$, $\\forall x, R(x)$, $\\exists x, P(x) \\land R(x)$, $\\exists x, P(x)$, $\\exists x, Q(x)$] Meaning:  $(\\forall x, P(x) \\lor Q(x) \\lor R(x)) \\land (\\exists x, Q(x)) \\land \\neg[\\forall x, P(x) \\land Q(x)] \\land \\neg[\\exists x, P(x) \\land R(x)]$"
            ],
            "text/plain": [
              "<IPython.core.display.HTML object>"
            ]
          },
          "metadata": {
            "tags": []
          }
        },
        {
          "output_type": "display_data",
          "data": {
            "text/html": [
              "Pruning:  [$\\forall x, P(x) \\lor Q(x) \\lor R(x)$, $\\forall x, P(x) \\land Q(x)$, $\\forall x, Q(x) \\land R(x)$, $\\forall x, P(x)$, $\\exists x, P(x) \\land Q(x)$, $\\exists x, Q(x)$, $\\exists x, R(x)$] Meaning:  $(\\forall x, P(x) \\lor Q(x) \\lor R(x)) \\land (\\exists x, R(x)) \\land \\neg[\\forall x, Q(x) \\land R(x)] \\land \\neg[\\exists x, P(x) \\land Q(x)]$"
            ],
            "text/plain": [
              "<IPython.core.display.HTML object>"
            ]
          },
          "metadata": {
            "tags": []
          }
        },
        {
          "output_type": "display_data",
          "data": {
            "text/html": [
              "Pruning:  [$\\forall x, P(x) \\lor Q(x) \\lor R(x)$, $\\forall x, P(x) \\land Q(x)$, $\\forall x, Q(x) \\land R(x)$, $\\forall x, Q(x)$, $\\exists x, P(x) \\land Q(x)$, $\\exists x, Q(x) \\land R(x)$, $\\exists x, Q(x)$] Meaning:  $(\\forall x, P(x) \\lor Q(x) \\lor R(x)) \\land \\neg[\\exists x, Q(x)]$"
            ],
            "text/plain": [
              "<IPython.core.display.HTML object>"
            ]
          },
          "metadata": {
            "tags": []
          }
        },
        {
          "output_type": "display_data",
          "data": {
            "text/html": [
              "Pruning:  [$\\forall x, P(x) \\lor Q(x) \\lor R(x)$, $\\forall x, P(x) \\land Q(x)$, $\\forall x, Q(x) \\land R(x)$, $\\forall x, Q(x)$, $\\exists x, P(x) \\land Q(x)$, $\\exists x, P(x)$, $\\exists x, R(x)$] Meaning:  $(\\forall x, P(x) \\lor Q(x) \\lor R(x)) \\land (\\exists x, R(x)) \\land \\neg[\\forall x, Q(x) \\land R(x)] \\land \\neg[\\exists x, P(x) \\land Q(x)]$"
            ],
            "text/plain": [
              "<IPython.core.display.HTML object>"
            ]
          },
          "metadata": {
            "tags": []
          }
        },
        {
          "output_type": "display_data",
          "data": {
            "text/html": [
              "Pruning:  [$\\forall x, P(x) \\lor Q(x) \\lor R(x)$, $\\forall x, P(x) \\land Q(x)$, $\\forall x, Q(x) \\land R(x)$, $\\forall x, Q(x)$, $\\exists x, Q(x) \\land R(x)$, $\\exists x, P(x)$, $\\exists x, R(x)$] Meaning:  $(\\forall x, P(x) \\lor Q(x) \\lor R(x)) \\land (\\exists x, P(x)) \\land \\neg[\\forall x, P(x) \\land Q(x)] \\land \\neg[\\exists x, Q(x) \\land R(x)]$"
            ],
            "text/plain": [
              "<IPython.core.display.HTML object>"
            ]
          },
          "metadata": {
            "tags": []
          }
        },
        {
          "output_type": "display_data",
          "data": {
            "text/html": [
              "Pruning:  [$\\forall x, P(x) \\lor Q(x) \\lor R(x)$, $\\forall x, P(x) \\land Q(x)$, $\\forall x, Q(x) \\land R(x)$, $\\forall x, R(x)$, $\\exists x, Q(x) \\land R(x)$, $\\exists x, P(x)$, $\\exists x, Q(x)$] Meaning:  $(\\forall x, P(x) \\lor Q(x) \\lor R(x)) \\land (\\exists x, P(x)) \\land \\neg[\\forall x, P(x) \\land Q(x)] \\land \\neg[\\exists x, Q(x) \\land R(x)]$"
            ],
            "text/plain": [
              "<IPython.core.display.HTML object>"
            ]
          },
          "metadata": {
            "tags": []
          }
        },
        {
          "output_type": "display_data",
          "data": {
            "text/html": [
              "Pruning:  [$\\forall x, P(x) \\lor Q(x) \\lor R(x)$, $\\forall x, P(x) \\land Q(x)$, $\\forall x, P(x)$, $\\forall x, Q(x)$, $\\exists x, P(x)$, $\\exists x, Q(x)$, $\\exists x, R(x)$] Meaning:  $(\\forall x, P(x) \\lor Q(x) \\lor R(x)) \\land (\\exists x, P(x)) \\land (\\exists x, Q(x)) \\land (\\exists x, R(x)) \\land \\neg[\\forall x, P(x) \\land Q(x)]$"
            ],
            "text/plain": [
              "<IPython.core.display.HTML object>"
            ]
          },
          "metadata": {
            "tags": []
          }
        },
        {
          "output_type": "display_data",
          "data": {
            "text/html": [
              "Pruning:  [$\\forall x, P(x) \\lor Q(x) \\lor R(x)$, $\\forall x, P(x) \\land R(x)$, $\\forall x, Q(x) \\land R(x)$, $\\forall x, P(x)$, $\\exists x, P(x) \\land R(x)$, $\\exists x, Q(x)$, $\\exists x, R(x)$] Meaning:  $(\\forall x, P(x) \\lor Q(x) \\lor R(x)) \\land (\\exists x, Q(x)) \\land \\neg[\\forall x, Q(x) \\land R(x)] \\land \\neg[\\exists x, P(x) \\land R(x)]$"
            ],
            "text/plain": [
              "<IPython.core.display.HTML object>"
            ]
          },
          "metadata": {
            "tags": []
          }
        },
        {
          "output_type": "display_data",
          "data": {
            "text/html": [
              "Pruning:  [$\\forall x, P(x) \\lor Q(x) \\lor R(x)$, $\\forall x, P(x) \\land R(x)$, $\\forall x, Q(x) \\land R(x)$, $\\forall x, Q(x)$, $\\exists x, Q(x) \\land R(x)$, $\\exists x, P(x)$, $\\exists x, R(x)$] Meaning:  $(\\forall x, P(x) \\lor Q(x) \\lor R(x)) \\land (\\exists x, P(x)) \\land \\neg[\\forall x, P(x) \\land R(x)] \\land \\neg[\\exists x, Q(x) \\land R(x)]$"
            ],
            "text/plain": [
              "<IPython.core.display.HTML object>"
            ]
          },
          "metadata": {
            "tags": []
          }
        },
        {
          "output_type": "display_data",
          "data": {
            "text/html": [
              "Pruning:  [$\\forall x, P(x) \\lor Q(x) \\lor R(x)$, $\\forall x, P(x) \\land R(x)$, $\\forall x, Q(x) \\land R(x)$, $\\forall x, R(x)$, $\\exists x, P(x) \\land R(x)$, $\\exists x, Q(x) \\land R(x)$, $\\exists x, R(x)$] Meaning:  $(\\forall x, P(x) \\lor Q(x) \\lor R(x)) \\land \\neg[\\exists x, R(x)]$"
            ],
            "text/plain": [
              "<IPython.core.display.HTML object>"
            ]
          },
          "metadata": {
            "tags": []
          }
        },
        {
          "output_type": "display_data",
          "data": {
            "text/html": [
              "Pruning:  [$\\forall x, P(x) \\lor Q(x) \\lor R(x)$, $\\forall x, P(x) \\land R(x)$, $\\forall x, Q(x) \\land R(x)$, $\\forall x, R(x)$, $\\exists x, P(x) \\land R(x)$, $\\exists x, P(x)$, $\\exists x, Q(x)$] Meaning:  $(\\forall x, P(x) \\lor Q(x) \\lor R(x)) \\land (\\exists x, Q(x)) \\land \\neg[\\forall x, Q(x) \\land R(x)] \\land \\neg[\\exists x, P(x) \\land R(x)]$"
            ],
            "text/plain": [
              "<IPython.core.display.HTML object>"
            ]
          },
          "metadata": {
            "tags": []
          }
        },
        {
          "output_type": "display_data",
          "data": {
            "text/html": [
              "Pruning:  [$\\forall x, P(x) \\lor Q(x) \\lor R(x)$, $\\forall x, P(x) \\land R(x)$, $\\forall x, Q(x) \\land R(x)$, $\\forall x, R(x)$, $\\exists x, Q(x) \\land R(x)$, $\\exists x, P(x)$, $\\exists x, Q(x)$] Meaning:  $(\\forall x, P(x) \\lor Q(x) \\lor R(x)) \\land (\\exists x, P(x)) \\land \\neg[\\forall x, P(x) \\land R(x)] \\land \\neg[\\exists x, Q(x) \\land R(x)]$"
            ],
            "text/plain": [
              "<IPython.core.display.HTML object>"
            ]
          },
          "metadata": {
            "tags": []
          }
        },
        {
          "output_type": "display_data",
          "data": {
            "text/html": [
              "Pruning:  [$\\forall x, P(x) \\lor Q(x) \\lor R(x)$, $\\forall x, P(x) \\land R(x)$, $\\forall x, P(x)$, $\\forall x, R(x)$, $\\exists x, P(x)$, $\\exists x, Q(x)$, $\\exists x, R(x)$] Meaning:  $(\\forall x, P(x) \\lor Q(x) \\lor R(x)) \\land (\\exists x, P(x)) \\land (\\exists x, Q(x)) \\land (\\exists x, R(x)) \\land \\neg[\\forall x, P(x) \\land R(x)]$"
            ],
            "text/plain": [
              "<IPython.core.display.HTML object>"
            ]
          },
          "metadata": {
            "tags": []
          }
        },
        {
          "output_type": "display_data",
          "data": {
            "text/html": [
              "Pruning:  [$\\forall x, P(x) \\lor Q(x) \\lor R(x)$, $\\forall x, Q(x) \\land R(x)$, $\\forall x, Q(x)$, $\\forall x, R(x)$, $\\exists x, P(x)$, $\\exists x, Q(x)$, $\\exists x, R(x)$] Meaning:  $(\\forall x, P(x) \\lor Q(x) \\lor R(x)) \\land (\\exists x, P(x)) \\land (\\exists x, Q(x)) \\land (\\exists x, R(x)) \\land \\neg[\\forall x, Q(x) \\land R(x)]$"
            ],
            "text/plain": [
              "<IPython.core.display.HTML object>"
            ]
          },
          "metadata": {
            "tags": []
          }
        },
        {
          "output_type": "display_data",
          "data": {
            "text/html": [
              "Pruning:  [$\\forall x, P(x) \\lor Q(x) \\lor R(x)$, $\\forall x, P(x) \\land Q(x)$, $\\forall x, P(x) \\land R(x)$, $\\forall x, Q(x) \\land R(x)$, $\\forall x, P(x)$, $\\forall x, Q(x)$, $\\forall x, R(x)$, $\\exists x, P(x) \\land Q(x)$] Meaning:  $(\\forall x, P(x) \\lor Q(x) \\lor R(x)) \\land \\neg[\\forall x, P(x)] \\land \\neg[\\forall x, Q(x)] \\land \\neg[\\forall x, R(x)] \\land \\neg[\\exists x, P(x) \\land Q(x)]$"
            ],
            "text/plain": [
              "<IPython.core.display.HTML object>"
            ]
          },
          "metadata": {
            "tags": []
          }
        },
        {
          "output_type": "display_data",
          "data": {
            "text/html": [
              "Pruning:  [$\\forall x, P(x) \\lor Q(x) \\lor R(x)$, $\\forall x, P(x) \\land Q(x)$, $\\forall x, P(x) \\land R(x)$, $\\forall x, Q(x) \\land R(x)$, $\\forall x, P(x)$, $\\forall x, Q(x)$, $\\forall x, R(x)$, $\\exists x, P(x) \\land R(x)$] Meaning:  $(\\forall x, P(x) \\lor Q(x) \\lor R(x)) \\land \\neg[\\forall x, P(x)] \\land \\neg[\\forall x, Q(x)] \\land \\neg[\\forall x, R(x)] \\land \\neg[\\exists x, P(x) \\land R(x)]$"
            ],
            "text/plain": [
              "<IPython.core.display.HTML object>"
            ]
          },
          "metadata": {
            "tags": []
          }
        },
        {
          "output_type": "display_data",
          "data": {
            "text/html": [
              "Pruning:  [$\\forall x, P(x) \\lor Q(x) \\lor R(x)$, $\\forall x, P(x) \\land Q(x)$, $\\forall x, P(x) \\land R(x)$, $\\forall x, Q(x) \\land R(x)$, $\\forall x, P(x)$, $\\forall x, Q(x)$, $\\forall x, R(x)$, $\\exists x, Q(x) \\land R(x)$] Meaning:  $(\\forall x, P(x) \\lor Q(x) \\lor R(x)) \\land \\neg[\\forall x, P(x)] \\land \\neg[\\forall x, Q(x)] \\land \\neg[\\forall x, R(x)] \\land \\neg[\\exists x, Q(x) \\land R(x)]$"
            ],
            "text/plain": [
              "<IPython.core.display.HTML object>"
            ]
          },
          "metadata": {
            "tags": []
          }
        },
        {
          "output_type": "display_data",
          "data": {
            "text/html": [
              "Pruning:  [$\\forall x, P(x) \\lor Q(x) \\lor R(x)$, $\\forall x, P(x) \\land Q(x)$, $\\forall x, P(x) \\land R(x)$, $\\forall x, Q(x) \\land R(x)$, $\\forall x, P(x)$, $\\forall x, Q(x)$, $\\exists x, P(x) \\land Q(x)$, $\\exists x, P(x) \\land R(x)$] Meaning:  $(\\forall x, P(x) \\lor Q(x) \\lor R(x)) \\land \\neg[\\forall x, P(x)] \\land \\neg[\\forall x, Q(x)] \\land \\neg[\\exists x, P(x) \\land Q(x)] \\land \\neg[\\exists x, P(x) \\land R(x)]$"
            ],
            "text/plain": [
              "<IPython.core.display.HTML object>"
            ]
          },
          "metadata": {
            "tags": []
          }
        },
        {
          "output_type": "display_data",
          "data": {
            "text/html": [
              "Pruning:  [$\\forall x, P(x) \\lor Q(x) \\lor R(x)$, $\\forall x, P(x) \\land Q(x)$, $\\forall x, P(x) \\land R(x)$, $\\forall x, Q(x) \\land R(x)$, $\\forall x, P(x)$, $\\forall x, Q(x)$, $\\exists x, P(x) \\land Q(x)$, $\\exists x, Q(x) \\land R(x)$] Meaning:  $(\\forall x, P(x) \\lor Q(x) \\lor R(x)) \\land \\neg[\\forall x, P(x)] \\land \\neg[\\forall x, Q(x)] \\land \\neg[\\exists x, P(x) \\land Q(x)] \\land \\neg[\\exists x, Q(x) \\land R(x)]$"
            ],
            "text/plain": [
              "<IPython.core.display.HTML object>"
            ]
          },
          "metadata": {
            "tags": []
          }
        },
        {
          "output_type": "display_data",
          "data": {
            "text/html": [
              "Pruning:  [$\\forall x, P(x) \\lor Q(x) \\lor R(x)$, $\\forall x, P(x) \\land Q(x)$, $\\forall x, P(x) \\land R(x)$, $\\forall x, Q(x) \\land R(x)$, $\\forall x, P(x)$, $\\forall x, Q(x)$, $\\exists x, P(x) \\land R(x)$, $\\exists x, Q(x) \\land R(x)$] Meaning:  $(\\forall x, P(x) \\lor Q(x) \\lor R(x)) \\land \\neg[\\forall x, P(x)] \\land \\neg[\\forall x, Q(x)] \\land \\neg[\\exists x, P(x) \\land R(x)] \\land \\neg[\\exists x, Q(x) \\land R(x)]$"
            ],
            "text/plain": [
              "<IPython.core.display.HTML object>"
            ]
          },
          "metadata": {
            "tags": []
          }
        },
        {
          "output_type": "display_data",
          "data": {
            "text/html": [
              "Pruning:  [$\\forall x, P(x) \\lor Q(x) \\lor R(x)$, $\\forall x, P(x) \\land Q(x)$, $\\forall x, P(x) \\land R(x)$, $\\forall x, Q(x) \\land R(x)$, $\\forall x, P(x)$, $\\forall x, R(x)$, $\\exists x, P(x) \\land Q(x)$, $\\exists x, P(x) \\land R(x)$] Meaning:  $(\\forall x, P(x) \\lor Q(x) \\lor R(x)) \\land \\neg[\\forall x, P(x)] \\land \\neg[\\forall x, R(x)] \\land \\neg[\\exists x, P(x) \\land Q(x)] \\land \\neg[\\exists x, P(x) \\land R(x)]$"
            ],
            "text/plain": [
              "<IPython.core.display.HTML object>"
            ]
          },
          "metadata": {
            "tags": []
          }
        },
        {
          "output_type": "display_data",
          "data": {
            "text/html": [
              "Pruning:  [$\\forall x, P(x) \\lor Q(x) \\lor R(x)$, $\\forall x, P(x) \\land Q(x)$, $\\forall x, P(x) \\land R(x)$, $\\forall x, Q(x) \\land R(x)$, $\\forall x, P(x)$, $\\forall x, R(x)$, $\\exists x, P(x) \\land Q(x)$, $\\exists x, Q(x) \\land R(x)$] Meaning:  $(\\forall x, P(x) \\lor Q(x) \\lor R(x)) \\land \\neg[\\forall x, P(x)] \\land \\neg[\\forall x, R(x)] \\land \\neg[\\exists x, P(x) \\land Q(x)] \\land \\neg[\\exists x, Q(x) \\land R(x)]$"
            ],
            "text/plain": [
              "<IPython.core.display.HTML object>"
            ]
          },
          "metadata": {
            "tags": []
          }
        },
        {
          "output_type": "display_data",
          "data": {
            "text/html": [
              "Pruning:  [$\\forall x, P(x) \\lor Q(x) \\lor R(x)$, $\\forall x, P(x) \\land Q(x)$, $\\forall x, P(x) \\land R(x)$, $\\forall x, Q(x) \\land R(x)$, $\\forall x, P(x)$, $\\forall x, R(x)$, $\\exists x, P(x) \\land R(x)$, $\\exists x, Q(x) \\land R(x)$] Meaning:  $(\\forall x, P(x) \\lor Q(x) \\lor R(x)) \\land \\neg[\\forall x, P(x)] \\land \\neg[\\forall x, R(x)] \\land \\neg[\\exists x, P(x) \\land R(x)] \\land \\neg[\\exists x, Q(x) \\land R(x)]$"
            ],
            "text/plain": [
              "<IPython.core.display.HTML object>"
            ]
          },
          "metadata": {
            "tags": []
          }
        },
        {
          "output_type": "display_data",
          "data": {
            "text/html": [
              "Pruning:  [$\\forall x, P(x) \\lor Q(x) \\lor R(x)$, $\\forall x, P(x) \\land Q(x)$, $\\forall x, P(x) \\land R(x)$, $\\forall x, Q(x) \\land R(x)$, $\\forall x, P(x)$, $\\exists x, P(x) \\land Q(x)$, $\\exists x, P(x) \\land R(x)$, $\\exists x, Q(x) \\land R(x)$] Meaning:  $(\\forall x, P(x) \\lor Q(x) \\lor R(x)) \\land \\neg[\\forall x, P(x)] \\land \\neg[\\exists x, P(x) \\land Q(x)] \\land \\neg[\\exists x, P(x) \\land R(x)] \\land \\neg[\\exists x, Q(x) \\land R(x)]$"
            ],
            "text/plain": [
              "<IPython.core.display.HTML object>"
            ]
          },
          "metadata": {
            "tags": []
          }
        },
        {
          "output_type": "display_data",
          "data": {
            "text/html": [
              "Pruning:  [$\\forall x, P(x) \\lor Q(x) \\lor R(x)$, $\\forall x, P(x) \\land Q(x)$, $\\forall x, P(x) \\land R(x)$, $\\forall x, Q(x) \\land R(x)$, $\\forall x, P(x)$, $\\exists x, P(x) \\land Q(x)$, $\\exists x, P(x) \\land R(x)$, $\\exists x, P(x)$] Meaning:  $(\\forall x, P(x) \\lor Q(x) \\lor R(x)) \\land \\neg[\\forall x, Q(x) \\land R(x)] \\land \\neg[\\exists x, P(x)]$"
            ],
            "text/plain": [
              "<IPython.core.display.HTML object>"
            ]
          },
          "metadata": {
            "tags": []
          }
        },
        {
          "output_type": "display_data",
          "data": {
            "text/html": [
              "Pruning:  [$\\forall x, P(x) \\lor Q(x) \\lor R(x)$, $\\forall x, P(x) \\land Q(x)$, $\\forall x, P(x) \\land R(x)$, $\\forall x, Q(x) \\land R(x)$, $\\forall x, P(x)$, $\\exists x, P(x) \\land Q(x)$, $\\exists x, Q(x)$, $\\exists x, R(x)$] Meaning:  $(\\forall x, P(x) \\lor Q(x) \\lor R(x)) \\land (\\exists x, R(x)) \\land \\neg[\\forall x, P(x) \\land R(x)] \\land \\neg[\\forall x, Q(x) \\land R(x)] \\land \\neg[\\exists x, P(x) \\land Q(x)]$"
            ],
            "text/plain": [
              "<IPython.core.display.HTML object>"
            ]
          },
          "metadata": {
            "tags": []
          }
        },
        {
          "output_type": "display_data",
          "data": {
            "text/html": [
              "Pruning:  [$\\forall x, P(x) \\lor Q(x) \\lor R(x)$, $\\forall x, P(x) \\land Q(x)$, $\\forall x, P(x) \\land R(x)$, $\\forall x, Q(x) \\land R(x)$, $\\forall x, P(x)$, $\\exists x, P(x) \\land R(x)$, $\\exists x, Q(x)$, $\\exists x, R(x)$] Meaning:  $(\\forall x, P(x) \\lor Q(x) \\lor R(x)) \\land (\\exists x, Q(x)) \\land \\neg[\\forall x, P(x) \\land Q(x)] \\land \\neg[\\forall x, Q(x) \\land R(x)] \\land \\neg[\\exists x, P(x) \\land R(x)]$"
            ],
            "text/plain": [
              "<IPython.core.display.HTML object>"
            ]
          },
          "metadata": {
            "tags": []
          }
        },
        {
          "output_type": "display_data",
          "data": {
            "text/html": [
              "Pruning:  [$\\forall x, P(x) \\lor Q(x) \\lor R(x)$, $\\forall x, P(x) \\land Q(x)$, $\\forall x, P(x) \\land R(x)$, $\\forall x, Q(x) \\land R(x)$, $\\forall x, Q(x)$, $\\forall x, R(x)$, $\\exists x, P(x) \\land Q(x)$, $\\exists x, P(x) \\land R(x)$] Meaning:  $(\\forall x, P(x) \\lor Q(x) \\lor R(x)) \\land \\neg[\\forall x, Q(x)] \\land \\neg[\\forall x, R(x)] \\land \\neg[\\exists x, P(x) \\land Q(x)] \\land \\neg[\\exists x, P(x) \\land R(x)]$"
            ],
            "text/plain": [
              "<IPython.core.display.HTML object>"
            ]
          },
          "metadata": {
            "tags": []
          }
        },
        {
          "output_type": "display_data",
          "data": {
            "text/html": [
              "Pruning:  [$\\forall x, P(x) \\lor Q(x) \\lor R(x)$, $\\forall x, P(x) \\land Q(x)$, $\\forall x, P(x) \\land R(x)$, $\\forall x, Q(x) \\land R(x)$, $\\forall x, Q(x)$, $\\forall x, R(x)$, $\\exists x, P(x) \\land Q(x)$, $\\exists x, Q(x) \\land R(x)$] Meaning:  $(\\forall x, P(x) \\lor Q(x) \\lor R(x)) \\land \\neg[\\forall x, Q(x)] \\land \\neg[\\forall x, R(x)] \\land \\neg[\\exists x, P(x) \\land Q(x)] \\land \\neg[\\exists x, Q(x) \\land R(x)]$"
            ],
            "text/plain": [
              "<IPython.core.display.HTML object>"
            ]
          },
          "metadata": {
            "tags": []
          }
        },
        {
          "output_type": "display_data",
          "data": {
            "text/html": [
              "Pruning:  [$\\forall x, P(x) \\lor Q(x) \\lor R(x)$, $\\forall x, P(x) \\land Q(x)$, $\\forall x, P(x) \\land R(x)$, $\\forall x, Q(x) \\land R(x)$, $\\forall x, Q(x)$, $\\forall x, R(x)$, $\\exists x, P(x) \\land R(x)$, $\\exists x, Q(x) \\land R(x)$] Meaning:  $(\\forall x, P(x) \\lor Q(x) \\lor R(x)) \\land \\neg[\\forall x, Q(x)] \\land \\neg[\\forall x, R(x)] \\land \\neg[\\exists x, P(x) \\land R(x)] \\land \\neg[\\exists x, Q(x) \\land R(x)]$"
            ],
            "text/plain": [
              "<IPython.core.display.HTML object>"
            ]
          },
          "metadata": {
            "tags": []
          }
        },
        {
          "output_type": "display_data",
          "data": {
            "text/html": [
              "Pruning:  [$\\forall x, P(x) \\lor Q(x) \\lor R(x)$, $\\forall x, P(x) \\land Q(x)$, $\\forall x, P(x) \\land R(x)$, $\\forall x, Q(x) \\land R(x)$, $\\forall x, Q(x)$, $\\exists x, P(x) \\land Q(x)$, $\\exists x, P(x) \\land R(x)$, $\\exists x, Q(x) \\land R(x)$] Meaning:  $(\\forall x, P(x) \\lor Q(x) \\lor R(x)) \\land \\neg[\\forall x, Q(x)] \\land \\neg[\\exists x, P(x) \\land Q(x)] \\land \\neg[\\exists x, P(x) \\land R(x)] \\land \\neg[\\exists x, Q(x) \\land R(x)]$"
            ],
            "text/plain": [
              "<IPython.core.display.HTML object>"
            ]
          },
          "metadata": {
            "tags": []
          }
        },
        {
          "output_type": "display_data",
          "data": {
            "text/html": [
              "Pruning:  [$\\forall x, P(x) \\lor Q(x) \\lor R(x)$, $\\forall x, P(x) \\land Q(x)$, $\\forall x, P(x) \\land R(x)$, $\\forall x, Q(x) \\land R(x)$, $\\forall x, Q(x)$, $\\exists x, P(x) \\land Q(x)$, $\\exists x, Q(x) \\land R(x)$, $\\exists x, Q(x)$] Meaning:  $(\\forall x, P(x) \\lor Q(x) \\lor R(x)) \\land \\neg[\\forall x, P(x) \\land R(x)] \\land \\neg[\\exists x, Q(x)]$"
            ],
            "text/plain": [
              "<IPython.core.display.HTML object>"
            ]
          },
          "metadata": {
            "tags": []
          }
        },
        {
          "output_type": "display_data",
          "data": {
            "text/html": [
              "Pruning:  [$\\forall x, P(x) \\lor Q(x) \\lor R(x)$, $\\forall x, P(x) \\land Q(x)$, $\\forall x, P(x) \\land R(x)$, $\\forall x, Q(x) \\land R(x)$, $\\forall x, Q(x)$, $\\exists x, P(x) \\land Q(x)$, $\\exists x, P(x)$, $\\exists x, R(x)$] Meaning:  $(\\forall x, P(x) \\lor Q(x) \\lor R(x)) \\land (\\exists x, R(x)) \\land \\neg[\\forall x, P(x) \\land R(x)] \\land \\neg[\\forall x, Q(x) \\land R(x)] \\land \\neg[\\exists x, P(x) \\land Q(x)]$"
            ],
            "text/plain": [
              "<IPython.core.display.HTML object>"
            ]
          },
          "metadata": {
            "tags": []
          }
        },
        {
          "output_type": "display_data",
          "data": {
            "text/html": [
              "Pruning:  [$\\forall x, P(x) \\lor Q(x) \\lor R(x)$, $\\forall x, P(x) \\land Q(x)$, $\\forall x, P(x) \\land R(x)$, $\\forall x, Q(x) \\land R(x)$, $\\forall x, Q(x)$, $\\exists x, Q(x) \\land R(x)$, $\\exists x, P(x)$, $\\exists x, R(x)$] Meaning:  $(\\forall x, P(x) \\lor Q(x) \\lor R(x)) \\land (\\exists x, P(x)) \\land \\neg[\\forall x, P(x) \\land Q(x)] \\land \\neg[\\forall x, P(x) \\land R(x)] \\land \\neg[\\exists x, Q(x) \\land R(x)]$"
            ],
            "text/plain": [
              "<IPython.core.display.HTML object>"
            ]
          },
          "metadata": {
            "tags": []
          }
        },
        {
          "output_type": "display_data",
          "data": {
            "text/html": [
              "Pruning:  [$\\forall x, P(x) \\lor Q(x) \\lor R(x)$, $\\forall x, P(x) \\land Q(x)$, $\\forall x, P(x) \\land R(x)$, $\\forall x, Q(x) \\land R(x)$, $\\forall x, R(x)$, $\\exists x, P(x) \\land Q(x)$, $\\exists x, P(x) \\land R(x)$, $\\exists x, Q(x) \\land R(x)$] Meaning:  $(\\forall x, P(x) \\lor Q(x) \\lor R(x)) \\land \\neg[\\forall x, R(x)] \\land \\neg[\\exists x, P(x) \\land Q(x)] \\land \\neg[\\exists x, P(x) \\land R(x)] \\land \\neg[\\exists x, Q(x) \\land R(x)]$"
            ],
            "text/plain": [
              "<IPython.core.display.HTML object>"
            ]
          },
          "metadata": {
            "tags": []
          }
        },
        {
          "output_type": "display_data",
          "data": {
            "text/html": [
              "Pruning:  [$\\forall x, P(x) \\lor Q(x) \\lor R(x)$, $\\forall x, P(x) \\land Q(x)$, $\\forall x, P(x) \\land R(x)$, $\\forall x, Q(x) \\land R(x)$, $\\forall x, R(x)$, $\\exists x, P(x) \\land R(x)$, $\\exists x, Q(x) \\land R(x)$, $\\exists x, R(x)$] Meaning:  $(\\forall x, P(x) \\lor Q(x) \\lor R(x)) \\land \\neg[\\forall x, P(x) \\land Q(x)] \\land \\neg[\\exists x, R(x)]$"
            ],
            "text/plain": [
              "<IPython.core.display.HTML object>"
            ]
          },
          "metadata": {
            "tags": []
          }
        },
        {
          "output_type": "display_data",
          "data": {
            "text/html": [
              "Pruning:  [$\\forall x, P(x) \\lor Q(x) \\lor R(x)$, $\\forall x, P(x) \\land Q(x)$, $\\forall x, P(x) \\land R(x)$, $\\forall x, Q(x) \\land R(x)$, $\\forall x, R(x)$, $\\exists x, P(x) \\land R(x)$, $\\exists x, P(x)$, $\\exists x, Q(x)$] Meaning:  $(\\forall x, P(x) \\lor Q(x) \\lor R(x)) \\land (\\exists x, Q(x)) \\land \\neg[\\forall x, P(x) \\land Q(x)] \\land \\neg[\\forall x, Q(x) \\land R(x)] \\land \\neg[\\exists x, P(x) \\land R(x)]$"
            ],
            "text/plain": [
              "<IPython.core.display.HTML object>"
            ]
          },
          "metadata": {
            "tags": []
          }
        },
        {
          "output_type": "display_data",
          "data": {
            "text/html": [
              "Pruning:  [$\\forall x, P(x) \\lor Q(x) \\lor R(x)$, $\\forall x, P(x) \\land Q(x)$, $\\forall x, P(x) \\land R(x)$, $\\forall x, Q(x) \\land R(x)$, $\\forall x, R(x)$, $\\exists x, Q(x) \\land R(x)$, $\\exists x, P(x)$, $\\exists x, Q(x)$] Meaning:  $(\\forall x, P(x) \\lor Q(x) \\lor R(x)) \\land (\\exists x, P(x)) \\land \\neg[\\forall x, P(x) \\land Q(x)] \\land \\neg[\\forall x, P(x) \\land R(x)] \\land \\neg[\\exists x, Q(x) \\land R(x)]$"
            ],
            "text/plain": [
              "<IPython.core.display.HTML object>"
            ]
          },
          "metadata": {
            "tags": []
          }
        },
        {
          "output_type": "display_data",
          "data": {
            "text/html": [
              "Pruning:  [$\\forall x, P(x) \\lor Q(x) \\lor R(x)$, $\\forall x, P(x) \\land Q(x)$, $\\forall x, P(x) \\land R(x)$, $\\forall x, P(x)$, $\\forall x, Q(x)$, $\\exists x, P(x) \\land Q(x)$, $\\exists x, P(x)$, $\\exists x, R(x)$] Meaning:  $(\\forall x, P(x) \\lor Q(x) \\lor R(x)) \\land (\\exists x, R(x)) \\land \\neg[\\forall x, P(x)] \\land \\neg[\\exists x, P(x) \\land Q(x)]$"
            ],
            "text/plain": [
              "<IPython.core.display.HTML object>"
            ]
          },
          "metadata": {
            "tags": []
          }
        },
        {
          "output_type": "display_data",
          "data": {
            "text/html": [
              "Pruning:  [$\\forall x, P(x) \\lor Q(x) \\lor R(x)$, $\\forall x, P(x) \\land Q(x)$, $\\forall x, P(x) \\land R(x)$, $\\forall x, P(x)$, $\\forall x, Q(x)$, $\\exists x, P(x)$, $\\exists x, Q(x)$, $\\exists x, R(x)$] Meaning:  $(\\forall x, P(x) \\lor Q(x) \\lor R(x)) \\land (\\exists x, P(x)) \\land (\\exists x, Q(x)) \\land (\\exists x, R(x)) \\land \\neg[\\forall x, P(x) \\land Q(x)] \\land \\neg[\\forall x, P(x) \\land R(x)]$"
            ],
            "text/plain": [
              "<IPython.core.display.HTML object>"
            ]
          },
          "metadata": {
            "tags": []
          }
        },
        {
          "output_type": "display_data",
          "data": {
            "text/html": [
              "Pruning:  [$\\forall x, P(x) \\lor Q(x) \\lor R(x)$, $\\forall x, P(x) \\land Q(x)$, $\\forall x, P(x) \\land R(x)$, $\\forall x, P(x)$, $\\forall x, R(x)$, $\\exists x, P(x) \\land R(x)$, $\\exists x, P(x)$, $\\exists x, Q(x)$] Meaning:  $(\\forall x, P(x) \\lor Q(x) \\lor R(x)) \\land (\\exists x, Q(x)) \\land \\neg[\\forall x, P(x)] \\land \\neg[\\exists x, P(x) \\land R(x)]$"
            ],
            "text/plain": [
              "<IPython.core.display.HTML object>"
            ]
          },
          "metadata": {
            "tags": []
          }
        },
        {
          "output_type": "display_data",
          "data": {
            "text/html": [
              "Pruning:  [$\\forall x, P(x) \\lor Q(x) \\lor R(x)$, $\\forall x, P(x) \\land Q(x)$, $\\forall x, P(x) \\land R(x)$, $\\forall x, P(x)$, $\\forall x, R(x)$, $\\exists x, P(x)$, $\\exists x, Q(x)$, $\\exists x, R(x)$] Meaning:  $(\\forall x, P(x) \\lor Q(x) \\lor R(x)) \\land (\\exists x, P(x)) \\land (\\exists x, Q(x)) \\land (\\exists x, R(x)) \\land \\neg[\\forall x, P(x) \\land Q(x)] \\land \\neg[\\forall x, P(x) \\land R(x)]$"
            ],
            "text/plain": [
              "<IPython.core.display.HTML object>"
            ]
          },
          "metadata": {
            "tags": []
          }
        },
        {
          "output_type": "display_data",
          "data": {
            "text/html": [
              "Pruning:  [$\\forall x, P(x) \\lor Q(x) \\lor R(x)$, $\\forall x, P(x) \\land Q(x)$, $\\forall x, P(x) \\land R(x)$, $\\forall x, P(x)$, $\\exists x, P(x) \\land Q(x)$, $\\exists x, P(x) \\land R(x)$, $\\exists x, Q(x)$, $\\exists x, R(x)$] Meaning:  $(\\forall x, P(x) \\lor Q(x) \\lor R(x)) \\land \\neg[\\exists x, P(x) \\land Q(x)] \\land \\neg[\\exists x, P(x) \\land R(x)]$"
            ],
            "text/plain": [
              "<IPython.core.display.HTML object>"
            ]
          },
          "metadata": {
            "tags": []
          }
        },
        {
          "output_type": "display_data",
          "data": {
            "text/html": [
              "Pruning:  [$\\forall x, P(x) \\lor Q(x) \\lor R(x)$, $\\forall x, P(x) \\land Q(x)$, $\\forall x, Q(x) \\land R(x)$, $\\forall x, P(x)$, $\\forall x, Q(x)$, $\\exists x, P(x) \\land Q(x)$, $\\exists x, Q(x)$, $\\exists x, R(x)$] Meaning:  $(\\forall x, P(x) \\lor Q(x) \\lor R(x)) \\land (\\exists x, R(x)) \\land \\neg[\\forall x, Q(x)] \\land \\neg[\\exists x, P(x) \\land Q(x)]$"
            ],
            "text/plain": [
              "<IPython.core.display.HTML object>"
            ]
          },
          "metadata": {
            "tags": []
          }
        },
        {
          "output_type": "display_data",
          "data": {
            "text/html": [
              "Pruning:  [$\\forall x, P(x) \\lor Q(x) \\lor R(x)$, $\\forall x, P(x) \\land Q(x)$, $\\forall x, Q(x) \\land R(x)$, $\\forall x, P(x)$, $\\forall x, Q(x)$, $\\exists x, P(x)$, $\\exists x, Q(x)$, $\\exists x, R(x)$] Meaning:  $(\\forall x, P(x) \\lor Q(x) \\lor R(x)) \\land (\\exists x, P(x)) \\land (\\exists x, Q(x)) \\land (\\exists x, R(x)) \\land \\neg[\\forall x, P(x) \\land Q(x)] \\land \\neg[\\forall x, Q(x) \\land R(x)]$"
            ],
            "text/plain": [
              "<IPython.core.display.HTML object>"
            ]
          },
          "metadata": {
            "tags": []
          }
        },
        {
          "output_type": "display_data",
          "data": {
            "text/html": [
              "Pruning:  [$\\forall x, P(x) \\lor Q(x) \\lor R(x)$, $\\forall x, P(x) \\land Q(x)$, $\\forall x, Q(x) \\land R(x)$, $\\forall x, Q(x)$, $\\forall x, R(x)$, $\\exists x, Q(x) \\land R(x)$, $\\exists x, P(x)$, $\\exists x, Q(x)$] Meaning:  $(\\forall x, P(x) \\lor Q(x) \\lor R(x)) \\land (\\exists x, P(x)) \\land \\neg[\\forall x, Q(x)] \\land \\neg[\\exists x, Q(x) \\land R(x)]$"
            ],
            "text/plain": [
              "<IPython.core.display.HTML object>"
            ]
          },
          "metadata": {
            "tags": []
          }
        },
        {
          "output_type": "display_data",
          "data": {
            "text/html": [
              "Pruning:  [$\\forall x, P(x) \\lor Q(x) \\lor R(x)$, $\\forall x, P(x) \\land Q(x)$, $\\forall x, Q(x) \\land R(x)$, $\\forall x, Q(x)$, $\\forall x, R(x)$, $\\exists x, P(x)$, $\\exists x, Q(x)$, $\\exists x, R(x)$] Meaning:  $(\\forall x, P(x) \\lor Q(x) \\lor R(x)) \\land (\\exists x, P(x)) \\land (\\exists x, Q(x)) \\land (\\exists x, R(x)) \\land \\neg[\\forall x, P(x) \\land Q(x)] \\land \\neg[\\forall x, Q(x) \\land R(x)]$"
            ],
            "text/plain": [
              "<IPython.core.display.HTML object>"
            ]
          },
          "metadata": {
            "tags": []
          }
        },
        {
          "output_type": "display_data",
          "data": {
            "text/html": [
              "Pruning:  [$\\forall x, P(x) \\lor Q(x) \\lor R(x)$, $\\forall x, P(x) \\land Q(x)$, $\\forall x, Q(x) \\land R(x)$, $\\forall x, Q(x)$, $\\exists x, P(x) \\land Q(x)$, $\\exists x, Q(x) \\land R(x)$, $\\exists x, P(x)$, $\\exists x, R(x)$] Meaning:  $(\\forall x, P(x) \\lor Q(x) \\lor R(x)) \\land \\neg[\\exists x, P(x) \\land Q(x)] \\land \\neg[\\exists x, Q(x) \\land R(x)]$"
            ],
            "text/plain": [
              "<IPython.core.display.HTML object>"
            ]
          },
          "metadata": {
            "tags": []
          }
        },
        {
          "output_type": "display_data",
          "data": {
            "text/html": [
              "Pruning:  [$\\forall x, P(x) \\lor Q(x) \\lor R(x)$, $\\forall x, P(x) \\land Q(x)$, $\\forall x, P(x)$, $\\forall x, Q(x)$, $\\exists x, P(x) \\land Q(x)$, $\\exists x, P(x)$, $\\exists x, Q(x)$, $\\exists x, R(x)$] Meaning:  $(\\forall x, P(x) \\lor Q(x) \\lor R(x)) \\land (\\exists x, R(x)) \\land \\neg[\\exists x, P(x) \\land Q(x)]$"
            ],
            "text/plain": [
              "<IPython.core.display.HTML object>"
            ]
          },
          "metadata": {
            "tags": []
          }
        },
        {
          "output_type": "display_data",
          "data": {
            "text/html": [
              "Pruning:  [$\\forall x, P(x) \\lor Q(x) \\lor R(x)$, $\\forall x, P(x) \\land R(x)$, $\\forall x, Q(x) \\land R(x)$, $\\forall x, P(x)$, $\\forall x, R(x)$, $\\exists x, P(x) \\land R(x)$, $\\exists x, Q(x)$, $\\exists x, R(x)$] Meaning:  $(\\forall x, P(x) \\lor Q(x) \\lor R(x)) \\land (\\exists x, Q(x)) \\land \\neg[\\forall x, R(x)] \\land \\neg[\\exists x, P(x) \\land R(x)]$"
            ],
            "text/plain": [
              "<IPython.core.display.HTML object>"
            ]
          },
          "metadata": {
            "tags": []
          }
        },
        {
          "output_type": "display_data",
          "data": {
            "text/html": [
              "Pruning:  [$\\forall x, P(x) \\lor Q(x) \\lor R(x)$, $\\forall x, P(x) \\land R(x)$, $\\forall x, Q(x) \\land R(x)$, $\\forall x, P(x)$, $\\forall x, R(x)$, $\\exists x, P(x)$, $\\exists x, Q(x)$, $\\exists x, R(x)$] Meaning:  $(\\forall x, P(x) \\lor Q(x) \\lor R(x)) \\land (\\exists x, P(x)) \\land (\\exists x, Q(x)) \\land (\\exists x, R(x)) \\land \\neg[\\forall x, P(x) \\land R(x)] \\land \\neg[\\forall x, Q(x) \\land R(x)]$"
            ],
            "text/plain": [
              "<IPython.core.display.HTML object>"
            ]
          },
          "metadata": {
            "tags": []
          }
        },
        {
          "output_type": "display_data",
          "data": {
            "text/html": [
              "Pruning:  [$\\forall x, P(x) \\lor Q(x) \\lor R(x)$, $\\forall x, P(x) \\land R(x)$, $\\forall x, Q(x) \\land R(x)$, $\\forall x, Q(x)$, $\\forall x, R(x)$, $\\exists x, Q(x) \\land R(x)$, $\\exists x, P(x)$, $\\exists x, R(x)$] Meaning:  $(\\forall x, P(x) \\lor Q(x) \\lor R(x)) \\land (\\exists x, P(x)) \\land \\neg[\\forall x, R(x)] \\land \\neg[\\exists x, Q(x) \\land R(x)]$"
            ],
            "text/plain": [
              "<IPython.core.display.HTML object>"
            ]
          },
          "metadata": {
            "tags": []
          }
        },
        {
          "output_type": "display_data",
          "data": {
            "text/html": [
              "Pruning:  [$\\forall x, P(x) \\lor Q(x) \\lor R(x)$, $\\forall x, P(x) \\land R(x)$, $\\forall x, Q(x) \\land R(x)$, $\\forall x, Q(x)$, $\\forall x, R(x)$, $\\exists x, P(x)$, $\\exists x, Q(x)$, $\\exists x, R(x)$] Meaning:  $(\\forall x, P(x) \\lor Q(x) \\lor R(x)) \\land (\\exists x, P(x)) \\land (\\exists x, Q(x)) \\land (\\exists x, R(x)) \\land \\neg[\\forall x, P(x) \\land R(x)] \\land \\neg[\\forall x, Q(x) \\land R(x)]$"
            ],
            "text/plain": [
              "<IPython.core.display.HTML object>"
            ]
          },
          "metadata": {
            "tags": []
          }
        },
        {
          "output_type": "display_data",
          "data": {
            "text/html": [
              "Pruning:  [$\\forall x, P(x) \\lor Q(x) \\lor R(x)$, $\\forall x, P(x) \\land R(x)$, $\\forall x, Q(x) \\land R(x)$, $\\forall x, R(x)$, $\\exists x, P(x) \\land R(x)$, $\\exists x, Q(x) \\land R(x)$, $\\exists x, P(x)$, $\\exists x, Q(x)$] Meaning:  $(\\forall x, P(x) \\lor Q(x) \\lor R(x)) \\land \\neg[\\exists x, P(x) \\land R(x)] \\land \\neg[\\exists x, Q(x) \\land R(x)]$"
            ],
            "text/plain": [
              "<IPython.core.display.HTML object>"
            ]
          },
          "metadata": {
            "tags": []
          }
        },
        {
          "output_type": "display_data",
          "data": {
            "text/html": [
              "Pruning:  [$\\forall x, P(x) \\lor Q(x) \\lor R(x)$, $\\forall x, P(x) \\land R(x)$, $\\forall x, P(x)$, $\\forall x, R(x)$, $\\exists x, P(x) \\land R(x)$, $\\exists x, P(x)$, $\\exists x, Q(x)$, $\\exists x, R(x)$] Meaning:  $(\\forall x, P(x) \\lor Q(x) \\lor R(x)) \\land (\\exists x, Q(x)) \\land \\neg[\\exists x, P(x) \\land R(x)]$"
            ],
            "text/plain": [
              "<IPython.core.display.HTML object>"
            ]
          },
          "metadata": {
            "tags": []
          }
        },
        {
          "output_type": "display_data",
          "data": {
            "text/html": [
              "Pruning:  [$\\forall x, P(x) \\lor Q(x) \\lor R(x)$, $\\forall x, Q(x) \\land R(x)$, $\\forall x, Q(x)$, $\\forall x, R(x)$, $\\exists x, Q(x) \\land R(x)$, $\\exists x, P(x)$, $\\exists x, Q(x)$, $\\exists x, R(x)$] Meaning:  $(\\forall x, P(x) \\lor Q(x) \\lor R(x)) \\land (\\exists x, P(x)) \\land \\neg[\\exists x, Q(x) \\land R(x)]$"
            ],
            "text/plain": [
              "<IPython.core.display.HTML object>"
            ]
          },
          "metadata": {
            "tags": []
          }
        },
        {
          "output_type": "display_data",
          "data": {
            "text/html": [
              "Pruning:  [$\\forall x, P(x) \\lor Q(x) \\lor R(x)$, $\\forall x, P(x) \\land Q(x)$, $\\forall x, P(x) \\land R(x)$, $\\forall x, Q(x) \\land R(x)$, $\\forall x, P(x)$, $\\forall x, Q(x)$, $\\forall x, R(x)$, $\\exists x, P(x) \\land Q(x)$, $\\exists x, P(x) \\land R(x)$] Meaning:  $(\\forall x, P(x) \\lor Q(x) \\lor R(x)) \\land \\neg[\\forall x, P(x)] \\land \\neg[\\forall x, Q(x)] \\land \\neg[\\forall x, R(x)] \\land \\neg[\\exists x, P(x) \\land Q(x)] \\land \\neg[\\exists x, P(x) \\land R(x)]$"
            ],
            "text/plain": [
              "<IPython.core.display.HTML object>"
            ]
          },
          "metadata": {
            "tags": []
          }
        },
        {
          "output_type": "display_data",
          "data": {
            "text/html": [
              "Pruning:  [$\\forall x, P(x) \\lor Q(x) \\lor R(x)$, $\\forall x, P(x) \\land Q(x)$, $\\forall x, P(x) \\land R(x)$, $\\forall x, Q(x) \\land R(x)$, $\\forall x, P(x)$, $\\forall x, Q(x)$, $\\forall x, R(x)$, $\\exists x, P(x) \\land Q(x)$, $\\exists x, Q(x) \\land R(x)$] Meaning:  $(\\forall x, P(x) \\lor Q(x) \\lor R(x)) \\land \\neg[\\forall x, P(x)] \\land \\neg[\\forall x, Q(x)] \\land \\neg[\\forall x, R(x)] \\land \\neg[\\exists x, P(x) \\land Q(x)] \\land \\neg[\\exists x, Q(x) \\land R(x)]$"
            ],
            "text/plain": [
              "<IPython.core.display.HTML object>"
            ]
          },
          "metadata": {
            "tags": []
          }
        },
        {
          "output_type": "display_data",
          "data": {
            "text/html": [
              "Pruning:  [$\\forall x, P(x) \\lor Q(x) \\lor R(x)$, $\\forall x, P(x) \\land Q(x)$, $\\forall x, P(x) \\land R(x)$, $\\forall x, Q(x) \\land R(x)$, $\\forall x, P(x)$, $\\forall x, Q(x)$, $\\forall x, R(x)$, $\\exists x, P(x) \\land R(x)$, $\\exists x, Q(x) \\land R(x)$] Meaning:  $(\\forall x, P(x) \\lor Q(x) \\lor R(x)) \\land \\neg[\\forall x, P(x)] \\land \\neg[\\forall x, Q(x)] \\land \\neg[\\forall x, R(x)] \\land \\neg[\\exists x, P(x) \\land R(x)] \\land \\neg[\\exists x, Q(x) \\land R(x)]$"
            ],
            "text/plain": [
              "<IPython.core.display.HTML object>"
            ]
          },
          "metadata": {
            "tags": []
          }
        },
        {
          "output_type": "display_data",
          "data": {
            "text/html": [
              "Pruning:  [$\\forall x, P(x) \\lor Q(x) \\lor R(x)$, $\\forall x, P(x) \\land Q(x)$, $\\forall x, P(x) \\land R(x)$, $\\forall x, Q(x) \\land R(x)$, $\\forall x, P(x)$, $\\forall x, Q(x)$, $\\exists x, P(x) \\land Q(x)$, $\\exists x, P(x) \\land R(x)$, $\\exists x, Q(x) \\land R(x)$] Meaning:  $(\\forall x, P(x) \\lor Q(x) \\lor R(x)) \\land \\neg[\\forall x, P(x)] \\land \\neg[\\forall x, Q(x)] \\land \\neg[\\exists x, P(x) \\land Q(x)] \\land \\neg[\\exists x, P(x) \\land R(x)] \\land \\neg[\\exists x, Q(x) \\land R(x)]$"
            ],
            "text/plain": [
              "<IPython.core.display.HTML object>"
            ]
          },
          "metadata": {
            "tags": []
          }
        },
        {
          "output_type": "display_data",
          "data": {
            "text/html": [
              "Pruning:  [$\\forall x, P(x) \\lor Q(x) \\lor R(x)$, $\\forall x, P(x) \\land Q(x)$, $\\forall x, P(x) \\land R(x)$, $\\forall x, Q(x) \\land R(x)$, $\\forall x, P(x)$, $\\forall x, Q(x)$, $\\exists x, P(x) \\land Q(x)$, $\\exists x, P(x)$, $\\exists x, R(x)$] Meaning:  $(\\forall x, P(x) \\lor Q(x) \\lor R(x)) \\land (\\exists x, R(x)) \\land \\neg[\\forall x, Q(x) \\land R(x)] \\land \\neg[\\forall x, P(x)] \\land \\neg[\\exists x, P(x) \\land Q(x)]$"
            ],
            "text/plain": [
              "<IPython.core.display.HTML object>"
            ]
          },
          "metadata": {
            "tags": []
          }
        },
        {
          "output_type": "display_data",
          "data": {
            "text/html": [
              "Pruning:  [$\\forall x, P(x) \\lor Q(x) \\lor R(x)$, $\\forall x, P(x) \\land Q(x)$, $\\forall x, P(x) \\land R(x)$, $\\forall x, Q(x) \\land R(x)$, $\\forall x, P(x)$, $\\forall x, Q(x)$, $\\exists x, P(x) \\land Q(x)$, $\\exists x, Q(x)$, $\\exists x, R(x)$] Meaning:  $(\\forall x, P(x) \\lor Q(x) \\lor R(x)) \\land (\\exists x, R(x)) \\land \\neg[\\forall x, P(x) \\land R(x)] \\land \\neg[\\forall x, Q(x)] \\land \\neg[\\exists x, P(x) \\land Q(x)]$"
            ],
            "text/plain": [
              "<IPython.core.display.HTML object>"
            ]
          },
          "metadata": {
            "tags": []
          }
        },
        {
          "output_type": "display_data",
          "data": {
            "text/html": [
              "Pruning:  [$\\forall x, P(x) \\lor Q(x) \\lor R(x)$, $\\forall x, P(x) \\land Q(x)$, $\\forall x, P(x) \\land R(x)$, $\\forall x, Q(x) \\land R(x)$, $\\forall x, P(x)$, $\\forall x, Q(x)$, $\\exists x, P(x) \\land R(x)$, $\\exists x, Q(x)$, $\\exists x, R(x)$] Meaning:  $(\\forall x, P(x) \\lor Q(x) \\lor R(x)) \\land (\\exists x, Q(x)) \\land \\neg[\\forall x, Q(x)] \\land \\neg[\\exists x, P(x) \\land R(x)]$"
            ],
            "text/plain": [
              "<IPython.core.display.HTML object>"
            ]
          },
          "metadata": {
            "tags": []
          }
        },
        {
          "output_type": "display_data",
          "data": {
            "text/html": [
              "Pruning:  [$\\forall x, P(x) \\lor Q(x) \\lor R(x)$, $\\forall x, P(x) \\land Q(x)$, $\\forall x, P(x) \\land R(x)$, $\\forall x, Q(x) \\land R(x)$, $\\forall x, P(x)$, $\\forall x, Q(x)$, $\\exists x, Q(x) \\land R(x)$, $\\exists x, P(x)$, $\\exists x, R(x)$] Meaning:  $(\\forall x, P(x) \\lor Q(x) \\lor R(x)) \\land (\\exists x, P(x)) \\land \\neg[\\forall x, P(x)] \\land \\neg[\\exists x, Q(x) \\land R(x)]$"
            ],
            "text/plain": [
              "<IPython.core.display.HTML object>"
            ]
          },
          "metadata": {
            "tags": []
          }
        },
        {
          "output_type": "display_data",
          "data": {
            "text/html": [
              "Pruning:  [$\\forall x, P(x) \\lor Q(x) \\lor R(x)$, $\\forall x, P(x) \\land Q(x)$, $\\forall x, P(x) \\land R(x)$, $\\forall x, Q(x) \\land R(x)$, $\\forall x, P(x)$, $\\forall x, Q(x)$, $\\exists x, P(x)$, $\\exists x, Q(x)$, $\\exists x, R(x)$] Meaning:  $(\\forall x, P(x) \\lor Q(x) \\lor R(x)) \\land (\\exists x, P(x)) \\land (\\exists x, Q(x)) \\land (\\exists x, R(x)) \\land \\neg[\\forall x, P(x) \\land Q(x)] \\land \\neg[\\forall x, P(x) \\land R(x)] \\land \\neg[\\forall x, Q(x) \\land R(x)]$"
            ],
            "text/plain": [
              "<IPython.core.display.HTML object>"
            ]
          },
          "metadata": {
            "tags": []
          }
        },
        {
          "output_type": "display_data",
          "data": {
            "text/html": [
              "Pruning:  [$\\forall x, P(x) \\lor Q(x) \\lor R(x)$, $\\forall x, P(x) \\land Q(x)$, $\\forall x, P(x) \\land R(x)$, $\\forall x, Q(x) \\land R(x)$, $\\forall x, P(x)$, $\\forall x, R(x)$, $\\exists x, P(x) \\land Q(x)$, $\\exists x, P(x) \\land R(x)$, $\\exists x, Q(x) \\land R(x)$] Meaning:  $(\\forall x, P(x) \\lor Q(x) \\lor R(x)) \\land \\neg[\\forall x, P(x)] \\land \\neg[\\forall x, R(x)] \\land \\neg[\\exists x, P(x) \\land Q(x)] \\land \\neg[\\exists x, P(x) \\land R(x)] \\land \\neg[\\exists x, Q(x) \\land R(x)]$"
            ],
            "text/plain": [
              "<IPython.core.display.HTML object>"
            ]
          },
          "metadata": {
            "tags": []
          }
        },
        {
          "output_type": "display_data",
          "data": {
            "text/html": [
              "Pruning:  [$\\forall x, P(x) \\lor Q(x) \\lor R(x)$, $\\forall x, P(x) \\land Q(x)$, $\\forall x, P(x) \\land R(x)$, $\\forall x, Q(x) \\land R(x)$, $\\forall x, P(x)$, $\\forall x, R(x)$, $\\exists x, P(x) \\land Q(x)$, $\\exists x, Q(x)$, $\\exists x, R(x)$] Meaning:  $(\\forall x, P(x) \\lor Q(x) \\lor R(x)) \\land (\\exists x, R(x)) \\land \\neg[\\forall x, R(x)] \\land \\neg[\\exists x, P(x) \\land Q(x)]$"
            ],
            "text/plain": [
              "<IPython.core.display.HTML object>"
            ]
          },
          "metadata": {
            "tags": []
          }
        },
        {
          "output_type": "display_data",
          "data": {
            "text/html": [
              "Pruning:  [$\\forall x, P(x) \\lor Q(x) \\lor R(x)$, $\\forall x, P(x) \\land Q(x)$, $\\forall x, P(x) \\land R(x)$, $\\forall x, Q(x) \\land R(x)$, $\\forall x, P(x)$, $\\forall x, R(x)$, $\\exists x, P(x) \\land R(x)$, $\\exists x, P(x)$, $\\exists x, Q(x)$] Meaning:  $(\\forall x, P(x) \\lor Q(x) \\lor R(x)) \\land (\\exists x, Q(x)) \\land \\neg[\\forall x, Q(x) \\land R(x)] \\land \\neg[\\forall x, P(x)] \\land \\neg[\\exists x, P(x) \\land R(x)]$"
            ],
            "text/plain": [
              "<IPython.core.display.HTML object>"
            ]
          },
          "metadata": {
            "tags": []
          }
        },
        {
          "output_type": "display_data",
          "data": {
            "text/html": [
              "Pruning:  [$\\forall x, P(x) \\lor Q(x) \\lor R(x)$, $\\forall x, P(x) \\land Q(x)$, $\\forall x, P(x) \\land R(x)$, $\\forall x, Q(x) \\land R(x)$, $\\forall x, P(x)$, $\\forall x, R(x)$, $\\exists x, P(x) \\land R(x)$, $\\exists x, Q(x)$, $\\exists x, R(x)$] Meaning:  $(\\forall x, P(x) \\lor Q(x) \\lor R(x)) \\land (\\exists x, Q(x)) \\land \\neg[\\forall x, P(x) \\land Q(x)] \\land \\neg[\\forall x, R(x)] \\land \\neg[\\exists x, P(x) \\land R(x)]$"
            ],
            "text/plain": [
              "<IPython.core.display.HTML object>"
            ]
          },
          "metadata": {
            "tags": []
          }
        },
        {
          "output_type": "display_data",
          "data": {
            "text/html": [
              "Pruning:  [$\\forall x, P(x) \\lor Q(x) \\lor R(x)$, $\\forall x, P(x) \\land Q(x)$, $\\forall x, P(x) \\land R(x)$, $\\forall x, Q(x) \\land R(x)$, $\\forall x, P(x)$, $\\forall x, R(x)$, $\\exists x, Q(x) \\land R(x)$, $\\exists x, P(x)$, $\\exists x, Q(x)$] Meaning:  $(\\forall x, P(x) \\lor Q(x) \\lor R(x)) \\land (\\exists x, P(x)) \\land \\neg[\\forall x, P(x)] \\land \\neg[\\exists x, Q(x) \\land R(x)]$"
            ],
            "text/plain": [
              "<IPython.core.display.HTML object>"
            ]
          },
          "metadata": {
            "tags": []
          }
        },
        {
          "output_type": "display_data",
          "data": {
            "text/html": [
              "Pruning:  [$\\forall x, P(x) \\lor Q(x) \\lor R(x)$, $\\forall x, P(x) \\land Q(x)$, $\\forall x, P(x) \\land R(x)$, $\\forall x, Q(x) \\land R(x)$, $\\forall x, P(x)$, $\\forall x, R(x)$, $\\exists x, P(x)$, $\\exists x, Q(x)$, $\\exists x, R(x)$] Meaning:  $(\\forall x, P(x) \\lor Q(x) \\lor R(x)) \\land (\\exists x, P(x)) \\land (\\exists x, Q(x)) \\land (\\exists x, R(x)) \\land \\neg[\\forall x, P(x) \\land Q(x)] \\land \\neg[\\forall x, P(x) \\land R(x)] \\land \\neg[\\forall x, Q(x) \\land R(x)]$"
            ],
            "text/plain": [
              "<IPython.core.display.HTML object>"
            ]
          },
          "metadata": {
            "tags": []
          }
        },
        {
          "output_type": "display_data",
          "data": {
            "text/html": [
              "Pruning:  [$\\forall x, P(x) \\lor Q(x) \\lor R(x)$, $\\forall x, P(x) \\land Q(x)$, $\\forall x, P(x) \\land R(x)$, $\\forall x, Q(x) \\land R(x)$, $\\forall x, P(x)$, $\\exists x, P(x) \\land Q(x)$, $\\exists x, P(x) \\land R(x)$, $\\exists x, Q(x) \\land R(x)$, $\\exists x, P(x)$] Meaning:  $(\\forall x, P(x) \\lor Q(x) \\lor R(x)) \\land \\neg[\\exists x, Q(x) \\land R(x)] \\land \\neg[\\exists x, P(x)]$"
            ],
            "text/plain": [
              "<IPython.core.display.HTML object>"
            ]
          },
          "metadata": {
            "tags": []
          }
        },
        {
          "output_type": "display_data",
          "data": {
            "text/html": [
              "Pruning:  [$\\forall x, P(x) \\lor Q(x) \\lor R(x)$, $\\forall x, P(x) \\land Q(x)$, $\\forall x, P(x) \\land R(x)$, $\\forall x, Q(x) \\land R(x)$, $\\forall x, P(x)$, $\\exists x, P(x) \\land Q(x)$, $\\exists x, P(x) \\land R(x)$, $\\exists x, Q(x)$, $\\exists x, R(x)$] Meaning:  $(\\forall x, P(x) \\lor Q(x) \\lor R(x)) \\land \\neg[\\forall x, Q(x) \\land R(x)] \\land \\neg[\\exists x, P(x) \\land Q(x)] \\land \\neg[\\exists x, P(x) \\land R(x)]$"
            ],
            "text/plain": [
              "<IPython.core.display.HTML object>"
            ]
          },
          "metadata": {
            "tags": []
          }
        },
        {
          "output_type": "display_data",
          "data": {
            "text/html": [
              "Pruning:  [$\\forall x, P(x) \\lor Q(x) \\lor R(x)$, $\\forall x, P(x) \\land Q(x)$, $\\forall x, P(x) \\land R(x)$, $\\forall x, Q(x) \\land R(x)$, $\\forall x, Q(x)$, $\\forall x, R(x)$, $\\exists x, P(x) \\land Q(x)$, $\\exists x, P(x) \\land R(x)$, $\\exists x, Q(x) \\land R(x)$] Meaning:  $(\\forall x, P(x) \\lor Q(x) \\lor R(x)) \\land \\neg[\\forall x, Q(x)] \\land \\neg[\\forall x, R(x)] \\land \\neg[\\exists x, P(x) \\land Q(x)] \\land \\neg[\\exists x, P(x) \\land R(x)] \\land \\neg[\\exists x, Q(x) \\land R(x)]$"
            ],
            "text/plain": [
              "<IPython.core.display.HTML object>"
            ]
          },
          "metadata": {
            "tags": []
          }
        },
        {
          "output_type": "display_data",
          "data": {
            "text/html": [
              "Pruning:  [$\\forall x, P(x) \\lor Q(x) \\lor R(x)$, $\\forall x, P(x) \\land Q(x)$, $\\forall x, P(x) \\land R(x)$, $\\forall x, Q(x) \\land R(x)$, $\\forall x, Q(x)$, $\\forall x, R(x)$, $\\exists x, P(x) \\land Q(x)$, $\\exists x, P(x)$, $\\exists x, R(x)$] Meaning:  $(\\forall x, P(x) \\lor Q(x) \\lor R(x)) \\land (\\exists x, R(x)) \\land \\neg[\\forall x, R(x)] \\land \\neg[\\exists x, P(x) \\land Q(x)]$"
            ],
            "text/plain": [
              "<IPython.core.display.HTML object>"
            ]
          },
          "metadata": {
            "tags": []
          }
        },
        {
          "output_type": "display_data",
          "data": {
            "text/html": [
              "Pruning:  [$\\forall x, P(x) \\lor Q(x) \\lor R(x)$, $\\forall x, P(x) \\land Q(x)$, $\\forall x, P(x) \\land R(x)$, $\\forall x, Q(x) \\land R(x)$, $\\forall x, Q(x)$, $\\forall x, R(x)$, $\\exists x, P(x) \\land R(x)$, $\\exists x, P(x)$, $\\exists x, Q(x)$] Meaning:  $(\\forall x, P(x) \\lor Q(x) \\lor R(x)) \\land (\\exists x, Q(x)) \\land \\neg[\\forall x, Q(x)] \\land \\neg[\\exists x, P(x) \\land R(x)]$"
            ],
            "text/plain": [
              "<IPython.core.display.HTML object>"
            ]
          },
          "metadata": {
            "tags": []
          }
        },
        {
          "output_type": "display_data",
          "data": {
            "text/html": [
              "Pruning:  [$\\forall x, P(x) \\lor Q(x) \\lor R(x)$, $\\forall x, P(x) \\land Q(x)$, $\\forall x, P(x) \\land R(x)$, $\\forall x, Q(x) \\land R(x)$, $\\forall x, Q(x)$, $\\forall x, R(x)$, $\\exists x, Q(x) \\land R(x)$, $\\exists x, P(x)$, $\\exists x, Q(x)$] Meaning:  $(\\forall x, P(x) \\lor Q(x) \\lor R(x)) \\land (\\exists x, P(x)) \\land \\neg[\\forall x, P(x) \\land R(x)] \\land \\neg[\\forall x, Q(x)] \\land \\neg[\\exists x, Q(x) \\land R(x)]$"
            ],
            "text/plain": [
              "<IPython.core.display.HTML object>"
            ]
          },
          "metadata": {
            "tags": []
          }
        },
        {
          "output_type": "display_data",
          "data": {
            "text/html": [
              "Pruning:  [$\\forall x, P(x) \\lor Q(x) \\lor R(x)$, $\\forall x, P(x) \\land Q(x)$, $\\forall x, P(x) \\land R(x)$, $\\forall x, Q(x) \\land R(x)$, $\\forall x, Q(x)$, $\\forall x, R(x)$, $\\exists x, Q(x) \\land R(x)$, $\\exists x, P(x)$, $\\exists x, R(x)$] Meaning:  $(\\forall x, P(x) \\lor Q(x) \\lor R(x)) \\land (\\exists x, P(x)) \\land \\neg[\\forall x, P(x) \\land Q(x)] \\land \\neg[\\forall x, R(x)] \\land \\neg[\\exists x, Q(x) \\land R(x)]$"
            ],
            "text/plain": [
              "<IPython.core.display.HTML object>"
            ]
          },
          "metadata": {
            "tags": []
          }
        },
        {
          "output_type": "display_data",
          "data": {
            "text/html": [
              "Pruning:  [$\\forall x, P(x) \\lor Q(x) \\lor R(x)$, $\\forall x, P(x) \\land Q(x)$, $\\forall x, P(x) \\land R(x)$, $\\forall x, Q(x) \\land R(x)$, $\\forall x, Q(x)$, $\\forall x, R(x)$, $\\exists x, P(x)$, $\\exists x, Q(x)$, $\\exists x, R(x)$] Meaning:  $(\\forall x, P(x) \\lor Q(x) \\lor R(x)) \\land (\\exists x, P(x)) \\land (\\exists x, Q(x)) \\land (\\exists x, R(x)) \\land \\neg[\\forall x, P(x) \\land Q(x)] \\land \\neg[\\forall x, P(x) \\land R(x)] \\land \\neg[\\forall x, Q(x) \\land R(x)]$"
            ],
            "text/plain": [
              "<IPython.core.display.HTML object>"
            ]
          },
          "metadata": {
            "tags": []
          }
        },
        {
          "output_type": "display_data",
          "data": {
            "text/html": [
              "Pruning:  [$\\forall x, P(x) \\lor Q(x) \\lor R(x)$, $\\forall x, P(x) \\land Q(x)$, $\\forall x, P(x) \\land R(x)$, $\\forall x, Q(x) \\land R(x)$, $\\forall x, Q(x)$, $\\exists x, P(x) \\land Q(x)$, $\\exists x, P(x) \\land R(x)$, $\\exists x, Q(x) \\land R(x)$, $\\exists x, Q(x)$] Meaning:  $(\\forall x, P(x) \\lor Q(x) \\lor R(x)) \\land \\neg[\\exists x, P(x) \\land R(x)] \\land \\neg[\\exists x, Q(x)]$"
            ],
            "text/plain": [
              "<IPython.core.display.HTML object>"
            ]
          },
          "metadata": {
            "tags": []
          }
        },
        {
          "output_type": "display_data",
          "data": {
            "text/html": [
              "Pruning:  [$\\forall x, P(x) \\lor Q(x) \\lor R(x)$, $\\forall x, P(x) \\land Q(x)$, $\\forall x, P(x) \\land R(x)$, $\\forall x, Q(x) \\land R(x)$, $\\forall x, Q(x)$, $\\exists x, P(x) \\land Q(x)$, $\\exists x, Q(x) \\land R(x)$, $\\exists x, P(x)$, $\\exists x, R(x)$] Meaning:  $(\\forall x, P(x) \\lor Q(x) \\lor R(x)) \\land \\neg[\\forall x, P(x) \\land R(x)] \\land \\neg[\\exists x, P(x) \\land Q(x)] \\land \\neg[\\exists x, Q(x) \\land R(x)]$"
            ],
            "text/plain": [
              "<IPython.core.display.HTML object>"
            ]
          },
          "metadata": {
            "tags": []
          }
        },
        {
          "output_type": "display_data",
          "data": {
            "text/html": [
              "Pruning:  [$\\forall x, P(x) \\lor Q(x) \\lor R(x)$, $\\forall x, P(x) \\land Q(x)$, $\\forall x, P(x) \\land R(x)$, $\\forall x, Q(x) \\land R(x)$, $\\forall x, R(x)$, $\\exists x, P(x) \\land Q(x)$, $\\exists x, P(x) \\land R(x)$, $\\exists x, Q(x) \\land R(x)$, $\\exists x, R(x)$] Meaning:  $(\\forall x, P(x) \\lor Q(x) \\lor R(x)) \\land \\neg[\\exists x, P(x) \\land Q(x)] \\land \\neg[\\exists x, R(x)]$"
            ],
            "text/plain": [
              "<IPython.core.display.HTML object>"
            ]
          },
          "metadata": {
            "tags": []
          }
        },
        {
          "output_type": "display_data",
          "data": {
            "text/html": [
              "Pruning:  [$\\forall x, P(x) \\lor Q(x) \\lor R(x)$, $\\forall x, P(x) \\land Q(x)$, $\\forall x, P(x) \\land R(x)$, $\\forall x, Q(x) \\land R(x)$, $\\forall x, R(x)$, $\\exists x, P(x) \\land R(x)$, $\\exists x, Q(x) \\land R(x)$, $\\exists x, P(x)$, $\\exists x, Q(x)$] Meaning:  $(\\forall x, P(x) \\lor Q(x) \\lor R(x)) \\land \\neg[\\forall x, P(x) \\land Q(x)] \\land \\neg[\\exists x, P(x) \\land R(x)] \\land \\neg[\\exists x, Q(x) \\land R(x)]$"
            ],
            "text/plain": [
              "<IPython.core.display.HTML object>"
            ]
          },
          "metadata": {
            "tags": []
          }
        },
        {
          "output_type": "display_data",
          "data": {
            "text/html": [
              "Pruning:  [$\\forall x, P(x) \\lor Q(x) \\lor R(x)$, $\\forall x, P(x) \\land Q(x)$, $\\forall x, P(x) \\land R(x)$, $\\forall x, P(x)$, $\\forall x, Q(x)$, $\\forall x, R(x)$, $\\exists x, P(x)$, $\\exists x, Q(x)$, $\\exists x, R(x)$] Meaning:  $(\\forall x, P(x) \\lor Q(x) \\lor R(x)) \\land (\\exists x, P(x)) \\land (\\exists x, Q(x)) \\land (\\exists x, R(x)) \\land \\neg[\\forall x, P(x) \\land Q(x)] \\land \\neg[\\forall x, P(x) \\land R(x)]$"
            ],
            "text/plain": [
              "<IPython.core.display.HTML object>"
            ]
          },
          "metadata": {
            "tags": []
          }
        },
        {
          "output_type": "display_data",
          "data": {
            "text/html": [
              "Pruning:  [$\\forall x, P(x) \\lor Q(x) \\lor R(x)$, $\\forall x, P(x) \\land Q(x)$, $\\forall x, P(x) \\land R(x)$, $\\forall x, P(x)$, $\\forall x, Q(x)$, $\\exists x, P(x) \\land Q(x)$, $\\exists x, P(x) \\land R(x)$, $\\exists x, P(x)$, $\\exists x, R(x)$] Meaning:  $(\\forall x, P(x) \\lor Q(x) \\lor R(x)) \\land (\\exists x, R(x)) \\land \\neg[\\forall x, P(x)] \\land \\neg[\\exists x, P(x) \\land Q(x)] \\land \\neg[\\exists x, P(x) \\land R(x)]$"
            ],
            "text/plain": [
              "<IPython.core.display.HTML object>"
            ]
          },
          "metadata": {
            "tags": []
          }
        },
        {
          "output_type": "display_data",
          "data": {
            "text/html": [
              "Pruning:  [$\\forall x, P(x) \\lor Q(x) \\lor R(x)$, $\\forall x, P(x) \\land Q(x)$, $\\forall x, P(x) \\land R(x)$, $\\forall x, P(x)$, $\\forall x, Q(x)$, $\\exists x, P(x) \\land Q(x)$, $\\exists x, P(x)$, $\\exists x, Q(x)$, $\\exists x, R(x)$] Meaning:  $(\\forall x, P(x) \\lor Q(x) \\lor R(x)) \\land (\\exists x, R(x)) \\land \\neg[\\forall x, P(x) \\land R(x)] \\land \\neg[\\exists x, P(x) \\land Q(x)]$"
            ],
            "text/plain": [
              "<IPython.core.display.HTML object>"
            ]
          },
          "metadata": {
            "tags": []
          }
        },
        {
          "output_type": "display_data",
          "data": {
            "text/html": [
              "Pruning:  [$\\forall x, P(x) \\lor Q(x) \\lor R(x)$, $\\forall x, P(x) \\land Q(x)$, $\\forall x, P(x) \\land R(x)$, $\\forall x, P(x)$, $\\forall x, R(x)$, $\\exists x, P(x) \\land Q(x)$, $\\exists x, P(x) \\land R(x)$, $\\exists x, P(x)$, $\\exists x, Q(x)$] Meaning:  $(\\forall x, P(x) \\lor Q(x) \\lor R(x)) \\land (\\exists x, Q(x)) \\land \\neg[\\forall x, P(x)] \\land \\neg[\\exists x, P(x) \\land Q(x)] \\land \\neg[\\exists x, P(x) \\land R(x)]$"
            ],
            "text/plain": [
              "<IPython.core.display.HTML object>"
            ]
          },
          "metadata": {
            "tags": []
          }
        },
        {
          "output_type": "display_data",
          "data": {
            "text/html": [
              "Pruning:  [$\\forall x, P(x) \\lor Q(x) \\lor R(x)$, $\\forall x, P(x) \\land Q(x)$, $\\forall x, P(x) \\land R(x)$, $\\forall x, P(x)$, $\\forall x, R(x)$, $\\exists x, P(x) \\land R(x)$, $\\exists x, P(x)$, $\\exists x, Q(x)$, $\\exists x, R(x)$] Meaning:  $(\\forall x, P(x) \\lor Q(x) \\lor R(x)) \\land (\\exists x, Q(x)) \\land \\neg[\\forall x, P(x) \\land Q(x)] \\land \\neg[\\exists x, P(x) \\land R(x)]$"
            ],
            "text/plain": [
              "<IPython.core.display.HTML object>"
            ]
          },
          "metadata": {
            "tags": []
          }
        },
        {
          "output_type": "display_data",
          "data": {
            "text/html": [
              "Pruning:  [$\\forall x, P(x) \\lor Q(x) \\lor R(x)$, $\\forall x, P(x) \\land Q(x)$, $\\forall x, Q(x) \\land R(x)$, $\\forall x, P(x)$, $\\forall x, Q(x)$, $\\forall x, R(x)$, $\\exists x, P(x)$, $\\exists x, Q(x)$, $\\exists x, R(x)$] Meaning:  $(\\forall x, P(x) \\lor Q(x) \\lor R(x)) \\land (\\exists x, P(x)) \\land (\\exists x, Q(x)) \\land (\\exists x, R(x)) \\land \\neg[\\forall x, P(x) \\land Q(x)] \\land \\neg[\\forall x, Q(x) \\land R(x)]$"
            ],
            "text/plain": [
              "<IPython.core.display.HTML object>"
            ]
          },
          "metadata": {
            "tags": []
          }
        },
        {
          "output_type": "display_data",
          "data": {
            "text/html": [
              "Pruning:  [$\\forall x, P(x) \\lor Q(x) \\lor R(x)$, $\\forall x, P(x) \\land Q(x)$, $\\forall x, Q(x) \\land R(x)$, $\\forall x, P(x)$, $\\forall x, Q(x)$, $\\exists x, P(x) \\land Q(x)$, $\\exists x, Q(x) \\land R(x)$, $\\exists x, Q(x)$, $\\exists x, R(x)$] Meaning:  $(\\forall x, P(x) \\lor Q(x) \\lor R(x)) \\land (\\exists x, R(x)) \\land \\neg[\\forall x, Q(x)] \\land \\neg[\\exists x, P(x) \\land Q(x)] \\land \\neg[\\exists x, Q(x) \\land R(x)]$"
            ],
            "text/plain": [
              "<IPython.core.display.HTML object>"
            ]
          },
          "metadata": {
            "tags": []
          }
        },
        {
          "output_type": "display_data",
          "data": {
            "text/html": [
              "Pruning:  [$\\forall x, P(x) \\lor Q(x) \\lor R(x)$, $\\forall x, P(x) \\land Q(x)$, $\\forall x, Q(x) \\land R(x)$, $\\forall x, P(x)$, $\\forall x, Q(x)$, $\\exists x, P(x) \\land Q(x)$, $\\exists x, P(x)$, $\\exists x, Q(x)$, $\\exists x, R(x)$] Meaning:  $(\\forall x, P(x) \\lor Q(x) \\lor R(x)) \\land (\\exists x, R(x)) \\land \\neg[\\forall x, Q(x) \\land R(x)] \\land \\neg[\\exists x, P(x) \\land Q(x)]$"
            ],
            "text/plain": [
              "<IPython.core.display.HTML object>"
            ]
          },
          "metadata": {
            "tags": []
          }
        },
        {
          "output_type": "display_data",
          "data": {
            "text/html": [
              "Pruning:  [$\\forall x, P(x) \\lor Q(x) \\lor R(x)$, $\\forall x, P(x) \\land Q(x)$, $\\forall x, Q(x) \\land R(x)$, $\\forall x, Q(x)$, $\\forall x, R(x)$, $\\exists x, P(x) \\land Q(x)$, $\\exists x, Q(x) \\land R(x)$, $\\exists x, P(x)$, $\\exists x, Q(x)$] Meaning:  $(\\forall x, P(x) \\lor Q(x) \\lor R(x)) \\land (\\exists x, P(x)) \\land \\neg[\\forall x, Q(x)] \\land \\neg[\\exists x, P(x) \\land Q(x)] \\land \\neg[\\exists x, Q(x) \\land R(x)]$"
            ],
            "text/plain": [
              "<IPython.core.display.HTML object>"
            ]
          },
          "metadata": {
            "tags": []
          }
        },
        {
          "output_type": "display_data",
          "data": {
            "text/html": [
              "Pruning:  [$\\forall x, P(x) \\lor Q(x) \\lor R(x)$, $\\forall x, P(x) \\land Q(x)$, $\\forall x, Q(x) \\land R(x)$, $\\forall x, Q(x)$, $\\forall x, R(x)$, $\\exists x, Q(x) \\land R(x)$, $\\exists x, P(x)$, $\\exists x, Q(x)$, $\\exists x, R(x)$] Meaning:  $(\\forall x, P(x) \\lor Q(x) \\lor R(x)) \\land (\\exists x, P(x)) \\land \\neg[\\forall x, P(x) \\land Q(x)] \\land \\neg[\\exists x, Q(x) \\land R(x)]$"
            ],
            "text/plain": [
              "<IPython.core.display.HTML object>"
            ]
          },
          "metadata": {
            "tags": []
          }
        },
        {
          "output_type": "display_data",
          "data": {
            "text/html": [
              "Pruning:  [$\\forall x, P(x) \\lor Q(x) \\lor R(x)$, $\\forall x, P(x) \\land Q(x)$, $\\forall x, P(x)$, $\\forall x, Q(x)$, $\\forall x, R(x)$, $\\exists x, P(x) \\land Q(x)$, $\\exists x, P(x)$, $\\exists x, Q(x)$, $\\exists x, R(x)$] Meaning:  $(\\forall x, R(x)) \\land \\neg[\\exists x, P(x) \\land Q(x)]$"
            ],
            "text/plain": [
              "<IPython.core.display.HTML object>"
            ]
          },
          "metadata": {
            "tags": []
          }
        },
        {
          "output_type": "display_data",
          "data": {
            "text/html": [
              "Pruning:  [$\\forall x, P(x) \\lor Q(x) \\lor R(x)$, $\\forall x, P(x) \\land R(x)$, $\\forall x, Q(x) \\land R(x)$, $\\forall x, P(x)$, $\\forall x, Q(x)$, $\\forall x, R(x)$, $\\exists x, P(x)$, $\\exists x, Q(x)$, $\\exists x, R(x)$] Meaning:  $(\\forall x, P(x) \\lor Q(x) \\lor R(x)) \\land (\\exists x, P(x)) \\land (\\exists x, Q(x)) \\land (\\exists x, R(x)) \\land \\neg[\\forall x, P(x) \\land R(x)] \\land \\neg[\\forall x, Q(x) \\land R(x)]$"
            ],
            "text/plain": [
              "<IPython.core.display.HTML object>"
            ]
          },
          "metadata": {
            "tags": []
          }
        },
        {
          "output_type": "display_data",
          "data": {
            "text/html": [
              "Pruning:  [$\\forall x, P(x) \\lor Q(x) \\lor R(x)$, $\\forall x, P(x) \\land R(x)$, $\\forall x, Q(x) \\land R(x)$, $\\forall x, P(x)$, $\\forall x, R(x)$, $\\exists x, P(x) \\land R(x)$, $\\exists x, Q(x) \\land R(x)$, $\\exists x, Q(x)$, $\\exists x, R(x)$] Meaning:  $(\\forall x, P(x) \\lor Q(x) \\lor R(x)) \\land (\\exists x, Q(x)) \\land \\neg[\\forall x, R(x)] \\land \\neg[\\exists x, P(x) \\land R(x)] \\land \\neg[\\exists x, Q(x) \\land R(x)]$"
            ],
            "text/plain": [
              "<IPython.core.display.HTML object>"
            ]
          },
          "metadata": {
            "tags": []
          }
        },
        {
          "output_type": "display_data",
          "data": {
            "text/html": [
              "Pruning:  [$\\forall x, P(x) \\lor Q(x) \\lor R(x)$, $\\forall x, P(x) \\land R(x)$, $\\forall x, Q(x) \\land R(x)$, $\\forall x, P(x)$, $\\forall x, R(x)$, $\\exists x, P(x) \\land R(x)$, $\\exists x, P(x)$, $\\exists x, Q(x)$, $\\exists x, R(x)$] Meaning:  $(\\forall x, P(x) \\lor Q(x) \\lor R(x)) \\land (\\exists x, Q(x)) \\land \\neg[\\forall x, Q(x) \\land R(x)] \\land \\neg[\\exists x, P(x) \\land R(x)]$"
            ],
            "text/plain": [
              "<IPython.core.display.HTML object>"
            ]
          },
          "metadata": {
            "tags": []
          }
        },
        {
          "output_type": "display_data",
          "data": {
            "text/html": [
              "Pruning:  [$\\forall x, P(x) \\lor Q(x) \\lor R(x)$, $\\forall x, P(x) \\land R(x)$, $\\forall x, Q(x) \\land R(x)$, $\\forall x, Q(x)$, $\\forall x, R(x)$, $\\exists x, P(x) \\land R(x)$, $\\exists x, Q(x) \\land R(x)$, $\\exists x, P(x)$, $\\exists x, R(x)$] Meaning:  $(\\forall x, P(x) \\lor Q(x) \\lor R(x)) \\land (\\exists x, P(x)) \\land \\neg[\\forall x, R(x)] \\land \\neg[\\exists x, P(x) \\land R(x)] \\land \\neg[\\exists x, Q(x) \\land R(x)]$"
            ],
            "text/plain": [
              "<IPython.core.display.HTML object>"
            ]
          },
          "metadata": {
            "tags": []
          }
        },
        {
          "output_type": "display_data",
          "data": {
            "text/html": [
              "Pruning:  [$\\forall x, P(x) \\lor Q(x) \\lor R(x)$, $\\forall x, P(x) \\land R(x)$, $\\forall x, Q(x) \\land R(x)$, $\\forall x, Q(x)$, $\\forall x, R(x)$, $\\exists x, Q(x) \\land R(x)$, $\\exists x, P(x)$, $\\exists x, Q(x)$, $\\exists x, R(x)$] Meaning:  $(\\forall x, P(x) \\lor Q(x) \\lor R(x)) \\land (\\exists x, P(x)) \\land \\neg[\\forall x, P(x) \\land R(x)] \\land \\neg[\\exists x, Q(x) \\land R(x)]$"
            ],
            "text/plain": [
              "<IPython.core.display.HTML object>"
            ]
          },
          "metadata": {
            "tags": []
          }
        },
        {
          "output_type": "display_data",
          "data": {
            "text/html": [
              "Pruning:  [$\\forall x, P(x) \\lor Q(x) \\lor R(x)$, $\\forall x, P(x) \\land R(x)$, $\\forall x, P(x)$, $\\forall x, Q(x)$, $\\forall x, R(x)$, $\\exists x, P(x) \\land R(x)$, $\\exists x, P(x)$, $\\exists x, Q(x)$, $\\exists x, R(x)$] Meaning:  $(\\forall x, Q(x)) \\land \\neg[\\exists x, P(x) \\land R(x)]$"
            ],
            "text/plain": [
              "<IPython.core.display.HTML object>"
            ]
          },
          "metadata": {
            "tags": []
          }
        },
        {
          "output_type": "display_data",
          "data": {
            "text/html": [
              "Pruning:  [$\\forall x, P(x) \\lor Q(x) \\lor R(x)$, $\\forall x, Q(x) \\land R(x)$, $\\forall x, P(x)$, $\\forall x, Q(x)$, $\\forall x, R(x)$, $\\exists x, Q(x) \\land R(x)$, $\\exists x, P(x)$, $\\exists x, Q(x)$, $\\exists x, R(x)$] Meaning:  $(\\forall x, P(x)) \\land \\neg[\\exists x, Q(x) \\land R(x)]$"
            ],
            "text/plain": [
              "<IPython.core.display.HTML object>"
            ]
          },
          "metadata": {
            "tags": []
          }
        },
        {
          "output_type": "display_data",
          "data": {
            "text/html": [
              "Pruning:  [$\\forall x, P(x) \\lor Q(x) \\lor R(x)$, $\\forall x, P(x) \\land Q(x)$, $\\forall x, P(x) \\land R(x)$, $\\forall x, Q(x) \\land R(x)$, $\\forall x, P(x)$, $\\forall x, Q(x)$, $\\forall x, R(x)$, $\\exists x, P(x) \\land Q(x)$, $\\exists x, P(x) \\land R(x)$, $\\exists x, Q(x) \\land R(x)$] Meaning:  $(\\forall x, P(x) \\lor Q(x) \\lor R(x)) \\land \\neg[\\forall x, P(x)] \\land \\neg[\\forall x, Q(x)] \\land \\neg[\\forall x, R(x)] \\land \\neg[\\exists x, P(x) \\land Q(x)] \\land \\neg[\\exists x, P(x) \\land R(x)] \\land \\neg[\\exists x, Q(x) \\land R(x)]$"
            ],
            "text/plain": [
              "<IPython.core.display.HTML object>"
            ]
          },
          "metadata": {
            "tags": []
          }
        },
        {
          "output_type": "display_data",
          "data": {
            "text/html": [
              "Pruning:  [$\\forall x, P(x) \\lor Q(x) \\lor R(x)$, $\\forall x, P(x) \\land Q(x)$, $\\forall x, P(x) \\land R(x)$, $\\forall x, Q(x) \\land R(x)$, $\\forall x, P(x)$, $\\forall x, Q(x)$, $\\forall x, R(x)$, $\\exists x, P(x) \\land Q(x)$, $\\exists x, P(x)$, $\\exists x, R(x)$] Meaning:  $(\\forall x, P(x) \\lor Q(x) \\lor R(x)) \\land (\\exists x, R(x)) \\land \\neg[\\forall x, P(x)] \\land \\neg[\\forall x, R(x)] \\land \\neg[\\exists x, P(x) \\land Q(x)]$"
            ],
            "text/plain": [
              "<IPython.core.display.HTML object>"
            ]
          },
          "metadata": {
            "tags": []
          }
        },
        {
          "output_type": "display_data",
          "data": {
            "text/html": [
              "Pruning:  [$\\forall x, P(x) \\lor Q(x) \\lor R(x)$, $\\forall x, P(x) \\land Q(x)$, $\\forall x, P(x) \\land R(x)$, $\\forall x, Q(x) \\land R(x)$, $\\forall x, P(x)$, $\\forall x, Q(x)$, $\\forall x, R(x)$, $\\exists x, P(x) \\land Q(x)$, $\\exists x, Q(x)$, $\\exists x, R(x)$] Meaning:  $(\\forall x, P(x) \\lor Q(x) \\lor R(x)) \\land (\\exists x, R(x)) \\land \\neg[\\forall x, Q(x)] \\land \\neg[\\forall x, R(x)] \\land \\neg[\\exists x, P(x) \\land Q(x)]$"
            ],
            "text/plain": [
              "<IPython.core.display.HTML object>"
            ]
          },
          "metadata": {
            "tags": []
          }
        },
        {
          "output_type": "display_data",
          "data": {
            "text/html": [
              "Pruning:  [$\\forall x, P(x) \\lor Q(x) \\lor R(x)$, $\\forall x, P(x) \\land Q(x)$, $\\forall x, P(x) \\land R(x)$, $\\forall x, Q(x) \\land R(x)$, $\\forall x, P(x)$, $\\forall x, Q(x)$, $\\forall x, R(x)$, $\\exists x, P(x) \\land R(x)$, $\\exists x, P(x)$, $\\exists x, Q(x)$] Meaning:  $(\\forall x, P(x) \\lor Q(x) \\lor R(x)) \\land (\\exists x, Q(x)) \\land \\neg[\\forall x, P(x)] \\land \\neg[\\forall x, Q(x)] \\land \\neg[\\exists x, P(x) \\land R(x)]$"
            ],
            "text/plain": [
              "<IPython.core.display.HTML object>"
            ]
          },
          "metadata": {
            "tags": []
          }
        },
        {
          "output_type": "display_data",
          "data": {
            "text/html": [
              "Pruning:  [$\\forall x, P(x) \\lor Q(x) \\lor R(x)$, $\\forall x, P(x) \\land Q(x)$, $\\forall x, P(x) \\land R(x)$, $\\forall x, Q(x) \\land R(x)$, $\\forall x, P(x)$, $\\forall x, Q(x)$, $\\forall x, R(x)$, $\\exists x, P(x) \\land R(x)$, $\\exists x, Q(x)$, $\\exists x, R(x)$] Meaning:  $(\\forall x, P(x) \\lor Q(x) \\lor R(x)) \\land (\\exists x, Q(x)) \\land \\neg[\\forall x, Q(x)] \\land \\neg[\\forall x, R(x)] \\land \\neg[\\exists x, P(x) \\land R(x)]$"
            ],
            "text/plain": [
              "<IPython.core.display.HTML object>"
            ]
          },
          "metadata": {
            "tags": []
          }
        },
        {
          "output_type": "display_data",
          "data": {
            "text/html": [
              "Pruning:  [$\\forall x, P(x) \\lor Q(x) \\lor R(x)$, $\\forall x, P(x) \\land Q(x)$, $\\forall x, P(x) \\land R(x)$, $\\forall x, Q(x) \\land R(x)$, $\\forall x, P(x)$, $\\forall x, Q(x)$, $\\forall x, R(x)$, $\\exists x, Q(x) \\land R(x)$, $\\exists x, P(x)$, $\\exists x, Q(x)$] Meaning:  $(\\forall x, P(x) \\lor Q(x) \\lor R(x)) \\land (\\exists x, P(x)) \\land \\neg[\\forall x, P(x)] \\land \\neg[\\forall x, Q(x)] \\land \\neg[\\exists x, Q(x) \\land R(x)]$"
            ],
            "text/plain": [
              "<IPython.core.display.HTML object>"
            ]
          },
          "metadata": {
            "tags": []
          }
        },
        {
          "output_type": "display_data",
          "data": {
            "text/html": [
              "Pruning:  [$\\forall x, P(x) \\lor Q(x) \\lor R(x)$, $\\forall x, P(x) \\land Q(x)$, $\\forall x, P(x) \\land R(x)$, $\\forall x, Q(x) \\land R(x)$, $\\forall x, P(x)$, $\\forall x, Q(x)$, $\\forall x, R(x)$, $\\exists x, Q(x) \\land R(x)$, $\\exists x, P(x)$, $\\exists x, R(x)$] Meaning:  $(\\forall x, P(x) \\lor Q(x) \\lor R(x)) \\land (\\exists x, P(x)) \\land \\neg[\\forall x, P(x)] \\land \\neg[\\forall x, R(x)] \\land \\neg[\\exists x, Q(x) \\land R(x)]$"
            ],
            "text/plain": [
              "<IPython.core.display.HTML object>"
            ]
          },
          "metadata": {
            "tags": []
          }
        },
        {
          "output_type": "display_data",
          "data": {
            "text/html": [
              "Pruning:  [$\\forall x, P(x) \\lor Q(x) \\lor R(x)$, $\\forall x, P(x) \\land Q(x)$, $\\forall x, P(x) \\land R(x)$, $\\forall x, Q(x) \\land R(x)$, $\\forall x, P(x)$, $\\forall x, Q(x)$, $\\forall x, R(x)$, $\\exists x, P(x)$, $\\exists x, Q(x)$, $\\exists x, R(x)$] Meaning:  $(\\forall x, P(x) \\lor Q(x) \\lor R(x)) \\land (\\exists x, P(x)) \\land (\\exists x, Q(x)) \\land (\\exists x, R(x)) \\land \\neg[\\forall x, P(x) \\land Q(x)] \\land \\neg[\\forall x, P(x) \\land R(x)] \\land \\neg[\\forall x, Q(x) \\land R(x)]$"
            ],
            "text/plain": [
              "<IPython.core.display.HTML object>"
            ]
          },
          "metadata": {
            "tags": []
          }
        },
        {
          "output_type": "display_data",
          "data": {
            "text/html": [
              "Pruning:  [$\\forall x, P(x) \\lor Q(x) \\lor R(x)$, $\\forall x, P(x) \\land Q(x)$, $\\forall x, P(x) \\land R(x)$, $\\forall x, Q(x) \\land R(x)$, $\\forall x, P(x)$, $\\forall x, Q(x)$, $\\exists x, P(x) \\land Q(x)$, $\\exists x, P(x) \\land R(x)$, $\\exists x, P(x)$, $\\exists x, R(x)$] Meaning:  $(\\forall x, P(x) \\lor Q(x) \\lor R(x)) \\land (\\exists x, R(x)) \\land \\neg[\\forall x, Q(x) \\land R(x)] \\land \\neg[\\forall x, P(x)] \\land \\neg[\\exists x, P(x) \\land Q(x)] \\land \\neg[\\exists x, P(x) \\land R(x)]$"
            ],
            "text/plain": [
              "<IPython.core.display.HTML object>"
            ]
          },
          "metadata": {
            "tags": []
          }
        },
        {
          "output_type": "display_data",
          "data": {
            "text/html": [
              "Pruning:  [$\\forall x, P(x) \\lor Q(x) \\lor R(x)$, $\\forall x, P(x) \\land Q(x)$, $\\forall x, P(x) \\land R(x)$, $\\forall x, Q(x) \\land R(x)$, $\\forall x, P(x)$, $\\forall x, Q(x)$, $\\exists x, P(x) \\land Q(x)$, $\\exists x, P(x) \\land R(x)$, $\\exists x, Q(x)$, $\\exists x, R(x)$] Meaning:  $(\\forall x, P(x) \\lor Q(x) \\lor R(x)) \\land \\neg[\\forall x, Q(x)] \\land \\neg[\\exists x, P(x) \\land Q(x)] \\land \\neg[\\exists x, P(x) \\land R(x)]$"
            ],
            "text/plain": [
              "<IPython.core.display.HTML object>"
            ]
          },
          "metadata": {
            "tags": []
          }
        },
        {
          "output_type": "display_data",
          "data": {
            "text/html": [
              "Pruning:  [$\\forall x, P(x) \\lor Q(x) \\lor R(x)$, $\\forall x, P(x) \\land Q(x)$, $\\forall x, P(x) \\land R(x)$, $\\forall x, Q(x) \\land R(x)$, $\\forall x, P(x)$, $\\forall x, Q(x)$, $\\exists x, P(x) \\land Q(x)$, $\\exists x, Q(x) \\land R(x)$, $\\exists x, P(x)$, $\\exists x, R(x)$] Meaning:  $(\\forall x, P(x) \\lor Q(x) \\lor R(x)) \\land \\neg[\\forall x, P(x)] \\land \\neg[\\exists x, P(x) \\land Q(x)] \\land \\neg[\\exists x, Q(x) \\land R(x)]$"
            ],
            "text/plain": [
              "<IPython.core.display.HTML object>"
            ]
          },
          "metadata": {
            "tags": []
          }
        },
        {
          "output_type": "display_data",
          "data": {
            "text/html": [
              "Pruning:  [$\\forall x, P(x) \\lor Q(x) \\lor R(x)$, $\\forall x, P(x) \\land Q(x)$, $\\forall x, P(x) \\land R(x)$, $\\forall x, Q(x) \\land R(x)$, $\\forall x, P(x)$, $\\forall x, Q(x)$, $\\exists x, P(x) \\land Q(x)$, $\\exists x, Q(x) \\land R(x)$, $\\exists x, Q(x)$, $\\exists x, R(x)$] Meaning:  $(\\forall x, P(x) \\lor Q(x) \\lor R(x)) \\land (\\exists x, R(x)) \\land \\neg[\\forall x, P(x) \\land R(x)] \\land \\neg[\\forall x, Q(x)] \\land \\neg[\\exists x, P(x) \\land Q(x)] \\land \\neg[\\exists x, Q(x) \\land R(x)]$"
            ],
            "text/plain": [
              "<IPython.core.display.HTML object>"
            ]
          },
          "metadata": {
            "tags": []
          }
        },
        {
          "output_type": "display_data",
          "data": {
            "text/html": [
              "Pruning:  [$\\forall x, P(x) \\lor Q(x) \\lor R(x)$, $\\forall x, P(x) \\land Q(x)$, $\\forall x, P(x) \\land R(x)$, $\\forall x, Q(x) \\land R(x)$, $\\forall x, P(x)$, $\\forall x, Q(x)$, $\\exists x, P(x) \\land Q(x)$, $\\exists x, P(x)$, $\\exists x, Q(x)$, $\\exists x, R(x)$] Meaning:  $(\\forall x, P(x) \\lor Q(x) \\lor R(x)) \\land (\\exists x, R(x)) \\land \\neg[\\forall x, P(x) \\land R(x)] \\land \\neg[\\forall x, Q(x) \\land R(x)] \\land \\neg[\\exists x, P(x) \\land Q(x)]$"
            ],
            "text/plain": [
              "<IPython.core.display.HTML object>"
            ]
          },
          "metadata": {
            "tags": []
          }
        },
        {
          "output_type": "display_data",
          "data": {
            "text/html": [
              "Pruning:  [$\\forall x, P(x) \\lor Q(x) \\lor R(x)$, $\\forall x, P(x) \\land Q(x)$, $\\forall x, P(x) \\land R(x)$, $\\forall x, Q(x) \\land R(x)$, $\\forall x, P(x)$, $\\forall x, R(x)$, $\\exists x, P(x) \\land Q(x)$, $\\exists x, P(x) \\land R(x)$, $\\exists x, P(x)$, $\\exists x, Q(x)$] Meaning:  $(\\forall x, P(x) \\lor Q(x) \\lor R(x)) \\land (\\exists x, Q(x)) \\land \\neg[\\forall x, Q(x) \\land R(x)] \\land \\neg[\\forall x, P(x)] \\land \\neg[\\exists x, P(x) \\land Q(x)] \\land \\neg[\\exists x, P(x) \\land R(x)]$"
            ],
            "text/plain": [
              "<IPython.core.display.HTML object>"
            ]
          },
          "metadata": {
            "tags": []
          }
        },
        {
          "output_type": "display_data",
          "data": {
            "text/html": [
              "Pruning:  [$\\forall x, P(x) \\lor Q(x) \\lor R(x)$, $\\forall x, P(x) \\land Q(x)$, $\\forall x, P(x) \\land R(x)$, $\\forall x, Q(x) \\land R(x)$, $\\forall x, P(x)$, $\\forall x, R(x)$, $\\exists x, P(x) \\land Q(x)$, $\\exists x, P(x) \\land R(x)$, $\\exists x, Q(x)$, $\\exists x, R(x)$] Meaning:  $(\\forall x, P(x) \\lor Q(x) \\lor R(x)) \\land \\neg[\\forall x, R(x)] \\land \\neg[\\exists x, P(x) \\land Q(x)] \\land \\neg[\\exists x, P(x) \\land R(x)]$"
            ],
            "text/plain": [
              "<IPython.core.display.HTML object>"
            ]
          },
          "metadata": {
            "tags": []
          }
        },
        {
          "output_type": "display_data",
          "data": {
            "text/html": [
              "Pruning:  [$\\forall x, P(x) \\lor Q(x) \\lor R(x)$, $\\forall x, P(x) \\land Q(x)$, $\\forall x, P(x) \\land R(x)$, $\\forall x, Q(x) \\land R(x)$, $\\forall x, P(x)$, $\\forall x, R(x)$, $\\exists x, P(x) \\land R(x)$, $\\exists x, Q(x) \\land R(x)$, $\\exists x, P(x)$, $\\exists x, Q(x)$] Meaning:  $(\\forall x, P(x) \\lor Q(x) \\lor R(x)) \\land \\neg[\\forall x, P(x)] \\land \\neg[\\exists x, P(x) \\land R(x)] \\land \\neg[\\exists x, Q(x) \\land R(x)]$"
            ],
            "text/plain": [
              "<IPython.core.display.HTML object>"
            ]
          },
          "metadata": {
            "tags": []
          }
        },
        {
          "output_type": "display_data",
          "data": {
            "text/html": [
              "Pruning:  [$\\forall x, P(x) \\lor Q(x) \\lor R(x)$, $\\forall x, P(x) \\land Q(x)$, $\\forall x, P(x) \\land R(x)$, $\\forall x, Q(x) \\land R(x)$, $\\forall x, P(x)$, $\\forall x, R(x)$, $\\exists x, P(x) \\land R(x)$, $\\exists x, Q(x) \\land R(x)$, $\\exists x, Q(x)$, $\\exists x, R(x)$] Meaning:  $(\\forall x, P(x) \\lor Q(x) \\lor R(x)) \\land (\\exists x, Q(x)) \\land \\neg[\\forall x, P(x) \\land Q(x)] \\land \\neg[\\forall x, R(x)] \\land \\neg[\\exists x, P(x) \\land R(x)] \\land \\neg[\\exists x, Q(x) \\land R(x)]$"
            ],
            "text/plain": [
              "<IPython.core.display.HTML object>"
            ]
          },
          "metadata": {
            "tags": []
          }
        },
        {
          "output_type": "display_data",
          "data": {
            "text/html": [
              "Pruning:  [$\\forall x, P(x) \\lor Q(x) \\lor R(x)$, $\\forall x, P(x) \\land Q(x)$, $\\forall x, P(x) \\land R(x)$, $\\forall x, Q(x) \\land R(x)$, $\\forall x, P(x)$, $\\forall x, R(x)$, $\\exists x, P(x) \\land R(x)$, $\\exists x, P(x)$, $\\exists x, Q(x)$, $\\exists x, R(x)$] Meaning:  $(\\forall x, P(x) \\lor Q(x) \\lor R(x)) \\land (\\exists x, Q(x)) \\land \\neg[\\forall x, P(x) \\land Q(x)] \\land \\neg[\\forall x, Q(x) \\land R(x)] \\land \\neg[\\exists x, P(x) \\land R(x)]$"
            ],
            "text/plain": [
              "<IPython.core.display.HTML object>"
            ]
          },
          "metadata": {
            "tags": []
          }
        },
        {
          "output_type": "display_data",
          "data": {
            "text/html": [
              "Pruning:  [$\\forall x, P(x) \\lor Q(x) \\lor R(x)$, $\\forall x, P(x) \\land Q(x)$, $\\forall x, P(x) \\land R(x)$, $\\forall x, Q(x) \\land R(x)$, $\\forall x, P(x)$, $\\exists x, P(x) \\land Q(x)$, $\\exists x, P(x) \\land R(x)$, $\\exists x, Q(x) \\land R(x)$, $\\exists x, Q(x)$, $\\exists x, R(x)$] Meaning:  $(\\forall x, P(x) \\lor Q(x) \\lor R(x)) \\land \\neg[\\exists x, P(x) \\land Q(x)] \\land \\neg[\\exists x, P(x) \\land R(x)] \\land \\neg[\\exists x, Q(x) \\land R(x)]$"
            ],
            "text/plain": [
              "<IPython.core.display.HTML object>"
            ]
          },
          "metadata": {
            "tags": []
          }
        },
        {
          "output_type": "display_data",
          "data": {
            "text/html": [
              "Pruning:  [$\\forall x, P(x) \\lor Q(x) \\lor R(x)$, $\\forall x, P(x) \\land Q(x)$, $\\forall x, P(x) \\land R(x)$, $\\forall x, Q(x) \\land R(x)$, $\\forall x, Q(x)$, $\\forall x, R(x)$, $\\exists x, P(x) \\land Q(x)$, $\\exists x, Q(x) \\land R(x)$, $\\exists x, P(x)$, $\\exists x, Q(x)$] Meaning:  $(\\forall x, P(x) \\lor Q(x) \\lor R(x)) \\land (\\exists x, P(x)) \\land \\neg[\\forall x, P(x) \\land R(x)] \\land \\neg[\\forall x, Q(x)] \\land \\neg[\\exists x, P(x) \\land Q(x)] \\land \\neg[\\exists x, Q(x) \\land R(x)]$"
            ],
            "text/plain": [
              "<IPython.core.display.HTML object>"
            ]
          },
          "metadata": {
            "tags": []
          }
        },
        {
          "output_type": "display_data",
          "data": {
            "text/html": [
              "Pruning:  [$\\forall x, P(x) \\lor Q(x) \\lor R(x)$, $\\forall x, P(x) \\land Q(x)$, $\\forall x, P(x) \\land R(x)$, $\\forall x, Q(x) \\land R(x)$, $\\forall x, Q(x)$, $\\forall x, R(x)$, $\\exists x, P(x) \\land Q(x)$, $\\exists x, Q(x) \\land R(x)$, $\\exists x, P(x)$, $\\exists x, R(x)$] Meaning:  $(\\forall x, P(x) \\lor Q(x) \\lor R(x)) \\land \\neg[\\forall x, R(x)] \\land \\neg[\\exists x, P(x) \\land Q(x)] \\land \\neg[\\exists x, Q(x) \\land R(x)]$"
            ],
            "text/plain": [
              "<IPython.core.display.HTML object>"
            ]
          },
          "metadata": {
            "tags": []
          }
        },
        {
          "output_type": "display_data",
          "data": {
            "text/html": [
              "Pruning:  [$\\forall x, P(x) \\lor Q(x) \\lor R(x)$, $\\forall x, P(x) \\land Q(x)$, $\\forall x, P(x) \\land R(x)$, $\\forall x, Q(x) \\land R(x)$, $\\forall x, Q(x)$, $\\forall x, R(x)$, $\\exists x, P(x) \\land R(x)$, $\\exists x, Q(x) \\land R(x)$, $\\exists x, P(x)$, $\\exists x, Q(x)$] Meaning:  $(\\forall x, P(x) \\lor Q(x) \\lor R(x)) \\land \\neg[\\forall x, Q(x)] \\land \\neg[\\exists x, P(x) \\land R(x)] \\land \\neg[\\exists x, Q(x) \\land R(x)]$"
            ],
            "text/plain": [
              "<IPython.core.display.HTML object>"
            ]
          },
          "metadata": {
            "tags": []
          }
        },
        {
          "output_type": "display_data",
          "data": {
            "text/html": [
              "Pruning:  [$\\forall x, P(x) \\lor Q(x) \\lor R(x)$, $\\forall x, P(x) \\land Q(x)$, $\\forall x, P(x) \\land R(x)$, $\\forall x, Q(x) \\land R(x)$, $\\forall x, Q(x)$, $\\forall x, R(x)$, $\\exists x, P(x) \\land R(x)$, $\\exists x, Q(x) \\land R(x)$, $\\exists x, P(x)$, $\\exists x, R(x)$] Meaning:  $(\\forall x, P(x) \\lor Q(x) \\lor R(x)) \\land (\\exists x, P(x)) \\land \\neg[\\forall x, P(x) \\land Q(x)] \\land \\neg[\\forall x, R(x)] \\land \\neg[\\exists x, P(x) \\land R(x)] \\land \\neg[\\exists x, Q(x) \\land R(x)]$"
            ],
            "text/plain": [
              "<IPython.core.display.HTML object>"
            ]
          },
          "metadata": {
            "tags": []
          }
        },
        {
          "output_type": "display_data",
          "data": {
            "text/html": [
              "Pruning:  [$\\forall x, P(x) \\lor Q(x) \\lor R(x)$, $\\forall x, P(x) \\land Q(x)$, $\\forall x, P(x) \\land R(x)$, $\\forall x, Q(x) \\land R(x)$, $\\forall x, Q(x)$, $\\forall x, R(x)$, $\\exists x, Q(x) \\land R(x)$, $\\exists x, P(x)$, $\\exists x, Q(x)$, $\\exists x, R(x)$] Meaning:  $(\\forall x, P(x) \\lor Q(x) \\lor R(x)) \\land (\\exists x, P(x)) \\land \\neg[\\forall x, P(x) \\land Q(x)] \\land \\neg[\\forall x, P(x) \\land R(x)] \\land \\neg[\\exists x, Q(x) \\land R(x)]$"
            ],
            "text/plain": [
              "<IPython.core.display.HTML object>"
            ]
          },
          "metadata": {
            "tags": []
          }
        },
        {
          "output_type": "display_data",
          "data": {
            "text/html": [
              "Pruning:  [$\\forall x, P(x) \\lor Q(x) \\lor R(x)$, $\\forall x, P(x) \\land Q(x)$, $\\forall x, P(x) \\land R(x)$, $\\forall x, Q(x) \\land R(x)$, $\\forall x, Q(x)$, $\\exists x, P(x) \\land Q(x)$, $\\exists x, P(x) \\land R(x)$, $\\exists x, Q(x) \\land R(x)$, $\\exists x, P(x)$, $\\exists x, R(x)$] Meaning:  $(\\forall x, P(x) \\lor Q(x) \\lor R(x)) \\land \\neg[\\exists x, P(x) \\land Q(x)] \\land \\neg[\\exists x, P(x) \\land R(x)] \\land \\neg[\\exists x, Q(x) \\land R(x)]$"
            ],
            "text/plain": [
              "<IPython.core.display.HTML object>"
            ]
          },
          "metadata": {
            "tags": []
          }
        },
        {
          "output_type": "display_data",
          "data": {
            "text/html": [
              "Pruning:  [$\\forall x, P(x) \\lor Q(x) \\lor R(x)$, $\\forall x, P(x) \\land Q(x)$, $\\forall x, P(x) \\land R(x)$, $\\forall x, Q(x) \\land R(x)$, $\\forall x, R(x)$, $\\exists x, P(x) \\land Q(x)$, $\\exists x, P(x) \\land R(x)$, $\\exists x, Q(x) \\land R(x)$, $\\exists x, P(x)$, $\\exists x, Q(x)$] Meaning:  $(\\forall x, P(x) \\lor Q(x) \\lor R(x)) \\land \\neg[\\exists x, P(x) \\land Q(x)] \\land \\neg[\\exists x, P(x) \\land R(x)] \\land \\neg[\\exists x, Q(x) \\land R(x)]$"
            ],
            "text/plain": [
              "<IPython.core.display.HTML object>"
            ]
          },
          "metadata": {
            "tags": []
          }
        },
        {
          "output_type": "display_data",
          "data": {
            "text/html": [
              "Pruning:  [$\\forall x, P(x) \\lor Q(x) \\lor R(x)$, $\\forall x, P(x) \\land Q(x)$, $\\forall x, P(x) \\land R(x)$, $\\forall x, P(x)$, $\\forall x, Q(x)$, $\\forall x, R(x)$, $\\exists x, P(x) \\land Q(x)$, $\\exists x, P(x)$, $\\exists x, Q(x)$, $\\exists x, R(x)$] Meaning:  $(\\forall x, P(x) \\lor Q(x) \\lor R(x)) \\land (\\exists x, R(x)) \\land \\neg[\\forall x, P(x) \\land R(x)] \\land \\neg[\\exists x, P(x) \\land Q(x)]$"
            ],
            "text/plain": [
              "<IPython.core.display.HTML object>"
            ]
          },
          "metadata": {
            "tags": []
          }
        },
        {
          "output_type": "display_data",
          "data": {
            "text/html": [
              "Pruning:  [$\\forall x, P(x) \\lor Q(x) \\lor R(x)$, $\\forall x, P(x) \\land Q(x)$, $\\forall x, P(x) \\land R(x)$, $\\forall x, P(x)$, $\\forall x, Q(x)$, $\\forall x, R(x)$, $\\exists x, P(x) \\land R(x)$, $\\exists x, P(x)$, $\\exists x, Q(x)$, $\\exists x, R(x)$] Meaning:  $(\\forall x, P(x) \\lor Q(x) \\lor R(x)) \\land (\\exists x, Q(x)) \\land \\neg[\\forall x, P(x) \\land Q(x)] \\land \\neg[\\exists x, P(x) \\land R(x)]$"
            ],
            "text/plain": [
              "<IPython.core.display.HTML object>"
            ]
          },
          "metadata": {
            "tags": []
          }
        },
        {
          "output_type": "display_data",
          "data": {
            "text/html": [
              "Pruning:  [$\\forall x, P(x) \\lor Q(x) \\lor R(x)$, $\\forall x, P(x) \\land Q(x)$, $\\forall x, P(x) \\land R(x)$, $\\forall x, P(x)$, $\\forall x, Q(x)$, $\\exists x, P(x) \\land Q(x)$, $\\exists x, P(x) \\land R(x)$, $\\exists x, P(x)$, $\\exists x, Q(x)$, $\\exists x, R(x)$] Meaning:  $(\\forall x, P(x) \\lor Q(x) \\lor R(x)) \\land \\neg[\\exists x, P(x) \\land Q(x)] \\land \\neg[\\exists x, P(x) \\land R(x)]$"
            ],
            "text/plain": [
              "<IPython.core.display.HTML object>"
            ]
          },
          "metadata": {
            "tags": []
          }
        },
        {
          "output_type": "display_data",
          "data": {
            "text/html": [
              "Pruning:  [$\\forall x, P(x) \\lor Q(x) \\lor R(x)$, $\\forall x, P(x) \\land Q(x)$, $\\forall x, P(x) \\land R(x)$, $\\forall x, P(x)$, $\\forall x, R(x)$, $\\exists x, P(x) \\land Q(x)$, $\\exists x, P(x) \\land R(x)$, $\\exists x, P(x)$, $\\exists x, Q(x)$, $\\exists x, R(x)$] Meaning:  $(\\forall x, P(x) \\lor Q(x) \\lor R(x)) \\land \\neg[\\exists x, P(x) \\land Q(x)] \\land \\neg[\\exists x, P(x) \\land R(x)]$"
            ],
            "text/plain": [
              "<IPython.core.display.HTML object>"
            ]
          },
          "metadata": {
            "tags": []
          }
        },
        {
          "output_type": "display_data",
          "data": {
            "text/html": [
              "Pruning:  [$\\forall x, P(x) \\lor Q(x) \\lor R(x)$, $\\forall x, P(x) \\land Q(x)$, $\\forall x, Q(x) \\land R(x)$, $\\forall x, P(x)$, $\\forall x, Q(x)$, $\\forall x, R(x)$, $\\exists x, P(x) \\land Q(x)$, $\\exists x, P(x)$, $\\exists x, Q(x)$, $\\exists x, R(x)$] Meaning:  $(\\forall x, P(x) \\lor Q(x) \\lor R(x)) \\land (\\exists x, R(x)) \\land \\neg[\\forall x, Q(x) \\land R(x)] \\land \\neg[\\exists x, P(x) \\land Q(x)]$"
            ],
            "text/plain": [
              "<IPython.core.display.HTML object>"
            ]
          },
          "metadata": {
            "tags": []
          }
        },
        {
          "output_type": "display_data",
          "data": {
            "text/html": [
              "Pruning:  [$\\forall x, P(x) \\lor Q(x) \\lor R(x)$, $\\forall x, P(x) \\land Q(x)$, $\\forall x, Q(x) \\land R(x)$, $\\forall x, P(x)$, $\\forall x, Q(x)$, $\\forall x, R(x)$, $\\exists x, Q(x) \\land R(x)$, $\\exists x, P(x)$, $\\exists x, Q(x)$, $\\exists x, R(x)$] Meaning:  $(\\forall x, P(x) \\lor Q(x) \\lor R(x)) \\land (\\exists x, P(x)) \\land \\neg[\\forall x, P(x) \\land Q(x)] \\land \\neg[\\exists x, Q(x) \\land R(x)]$"
            ],
            "text/plain": [
              "<IPython.core.display.HTML object>"
            ]
          },
          "metadata": {
            "tags": []
          }
        },
        {
          "output_type": "display_data",
          "data": {
            "text/html": [
              "Pruning:  [$\\forall x, P(x) \\lor Q(x) \\lor R(x)$, $\\forall x, P(x) \\land Q(x)$, $\\forall x, Q(x) \\land R(x)$, $\\forall x, P(x)$, $\\forall x, Q(x)$, $\\exists x, P(x) \\land Q(x)$, $\\exists x, Q(x) \\land R(x)$, $\\exists x, P(x)$, $\\exists x, Q(x)$, $\\exists x, R(x)$] Meaning:  $(\\forall x, P(x) \\lor Q(x) \\lor R(x)) \\land \\neg[\\exists x, P(x) \\land Q(x)] \\land \\neg[\\exists x, Q(x) \\land R(x)]$"
            ],
            "text/plain": [
              "<IPython.core.display.HTML object>"
            ]
          },
          "metadata": {
            "tags": []
          }
        },
        {
          "output_type": "display_data",
          "data": {
            "text/html": [
              "Pruning:  [$\\forall x, P(x) \\lor Q(x) \\lor R(x)$, $\\forall x, P(x) \\land Q(x)$, $\\forall x, Q(x) \\land R(x)$, $\\forall x, Q(x)$, $\\forall x, R(x)$, $\\exists x, P(x) \\land Q(x)$, $\\exists x, Q(x) \\land R(x)$, $\\exists x, P(x)$, $\\exists x, Q(x)$, $\\exists x, R(x)$] Meaning:  $(\\forall x, P(x) \\lor Q(x) \\lor R(x)) \\land \\neg[\\exists x, P(x) \\land Q(x)] \\land \\neg[\\exists x, Q(x) \\land R(x)]$"
            ],
            "text/plain": [
              "<IPython.core.display.HTML object>"
            ]
          },
          "metadata": {
            "tags": []
          }
        },
        {
          "output_type": "display_data",
          "data": {
            "text/html": [
              "Pruning:  [$\\forall x, P(x) \\lor Q(x) \\lor R(x)$, $\\forall x, P(x) \\land R(x)$, $\\forall x, Q(x) \\land R(x)$, $\\forall x, P(x)$, $\\forall x, Q(x)$, $\\forall x, R(x)$, $\\exists x, P(x) \\land R(x)$, $\\exists x, P(x)$, $\\exists x, Q(x)$, $\\exists x, R(x)$] Meaning:  $(\\forall x, P(x) \\lor Q(x) \\lor R(x)) \\land (\\exists x, Q(x)) \\land \\neg[\\forall x, Q(x) \\land R(x)] \\land \\neg[\\exists x, P(x) \\land R(x)]$"
            ],
            "text/plain": [
              "<IPython.core.display.HTML object>"
            ]
          },
          "metadata": {
            "tags": []
          }
        },
        {
          "output_type": "display_data",
          "data": {
            "text/html": [
              "Pruning:  [$\\forall x, P(x) \\lor Q(x) \\lor R(x)$, $\\forall x, P(x) \\land R(x)$, $\\forall x, Q(x) \\land R(x)$, $\\forall x, P(x)$, $\\forall x, Q(x)$, $\\forall x, R(x)$, $\\exists x, Q(x) \\land R(x)$, $\\exists x, P(x)$, $\\exists x, Q(x)$, $\\exists x, R(x)$] Meaning:  $(\\forall x, P(x) \\lor Q(x) \\lor R(x)) \\land (\\exists x, P(x)) \\land \\neg[\\forall x, P(x) \\land R(x)] \\land \\neg[\\exists x, Q(x) \\land R(x)]$"
            ],
            "text/plain": [
              "<IPython.core.display.HTML object>"
            ]
          },
          "metadata": {
            "tags": []
          }
        },
        {
          "output_type": "display_data",
          "data": {
            "text/html": [
              "Pruning:  [$\\forall x, P(x) \\lor Q(x) \\lor R(x)$, $\\forall x, P(x) \\land R(x)$, $\\forall x, Q(x) \\land R(x)$, $\\forall x, P(x)$, $\\forall x, R(x)$, $\\exists x, P(x) \\land R(x)$, $\\exists x, Q(x) \\land R(x)$, $\\exists x, P(x)$, $\\exists x, Q(x)$, $\\exists x, R(x)$] Meaning:  $(\\forall x, P(x) \\lor Q(x) \\lor R(x)) \\land \\neg[\\exists x, P(x) \\land R(x)] \\land \\neg[\\exists x, Q(x) \\land R(x)]$"
            ],
            "text/plain": [
              "<IPython.core.display.HTML object>"
            ]
          },
          "metadata": {
            "tags": []
          }
        },
        {
          "output_type": "display_data",
          "data": {
            "text/html": [
              "Pruning:  [$\\forall x, P(x) \\lor Q(x) \\lor R(x)$, $\\forall x, P(x) \\land R(x)$, $\\forall x, Q(x) \\land R(x)$, $\\forall x, Q(x)$, $\\forall x, R(x)$, $\\exists x, P(x) \\land R(x)$, $\\exists x, Q(x) \\land R(x)$, $\\exists x, P(x)$, $\\exists x, Q(x)$, $\\exists x, R(x)$] Meaning:  $(\\forall x, P(x) \\lor Q(x) \\lor R(x)) \\land \\neg[\\exists x, P(x) \\land R(x)] \\land \\neg[\\exists x, Q(x) \\land R(x)]$"
            ],
            "text/plain": [
              "<IPython.core.display.HTML object>"
            ]
          },
          "metadata": {
            "tags": []
          }
        },
        {
          "output_type": "display_data",
          "data": {
            "text/html": [
              "Pruning:  [$\\forall x, P(x) \\lor Q(x) \\lor R(x)$, $\\forall x, P(x) \\land Q(x)$, $\\forall x, P(x) \\land R(x)$, $\\forall x, Q(x) \\land R(x)$, $\\forall x, P(x)$, $\\forall x, Q(x)$, $\\forall x, R(x)$, $\\exists x, P(x) \\land Q(x)$, $\\exists x, P(x) \\land R(x)$, $\\exists x, P(x)$, $\\exists x, Q(x)$] Meaning:  $(\\forall x, P(x) \\lor Q(x) \\lor R(x)) \\land (\\exists x, Q(x)) \\land \\neg[\\forall x, P(x)] \\land \\neg[\\forall x, Q(x)] \\land \\neg[\\exists x, P(x) \\land Q(x)] \\land \\neg[\\exists x, P(x) \\land R(x)]$"
            ],
            "text/plain": [
              "<IPython.core.display.HTML object>"
            ]
          },
          "metadata": {
            "tags": []
          }
        },
        {
          "output_type": "display_data",
          "data": {
            "text/html": [
              "Pruning:  [$\\forall x, P(x) \\lor Q(x) \\lor R(x)$, $\\forall x, P(x) \\land Q(x)$, $\\forall x, P(x) \\land R(x)$, $\\forall x, Q(x) \\land R(x)$, $\\forall x, P(x)$, $\\forall x, Q(x)$, $\\forall x, R(x)$, $\\exists x, P(x) \\land Q(x)$, $\\exists x, P(x) \\land R(x)$, $\\exists x, P(x)$, $\\exists x, R(x)$] Meaning:  $(\\forall x, P(x) \\lor Q(x) \\lor R(x)) \\land (\\exists x, R(x)) \\land \\neg[\\forall x, P(x)] \\land \\neg[\\forall x, R(x)] \\land \\neg[\\exists x, P(x) \\land Q(x)] \\land \\neg[\\exists x, P(x) \\land R(x)]$"
            ],
            "text/plain": [
              "<IPython.core.display.HTML object>"
            ]
          },
          "metadata": {
            "tags": []
          }
        },
        {
          "output_type": "display_data",
          "data": {
            "text/html": [
              "Pruning:  [$\\forall x, P(x) \\lor Q(x) \\lor R(x)$, $\\forall x, P(x) \\land Q(x)$, $\\forall x, P(x) \\land R(x)$, $\\forall x, Q(x) \\land R(x)$, $\\forall x, P(x)$, $\\forall x, Q(x)$, $\\forall x, R(x)$, $\\exists x, P(x) \\land Q(x)$, $\\exists x, P(x) \\land R(x)$, $\\exists x, Q(x)$, $\\exists x, R(x)$] Meaning:  $(\\forall x, P(x) \\lor Q(x) \\lor R(x)) \\land \\neg[\\forall x, Q(x)] \\land \\neg[\\forall x, R(x)] \\land \\neg[\\exists x, P(x) \\land Q(x)] \\land \\neg[\\exists x, P(x) \\land R(x)]$"
            ],
            "text/plain": [
              "<IPython.core.display.HTML object>"
            ]
          },
          "metadata": {
            "tags": []
          }
        },
        {
          "output_type": "display_data",
          "data": {
            "text/html": [
              "Pruning:  [$\\forall x, P(x) \\lor Q(x) \\lor R(x)$, $\\forall x, P(x) \\land Q(x)$, $\\forall x, P(x) \\land R(x)$, $\\forall x, Q(x) \\land R(x)$, $\\forall x, P(x)$, $\\forall x, Q(x)$, $\\forall x, R(x)$, $\\exists x, P(x) \\land Q(x)$, $\\exists x, Q(x) \\land R(x)$, $\\exists x, P(x)$, $\\exists x, Q(x)$] Meaning:  $(\\forall x, P(x) \\lor Q(x) \\lor R(x)) \\land (\\exists x, P(x)) \\land \\neg[\\forall x, P(x)] \\land \\neg[\\forall x, Q(x)] \\land \\neg[\\exists x, P(x) \\land Q(x)] \\land \\neg[\\exists x, Q(x) \\land R(x)]$"
            ],
            "text/plain": [
              "<IPython.core.display.HTML object>"
            ]
          },
          "metadata": {
            "tags": []
          }
        },
        {
          "output_type": "display_data",
          "data": {
            "text/html": [
              "Pruning:  [$\\forall x, P(x) \\lor Q(x) \\lor R(x)$, $\\forall x, P(x) \\land Q(x)$, $\\forall x, P(x) \\land R(x)$, $\\forall x, Q(x) \\land R(x)$, $\\forall x, P(x)$, $\\forall x, Q(x)$, $\\forall x, R(x)$, $\\exists x, P(x) \\land Q(x)$, $\\exists x, Q(x) \\land R(x)$, $\\exists x, P(x)$, $\\exists x, R(x)$] Meaning:  $(\\forall x, P(x) \\lor Q(x) \\lor R(x)) \\land \\neg[\\forall x, P(x)] \\land \\neg[\\forall x, R(x)] \\land \\neg[\\exists x, P(x) \\land Q(x)] \\land \\neg[\\exists x, Q(x) \\land R(x)]$"
            ],
            "text/plain": [
              "<IPython.core.display.HTML object>"
            ]
          },
          "metadata": {
            "tags": []
          }
        },
        {
          "output_type": "display_data",
          "data": {
            "text/html": [
              "Pruning:  [$\\forall x, P(x) \\lor Q(x) \\lor R(x)$, $\\forall x, P(x) \\land Q(x)$, $\\forall x, P(x) \\land R(x)$, $\\forall x, Q(x) \\land R(x)$, $\\forall x, P(x)$, $\\forall x, Q(x)$, $\\forall x, R(x)$, $\\exists x, P(x) \\land Q(x)$, $\\exists x, Q(x) \\land R(x)$, $\\exists x, Q(x)$, $\\exists x, R(x)$] Meaning:  $(\\forall x, P(x) \\lor Q(x) \\lor R(x)) \\land (\\exists x, R(x)) \\land \\neg[\\forall x, Q(x)] \\land \\neg[\\forall x, R(x)] \\land \\neg[\\exists x, P(x) \\land Q(x)] \\land \\neg[\\exists x, Q(x) \\land R(x)]$"
            ],
            "text/plain": [
              "<IPython.core.display.HTML object>"
            ]
          },
          "metadata": {
            "tags": []
          }
        },
        {
          "output_type": "display_data",
          "data": {
            "text/html": [
              "Pruning:  [$\\forall x, P(x) \\lor Q(x) \\lor R(x)$, $\\forall x, P(x) \\land Q(x)$, $\\forall x, P(x) \\land R(x)$, $\\forall x, Q(x) \\land R(x)$, $\\forall x, P(x)$, $\\forall x, Q(x)$, $\\forall x, R(x)$, $\\exists x, P(x) \\land Q(x)$, $\\exists x, P(x)$, $\\exists x, Q(x)$, $\\exists x, R(x)$] Meaning:  $(\\forall x, P(x) \\lor Q(x) \\lor R(x)) \\land (\\exists x, R(x)) \\land \\neg[\\forall x, P(x) \\land R(x)] \\land \\neg[\\forall x, Q(x) \\land R(x)] \\land \\neg[\\exists x, P(x) \\land Q(x)]$"
            ],
            "text/plain": [
              "<IPython.core.display.HTML object>"
            ]
          },
          "metadata": {
            "tags": []
          }
        },
        {
          "output_type": "display_data",
          "data": {
            "text/html": [
              "Pruning:  [$\\forall x, P(x) \\lor Q(x) \\lor R(x)$, $\\forall x, P(x) \\land Q(x)$, $\\forall x, P(x) \\land R(x)$, $\\forall x, Q(x) \\land R(x)$, $\\forall x, P(x)$, $\\forall x, Q(x)$, $\\forall x, R(x)$, $\\exists x, P(x) \\land R(x)$, $\\exists x, Q(x) \\land R(x)$, $\\exists x, P(x)$, $\\exists x, Q(x)$] Meaning:  $(\\forall x, P(x) \\lor Q(x) \\lor R(x)) \\land \\neg[\\forall x, P(x)] \\land \\neg[\\forall x, Q(x)] \\land \\neg[\\exists x, P(x) \\land R(x)] \\land \\neg[\\exists x, Q(x) \\land R(x)]$"
            ],
            "text/plain": [
              "<IPython.core.display.HTML object>"
            ]
          },
          "metadata": {
            "tags": []
          }
        },
        {
          "output_type": "display_data",
          "data": {
            "text/html": [
              "Pruning:  [$\\forall x, P(x) \\lor Q(x) \\lor R(x)$, $\\forall x, P(x) \\land Q(x)$, $\\forall x, P(x) \\land R(x)$, $\\forall x, Q(x) \\land R(x)$, $\\forall x, P(x)$, $\\forall x, Q(x)$, $\\forall x, R(x)$, $\\exists x, P(x) \\land R(x)$, $\\exists x, Q(x) \\land R(x)$, $\\exists x, P(x)$, $\\exists x, R(x)$] Meaning:  $(\\forall x, P(x) \\lor Q(x) \\lor R(x)) \\land (\\exists x, P(x)) \\land \\neg[\\forall x, P(x)] \\land \\neg[\\forall x, R(x)] \\land \\neg[\\exists x, P(x) \\land R(x)] \\land \\neg[\\exists x, Q(x) \\land R(x)]$"
            ],
            "text/plain": [
              "<IPython.core.display.HTML object>"
            ]
          },
          "metadata": {
            "tags": []
          }
        },
        {
          "output_type": "display_data",
          "data": {
            "text/html": [
              "Pruning:  [$\\forall x, P(x) \\lor Q(x) \\lor R(x)$, $\\forall x, P(x) \\land Q(x)$, $\\forall x, P(x) \\land R(x)$, $\\forall x, Q(x) \\land R(x)$, $\\forall x, P(x)$, $\\forall x, Q(x)$, $\\forall x, R(x)$, $\\exists x, P(x) \\land R(x)$, $\\exists x, Q(x) \\land R(x)$, $\\exists x, Q(x)$, $\\exists x, R(x)$] Meaning:  $(\\forall x, P(x) \\lor Q(x) \\lor R(x)) \\land (\\exists x, Q(x)) \\land \\neg[\\forall x, Q(x)] \\land \\neg[\\forall x, R(x)] \\land \\neg[\\exists x, P(x) \\land R(x)] \\land \\neg[\\exists x, Q(x) \\land R(x)]$"
            ],
            "text/plain": [
              "<IPython.core.display.HTML object>"
            ]
          },
          "metadata": {
            "tags": []
          }
        },
        {
          "output_type": "display_data",
          "data": {
            "text/html": [
              "Pruning:  [$\\forall x, P(x) \\lor Q(x) \\lor R(x)$, $\\forall x, P(x) \\land Q(x)$, $\\forall x, P(x) \\land R(x)$, $\\forall x, Q(x) \\land R(x)$, $\\forall x, P(x)$, $\\forall x, Q(x)$, $\\forall x, R(x)$, $\\exists x, P(x) \\land R(x)$, $\\exists x, P(x)$, $\\exists x, Q(x)$, $\\exists x, R(x)$] Meaning:  $(\\forall x, P(x) \\lor Q(x) \\lor R(x)) \\land (\\exists x, Q(x)) \\land \\neg[\\forall x, P(x) \\land Q(x)] \\land \\neg[\\forall x, Q(x) \\land R(x)] \\land \\neg[\\exists x, P(x) \\land R(x)]$"
            ],
            "text/plain": [
              "<IPython.core.display.HTML object>"
            ]
          },
          "metadata": {
            "tags": []
          }
        },
        {
          "output_type": "display_data",
          "data": {
            "text/html": [
              "Pruning:  [$\\forall x, P(x) \\lor Q(x) \\lor R(x)$, $\\forall x, P(x) \\land Q(x)$, $\\forall x, P(x) \\land R(x)$, $\\forall x, Q(x) \\land R(x)$, $\\forall x, P(x)$, $\\forall x, Q(x)$, $\\forall x, R(x)$, $\\exists x, Q(x) \\land R(x)$, $\\exists x, P(x)$, $\\exists x, Q(x)$, $\\exists x, R(x)$] Meaning:  $(\\forall x, P(x) \\lor Q(x) \\lor R(x)) \\land (\\exists x, P(x)) \\land \\neg[\\forall x, P(x) \\land Q(x)] \\land \\neg[\\forall x, P(x) \\land R(x)] \\land \\neg[\\exists x, Q(x) \\land R(x)]$"
            ],
            "text/plain": [
              "<IPython.core.display.HTML object>"
            ]
          },
          "metadata": {
            "tags": []
          }
        },
        {
          "output_type": "display_data",
          "data": {
            "text/html": [
              "Pruning:  [$\\forall x, P(x) \\lor Q(x) \\lor R(x)$, $\\forall x, P(x) \\land Q(x)$, $\\forall x, P(x) \\land R(x)$, $\\forall x, Q(x) \\land R(x)$, $\\forall x, P(x)$, $\\forall x, Q(x)$, $\\exists x, P(x) \\land Q(x)$, $\\exists x, P(x) \\land R(x)$, $\\exists x, Q(x) \\land R(x)$, $\\exists x, P(x)$, $\\exists x, R(x)$] Meaning:  $(\\forall x, P(x) \\lor Q(x) \\lor R(x)) \\land \\neg[\\forall x, P(x)] \\land \\neg[\\exists x, P(x) \\land Q(x)] \\land \\neg[\\exists x, P(x) \\land R(x)] \\land \\neg[\\exists x, Q(x) \\land R(x)]$"
            ],
            "text/plain": [
              "<IPython.core.display.HTML object>"
            ]
          },
          "metadata": {
            "tags": []
          }
        },
        {
          "output_type": "display_data",
          "data": {
            "text/html": [
              "Pruning:  [$\\forall x, P(x) \\lor Q(x) \\lor R(x)$, $\\forall x, P(x) \\land Q(x)$, $\\forall x, P(x) \\land R(x)$, $\\forall x, Q(x) \\land R(x)$, $\\forall x, P(x)$, $\\forall x, Q(x)$, $\\exists x, P(x) \\land Q(x)$, $\\exists x, P(x) \\land R(x)$, $\\exists x, Q(x) \\land R(x)$, $\\exists x, Q(x)$, $\\exists x, R(x)$] Meaning:  $(\\forall x, P(x) \\lor Q(x) \\lor R(x)) \\land \\neg[\\forall x, Q(x)] \\land \\neg[\\exists x, P(x) \\land Q(x)] \\land \\neg[\\exists x, P(x) \\land R(x)] \\land \\neg[\\exists x, Q(x) \\land R(x)]$"
            ],
            "text/plain": [
              "<IPython.core.display.HTML object>"
            ]
          },
          "metadata": {
            "tags": []
          }
        },
        {
          "output_type": "display_data",
          "data": {
            "text/html": [
              "Pruning:  [$\\forall x, P(x) \\lor Q(x) \\lor R(x)$, $\\forall x, P(x) \\land Q(x)$, $\\forall x, P(x) \\land R(x)$, $\\forall x, Q(x) \\land R(x)$, $\\forall x, P(x)$, $\\forall x, Q(x)$, $\\exists x, P(x) \\land Q(x)$, $\\exists x, P(x) \\land R(x)$, $\\exists x, P(x)$, $\\exists x, Q(x)$, $\\exists x, R(x)$] Meaning:  $(\\forall x, P(x) \\lor Q(x) \\lor R(x)) \\land \\neg[\\forall x, Q(x) \\land R(x)] \\land \\neg[\\exists x, P(x) \\land Q(x)] \\land \\neg[\\exists x, P(x) \\land R(x)]$"
            ],
            "text/plain": [
              "<IPython.core.display.HTML object>"
            ]
          },
          "metadata": {
            "tags": []
          }
        },
        {
          "output_type": "display_data",
          "data": {
            "text/html": [
              "Pruning:  [$\\forall x, P(x) \\lor Q(x) \\lor R(x)$, $\\forall x, P(x) \\land Q(x)$, $\\forall x, P(x) \\land R(x)$, $\\forall x, Q(x) \\land R(x)$, $\\forall x, P(x)$, $\\forall x, Q(x)$, $\\exists x, P(x) \\land Q(x)$, $\\exists x, Q(x) \\land R(x)$, $\\exists x, P(x)$, $\\exists x, Q(x)$, $\\exists x, R(x)$] Meaning:  $(\\forall x, P(x) \\lor Q(x) \\lor R(x)) \\land \\neg[\\forall x, P(x) \\land R(x)] \\land \\neg[\\exists x, P(x) \\land Q(x)] \\land \\neg[\\exists x, Q(x) \\land R(x)]$"
            ],
            "text/plain": [
              "<IPython.core.display.HTML object>"
            ]
          },
          "metadata": {
            "tags": []
          }
        },
        {
          "output_type": "display_data",
          "data": {
            "text/html": [
              "Pruning:  [$\\forall x, P(x) \\lor Q(x) \\lor R(x)$, $\\forall x, P(x) \\land Q(x)$, $\\forall x, P(x) \\land R(x)$, $\\forall x, Q(x) \\land R(x)$, $\\forall x, P(x)$, $\\forall x, R(x)$, $\\exists x, P(x) \\land Q(x)$, $\\exists x, P(x) \\land R(x)$, $\\exists x, Q(x) \\land R(x)$, $\\exists x, P(x)$, $\\exists x, Q(x)$] Meaning:  $(\\forall x, P(x) \\lor Q(x) \\lor R(x)) \\land \\neg[\\forall x, P(x)] \\land \\neg[\\exists x, P(x) \\land Q(x)] \\land \\neg[\\exists x, P(x) \\land R(x)] \\land \\neg[\\exists x, Q(x) \\land R(x)]$"
            ],
            "text/plain": [
              "<IPython.core.display.HTML object>"
            ]
          },
          "metadata": {
            "tags": []
          }
        },
        {
          "output_type": "display_data",
          "data": {
            "text/html": [
              "Pruning:  [$\\forall x, P(x) \\lor Q(x) \\lor R(x)$, $\\forall x, P(x) \\land Q(x)$, $\\forall x, P(x) \\land R(x)$, $\\forall x, Q(x) \\land R(x)$, $\\forall x, P(x)$, $\\forall x, R(x)$, $\\exists x, P(x) \\land Q(x)$, $\\exists x, P(x) \\land R(x)$, $\\exists x, Q(x) \\land R(x)$, $\\exists x, Q(x)$, $\\exists x, R(x)$] Meaning:  $(\\forall x, P(x) \\lor Q(x) \\lor R(x)) \\land \\neg[\\forall x, R(x)] \\land \\neg[\\exists x, P(x) \\land Q(x)] \\land \\neg[\\exists x, P(x) \\land R(x)] \\land \\neg[\\exists x, Q(x) \\land R(x)]$"
            ],
            "text/plain": [
              "<IPython.core.display.HTML object>"
            ]
          },
          "metadata": {
            "tags": []
          }
        },
        {
          "output_type": "display_data",
          "data": {
            "text/html": [
              "Pruning:  [$\\forall x, P(x) \\lor Q(x) \\lor R(x)$, $\\forall x, P(x) \\land Q(x)$, $\\forall x, P(x) \\land R(x)$, $\\forall x, Q(x) \\land R(x)$, $\\forall x, P(x)$, $\\forall x, R(x)$, $\\exists x, P(x) \\land Q(x)$, $\\exists x, P(x) \\land R(x)$, $\\exists x, P(x)$, $\\exists x, Q(x)$, $\\exists x, R(x)$] Meaning:  $(\\forall x, P(x) \\lor Q(x) \\lor R(x)) \\land \\neg[\\forall x, Q(x) \\land R(x)] \\land \\neg[\\exists x, P(x) \\land Q(x)] \\land \\neg[\\exists x, P(x) \\land R(x)]$"
            ],
            "text/plain": [
              "<IPython.core.display.HTML object>"
            ]
          },
          "metadata": {
            "tags": []
          }
        },
        {
          "output_type": "display_data",
          "data": {
            "text/html": [
              "Pruning:  [$\\forall x, P(x) \\lor Q(x) \\lor R(x)$, $\\forall x, P(x) \\land Q(x)$, $\\forall x, P(x) \\land R(x)$, $\\forall x, Q(x) \\land R(x)$, $\\forall x, P(x)$, $\\forall x, R(x)$, $\\exists x, P(x) \\land R(x)$, $\\exists x, Q(x) \\land R(x)$, $\\exists x, P(x)$, $\\exists x, Q(x)$, $\\exists x, R(x)$] Meaning:  $(\\forall x, P(x) \\lor Q(x) \\lor R(x)) \\land \\neg[\\forall x, P(x) \\land Q(x)] \\land \\neg[\\exists x, P(x) \\land R(x)] \\land \\neg[\\exists x, Q(x) \\land R(x)]$"
            ],
            "text/plain": [
              "<IPython.core.display.HTML object>"
            ]
          },
          "metadata": {
            "tags": []
          }
        },
        {
          "output_type": "display_data",
          "data": {
            "text/html": [
              "Pruning:  [$\\forall x, P(x) \\lor Q(x) \\lor R(x)$, $\\forall x, P(x) \\land Q(x)$, $\\forall x, P(x) \\land R(x)$, $\\forall x, Q(x) \\land R(x)$, $\\forall x, Q(x)$, $\\forall x, R(x)$, $\\exists x, P(x) \\land Q(x)$, $\\exists x, P(x) \\land R(x)$, $\\exists x, Q(x) \\land R(x)$, $\\exists x, P(x)$, $\\exists x, Q(x)$] Meaning:  $(\\forall x, P(x) \\lor Q(x) \\lor R(x)) \\land \\neg[\\forall x, Q(x)] \\land \\neg[\\exists x, P(x) \\land Q(x)] \\land \\neg[\\exists x, P(x) \\land R(x)] \\land \\neg[\\exists x, Q(x) \\land R(x)]$"
            ],
            "text/plain": [
              "<IPython.core.display.HTML object>"
            ]
          },
          "metadata": {
            "tags": []
          }
        },
        {
          "output_type": "display_data",
          "data": {
            "text/html": [
              "Pruning:  [$\\forall x, P(x) \\lor Q(x) \\lor R(x)$, $\\forall x, P(x) \\land Q(x)$, $\\forall x, P(x) \\land R(x)$, $\\forall x, Q(x) \\land R(x)$, $\\forall x, Q(x)$, $\\forall x, R(x)$, $\\exists x, P(x) \\land Q(x)$, $\\exists x, P(x) \\land R(x)$, $\\exists x, Q(x) \\land R(x)$, $\\exists x, P(x)$, $\\exists x, R(x)$] Meaning:  $(\\forall x, P(x) \\lor Q(x) \\lor R(x)) \\land \\neg[\\forall x, R(x)] \\land \\neg[\\exists x, P(x) \\land Q(x)] \\land \\neg[\\exists x, P(x) \\land R(x)] \\land \\neg[\\exists x, Q(x) \\land R(x)]$"
            ],
            "text/plain": [
              "<IPython.core.display.HTML object>"
            ]
          },
          "metadata": {
            "tags": []
          }
        },
        {
          "output_type": "display_data",
          "data": {
            "text/html": [
              "Pruning:  [$\\forall x, P(x) \\lor Q(x) \\lor R(x)$, $\\forall x, P(x) \\land Q(x)$, $\\forall x, P(x) \\land R(x)$, $\\forall x, Q(x) \\land R(x)$, $\\forall x, Q(x)$, $\\forall x, R(x)$, $\\exists x, P(x) \\land Q(x)$, $\\exists x, Q(x) \\land R(x)$, $\\exists x, P(x)$, $\\exists x, Q(x)$, $\\exists x, R(x)$] Meaning:  $(\\forall x, P(x) \\lor Q(x) \\lor R(x)) \\land \\neg[\\forall x, P(x) \\land R(x)] \\land \\neg[\\exists x, P(x) \\land Q(x)] \\land \\neg[\\exists x, Q(x) \\land R(x)]$"
            ],
            "text/plain": [
              "<IPython.core.display.HTML object>"
            ]
          },
          "metadata": {
            "tags": []
          }
        },
        {
          "output_type": "display_data",
          "data": {
            "text/html": [
              "Pruning:  [$\\forall x, P(x) \\lor Q(x) \\lor R(x)$, $\\forall x, P(x) \\land Q(x)$, $\\forall x, P(x) \\land R(x)$, $\\forall x, Q(x) \\land R(x)$, $\\forall x, Q(x)$, $\\forall x, R(x)$, $\\exists x, P(x) \\land R(x)$, $\\exists x, Q(x) \\land R(x)$, $\\exists x, P(x)$, $\\exists x, Q(x)$, $\\exists x, R(x)$] Meaning:  $(\\forall x, P(x) \\lor Q(x) \\lor R(x)) \\land \\neg[\\forall x, P(x) \\land Q(x)] \\land \\neg[\\exists x, P(x) \\land R(x)] \\land \\neg[\\exists x, Q(x) \\land R(x)]$"
            ],
            "text/plain": [
              "<IPython.core.display.HTML object>"
            ]
          },
          "metadata": {
            "tags": []
          }
        },
        {
          "output_type": "display_data",
          "data": {
            "text/html": [
              "Pruning:  [$\\forall x, P(x) \\lor Q(x) \\lor R(x)$, $\\forall x, P(x) \\land Q(x)$, $\\forall x, P(x) \\land R(x)$, $\\forall x, P(x)$, $\\forall x, Q(x)$, $\\forall x, R(x)$, $\\exists x, P(x) \\land Q(x)$, $\\exists x, P(x) \\land R(x)$, $\\exists x, P(x)$, $\\exists x, Q(x)$, $\\exists x, R(x)$] Meaning:  $(\\forall x, P(x) \\lor Q(x) \\lor R(x)) \\land \\neg[\\exists x, P(x) \\land Q(x)] \\land \\neg[\\exists x, P(x) \\land R(x)]$"
            ],
            "text/plain": [
              "<IPython.core.display.HTML object>"
            ]
          },
          "metadata": {
            "tags": []
          }
        },
        {
          "output_type": "display_data",
          "data": {
            "text/html": [
              "Pruning:  [$\\forall x, P(x) \\lor Q(x) \\lor R(x)$, $\\forall x, P(x) \\land Q(x)$, $\\forall x, Q(x) \\land R(x)$, $\\forall x, P(x)$, $\\forall x, Q(x)$, $\\forall x, R(x)$, $\\exists x, P(x) \\land Q(x)$, $\\exists x, Q(x) \\land R(x)$, $\\exists x, P(x)$, $\\exists x, Q(x)$, $\\exists x, R(x)$] Meaning:  $(\\forall x, P(x) \\lor Q(x) \\lor R(x)) \\land \\neg[\\exists x, P(x) \\land Q(x)] \\land \\neg[\\exists x, Q(x) \\land R(x)]$"
            ],
            "text/plain": [
              "<IPython.core.display.HTML object>"
            ]
          },
          "metadata": {
            "tags": []
          }
        },
        {
          "output_type": "display_data",
          "data": {
            "text/html": [
              "Pruning:  [$\\forall x, P(x) \\lor Q(x) \\lor R(x)$, $\\forall x, P(x) \\land R(x)$, $\\forall x, Q(x) \\land R(x)$, $\\forall x, P(x)$, $\\forall x, Q(x)$, $\\forall x, R(x)$, $\\exists x, P(x) \\land R(x)$, $\\exists x, Q(x) \\land R(x)$, $\\exists x, P(x)$, $\\exists x, Q(x)$, $\\exists x, R(x)$] Meaning:  $(\\forall x, P(x) \\lor Q(x) \\lor R(x)) \\land \\neg[\\exists x, P(x) \\land R(x)] \\land \\neg[\\exists x, Q(x) \\land R(x)]$"
            ],
            "text/plain": [
              "<IPython.core.display.HTML object>"
            ]
          },
          "metadata": {
            "tags": []
          }
        },
        {
          "output_type": "display_data",
          "data": {
            "text/html": [
              "Pruning:  [$\\forall x, P(x) \\lor Q(x) \\lor R(x)$, $\\forall x, P(x) \\land Q(x)$, $\\forall x, P(x) \\land R(x)$, $\\forall x, Q(x) \\land R(x)$, $\\forall x, P(x)$, $\\forall x, Q(x)$, $\\forall x, R(x)$, $\\exists x, P(x) \\land Q(x)$, $\\exists x, P(x) \\land R(x)$, $\\exists x, Q(x) \\land R(x)$, $\\exists x, P(x)$, $\\exists x, Q(x)$] Meaning:  $(\\forall x, P(x) \\lor Q(x) \\lor R(x)) \\land \\neg[\\forall x, P(x)] \\land \\neg[\\forall x, Q(x)] \\land \\neg[\\exists x, P(x) \\land Q(x)] \\land \\neg[\\exists x, P(x) \\land R(x)] \\land \\neg[\\exists x, Q(x) \\land R(x)]$"
            ],
            "text/plain": [
              "<IPython.core.display.HTML object>"
            ]
          },
          "metadata": {
            "tags": []
          }
        },
        {
          "output_type": "display_data",
          "data": {
            "text/html": [
              "Pruning:  [$\\forall x, P(x) \\lor Q(x) \\lor R(x)$, $\\forall x, P(x) \\land Q(x)$, $\\forall x, P(x) \\land R(x)$, $\\forall x, Q(x) \\land R(x)$, $\\forall x, P(x)$, $\\forall x, Q(x)$, $\\forall x, R(x)$, $\\exists x, P(x) \\land Q(x)$, $\\exists x, P(x) \\land R(x)$, $\\exists x, Q(x) \\land R(x)$, $\\exists x, P(x)$, $\\exists x, R(x)$] Meaning:  $(\\forall x, P(x) \\lor Q(x) \\lor R(x)) \\land \\neg[\\forall x, P(x)] \\land \\neg[\\forall x, R(x)] \\land \\neg[\\exists x, P(x) \\land Q(x)] \\land \\neg[\\exists x, P(x) \\land R(x)] \\land \\neg[\\exists x, Q(x) \\land R(x)]$"
            ],
            "text/plain": [
              "<IPython.core.display.HTML object>"
            ]
          },
          "metadata": {
            "tags": []
          }
        },
        {
          "output_type": "display_data",
          "data": {
            "text/html": [
              "Pruning:  [$\\forall x, P(x) \\lor Q(x) \\lor R(x)$, $\\forall x, P(x) \\land Q(x)$, $\\forall x, P(x) \\land R(x)$, $\\forall x, Q(x) \\land R(x)$, $\\forall x, P(x)$, $\\forall x, Q(x)$, $\\forall x, R(x)$, $\\exists x, P(x) \\land Q(x)$, $\\exists x, P(x) \\land R(x)$, $\\exists x, Q(x) \\land R(x)$, $\\exists x, Q(x)$, $\\exists x, R(x)$] Meaning:  $(\\forall x, P(x) \\lor Q(x) \\lor R(x)) \\land \\neg[\\forall x, Q(x)] \\land \\neg[\\forall x, R(x)] \\land \\neg[\\exists x, P(x) \\land Q(x)] \\land \\neg[\\exists x, P(x) \\land R(x)] \\land \\neg[\\exists x, Q(x) \\land R(x)]$"
            ],
            "text/plain": [
              "<IPython.core.display.HTML object>"
            ]
          },
          "metadata": {
            "tags": []
          }
        },
        {
          "output_type": "display_data",
          "data": {
            "text/html": [
              "Pruning:  [$\\forall x, P(x) \\lor Q(x) \\lor R(x)$, $\\forall x, P(x) \\land Q(x)$, $\\forall x, P(x) \\land R(x)$, $\\forall x, Q(x) \\land R(x)$, $\\forall x, P(x)$, $\\forall x, Q(x)$, $\\forall x, R(x)$, $\\exists x, P(x) \\land Q(x)$, $\\exists x, P(x) \\land R(x)$, $\\exists x, P(x)$, $\\exists x, Q(x)$, $\\exists x, R(x)$] Meaning:  $(\\forall x, P(x) \\lor Q(x) \\lor R(x)) \\land \\neg[\\forall x, Q(x) \\land R(x)] \\land \\neg[\\exists x, P(x) \\land Q(x)] \\land \\neg[\\exists x, P(x) \\land R(x)]$"
            ],
            "text/plain": [
              "<IPython.core.display.HTML object>"
            ]
          },
          "metadata": {
            "tags": []
          }
        },
        {
          "output_type": "display_data",
          "data": {
            "text/html": [
              "Pruning:  [$\\forall x, P(x) \\lor Q(x) \\lor R(x)$, $\\forall x, P(x) \\land Q(x)$, $\\forall x, P(x) \\land R(x)$, $\\forall x, Q(x) \\land R(x)$, $\\forall x, P(x)$, $\\forall x, Q(x)$, $\\forall x, R(x)$, $\\exists x, P(x) \\land Q(x)$, $\\exists x, Q(x) \\land R(x)$, $\\exists x, P(x)$, $\\exists x, Q(x)$, $\\exists x, R(x)$] Meaning:  $(\\forall x, P(x) \\lor Q(x) \\lor R(x)) \\land \\neg[\\forall x, P(x) \\land R(x)] \\land \\neg[\\exists x, P(x) \\land Q(x)] \\land \\neg[\\exists x, Q(x) \\land R(x)]$"
            ],
            "text/plain": [
              "<IPython.core.display.HTML object>"
            ]
          },
          "metadata": {
            "tags": []
          }
        },
        {
          "output_type": "display_data",
          "data": {
            "text/html": [
              "Pruning:  [$\\forall x, P(x) \\lor Q(x) \\lor R(x)$, $\\forall x, P(x) \\land Q(x)$, $\\forall x, P(x) \\land R(x)$, $\\forall x, Q(x) \\land R(x)$, $\\forall x, P(x)$, $\\forall x, Q(x)$, $\\forall x, R(x)$, $\\exists x, P(x) \\land R(x)$, $\\exists x, Q(x) \\land R(x)$, $\\exists x, P(x)$, $\\exists x, Q(x)$, $\\exists x, R(x)$] Meaning:  $(\\forall x, P(x) \\lor Q(x) \\lor R(x)) \\land \\neg[\\forall x, P(x) \\land Q(x)] \\land \\neg[\\exists x, P(x) \\land R(x)] \\land \\neg[\\exists x, Q(x) \\land R(x)]$"
            ],
            "text/plain": [
              "<IPython.core.display.HTML object>"
            ]
          },
          "metadata": {
            "tags": []
          }
        },
        {
          "output_type": "display_data",
          "data": {
            "text/html": [
              "Pruning:  [$\\forall x, P(x) \\lor Q(x) \\lor R(x)$, $\\forall x, P(x) \\land Q(x)$, $\\forall x, P(x) \\land R(x)$, $\\forall x, Q(x) \\land R(x)$, $\\forall x, P(x)$, $\\forall x, Q(x)$, $\\exists x, P(x) \\land Q(x)$, $\\exists x, P(x) \\land R(x)$, $\\exists x, Q(x) \\land R(x)$, $\\exists x, P(x)$, $\\exists x, Q(x)$, $\\exists x, R(x)$] Meaning:  $(\\forall x, P(x) \\lor Q(x) \\lor R(x)) \\land \\neg[\\exists x, P(x) \\land Q(x)] \\land \\neg[\\exists x, P(x) \\land R(x)] \\land \\neg[\\exists x, Q(x) \\land R(x)]$"
            ],
            "text/plain": [
              "<IPython.core.display.HTML object>"
            ]
          },
          "metadata": {
            "tags": []
          }
        },
        {
          "output_type": "display_data",
          "data": {
            "text/html": [
              "Pruning:  [$\\forall x, P(x) \\lor Q(x) \\lor R(x)$, $\\forall x, P(x) \\land Q(x)$, $\\forall x, P(x) \\land R(x)$, $\\forall x, Q(x) \\land R(x)$, $\\forall x, P(x)$, $\\forall x, R(x)$, $\\exists x, P(x) \\land Q(x)$, $\\exists x, P(x) \\land R(x)$, $\\exists x, Q(x) \\land R(x)$, $\\exists x, P(x)$, $\\exists x, Q(x)$, $\\exists x, R(x)$] Meaning:  $(\\forall x, P(x) \\lor Q(x) \\lor R(x)) \\land \\neg[\\exists x, P(x) \\land Q(x)] \\land \\neg[\\exists x, P(x) \\land R(x)] \\land \\neg[\\exists x, Q(x) \\land R(x)]$"
            ],
            "text/plain": [
              "<IPython.core.display.HTML object>"
            ]
          },
          "metadata": {
            "tags": []
          }
        },
        {
          "output_type": "display_data",
          "data": {
            "text/html": [
              "Pruning:  [$\\forall x, P(x) \\lor Q(x) \\lor R(x)$, $\\forall x, P(x) \\land Q(x)$, $\\forall x, P(x) \\land R(x)$, $\\forall x, Q(x) \\land R(x)$, $\\forall x, Q(x)$, $\\forall x, R(x)$, $\\exists x, P(x) \\land Q(x)$, $\\exists x, P(x) \\land R(x)$, $\\exists x, Q(x) \\land R(x)$, $\\exists x, P(x)$, $\\exists x, Q(x)$, $\\exists x, R(x)$] Meaning:  $(\\forall x, P(x) \\lor Q(x) \\lor R(x)) \\land \\neg[\\exists x, P(x) \\land Q(x)] \\land \\neg[\\exists x, P(x) \\land R(x)] \\land \\neg[\\exists x, Q(x) \\land R(x)]$"
            ],
            "text/plain": [
              "<IPython.core.display.HTML object>"
            ]
          },
          "metadata": {
            "tags": []
          }
        },
        {
          "output_type": "display_data",
          "data": {
            "text/html": [
              "Pruning:  [$\\forall x, P(x) \\lor Q(x) \\lor R(x)$, $\\forall x, P(x) \\land Q(x)$, $\\forall x, P(x) \\land R(x)$, $\\forall x, Q(x) \\land R(x)$, $\\forall x, P(x)$, $\\forall x, Q(x)$, $\\forall x, R(x)$, $\\exists x, P(x) \\land Q(x)$, $\\exists x, P(x) \\land R(x)$, $\\exists x, Q(x) \\land R(x)$, $\\exists x, P(x)$, $\\exists x, Q(x)$, $\\exists x, R(x)$] Meaning:  $(\\forall x, P(x) \\lor Q(x) \\lor R(x)) \\land \\neg[\\exists x, P(x) \\land Q(x)] \\land \\neg[\\exists x, P(x) \\land R(x)] \\land \\neg[\\exists x, Q(x) \\land R(x)]$"
            ],
            "text/plain": [
              "<IPython.core.display.HTML object>"
            ]
          },
          "metadata": {
            "tags": []
          }
        },
        {
          "output_type": "execute_result",
          "data": {
            "text/plain": [
              "[None,\n",
              " None,\n",
              " None,\n",
              " None,\n",
              " None,\n",
              " None,\n",
              " None,\n",
              " None,\n",
              " None,\n",
              " None,\n",
              " None,\n",
              " None,\n",
              " None,\n",
              " None,\n",
              " None,\n",
              " None,\n",
              " None,\n",
              " None,\n",
              " None,\n",
              " None,\n",
              " None,\n",
              " None,\n",
              " None,\n",
              " None,\n",
              " None,\n",
              " None,\n",
              " None,\n",
              " None,\n",
              " None,\n",
              " None,\n",
              " None,\n",
              " None,\n",
              " None,\n",
              " None,\n",
              " None,\n",
              " None,\n",
              " None,\n",
              " None,\n",
              " None,\n",
              " None,\n",
              " None,\n",
              " None,\n",
              " None,\n",
              " None,\n",
              " None,\n",
              " None,\n",
              " None,\n",
              " None,\n",
              " None,\n",
              " None,\n",
              " None,\n",
              " None,\n",
              " None,\n",
              " None,\n",
              " None,\n",
              " None,\n",
              " None,\n",
              " None,\n",
              " None,\n",
              " None,\n",
              " None,\n",
              " None,\n",
              " None,\n",
              " None,\n",
              " None,\n",
              " None,\n",
              " None,\n",
              " None,\n",
              " None,\n",
              " None,\n",
              " None,\n",
              " None,\n",
              " None,\n",
              " None,\n",
              " None,\n",
              " None,\n",
              " None,\n",
              " None,\n",
              " None,\n",
              " None,\n",
              " None,\n",
              " None,\n",
              " None,\n",
              " None,\n",
              " None,\n",
              " None,\n",
              " None,\n",
              " None,\n",
              " None,\n",
              " None,\n",
              " None,\n",
              " None,\n",
              " None,\n",
              " None,\n",
              " None,\n",
              " None,\n",
              " None,\n",
              " None,\n",
              " None,\n",
              " None,\n",
              " None,\n",
              " None,\n",
              " None,\n",
              " None,\n",
              " None,\n",
              " None,\n",
              " None,\n",
              " None,\n",
              " None,\n",
              " None,\n",
              " None,\n",
              " None,\n",
              " None,\n",
              " None,\n",
              " None,\n",
              " None,\n",
              " None,\n",
              " None,\n",
              " None,\n",
              " None,\n",
              " None,\n",
              " None,\n",
              " None,\n",
              " None,\n",
              " None,\n",
              " None,\n",
              " None,\n",
              " None,\n",
              " None,\n",
              " None,\n",
              " None,\n",
              " None,\n",
              " None,\n",
              " None,\n",
              " None,\n",
              " None,\n",
              " None,\n",
              " None,\n",
              " None,\n",
              " None,\n",
              " None,\n",
              " None,\n",
              " None,\n",
              " None,\n",
              " None,\n",
              " None,\n",
              " None,\n",
              " None,\n",
              " None,\n",
              " None,\n",
              " None,\n",
              " None,\n",
              " None,\n",
              " None,\n",
              " None,\n",
              " None,\n",
              " None,\n",
              " None,\n",
              " None,\n",
              " None,\n",
              " None,\n",
              " None,\n",
              " None,\n",
              " None,\n",
              " None,\n",
              " None,\n",
              " None,\n",
              " None,\n",
              " None,\n",
              " None,\n",
              " None,\n",
              " None,\n",
              " None,\n",
              " None,\n",
              " None,\n",
              " None,\n",
              " None,\n",
              " None,\n",
              " None,\n",
              " None,\n",
              " None,\n",
              " None,\n",
              " None,\n",
              " None,\n",
              " None,\n",
              " None,\n",
              " None,\n",
              " None,\n",
              " None,\n",
              " None,\n",
              " None,\n",
              " None,\n",
              " None,\n",
              " None,\n",
              " None,\n",
              " None,\n",
              " None,\n",
              " None,\n",
              " None,\n",
              " None,\n",
              " None,\n",
              " None,\n",
              " None,\n",
              " None,\n",
              " None,\n",
              " None,\n",
              " None,\n",
              " None,\n",
              " None,\n",
              " None,\n",
              " None,\n",
              " None,\n",
              " None,\n",
              " None,\n",
              " None,\n",
              " None,\n",
              " None,\n",
              " None,\n",
              " None,\n",
              " None,\n",
              " None,\n",
              " None,\n",
              " None,\n",
              " None,\n",
              " None,\n",
              " None,\n",
              " None,\n",
              " None,\n",
              " None,\n",
              " None,\n",
              " None,\n",
              " None,\n",
              " None,\n",
              " None,\n",
              " None,\n",
              " None,\n",
              " None,\n",
              " None,\n",
              " None,\n",
              " None,\n",
              " None,\n",
              " None,\n",
              " None,\n",
              " None,\n",
              " None,\n",
              " None,\n",
              " None,\n",
              " None,\n",
              " None,\n",
              " None,\n",
              " None,\n",
              " None,\n",
              " None,\n",
              " None,\n",
              " None,\n",
              " None,\n",
              " None,\n",
              " None,\n",
              " None,\n",
              " None,\n",
              " None,\n",
              " None,\n",
              " None,\n",
              " None,\n",
              " None,\n",
              " None,\n",
              " None]"
            ]
          },
          "metadata": {
            "tags": []
          },
          "execution_count": 31
        }
      ]
    },
    {
      "cell_type": "code",
      "metadata": {
        "id": "7NKMvYmkLmwC",
        "outputId": "41c76a77-af10-4b7b-bd7b-2958dcd502c1"
      },
      "source": [
        "univ=Universe(fs=universal3_alts)\n",
        "[i for i in pos_prun_nonset3 if univ.entails(Exh(prej_universal3,i),(Ex>P)&(Ex>Q)) and not univ.entails(Exh(prej_universal3,i),~(Ex>(P&Q)))]"
      ],
      "execution_count": null,
      "outputs": [
        {
          "output_type": "execute_result",
          "data": {
            "text/plain": [
              "[[$\\forall x, P(x) \\lor Q(x) \\lor R(x)$,\n",
              "  $\\exists x, P(x)$,\n",
              "  $\\exists x, Q(x)$,\n",
              "  $\\exists x, R(x)$],\n",
              " [$\\forall x, P(x) \\lor Q(x) \\lor R(x)$,\n",
              "  $\\forall x, P(x) \\land Q(x)$,\n",
              "  $\\exists x, P(x)$,\n",
              "  $\\exists x, Q(x)$,\n",
              "  $\\exists x, R(x)$],\n",
              " [$\\forall x, P(x) \\lor Q(x) \\lor R(x)$,\n",
              "  $\\forall x, P(x) \\land R(x)$,\n",
              "  $\\exists x, P(x)$,\n",
              "  $\\exists x, Q(x)$,\n",
              "  $\\exists x, R(x)$],\n",
              " [$\\forall x, P(x) \\lor Q(x) \\lor R(x)$,\n",
              "  $\\forall x, Q(x) \\land R(x)$,\n",
              "  $\\exists x, P(x)$,\n",
              "  $\\exists x, Q(x)$,\n",
              "  $\\exists x, R(x)$],\n",
              " [$\\forall x, P(x) \\lor Q(x) \\lor R(x)$,\n",
              "  $\\forall x, P(x) \\land Q(x)$,\n",
              "  $\\forall x, P(x) \\land R(x)$,\n",
              "  $\\exists x, P(x)$,\n",
              "  $\\exists x, Q(x)$,\n",
              "  $\\exists x, R(x)$],\n",
              " [$\\forall x, P(x) \\lor Q(x) \\lor R(x)$,\n",
              "  $\\forall x, P(x) \\land Q(x)$,\n",
              "  $\\forall x, Q(x) \\land R(x)$,\n",
              "  $\\exists x, P(x)$,\n",
              "  $\\exists x, Q(x)$,\n",
              "  $\\exists x, R(x)$],\n",
              " [$\\forall x, P(x) \\lor Q(x) \\lor R(x)$,\n",
              "  $\\forall x, P(x) \\land R(x)$,\n",
              "  $\\forall x, Q(x) \\land R(x)$,\n",
              "  $\\exists x, P(x)$,\n",
              "  $\\exists x, Q(x)$,\n",
              "  $\\exists x, R(x)$],\n",
              " [$\\forall x, P(x) \\lor Q(x) \\lor R(x)$,\n",
              "  $\\forall x, P(x) \\land Q(x)$,\n",
              "  $\\forall x, P(x) \\land R(x)$,\n",
              "  $\\forall x, Q(x) \\land R(x)$,\n",
              "  $\\exists x, P(x)$,\n",
              "  $\\exists x, Q(x)$,\n",
              "  $\\exists x, R(x)$],\n",
              " [$\\forall x, P(x) \\lor Q(x) \\lor R(x)$,\n",
              "  $\\forall x, P(x) \\land Q(x)$,\n",
              "  $\\forall x, P(x)$,\n",
              "  $\\forall x, Q(x)$,\n",
              "  $\\exists x, P(x)$,\n",
              "  $\\exists x, Q(x)$,\n",
              "  $\\exists x, R(x)$],\n",
              " [$\\forall x, P(x) \\lor Q(x) \\lor R(x)$,\n",
              "  $\\forall x, P(x) \\land R(x)$,\n",
              "  $\\forall x, P(x)$,\n",
              "  $\\forall x, R(x)$,\n",
              "  $\\exists x, P(x)$,\n",
              "  $\\exists x, Q(x)$,\n",
              "  $\\exists x, R(x)$],\n",
              " [$\\forall x, P(x) \\lor Q(x) \\lor R(x)$,\n",
              "  $\\forall x, Q(x) \\land R(x)$,\n",
              "  $\\forall x, Q(x)$,\n",
              "  $\\forall x, R(x)$,\n",
              "  $\\exists x, P(x)$,\n",
              "  $\\exists x, Q(x)$,\n",
              "  $\\exists x, R(x)$],\n",
              " [$\\forall x, P(x) \\lor Q(x) \\lor R(x)$,\n",
              "  $\\forall x, P(x) \\land Q(x)$,\n",
              "  $\\forall x, P(x) \\land R(x)$,\n",
              "  $\\forall x, P(x)$,\n",
              "  $\\forall x, Q(x)$,\n",
              "  $\\exists x, P(x)$,\n",
              "  $\\exists x, Q(x)$,\n",
              "  $\\exists x, R(x)$],\n",
              " [$\\forall x, P(x) \\lor Q(x) \\lor R(x)$,\n",
              "  $\\forall x, P(x) \\land Q(x)$,\n",
              "  $\\forall x, P(x) \\land R(x)$,\n",
              "  $\\forall x, P(x)$,\n",
              "  $\\forall x, R(x)$,\n",
              "  $\\exists x, P(x)$,\n",
              "  $\\exists x, Q(x)$,\n",
              "  $\\exists x, R(x)$],\n",
              " [$\\forall x, P(x) \\lor Q(x) \\lor R(x)$,\n",
              "  $\\forall x, P(x) \\land Q(x)$,\n",
              "  $\\forall x, Q(x) \\land R(x)$,\n",
              "  $\\forall x, P(x)$,\n",
              "  $\\forall x, Q(x)$,\n",
              "  $\\exists x, P(x)$,\n",
              "  $\\exists x, Q(x)$,\n",
              "  $\\exists x, R(x)$],\n",
              " [$\\forall x, P(x) \\lor Q(x) \\lor R(x)$,\n",
              "  $\\forall x, P(x) \\land Q(x)$,\n",
              "  $\\forall x, Q(x) \\land R(x)$,\n",
              "  $\\forall x, Q(x)$,\n",
              "  $\\forall x, R(x)$,\n",
              "  $\\exists x, P(x)$,\n",
              "  $\\exists x, Q(x)$,\n",
              "  $\\exists x, R(x)$],\n",
              " [$\\forall x, P(x) \\lor Q(x) \\lor R(x)$,\n",
              "  $\\forall x, P(x) \\land R(x)$,\n",
              "  $\\forall x, Q(x) \\land R(x)$,\n",
              "  $\\forall x, P(x)$,\n",
              "  $\\forall x, R(x)$,\n",
              "  $\\exists x, P(x)$,\n",
              "  $\\exists x, Q(x)$,\n",
              "  $\\exists x, R(x)$],\n",
              " [$\\forall x, P(x) \\lor Q(x) \\lor R(x)$,\n",
              "  $\\forall x, P(x) \\land R(x)$,\n",
              "  $\\forall x, Q(x) \\land R(x)$,\n",
              "  $\\forall x, Q(x)$,\n",
              "  $\\forall x, R(x)$,\n",
              "  $\\exists x, P(x)$,\n",
              "  $\\exists x, Q(x)$,\n",
              "  $\\exists x, R(x)$],\n",
              " [$\\forall x, P(x) \\lor Q(x) \\lor R(x)$,\n",
              "  $\\forall x, P(x) \\land Q(x)$,\n",
              "  $\\forall x, P(x) \\land R(x)$,\n",
              "  $\\forall x, Q(x) \\land R(x)$,\n",
              "  $\\forall x, P(x)$,\n",
              "  $\\forall x, Q(x)$,\n",
              "  $\\exists x, P(x)$,\n",
              "  $\\exists x, Q(x)$,\n",
              "  $\\exists x, R(x)$],\n",
              " [$\\forall x, P(x) \\lor Q(x) \\lor R(x)$,\n",
              "  $\\forall x, P(x) \\land Q(x)$,\n",
              "  $\\forall x, P(x) \\land R(x)$,\n",
              "  $\\forall x, Q(x) \\land R(x)$,\n",
              "  $\\forall x, P(x)$,\n",
              "  $\\forall x, R(x)$,\n",
              "  $\\exists x, P(x)$,\n",
              "  $\\exists x, Q(x)$,\n",
              "  $\\exists x, R(x)$],\n",
              " [$\\forall x, P(x) \\lor Q(x) \\lor R(x)$,\n",
              "  $\\forall x, P(x) \\land Q(x)$,\n",
              "  $\\forall x, P(x) \\land R(x)$,\n",
              "  $\\forall x, Q(x) \\land R(x)$,\n",
              "  $\\forall x, Q(x)$,\n",
              "  $\\forall x, R(x)$,\n",
              "  $\\exists x, P(x)$,\n",
              "  $\\exists x, Q(x)$,\n",
              "  $\\exists x, R(x)$],\n",
              " [$\\forall x, P(x) \\lor Q(x) \\lor R(x)$,\n",
              "  $\\forall x, P(x) \\land Q(x)$,\n",
              "  $\\forall x, P(x) \\land R(x)$,\n",
              "  $\\forall x, P(x)$,\n",
              "  $\\forall x, Q(x)$,\n",
              "  $\\forall x, R(x)$,\n",
              "  $\\exists x, P(x)$,\n",
              "  $\\exists x, Q(x)$,\n",
              "  $\\exists x, R(x)$],\n",
              " [$\\forall x, P(x) \\lor Q(x) \\lor R(x)$,\n",
              "  $\\forall x, P(x) \\land Q(x)$,\n",
              "  $\\forall x, Q(x) \\land R(x)$,\n",
              "  $\\forall x, P(x)$,\n",
              "  $\\forall x, Q(x)$,\n",
              "  $\\forall x, R(x)$,\n",
              "  $\\exists x, P(x)$,\n",
              "  $\\exists x, Q(x)$,\n",
              "  $\\exists x, R(x)$],\n",
              " [$\\forall x, P(x) \\lor Q(x) \\lor R(x)$,\n",
              "  $\\forall x, P(x) \\land R(x)$,\n",
              "  $\\forall x, Q(x) \\land R(x)$,\n",
              "  $\\forall x, P(x)$,\n",
              "  $\\forall x, Q(x)$,\n",
              "  $\\forall x, R(x)$,\n",
              "  $\\exists x, P(x)$,\n",
              "  $\\exists x, Q(x)$,\n",
              "  $\\exists x, R(x)$],\n",
              " [$\\forall x, P(x) \\lor Q(x) \\lor R(x)$,\n",
              "  $\\forall x, P(x) \\land Q(x)$,\n",
              "  $\\forall x, P(x) \\land R(x)$,\n",
              "  $\\forall x, Q(x) \\land R(x)$,\n",
              "  $\\forall x, P(x)$,\n",
              "  $\\forall x, Q(x)$,\n",
              "  $\\forall x, R(x)$,\n",
              "  $\\exists x, P(x)$,\n",
              "  $\\exists x, Q(x)$,\n",
              "  $\\exists x, R(x)$]]"
            ]
          },
          "metadata": {
            "tags": []
          },
          "execution_count": 17
        }
      ]
    },
    {
      "cell_type": "code",
      "metadata": {
        "id": "NaMt80NALmwD",
        "outputId": "d5e4bde8-7c27-4ec5-b5d0-37261c1de9a2"
      },
      "source": [
        "count=0\n",
        "for i in cells3:\n",
        "    jprint(count, i)\n",
        "    count+=1"
      ],
      "execution_count": null,
      "outputs": [
        {
          "output_type": "display_data",
          "data": {
            "text/html": [
              "0 $\\neg[\\forall x, P(x) \\lor Q(x) \\lor R(x)] \\land \\neg[\\exists x, P(x)] \\land \\neg[\\exists x, Q(x)] \\land \\neg[\\exists x, R(x)]$"
            ],
            "text/plain": [
              "<IPython.core.display.HTML object>"
            ]
          },
          "metadata": {
            "tags": []
          }
        },
        {
          "output_type": "display_data",
          "data": {
            "text/html": [
              "1 $(\\exists x, P(x)) \\land \\neg[\\forall x, P(x) \\lor Q(x) \\lor R(x)] \\land \\neg[\\exists x, Q(x)] \\land \\neg[\\exists x, R(x)]$"
            ],
            "text/plain": [
              "<IPython.core.display.HTML object>"
            ]
          },
          "metadata": {
            "tags": []
          }
        },
        {
          "output_type": "display_data",
          "data": {
            "text/html": [
              "2 $(\\forall x, P(x)) \\land \\neg[\\exists x, Q(x)] \\land \\neg[\\exists x, R(x)]$"
            ],
            "text/plain": [
              "<IPython.core.display.HTML object>"
            ]
          },
          "metadata": {
            "tags": []
          }
        },
        {
          "output_type": "display_data",
          "data": {
            "text/html": [
              "3 $(\\exists x, Q(x)) \\land \\neg[\\forall x, P(x) \\lor Q(x) \\lor R(x)] \\land \\neg[\\exists x, P(x)] \\land \\neg[\\exists x, R(x)]$"
            ],
            "text/plain": [
              "<IPython.core.display.HTML object>"
            ]
          },
          "metadata": {
            "tags": []
          }
        },
        {
          "output_type": "display_data",
          "data": {
            "text/html": [
              "4 $(\\exists x, P(x)) \\land (\\exists x, Q(x)) \\land \\neg[\\forall x, P(x) \\lor Q(x) \\lor R(x)] \\land \\neg[\\exists x, R(x)]$"
            ],
            "text/plain": [
              "<IPython.core.display.HTML object>"
            ]
          },
          "metadata": {
            "tags": []
          }
        },
        {
          "output_type": "display_data",
          "data": {
            "text/html": [
              "5 $(\\forall x, P(x) \\lor Q(x) \\lor R(x)) \\land (\\exists x, P(x)) \\land (\\exists x, Q(x)) \\land \\neg[\\forall x, P(x)] \\land \\neg[\\forall x, Q(x)] \\land \\neg[\\exists x, R(x)]$"
            ],
            "text/plain": [
              "<IPython.core.display.HTML object>"
            ]
          },
          "metadata": {
            "tags": []
          }
        },
        {
          "output_type": "display_data",
          "data": {
            "text/html": [
              "6 $(\\forall x, P(x)) \\land (\\exists x, Q(x)) \\land \\neg[\\forall x, Q(x)] \\land \\neg[\\exists x, R(x)]$"
            ],
            "text/plain": [
              "<IPython.core.display.HTML object>"
            ]
          },
          "metadata": {
            "tags": []
          }
        },
        {
          "output_type": "display_data",
          "data": {
            "text/html": [
              "7 $(\\forall x, Q(x)) \\land \\neg[\\exists x, P(x)] \\land \\neg[\\exists x, R(x)]$"
            ],
            "text/plain": [
              "<IPython.core.display.HTML object>"
            ]
          },
          "metadata": {
            "tags": []
          }
        },
        {
          "output_type": "display_data",
          "data": {
            "text/html": [
              "8 $(\\forall x, Q(x)) \\land (\\exists x, P(x)) \\land \\neg[\\forall x, P(x)] \\land \\neg[\\exists x, R(x)]$"
            ],
            "text/plain": [
              "<IPython.core.display.HTML object>"
            ]
          },
          "metadata": {
            "tags": []
          }
        },
        {
          "output_type": "display_data",
          "data": {
            "text/html": [
              "9 $(\\forall x, P(x) \\land Q(x)) \\land \\neg[\\exists x, R(x)]$"
            ],
            "text/plain": [
              "<IPython.core.display.HTML object>"
            ]
          },
          "metadata": {
            "tags": []
          }
        },
        {
          "output_type": "display_data",
          "data": {
            "text/html": [
              "10 $(\\exists x, R(x)) \\land \\neg[\\forall x, P(x) \\lor Q(x) \\lor R(x)] \\land \\neg[\\exists x, P(x)] \\land \\neg[\\exists x, Q(x)]$"
            ],
            "text/plain": [
              "<IPython.core.display.HTML object>"
            ]
          },
          "metadata": {
            "tags": []
          }
        },
        {
          "output_type": "display_data",
          "data": {
            "text/html": [
              "11 $(\\exists x, P(x)) \\land (\\exists x, R(x)) \\land \\neg[\\forall x, P(x) \\lor Q(x) \\lor R(x)] \\land \\neg[\\exists x, Q(x)]$"
            ],
            "text/plain": [
              "<IPython.core.display.HTML object>"
            ]
          },
          "metadata": {
            "tags": []
          }
        },
        {
          "output_type": "display_data",
          "data": {
            "text/html": [
              "12 $(\\forall x, P(x) \\lor Q(x) \\lor R(x)) \\land (\\exists x, P(x)) \\land (\\exists x, R(x)) \\land \\neg[\\forall x, P(x)] \\land \\neg[\\forall x, R(x)] \\land \\neg[\\exists x, Q(x)]$"
            ],
            "text/plain": [
              "<IPython.core.display.HTML object>"
            ]
          },
          "metadata": {
            "tags": []
          }
        },
        {
          "output_type": "display_data",
          "data": {
            "text/html": [
              "13 $(\\forall x, P(x)) \\land (\\exists x, R(x)) \\land \\neg[\\forall x, R(x)] \\land \\neg[\\exists x, Q(x)]$"
            ],
            "text/plain": [
              "<IPython.core.display.HTML object>"
            ]
          },
          "metadata": {
            "tags": []
          }
        },
        {
          "output_type": "display_data",
          "data": {
            "text/html": [
              "14 $(\\exists x, Q(x)) \\land (\\exists x, R(x)) \\land \\neg[\\forall x, P(x) \\lor Q(x) \\lor R(x)] \\land \\neg[\\exists x, P(x)]$"
            ],
            "text/plain": [
              "<IPython.core.display.HTML object>"
            ]
          },
          "metadata": {
            "tags": []
          }
        },
        {
          "output_type": "display_data",
          "data": {
            "text/html": [
              "15 $(\\exists x, P(x)) \\land (\\exists x, Q(x)) \\land (\\exists x, R(x)) \\land \\neg[\\forall x, P(x) \\lor Q(x) \\lor R(x)]$"
            ],
            "text/plain": [
              "<IPython.core.display.HTML object>"
            ]
          },
          "metadata": {
            "tags": []
          }
        },
        {
          "output_type": "display_data",
          "data": {
            "text/html": [
              "16 $(\\forall x, P(x) \\lor Q(x) \\lor R(x)) \\land (\\exists x, P(x)) \\land (\\exists x, Q(x)) \\land (\\exists x, R(x)) \\land \\neg[\\forall x, P(x)] \\land \\neg[\\forall x, Q(x)] \\land \\neg[\\forall x, R(x)]$"
            ],
            "text/plain": [
              "<IPython.core.display.HTML object>"
            ]
          },
          "metadata": {
            "tags": []
          }
        },
        {
          "output_type": "display_data",
          "data": {
            "text/html": [
              "17 $(\\forall x, P(x)) \\land (\\exists x, Q(x)) \\land (\\exists x, R(x)) \\land \\neg[\\forall x, Q(x)] \\land \\neg[\\forall x, R(x)]$"
            ],
            "text/plain": [
              "<IPython.core.display.HTML object>"
            ]
          },
          "metadata": {
            "tags": []
          }
        },
        {
          "output_type": "display_data",
          "data": {
            "text/html": [
              "18 $(\\forall x, P(x) \\lor Q(x) \\lor R(x)) \\land (\\exists x, Q(x)) \\land (\\exists x, R(x)) \\land \\neg[\\forall x, Q(x)] \\land \\neg[\\forall x, R(x)] \\land \\neg[\\exists x, P(x)]$"
            ],
            "text/plain": [
              "<IPython.core.display.HTML object>"
            ]
          },
          "metadata": {
            "tags": []
          }
        },
        {
          "output_type": "display_data",
          "data": {
            "text/html": [
              "19 $(\\forall x, Q(x)) \\land (\\exists x, R(x)) \\land \\neg[\\forall x, R(x)] \\land \\neg[\\exists x, P(x)]$"
            ],
            "text/plain": [
              "<IPython.core.display.HTML object>"
            ]
          },
          "metadata": {
            "tags": []
          }
        },
        {
          "output_type": "display_data",
          "data": {
            "text/html": [
              "20 $(\\forall x, Q(x)) \\land (\\exists x, P(x)) \\land (\\exists x, R(x)) \\land \\neg[\\forall x, P(x)] \\land \\neg[\\forall x, R(x)]$"
            ],
            "text/plain": [
              "<IPython.core.display.HTML object>"
            ]
          },
          "metadata": {
            "tags": []
          }
        },
        {
          "output_type": "display_data",
          "data": {
            "text/html": [
              "21 $(\\forall x, P(x) \\land Q(x)) \\land (\\exists x, R(x)) \\land \\neg[\\forall x, R(x)]$"
            ],
            "text/plain": [
              "<IPython.core.display.HTML object>"
            ]
          },
          "metadata": {
            "tags": []
          }
        },
        {
          "output_type": "display_data",
          "data": {
            "text/html": [
              "22 $(\\forall x, R(x)) \\land \\neg[\\exists x, P(x)] \\land \\neg[\\exists x, Q(x)]$"
            ],
            "text/plain": [
              "<IPython.core.display.HTML object>"
            ]
          },
          "metadata": {
            "tags": []
          }
        },
        {
          "output_type": "display_data",
          "data": {
            "text/html": [
              "23 $(\\forall x, R(x)) \\land (\\exists x, P(x)) \\land \\neg[\\forall x, P(x)] \\land \\neg[\\exists x, Q(x)]$"
            ],
            "text/plain": [
              "<IPython.core.display.HTML object>"
            ]
          },
          "metadata": {
            "tags": []
          }
        },
        {
          "output_type": "display_data",
          "data": {
            "text/html": [
              "24 $(\\forall x, P(x) \\land R(x)) \\land \\neg[\\exists x, Q(x)]$"
            ],
            "text/plain": [
              "<IPython.core.display.HTML object>"
            ]
          },
          "metadata": {
            "tags": []
          }
        },
        {
          "output_type": "display_data",
          "data": {
            "text/html": [
              "25 $(\\forall x, R(x)) \\land (\\exists x, Q(x)) \\land \\neg[\\forall x, Q(x)] \\land \\neg[\\exists x, P(x)]$"
            ],
            "text/plain": [
              "<IPython.core.display.HTML object>"
            ]
          },
          "metadata": {
            "tags": []
          }
        },
        {
          "output_type": "display_data",
          "data": {
            "text/html": [
              "26 $(\\forall x, R(x)) \\land (\\exists x, P(x)) \\land (\\exists x, Q(x)) \\land \\neg[\\forall x, P(x)] \\land \\neg[\\forall x, Q(x)]$"
            ],
            "text/plain": [
              "<IPython.core.display.HTML object>"
            ]
          },
          "metadata": {
            "tags": []
          }
        },
        {
          "output_type": "display_data",
          "data": {
            "text/html": [
              "27 $(\\forall x, P(x) \\land R(x)) \\land (\\exists x, Q(x)) \\land \\neg[\\forall x, Q(x)]$"
            ],
            "text/plain": [
              "<IPython.core.display.HTML object>"
            ]
          },
          "metadata": {
            "tags": []
          }
        },
        {
          "output_type": "display_data",
          "data": {
            "text/html": [
              "28 $(\\forall x, Q(x) \\land R(x)) \\land \\neg[\\exists x, P(x)]$"
            ],
            "text/plain": [
              "<IPython.core.display.HTML object>"
            ]
          },
          "metadata": {
            "tags": []
          }
        },
        {
          "output_type": "display_data",
          "data": {
            "text/html": [
              "29 $(\\forall x, Q(x) \\land R(x)) \\land (\\exists x, P(x)) \\land \\neg[\\forall x, P(x)]$"
            ],
            "text/plain": [
              "<IPython.core.display.HTML object>"
            ]
          },
          "metadata": {
            "tags": []
          }
        },
        {
          "output_type": "display_data",
          "data": {
            "text/html": [
              "30 $(\\forall x, P(x) \\land Q(x)) \\land (\\forall x, P(x) \\land R(x)) \\land (\\forall x, Q(x) \\land R(x))$"
            ],
            "text/plain": [
              "<IPython.core.display.HTML object>"
            ]
          },
          "metadata": {
            "tags": []
          }
        }
      ]
    },
    {
      "cell_type": "code",
      "metadata": {
        "id": "TFz76j28LmwF"
      },
      "source": [
        "enorm=cells3[6]|cells3[8]|cells3[9]|cells3[13]|cells3[15]|cells3[17]|cells3[19]|cells3[20]|cells3[21]|cells3[23]|cells3[24]|cells3[25]|cells3[26]|cells3[27]|cells3[28]|cells3[29]|cells3[30]"
      ],
      "execution_count": null,
      "outputs": []
    },
    {
      "cell_type": "code",
      "metadata": {
        "id": "nFAAWZdmLmwG",
        "outputId": "c4539514-e9eb-4ead-df4c-dfa798225a4e"
      },
      "source": [
        "univ=Universe(fs=universal3_alts)\n",
        "univ.equivalent(enorm,disjconj)"
      ],
      "execution_count": null,
      "outputs": [
        {
          "output_type": "execute_result",
          "data": {
            "text/plain": [
              "False"
            ]
          },
          "metadata": {
            "tags": []
          },
          "execution_count": 59
        }
      ]
    },
    {
      "cell_type": "code",
      "metadata": {
        "id": "ld3V2yOJLmwI",
        "outputId": "c369c93a-5c06-46c4-82dd-e2d9105b820f",
        "colab": {
          "base_uri": "https://localhost:8080/",
          "height": 816
        }
      },
      "source": [
        "pos_prun_exhrel_nonset3=[]\n",
        "for i in pos_prun_nonset3:\n",
        "    if PrunExhaustiveRelevance(prej_universal3,universal3_alts,i):\n",
        "        jprint(\"Pruning: \",i,\"Meaning: \",exhf(Exh(prej_universal3,i)))\n",
        "        pos_prun_exhrel_nonset3.append(i)"
      ],
      "execution_count": null,
      "outputs": [
        {
          "output_type": "display_data",
          "data": {
            "text/html": [
              "Pruning:  [$\\forall x, P(x) \\lor Q(x) \\lor R(x)$] Meaning:  $\\forall x, P(x) \\lor Q(x) \\lor R(x)$"
            ],
            "text/plain": [
              "<IPython.core.display.HTML object>"
            ]
          },
          "metadata": {
            "tags": []
          }
        },
        {
          "output_type": "display_data",
          "data": {
            "text/html": [
              "Pruning:  [$\\forall x, P(x) \\lor Q(x) \\lor R(x)$, $\\forall x, P(x) \\land Q(x)$] Meaning:  $(\\forall x, P(x) \\lor Q(x) \\lor R(x)) \\land \\neg[\\forall x, P(x) \\land Q(x)]$"
            ],
            "text/plain": [
              "<IPython.core.display.HTML object>"
            ]
          },
          "metadata": {
            "tags": []
          }
        },
        {
          "output_type": "display_data",
          "data": {
            "text/html": [
              "Pruning:  [$\\forall x, P(x) \\lor Q(x) \\lor R(x)$, $\\forall x, P(x) \\land R(x)$] Meaning:  $(\\forall x, P(x) \\lor Q(x) \\lor R(x)) \\land \\neg[\\forall x, P(x) \\land R(x)]$"
            ],
            "text/plain": [
              "<IPython.core.display.HTML object>"
            ]
          },
          "metadata": {
            "tags": []
          }
        },
        {
          "output_type": "display_data",
          "data": {
            "text/html": [
              "Pruning:  [$\\forall x, P(x) \\lor Q(x) \\lor R(x)$, $\\forall x, Q(x) \\land R(x)$] Meaning:  $(\\forall x, P(x) \\lor Q(x) \\lor R(x)) \\land \\neg[\\forall x, Q(x) \\land R(x)]$"
            ],
            "text/plain": [
              "<IPython.core.display.HTML object>"
            ]
          },
          "metadata": {
            "tags": []
          }
        },
        {
          "output_type": "display_data",
          "data": {
            "text/html": [
              "Pruning:  [$\\forall x, P(x) \\lor Q(x) \\lor R(x)$, $\\forall x, P(x) \\land Q(x)$, $\\forall x, P(x) \\land R(x)$] Meaning:  $(\\forall x, P(x) \\lor Q(x) \\lor R(x)) \\land \\neg[\\forall x, P(x) \\land Q(x)] \\land \\neg[\\forall x, P(x) \\land R(x)]$"
            ],
            "text/plain": [
              "<IPython.core.display.HTML object>"
            ]
          },
          "metadata": {
            "tags": []
          }
        },
        {
          "output_type": "display_data",
          "data": {
            "text/html": [
              "Pruning:  [$\\forall x, P(x) \\lor Q(x) \\lor R(x)$, $\\forall x, P(x) \\land Q(x)$, $\\forall x, Q(x) \\land R(x)$] Meaning:  $(\\forall x, P(x) \\lor Q(x) \\lor R(x)) \\land \\neg[\\forall x, P(x) \\land Q(x)] \\land \\neg[\\forall x, Q(x) \\land R(x)]$"
            ],
            "text/plain": [
              "<IPython.core.display.HTML object>"
            ]
          },
          "metadata": {
            "tags": []
          }
        },
        {
          "output_type": "display_data",
          "data": {
            "text/html": [
              "Pruning:  [$\\forall x, P(x) \\lor Q(x) \\lor R(x)$, $\\forall x, P(x) \\land Q(x)$, $\\exists x, P(x) \\land Q(x)$] Meaning:  $(\\forall x, P(x) \\lor Q(x) \\lor R(x)) \\land \\neg[\\exists x, P(x) \\land Q(x)]$"
            ],
            "text/plain": [
              "<IPython.core.display.HTML object>"
            ]
          },
          "metadata": {
            "tags": []
          }
        },
        {
          "output_type": "display_data",
          "data": {
            "text/html": [
              "Pruning:  [$\\forall x, P(x) \\lor Q(x) \\lor R(x)$, $\\forall x, P(x) \\land R(x)$, $\\forall x, Q(x) \\land R(x)$] Meaning:  $(\\forall x, P(x) \\lor Q(x) \\lor R(x)) \\land \\neg[\\forall x, P(x) \\land R(x)] \\land \\neg[\\forall x, Q(x) \\land R(x)]$"
            ],
            "text/plain": [
              "<IPython.core.display.HTML object>"
            ]
          },
          "metadata": {
            "tags": []
          }
        },
        {
          "output_type": "display_data",
          "data": {
            "text/html": [
              "Pruning:  [$\\forall x, P(x) \\lor Q(x) \\lor R(x)$, $\\forall x, P(x) \\land R(x)$, $\\exists x, P(x) \\land R(x)$] Meaning:  $(\\forall x, P(x) \\lor Q(x) \\lor R(x)) \\land \\neg[\\exists x, P(x) \\land R(x)]$"
            ],
            "text/plain": [
              "<IPython.core.display.HTML object>"
            ]
          },
          "metadata": {
            "tags": []
          }
        },
        {
          "output_type": "display_data",
          "data": {
            "text/html": [
              "Pruning:  [$\\forall x, P(x) \\lor Q(x) \\lor R(x)$, $\\forall x, Q(x) \\land R(x)$, $\\exists x, Q(x) \\land R(x)$] Meaning:  $(\\forall x, P(x) \\lor Q(x) \\lor R(x)) \\land \\neg[\\exists x, Q(x) \\land R(x)]$"
            ],
            "text/plain": [
              "<IPython.core.display.HTML object>"
            ]
          },
          "metadata": {
            "tags": []
          }
        },
        {
          "output_type": "display_data",
          "data": {
            "text/html": [
              "Pruning:  [$\\forall x, P(x) \\lor Q(x) \\lor R(x)$, $\\forall x, P(x) \\land Q(x)$, $\\forall x, P(x) \\land R(x)$, $\\forall x, Q(x) \\land R(x)$] Meaning:  $(\\forall x, P(x) \\lor Q(x) \\lor R(x)) \\land \\neg[\\forall x, P(x) \\land Q(x)] \\land \\neg[\\forall x, P(x) \\land R(x)] \\land \\neg[\\forall x, Q(x) \\land R(x)]$"
            ],
            "text/plain": [
              "<IPython.core.display.HTML object>"
            ]
          },
          "metadata": {
            "tags": []
          }
        },
        {
          "output_type": "display_data",
          "data": {
            "text/html": [
              "Pruning:  [$\\forall x, P(x) \\lor Q(x) \\lor R(x)$, $\\forall x, P(x) \\land Q(x)$, $\\forall x, P(x) \\land R(x)$, $\\forall x, P(x)$] Meaning:  $(\\forall x, P(x) \\lor Q(x) \\lor R(x)) \\land \\neg[\\forall x, P(x)]$"
            ],
            "text/plain": [
              "<IPython.core.display.HTML object>"
            ]
          },
          "metadata": {
            "tags": []
          }
        },
        {
          "output_type": "display_data",
          "data": {
            "text/html": [
              "Pruning:  [$\\forall x, P(x) \\lor Q(x) \\lor R(x)$, $\\forall x, P(x) \\land Q(x)$, $\\forall x, P(x) \\land R(x)$, $\\exists x, P(x) \\land Q(x)$] Meaning:  $(\\forall x, P(x) \\lor Q(x) \\lor R(x)) \\land \\neg[\\forall x, P(x) \\land R(x)] \\land \\neg[\\exists x, P(x) \\land Q(x)]$"
            ],
            "text/plain": [
              "<IPython.core.display.HTML object>"
            ]
          },
          "metadata": {
            "tags": []
          }
        },
        {
          "output_type": "display_data",
          "data": {
            "text/html": [
              "Pruning:  [$\\forall x, P(x) \\lor Q(x) \\lor R(x)$, $\\forall x, P(x) \\land Q(x)$, $\\forall x, P(x) \\land R(x)$, $\\exists x, P(x) \\land R(x)$] Meaning:  $(\\forall x, P(x) \\lor Q(x) \\lor R(x)) \\land \\neg[\\forall x, P(x) \\land Q(x)] \\land \\neg[\\exists x, P(x) \\land R(x)]$"
            ],
            "text/plain": [
              "<IPython.core.display.HTML object>"
            ]
          },
          "metadata": {
            "tags": []
          }
        },
        {
          "output_type": "display_data",
          "data": {
            "text/html": [
              "Pruning:  [$\\forall x, P(x) \\lor Q(x) \\lor R(x)$, $\\forall x, P(x) \\land Q(x)$, $\\forall x, Q(x) \\land R(x)$, $\\forall x, Q(x)$] Meaning:  $(\\forall x, P(x) \\lor Q(x) \\lor R(x)) \\land \\neg[\\forall x, Q(x)]$"
            ],
            "text/plain": [
              "<IPython.core.display.HTML object>"
            ]
          },
          "metadata": {
            "tags": []
          }
        },
        {
          "output_type": "display_data",
          "data": {
            "text/html": [
              "Pruning:  [$\\forall x, P(x) \\lor Q(x) \\lor R(x)$, $\\forall x, P(x) \\land Q(x)$, $\\forall x, Q(x) \\land R(x)$, $\\exists x, P(x) \\land Q(x)$] Meaning:  $(\\forall x, P(x) \\lor Q(x) \\lor R(x)) \\land \\neg[\\forall x, Q(x) \\land R(x)] \\land \\neg[\\exists x, P(x) \\land Q(x)]$"
            ],
            "text/plain": [
              "<IPython.core.display.HTML object>"
            ]
          },
          "metadata": {
            "tags": []
          }
        },
        {
          "output_type": "display_data",
          "data": {
            "text/html": [
              "Pruning:  [$\\forall x, P(x) \\lor Q(x) \\lor R(x)$, $\\forall x, P(x) \\land Q(x)$, $\\forall x, Q(x) \\land R(x)$, $\\exists x, Q(x) \\land R(x)$] Meaning:  $(\\forall x, P(x) \\lor Q(x) \\lor R(x)) \\land \\neg[\\forall x, P(x) \\land Q(x)] \\land \\neg[\\exists x, Q(x) \\land R(x)]$"
            ],
            "text/plain": [
              "<IPython.core.display.HTML object>"
            ]
          },
          "metadata": {
            "tags": []
          }
        },
        {
          "output_type": "display_data",
          "data": {
            "text/html": [
              "Pruning:  [$\\forall x, P(x) \\lor Q(x) \\lor R(x)$, $\\forall x, P(x) \\land R(x)$, $\\forall x, Q(x) \\land R(x)$, $\\forall x, R(x)$] Meaning:  $(\\forall x, P(x) \\lor Q(x) \\lor R(x)) \\land \\neg[\\forall x, R(x)]$"
            ],
            "text/plain": [
              "<IPython.core.display.HTML object>"
            ]
          },
          "metadata": {
            "tags": []
          }
        },
        {
          "output_type": "display_data",
          "data": {
            "text/html": [
              "Pruning:  [$\\forall x, P(x) \\lor Q(x) \\lor R(x)$, $\\forall x, P(x) \\land R(x)$, $\\forall x, Q(x) \\land R(x)$, $\\exists x, P(x) \\land R(x)$] Meaning:  $(\\forall x, P(x) \\lor Q(x) \\lor R(x)) \\land \\neg[\\forall x, Q(x) \\land R(x)] \\land \\neg[\\exists x, P(x) \\land R(x)]$"
            ],
            "text/plain": [
              "<IPython.core.display.HTML object>"
            ]
          },
          "metadata": {
            "tags": []
          }
        },
        {
          "output_type": "display_data",
          "data": {
            "text/html": [
              "Pruning:  [$\\forall x, P(x) \\lor Q(x) \\lor R(x)$, $\\forall x, P(x) \\land R(x)$, $\\forall x, Q(x) \\land R(x)$, $\\exists x, Q(x) \\land R(x)$] Meaning:  $(\\forall x, P(x) \\lor Q(x) \\lor R(x)) \\land \\neg[\\forall x, P(x) \\land R(x)] \\land \\neg[\\exists x, Q(x) \\land R(x)]$"
            ],
            "text/plain": [
              "<IPython.core.display.HTML object>"
            ]
          },
          "metadata": {
            "tags": []
          }
        },
        {
          "output_type": "display_data",
          "data": {
            "text/html": [
              "Pruning:  [$\\forall x, P(x) \\lor Q(x) \\lor R(x)$, $\\forall x, P(x) \\land Q(x)$, $\\forall x, P(x) \\land R(x)$, $\\forall x, Q(x) \\land R(x)$, $\\forall x, P(x)$] Meaning:  $(\\forall x, P(x) \\lor Q(x) \\lor R(x)) \\land \\neg[\\forall x, Q(x) \\land R(x)] \\land \\neg[\\forall x, P(x)]$"
            ],
            "text/plain": [
              "<IPython.core.display.HTML object>"
            ]
          },
          "metadata": {
            "tags": []
          }
        },
        {
          "output_type": "display_data",
          "data": {
            "text/html": [
              "Pruning:  [$\\forall x, P(x) \\lor Q(x) \\lor R(x)$, $\\forall x, P(x) \\land Q(x)$, $\\forall x, P(x) \\land R(x)$, $\\forall x, Q(x) \\land R(x)$, $\\forall x, Q(x)$] Meaning:  $(\\forall x, P(x) \\lor Q(x) \\lor R(x)) \\land \\neg[\\forall x, P(x) \\land R(x)] \\land \\neg[\\forall x, Q(x)]$"
            ],
            "text/plain": [
              "<IPython.core.display.HTML object>"
            ]
          },
          "metadata": {
            "tags": []
          }
        },
        {
          "output_type": "display_data",
          "data": {
            "text/html": [
              "Pruning:  [$\\forall x, P(x) \\lor Q(x) \\lor R(x)$, $\\forall x, P(x) \\land Q(x)$, $\\forall x, P(x) \\land R(x)$, $\\forall x, Q(x) \\land R(x)$, $\\forall x, R(x)$] Meaning:  $(\\forall x, P(x) \\lor Q(x) \\lor R(x)) \\land \\neg[\\forall x, P(x) \\land Q(x)] \\land \\neg[\\forall x, R(x)]$"
            ],
            "text/plain": [
              "<IPython.core.display.HTML object>"
            ]
          },
          "metadata": {
            "tags": []
          }
        },
        {
          "output_type": "display_data",
          "data": {
            "text/html": [
              "Pruning:  [$\\forall x, P(x) \\lor Q(x) \\lor R(x)$, $\\forall x, P(x) \\land Q(x)$, $\\forall x, P(x) \\land R(x)$, $\\forall x, Q(x) \\land R(x)$, $\\exists x, P(x) \\land Q(x)$] Meaning:  $(\\forall x, P(x) \\lor Q(x) \\lor R(x)) \\land \\neg[\\forall x, P(x) \\land R(x)] \\land \\neg[\\forall x, Q(x) \\land R(x)] \\land \\neg[\\exists x, P(x) \\land Q(x)]$"
            ],
            "text/plain": [
              "<IPython.core.display.HTML object>"
            ]
          },
          "metadata": {
            "tags": []
          }
        },
        {
          "output_type": "display_data",
          "data": {
            "text/html": [
              "Pruning:  [$\\forall x, P(x) \\lor Q(x) \\lor R(x)$, $\\forall x, P(x) \\land Q(x)$, $\\forall x, P(x) \\land R(x)$, $\\forall x, Q(x) \\land R(x)$, $\\exists x, P(x) \\land R(x)$] Meaning:  $(\\forall x, P(x) \\lor Q(x) \\lor R(x)) \\land \\neg[\\forall x, P(x) \\land Q(x)] \\land \\neg[\\forall x, Q(x) \\land R(x)] \\land \\neg[\\exists x, P(x) \\land R(x)]$"
            ],
            "text/plain": [
              "<IPython.core.display.HTML object>"
            ]
          },
          "metadata": {
            "tags": []
          }
        },
        {
          "output_type": "display_data",
          "data": {
            "text/html": [
              "Pruning:  [$\\forall x, P(x) \\lor Q(x) \\lor R(x)$, $\\forall x, P(x) \\land Q(x)$, $\\forall x, P(x) \\land R(x)$, $\\forall x, Q(x) \\land R(x)$, $\\exists x, Q(x) \\land R(x)$] Meaning:  $(\\forall x, P(x) \\lor Q(x) \\lor R(x)) \\land \\neg[\\forall x, P(x) \\land Q(x)] \\land \\neg[\\forall x, P(x) \\land R(x)] \\land \\neg[\\exists x, Q(x) \\land R(x)]$"
            ],
            "text/plain": [
              "<IPython.core.display.HTML object>"
            ]
          },
          "metadata": {
            "tags": []
          }
        },
        {
          "output_type": "display_data",
          "data": {
            "text/html": [
              "Pruning:  [$\\forall x, P(x) \\lor Q(x) \\lor R(x)$, $\\forall x, P(x) \\land Q(x)$, $\\forall x, P(x) \\land R(x)$, $\\forall x, P(x)$, $\\exists x, P(x) \\land Q(x)$] Meaning:  $(\\forall x, P(x) \\lor Q(x) \\lor R(x)) \\land \\neg[\\forall x, P(x)] \\land \\neg[\\exists x, P(x) \\land Q(x)]$"
            ],
            "text/plain": [
              "<IPython.core.display.HTML object>"
            ]
          },
          "metadata": {
            "tags": []
          }
        },
        {
          "output_type": "display_data",
          "data": {
            "text/html": [
              "Pruning:  [$\\forall x, P(x) \\lor Q(x) \\lor R(x)$, $\\forall x, P(x) \\land Q(x)$, $\\forall x, P(x) \\land R(x)$, $\\forall x, P(x)$, $\\exists x, P(x) \\land R(x)$] Meaning:  $(\\forall x, P(x) \\lor Q(x) \\lor R(x)) \\land \\neg[\\forall x, P(x)] \\land \\neg[\\exists x, P(x) \\land R(x)]$"
            ],
            "text/plain": [
              "<IPython.core.display.HTML object>"
            ]
          },
          "metadata": {
            "tags": []
          }
        }
      ]
    },
    {
      "cell_type": "code",
      "metadata": {
        "id": "v9rIspo5Qjz7"
      },
      "source": [
        ""
      ],
      "execution_count": null,
      "outputs": []
    }
  ]
}